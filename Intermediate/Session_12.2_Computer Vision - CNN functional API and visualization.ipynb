{
  "cells": [
    {
      "cell_type": "markdown",
      "metadata": {
        "id": "view-in-github",
        "colab_type": "text"
      },
      "source": [
        "<a href=\"https://colab.research.google.com/github/bi11a1/SKBI_Training/blob/main/Intermediate/Session_12.2_Computer%20Vision%20-%20CNN%20functional%20API%20and%20visualization.ipynb\" target=\"_parent\"><img src=\"https://colab.research.google.com/assets/colab-badge.svg\" alt=\"Open In Colab\"/></a>"
      ]
    },
    {
      "cell_type": "markdown",
      "metadata": {
        "id": "mtkGptvn5G4M"
      },
      "source": [
        "<center> <h1> <u> <font color='red'> Training on AI and ML with Python </font> </u> </h1> </center>"
      ]
    },
    {
      "cell_type": "markdown",
      "metadata": {
        "id": "C-BUBBYTWTYU"
      },
      "source": [
        "# Session-2.2: Conditional statements and branching, loop\n",
        "\n",
        "\n",
        "### Objective: \n",
        " 1. *Get familiar with the Python control flow statements such as for loop and while loop.*\n",
        " 2. *Write Programs using python loops.*"
      ]
    },
    {
      "cell_type": "code",
      "source": [
        "range(10) => range(0, 10, 1)\n",
        "range(2, 10) => range(2, 10, 1)\n",
        "range(2, 10, 2) => range(2, 10, 2)\n",
        "\n",
        "for i in range(2, 10, 2):\n",
        "  print(\"Hello\", i)"
      ],
      "metadata": {
        "colab": {
          "base_uri": "https://localhost:8080/"
        },
        "id": "ewJlvSqM89ad",
        "outputId": "bf3e0cd4-d490-4fc4-dd31-1ac3e968cfa0"
      },
      "execution_count": null,
      "outputs": [
        {
          "output_type": "stream",
          "name": "stdout",
          "text": [
            "Hello 2\n",
            "Hello 4\n",
            "Hello 6\n",
            "Hello 8\n"
          ]
        }
      ]
    },
    {
      "cell_type": "markdown",
      "metadata": {
        "id": "9Au7iVkORz6M"
      },
      "source": [
        "## For Loop"
      ]
    },
    {
      "cell_type": "markdown",
      "metadata": {
        "id": "76R6su74Rdy9"
      },
      "source": [
        "Sometimes we want to loop through a set of things such as a **list of words**, **the lines in a file** bold text, or a **list of numbers**. When we have a list of things to loop through, we can construct a definite loop using a for statement. We call the while statement an indefinite loop because it simply loops until some condition becomes False, whereas the for loop is looping through a known set of items so it runs through as many iterations as there are items in the set."
      ]
    },
    {
      "cell_type": "markdown",
      "metadata": {
        "id": "2jgLrtimOERL"
      },
      "source": [
        "The for loop in Python is used to iterate over a sequence (list, tuple, string) or other iterable objects. Iterating over a sequence is called traversal."
      ]
    },
    {
      "cell_type": "code",
      "execution_count": null,
      "metadata": {
        "collapsed": true,
        "id": "OgcwiN5FODoR",
        "outputId": "ae168413-cc63-43e5-966d-03530ebbdd72"
      },
      "outputs": [
        {
          "data": {
            "text/plain": [
              "'\\nfor val in sequence:\\n     loop body\\n'"
            ]
          },
          "execution_count": 1,
          "metadata": {},
          "output_type": "execute_result"
        }
      ],
      "source": [
        "# Syntax of for Loop\n",
        "\n",
        "'''\n",
        "for val in sequence:\n",
        "     loop body\n",
        "'''     "
      ]
    },
    {
      "cell_type": "code",
      "execution_count": null,
      "metadata": {
        "id": "Wh5j0qgf3fG3"
      },
      "outputs": [],
      "source": [
        "## data structure \n",
        "\n",
        "# list\n",
        "# tuple\n",
        "# dictionary"
      ]
    },
    {
      "cell_type": "code",
      "source": [
        "x = range(10)\n",
        "print(type(x))\n",
        "x = list(x)\n",
        "print(x)"
      ],
      "metadata": {
        "colab": {
          "base_uri": "https://localhost:8080/"
        },
        "id": "y0fEk4sZ_pjm",
        "outputId": "0efb3786-18fa-4381-eca8-7f3e8f362dd8"
      },
      "execution_count": null,
      "outputs": [
        {
          "output_type": "stream",
          "name": "stdout",
          "text": [
            "<class 'range'>\n",
            "[0, 1, 2, 3, 4, 5, 6, 7, 8, 9]\n"
          ]
        }
      ]
    },
    {
      "cell_type": "code",
      "execution_count": null,
      "metadata": {
        "colab": {
          "base_uri": "https://localhost:8080/"
        },
        "id": "iJMGvmZK26SJ",
        "outputId": "b82374fe-c526-4258-fb64-cf0b94172671"
      },
      "outputs": [
        {
          "output_type": "stream",
          "name": "stdout",
          "text": [
            "1\n",
            "-2\n",
            "3\n",
            "50\n",
            "6\n"
          ]
        }
      ],
      "source": [
        "ara = [1,-2,3,50,6]\n",
        "# for (int i =0; i<5; i++)\n",
        "for val in ara:\n",
        "  print(val)"
      ]
    },
    {
      "cell_type": "markdown",
      "metadata": {
        "id": "6zT-nzwNPjTL"
      },
      "source": [
        "Here, **`val `**is the variable that takes the value of the item inside the sequence on each iteration. Loop continues until we reach the last item in the sequence. The body of for loop is separated from the rest of the code using indentation."
      ]
    },
    {
      "cell_type": "markdown",
      "metadata": {
        "id": "TyIhiHq-QSfV"
      },
      "source": [
        "### The range() function\n",
        "\n",
        "We can generate a sequence of numbers using **`range()`** function. **`range(10)`** will generate numbers from 0 to 9 (10 numbers).\n",
        "\n",
        "We can also define the start, stop and step size as **`range(start, stop, step_size)`**. step_size defaults to 1 if not provided."
      ]
    },
    {
      "cell_type": "code",
      "execution_count": null,
      "metadata": {
        "colab": {
          "base_uri": "https://localhost:8080/"
        },
        "id": "C7npoN4oRDqn",
        "outputId": "932cb211-e6c0-4b8f-cb11-740bea8c74ec"
      },
      "outputs": [
        {
          "output_type": "stream",
          "name": "stdout",
          "text": [
            "range(0, 10)\n",
            "[0, 1, 2, 3, 4, 5, 6, 7, 8, 9]\n",
            "[2, 3, 4, 5, 6, 7]\n",
            "[2, 5, 8, 11, 14, 17, 20]\n",
            "[2, 5, 8, 11, 14, 17]\n"
          ]
        }
      ],
      "source": [
        "print(range(10))\n",
        "\n",
        "print(list(range(10)))\n",
        "\n",
        "print(list(range(2, 8)))\n",
        "\n",
        "print(list(range(2, 21, 3)))\n",
        "\n",
        "print(list(range(2, 20, 3)))"
      ]
    },
    {
      "cell_type": "code",
      "execution_count": null,
      "metadata": {
        "colab": {
          "base_uri": "https://localhost:8080/"
        },
        "id": "4X21X-zoQPr7",
        "outputId": "731dd049-04c4-4268-ecba-4cf786fcd1f5"
      },
      "outputs": [
        {
          "output_type": "stream",
          "name": "stdout",
          "text": [
            "0\n",
            "1\n",
            "2\n",
            "3\n",
            "4\n",
            "5\n",
            "6\n",
            "7\n",
            "8\n",
            "9\n"
          ]
        }
      ],
      "source": [
        "# Python program to illustrate\n",
        "# Iterating over range 0 to n-1\n",
        " \n",
        "n = 10\n",
        "for i in range(0, n):\n",
        "    print(i)"
      ]
    },
    {
      "cell_type": "code",
      "execution_count": null,
      "metadata": {
        "id": "dL5TD6wo6JD3",
        "colab": {
          "base_uri": "https://localhost:8080/"
        },
        "outputId": "11a9baf6-637b-4b58-8139-a58012a987fd"
      },
      "outputs": [
        {
          "output_type": "execute_result",
          "data": {
            "text/plain": [
              "11"
            ]
          },
          "metadata": {},
          "execution_count": 24
        }
      ],
      "source": [
        "str = \"Hello World\"\n",
        "len(str)"
      ]
    },
    {
      "cell_type": "code",
      "execution_count": null,
      "metadata": {
        "id": "jP2hx4tN6xJE",
        "colab": {
          "base_uri": "https://localhost:8080/"
        },
        "outputId": "28970c06-f18e-4ecb-f7e8-292445d24049"
      },
      "outputs": [
        {
          "output_type": "stream",
          "name": "stdout",
          "text": [
            "Maximum = -2\n"
          ]
        }
      ],
      "source": [
        "numbers = [-5, -2, -21]\n",
        "mx = numbers[0]\n",
        "\n",
        "for number in [-5, -2, -21]:\n",
        "  if number > mx:\n",
        "    mx = number\n",
        "\n",
        "print(\"Maximum =\", mx)"
      ]
    },
    {
      "cell_type": "markdown",
      "metadata": {
        "id": "ys7h8zsNPzxn"
      },
      "source": [
        "### Example-1: Program to find the sum of all numbers stored in a list"
      ]
    },
    {
      "cell_type": "code",
      "execution_count": null,
      "metadata": {
        "colab": {
          "base_uri": "https://localhost:8080/"
        },
        "id": "3oIsgHMlPiuy",
        "outputId": "1afeb4ef-c0c7-4fe2-e0bb-12e44cf0ea12"
      },
      "outputs": [
        {
          "output_type": "stream",
          "name": "stdout",
          "text": [
            "6 + 5 + 3 - 4 - 20 - 3 + 20 = 7\n"
          ]
        }
      ],
      "source": [
        "# List of numbers\n",
        "numbers = [6, 5, 3, -4, -20, -3, 20]\n",
        "\n",
        "sum = 0\n",
        "for i in range(len(numbers)):\n",
        "  x = numbers[i]\n",
        "  sum = sum + x\n",
        "  if i != 0:\n",
        "    if x >= 0:\n",
        "      print(\" + \", end = '')\n",
        "    else:\n",
        "      print(\" - \", end = '')\n",
        "  if i == 0 and x < 0:\n",
        "    print(\" - \", end = '')\n",
        "  print(abs(x), end = '')\n",
        "  if i == (len(numbers)-1):\n",
        "    print(\" =\", sum)"
      ]
    },
    {
      "cell_type": "code",
      "execution_count": null,
      "metadata": {
        "id": "CX_uXtCo5Thg",
        "colab": {
          "base_uri": "https://localhost:8080/"
        },
        "outputId": "c2582b1b-7f33-4f68-85c2-32defd43e9b9"
      },
      "outputs": [
        {
          "output_type": "stream",
          "name": "stdout",
          "text": [
            "6\n",
            "11\n",
            "14\n"
          ]
        }
      ],
      "source": [
        "sum = 0\n",
        "for i in range(len(numbers)):\n",
        "  sum = sum + numbers[i]\n",
        "  print(sum)\n"
      ]
    },
    {
      "cell_type": "code",
      "execution_count": null,
      "metadata": {
        "id": "v_SUYsHbSBku",
        "colab": {
          "base_uri": "https://localhost:8080/"
        },
        "outputId": "acaa23a5-e02c-4687-d58d-e2db0254a8f5"
      },
      "outputs": [
        {
          "output_type": "stream",
          "name": "stdout",
          "text": [
            "Happy New Year: Joseph\n",
            "Happy New Year: Glenn\n",
            "Happy New Year: Sally\n",
            "Done!\n"
          ]
        }
      ],
      "source": [
        "# Program to wish the friends with new year greetings \n",
        "friends = ['Joseph', 'Glenn', 'Sally']\n",
        "\n",
        "for friend in friends:\n",
        "  print('Happy New Year:', friend)\n",
        "  \n",
        "print('Done!')"
      ]
    },
    {
      "cell_type": "code",
      "execution_count": null,
      "metadata": {
        "id": "WRPJJz6-9doQ",
        "outputId": "f16e96f5-8c5d-4757-d561-6ba7081c47e5"
      },
      "outputs": [
        {
          "name": "stdout",
          "output_type": "stream",
          "text": [
            "Happy New Year: Joseph\n",
            "Happy New Year: Glenn\n",
            "Happy New Year: Sally\n"
          ]
        }
      ],
      "source": [
        "for i in range(len(friends)):\n",
        "  print('Happy New Year:', friends[i])"
      ]
    },
    {
      "cell_type": "markdown",
      "metadata": {
        "id": "X98kyDiKSqhV"
      },
      "source": [
        "In particular, **friend** is the iteration variable for the **for** loop. The variable friend changes for each iteration of the loop and controls when the **for** loop completes. The iteration variable steps successively through the three strings stored in the **friends** variable."
      ]
    },
    {
      "cell_type": "markdown",
      "metadata": {
        "id": "IChS2KRyUQEK"
      },
      "source": [
        "### Example-2: program to count the number of items in a list"
      ]
    },
    {
      "cell_type": "code",
      "execution_count": null,
      "metadata": {
        "id": "QX6pr8h9TkTu",
        "outputId": "95638c32-956b-4aad-dc9f-68f1a243820c"
      },
      "outputs": [
        {
          "name": "stdout",
          "output_type": "stream",
          "text": [
            "Count:  6\n",
            "length: 6\n"
          ]
        }
      ],
      "source": [
        "count = 0\n",
        "for val in [3, 41, 12, 9, 74, 15]:\n",
        "  count = count + 1\n",
        "print('Count: ', count)\n",
        "\n",
        "print('length:', len([3, 41, 12, 9, 74, 15]))"
      ]
    },
    {
      "cell_type": "code",
      "execution_count": null,
      "metadata": {
        "id": "prFDyS4CTz1b",
        "outputId": "4b1aa85d-8738-4442-8e68-82fe74a56c30"
      },
      "outputs": [
        {
          "name": "stdout",
          "output_type": "stream",
          "text": [
            "Total:  154\n"
          ]
        }
      ],
      "source": [
        "# computes the total of a set of numbers\n",
        "total = 0\n",
        "for val in [3, 41, 12, 9, 74, 15]:\n",
        "  total = total + val\n",
        "print('Total: ', total)"
      ]
    },
    {
      "cell_type": "markdown",
      "metadata": {
        "id": "5o6BmUJqUUUv"
      },
      "source": [
        "### Example-3: To find the largest value in a list or sequence, we construct the following loop:\n"
      ]
    },
    {
      "cell_type": "code",
      "execution_count": null,
      "metadata": {
        "colab": {
          "base_uri": "https://localhost:8080/"
        },
        "id": "i_XRnkgJUXOq",
        "outputId": "a5ea81a4-b1b2-44fa-d2ae-9d1c3a1734bf"
      },
      "outputs": [
        {
          "name": "stdout",
          "output_type": "stream",
          "text": [
            "Before: None\n",
            "Loop: 3 3\n",
            "Loop: 41 41\n",
            "Loop: 12 41\n",
            "Loop: 9 41\n",
            "Loop: 74 74\n",
            "Loop: 15 74\n",
            "Largest: 74\n"
          ]
        }
      ],
      "source": [
        "largest = None\n",
        "print('Before:', largest)\n",
        "\n",
        "for val in [3, 41, 12, 9, 74, 15]:\n",
        "  if largest is None or val > largest :\n",
        "    largest = val\n",
        "  print('Loop:', val, largest)\n",
        "\n",
        "print('Largest:', largest)"
      ]
    },
    {
      "cell_type": "code",
      "execution_count": null,
      "metadata": {
        "id": "xEaS4ok-Ab7E",
        "outputId": "b5eb0f5f-16d7-458d-d581-7392964cd7af"
      },
      "outputs": [
        {
          "name": "stdout",
          "output_type": "stream",
          "text": [
            "Loop: 3 3\n",
            "Loop: 41 41\n",
            "Loop: 12 41\n",
            "Loop: 9 41\n",
            "Loop: 74 74\n",
            "Loop: 15 74\n",
            "Largest: 74\n"
          ]
        }
      ],
      "source": [
        "#To find the largest value in a list or sequence, we construct the following loop:\n",
        "\n",
        "numbers = [3, 41, 12, 9, 74, 15]\n",
        "largest= numbers[0]\n",
        "\n",
        "for val in numbers:\n",
        "    if val > largest :\n",
        "        largest = val\n",
        "    print('Loop:', val, largest)\n",
        "\n",
        "print('Largest:', largest)"
      ]
    },
    {
      "cell_type": "markdown",
      "metadata": {
        "id": "QOU-zQTmVDN1"
      },
      "source": [
        "## While Loop\n",
        "\n",
        "The while loop in Python is used to iterate over a block of code as long as the test expression (condition) is true.\n",
        "\n",
        "We generally use this loop when we don't know the number of times to iterate beforehand."
      ]
    },
    {
      "cell_type": "code",
      "execution_count": null,
      "metadata": {
        "id": "AIhHUZFyVFrl",
        "outputId": "41a8a56d-b709-48de-8d8e-24dbefc2365e"
      },
      "outputs": [
        {
          "name": "stdout",
          "output_type": "stream",
          "text": [
            "The sum is 55\n"
          ]
        }
      ],
      "source": [
        "# Program to add natural\n",
        "# numbers up to \n",
        "# sum = 1+2+3+...+n\n",
        "\n",
        "# To take input from the user,\n",
        "# n = int(input(\"Enter n: \"))\n",
        "\n",
        "n = 10\n",
        "\n",
        "# initialize sum and counter\n",
        "sum = 0\n",
        "i = 1\n",
        "\n",
        "while i <= n:\n",
        "    sum = sum + i\n",
        "    i = i+1    # update counter\n",
        "\n",
        "# print the sum\n",
        "print(\"The sum is\", sum)"
      ]
    },
    {
      "cell_type": "code",
      "source": [
        "x = 1\n",
        "for i in range(1, 1001):\n",
        "  x *= i\n",
        "print(x)"
      ],
      "metadata": {
        "colab": {
          "base_uri": "https://localhost:8080/"
        },
        "id": "piZ33Cb5X86a",
        "outputId": "da2311d5-6627-41f1-a281-23bc64100e52"
      },
      "execution_count": null,
      "outputs": [
        {
          "output_type": "stream",
          "name": "stdout",
          "text": [
            "402387260077093773543702433923003985719374864210714632543799910429938512398629020592044208486969404800479988610197196058631666872994808558901323829669944590997424504087073759918823627727188732519779505950995276120874975462497043601418278094646496291056393887437886487337119181045825783647849977012476632889835955735432513185323958463075557409114262417474349347553428646576611667797396668820291207379143853719588249808126867838374559731746136085379534524221586593201928090878297308431392844403281231558611036976801357304216168747609675871348312025478589320767169132448426236131412508780208000261683151027341827977704784635868170164365024153691398281264810213092761244896359928705114964975419909342221566832572080821333186116811553615836546984046708975602900950537616475847728421889679646244945160765353408198901385442487984959953319101723355556602139450399736280750137837615307127761926849034352625200015888535147331611702103968175921510907788019393178114194545257223865541461062892187960223838971476088506276862967146674697562911234082439208160153780889893964518263243671616762179168909779911903754031274622289988005195444414282012187361745992642956581746628302955570299024324153181617210465832036786906117260158783520751516284225540265170483304226143974286933061690897968482590125458327168226458066526769958652682272807075781391858178889652208164348344825993266043367660176999612831860788386150279465955131156552036093988180612138558600301435694527224206344631797460594682573103790084024432438465657245014402821885252470935190620929023136493273497565513958720559654228749774011413346962715422845862377387538230483865688976461927383814900140767310446640259899490222221765904339901886018566526485061799702356193897017860040811889729918311021171229845901641921068884387121855646124960798722908519296819372388642614839657382291123125024186649353143970137428531926649875337218940694281434118520158014123344828015051399694290153483077644569099073152433278288269864602789864321139083506217095002597389863554277196742822248757586765752344220207573630569498825087968928162753848863396909959826280956121450994871701244516461260379029309120889086942028510640182154399457156805941872748998094254742173582401063677404595741785160829230135358081840096996372524230560855903700624271243416909004153690105933983835777939410970027753472000000000000000000000000000000000000000000000000000000000000000000000000000000000000000000000000000000000000000000000000000000000000000000000000000000000000000000000000000000000000000000000000000000000000000000000000000000000000000000000000000000000\n"
          ]
        }
      ]
    },
    {
      "cell_type": "code",
      "source": [
        "while True:\n",
        "  n = int(input())\n",
        "  if n < 0:\n",
        "    break\n",
        "  if n%2 == 1:\n",
        "    print(\"Odd\")\n",
        "  else:\n",
        "    print(\"Even\")"
      ],
      "metadata": {
        "colab": {
          "base_uri": "https://localhost:8080/"
        },
        "id": "CE5XJNTUYesw",
        "outputId": "3e35834b-7f3c-429a-94bd-714d3f0ebbcf"
      },
      "execution_count": null,
      "outputs": [
        {
          "name": "stdout",
          "output_type": "stream",
          "text": [
            "4\n",
            "Even\n",
            "23\n",
            "Odd\n",
            "0\n",
            "Even\n",
            "-13\n"
          ]
        }
      ]
    },
    {
      "cell_type": "code",
      "execution_count": null,
      "metadata": {
        "id": "kMrQBzjXHE4j",
        "outputId": "c4bf30ca-809e-4521-c705-bdc9bd0a5f6e",
        "colab": {
          "base_uri": "https://localhost:8080/"
        }
      },
      "outputs": [
        {
          "name": "stdout",
          "output_type": "stream",
          "text": [
            "4334l43l\n",
            "43242343023942093falkfjaslfaf\n",
            "Hello\n",
            "DONE\n",
            "done\n",
            "Done\n"
          ]
        }
      ],
      "source": [
        "while True:\n",
        "  inp = input()\n",
        "  if inp == 'Done':\n",
        "    break"
      ]
    },
    {
      "cell_type": "code",
      "execution_count": null,
      "metadata": {
        "id": "11YWhoAsWwty",
        "outputId": "7a7a06cb-1e9e-4a95-aba2-3512f38bf8b7"
      },
      "outputs": [
        {
          "name": "stdout",
          "output_type": "stream",
          "text": [
            "1\n",
            "2\n",
            "3\n",
            "4\n",
            "5\n"
          ]
        }
      ],
      "source": [
        "# Print i as long as i is less than 6:\n",
        "i = 1\n",
        "while i < 6:\n",
        "  print(i)\n",
        "  i += 1"
      ]
    },
    {
      "cell_type": "markdown",
      "metadata": {
        "id": "jy9T5vLuXwlW"
      },
      "source": [
        "### Break and Continue Statement"
      ]
    },
    {
      "cell_type": "markdown",
      "metadata": {
        "id": "Kp1PG-xIYBtY"
      },
      "source": [
        "In Python, **`break`** and **`continue`** statements can alter the flow of a normal loop.\n",
        "Loops iterate over a block of code until the test expression is false, but sometimes we wish to terminate the current iteration or even the whole loop without checking test expression.\n",
        "\n",
        "The break and continue statements are used in these cases."
      ]
    },
    {
      "cell_type": "code",
      "execution_count": null,
      "metadata": {
        "id": "NkJFLKIkX0KV",
        "outputId": "cf3cb252-cc98-41f8-bba3-0e6be83b23de",
        "colab": {
          "base_uri": "https://localhost:8080/"
        }
      },
      "outputs": [
        {
          "output_type": "stream",
          "name": "stdout",
          "text": [
            "s\n",
            "t\n",
            "r\n",
            "The end\n"
          ]
        }
      ],
      "source": [
        "# Use of break statement inside the loop\n",
        "\n",
        "for val in \"string\":\n",
        "    if val == \"i\":\n",
        "      break\n",
        "    print(val)\n",
        "\n",
        "print(\"The end\")"
      ]
    },
    {
      "cell_type": "markdown",
      "metadata": {
        "id": "4RhVS8OTYojP"
      },
      "source": [
        "In this program, we iterate through the \"string\" sequence. We check if the letter is **`i`**, upon which we break from the loop. Hence, we see in our output that all the letters up till i gets printed. After that, the loop terminates."
      ]
    },
    {
      "cell_type": "code",
      "execution_count": null,
      "metadata": {
        "id": "nNhZy9HQYu6A",
        "outputId": "da287d19-66c4-48c6-cf7f-f328e40c456a",
        "colab": {
          "base_uri": "https://localhost:8080/"
        }
      },
      "outputs": [
        {
          "output_type": "stream",
          "name": "stdout",
          "text": [
            "s\n",
            "t\n",
            "r\n",
            "n\n",
            "g\n",
            "The end\n"
          ]
        }
      ],
      "source": [
        "# Program to show the use of continue statement inside loops\n",
        "\n",
        "for val in \"string\":\n",
        "    if val == \"i\":\n",
        "        continue\n",
        "    print(val)\n",
        "\n",
        "print(\"The end\")"
      ]
    },
    {
      "cell_type": "markdown",
      "metadata": {
        "id": "a6dYEsUBY1-W"
      },
      "source": [
        "This program is same as the above example except the **` break`** statement has been replaced with **`continue`**.\n",
        "\n",
        "We continue with the loop, if the string is i, not executing the rest of the block. Hence, we see in our output that all the letters except i gets printed."
      ]
    },
    {
      "cell_type": "code",
      "source": [
        "cnt = 0\n",
        "for x in range(1500, 2701):\n",
        "  if x % 5 == 0 and x % 7 == 0:\n",
        "    print(x)\n",
        "    cnt = cnt+1\n",
        "print(\"Total number: \", cnt)"
      ],
      "metadata": {
        "colab": {
          "base_uri": "https://localhost:8080/"
        },
        "id": "KgI5FxDRcGYX",
        "outputId": "3360133f-0f10-48de-f2d3-d2c6507234b3"
      },
      "execution_count": null,
      "outputs": [
        {
          "output_type": "stream",
          "name": "stdout",
          "text": [
            "1505\n",
            "1540\n",
            "1575\n",
            "1610\n",
            "1645\n",
            "1680\n",
            "1715\n",
            "1750\n",
            "1785\n",
            "1820\n",
            "1855\n",
            "1890\n",
            "1925\n",
            "1960\n",
            "1995\n",
            "2030\n",
            "2065\n",
            "2100\n",
            "2135\n",
            "2170\n",
            "2205\n",
            "2240\n",
            "2275\n",
            "2310\n",
            "2345\n",
            "2380\n",
            "2415\n",
            "2450\n",
            "2485\n",
            "2520\n",
            "2555\n",
            "2590\n",
            "2625\n",
            "2660\n",
            "2695\n",
            "Total number:  35\n"
          ]
        }
      ]
    },
    {
      "cell_type": "code",
      "source": [
        "for n in range(1, 101):\n",
        "  flag = 1\n",
        "  for x in range(2, n):\n",
        "    if n%x == 0:\n",
        "      flag = 0\n",
        "\n",
        "  if flag == 1 and n != 1:\n",
        "    print(n, end = ', ')"
      ],
      "metadata": {
        "colab": {
          "base_uri": "https://localhost:8080/"
        },
        "id": "Oqf1XuXCdSje",
        "outputId": "5dc03f0b-e354-4c64-c944-2c2fb200e14d"
      },
      "execution_count": null,
      "outputs": [
        {
          "output_type": "stream",
          "name": "stdout",
          "text": [
            "2, 3, 5, 7, 11, 13, 17, 19, 23, 29, 31, 37, 41, 43, 47, 53, 59, 61, 67, 71, 73, 79, 83, 89, 97, "
          ]
        }
      ]
    },
    {
      "cell_type": "markdown",
      "metadata": {
        "id": "thgufqabF0gp"
      },
      "source": [
        "### Practice Excercises\n",
        "1. Write a program which repeatedly reads numbers until the\n",
        "user enters “done”. Once “done” is entered, print out the total, count,\n",
        "and average of the numbers. If the user enters anything other than a\n",
        "number, detect their mistake using try and except and print an error\n",
        "message and skip to the next number.   \n",
        "```\n",
        "          Enter a number: 4\n",
        "          Enter a number: 5\n",
        "          Enter a number: bad data\n",
        "          Invalid input\n",
        "          Enter a number: 7\n",
        "          Enter a number: done\n",
        "          16 3 5.333333333333333\n",
        "```\n",
        "2. Write a Python program to find those numbers which are divisible by 7 and multiple of 5, between 1500 and 2700 (both included).\n",
        "\n",
        "3. Write a Python program to count the number of even and odd numbers from a series of numbers.\n",
        "```\n",
        "    Sample numbers : numbers = (1, 2, 3, 4, 5, 6, 7, 8, 9) \n",
        "    Expected Output :\n",
        "    Number of even numbers : 5\n",
        "    Number of odd numbers : 4\n",
        "```\n",
        "4. Write a Python program that prints all the numbers from 0 to 6 except 3 and 6.\n",
        "5. Write a Python program to get the Fibonacci series between 0 to 50.\n",
        "6. Write a program to display all prime numbers within a range.\n",
        "7. Write a program to accept a number from a user and calculate the sum of all numbers from 1 to a given number.\n",
        "```\n",
        "          Enter number 10\n",
        "          Sum is:  55\n",
        "```\n",
        "\n",
        "\n"
      ]
    },
    {
      "cell_type": "markdown",
      "metadata": {
        "id": "8S2gXlr9-CqC"
      },
      "source": [
        "### References:\n",
        "1. [Programiz.com](https://www.programiz.com/python-programming/operators)\n",
        "2. [Python for Everybody-Coursera](https://www.coursera.org/learn/python)"
      ]
    }
  ],
  "metadata": {
    "colab": {
      "collapsed_sections": [],
      "name": "Session-2.2 (Conditional statements and branching, loop).ipynb",
      "provenance": [],
      "include_colab_link": true
    },
    "kernelspec": {
      "display_name": "Python 3 (ipykernel)",
      "language": "python",
      "name": "python3"
    },
    "language_info": {
      "codemirror_mode": {
        "name": "ipython",
        "version": 3
      },
      "file_extension": ".py",
      "mimetype": "text/x-python",
      "name": "python",
      "nbconvert_exporter": "python",
      "pygments_lexer": "ipython3",
      "version": "3.9.8"
    }
  },
  "nbformat": 4,
  "nbformat_minor": 0
}