{
  "nbformat": 4,
  "nbformat_minor": 0,
  "metadata": {
    "colab": {
      "name": "Session-7 (Pretrained_Word_Embeddings)",
      "provenance": [],
      "collapsed_sections": [],
      "include_colab_link": true
    },
    "kernelspec": {
      "name": "python3",
      "display_name": "Python 3"
    },
    "gpuClass": "standard"
  },
  "cells": [
    {
      "cell_type": "markdown",
      "metadata": {
        "id": "view-in-github",
        "colab_type": "text"
      },
      "source": [
        "<a href=\"https://colab.research.google.com/github/eftekhar-hossain/SKBI_Training/blob/main/Intermediate/Session_7_(Pretrained_Word_Embeddings).ipynb\" target=\"_parent\"><img src=\"https://colab.research.google.com/assets/colab-badge.svg\" alt=\"Open In Colab\"/></a>"
      ]
    },
    {
      "cell_type": "markdown",
      "source": [
        "<center> <h1> <u> <font color='red'> Training on AI and ML with Python (Intermediate) </font> </u> </h1> </center>"
      ],
      "metadata": {
        "id": "KNLAaQUnLFfH"
      }
    },
    {
      "cell_type": "code",
      "metadata": {
        "id": "3YW8LwzIBysE",
        "outputId": "7d4d63dc-1a33-4d13-d47c-e70aeb1f2b72",
        "colab": {
          "base_uri": "https://localhost:8080/"
        }
      },
      "source": [
        "%%time\n",
        "import os\n",
        "from glob import glob\n",
        "import numpy as np\n",
        "import matplotlib.pyplot as plt\n",
        "import pandas as pd\n",
        "import re\n",
        "import nltk\n",
        "from sklearn.model_selection import train_test_split\n",
        "import tensorflow as tf\n",
        "from tensorflow import keras"
      ],
      "execution_count": null,
      "outputs": [
        {
          "output_type": "stream",
          "name": "stdout",
          "text": [
            "CPU times: user 3.19 s, sys: 451 ms, total: 3.65 s\n",
            "Wall time: 4.18 s\n"
          ]
        }
      ]
    },
    {
      "cell_type": "markdown",
      "metadata": {
        "id": "07ZIp6sbpJJB"
      },
      "source": [
        "## Fetching the Dataset\n"
      ]
    },
    {
      "cell_type": "code",
      "source": [
        "!wget -O news.csv https://www.dropbox.com/s/12yza2h4bja9fqy/News_12Class.csv?dl=0"
      ],
      "metadata": {
        "id": "9r1YmG_k08_r"
      },
      "execution_count": null,
      "outputs": []
    },
    {
      "cell_type": "code",
      "metadata": {
        "colab": {
          "base_uri": "https://localhost:8080/"
        },
        "outputId": "7b72c6ef-88f9-4984-f085-053ba2829f21",
        "id": "HoHWEMHC08_r"
      },
      "source": [
        "%%time\n",
        "class_names = ['Accident', 'Art', 'Crime', 'Economics', 'Education', 'Entertainment',\n",
        "               'Environment', 'International', 'Politics', 'Science_tech', 'Sports', 'Suspicious']\n",
        "               \n",
        "dataset = pd.read_csv(\"news.csv\")\n",
        "dataset"
      ],
      "execution_count": null,
      "outputs": [
        {
          "output_type": "stream",
          "name": "stdout",
          "text": [
            "CPU times: user 9.9 s, sys: 1.21 s, total: 11.1 s\n",
            "Wall time: 14.1 s\n"
          ]
        }
      ]
    },
    {
      "cell_type": "code",
      "source": [
        "dataset.columns"
      ],
      "metadata": {
        "id": "YvjRjXCj08_s"
      },
      "execution_count": null,
      "outputs": []
    },
    {
      "cell_type": "code",
      "metadata": {
        "colab": {
          "base_uri": "https://localhost:8080/"
        },
        "outputId": "81f925e9-edc6-429c-9e96-d1d8f9dece66",
        "id": "EUvRnvV-08_s"
      },
      "source": [
        "labels = np.array(dataset['Category'])\n",
        "print('Total size of the dataset : ',len(dataset))"
      ],
      "execution_count": null,
      "outputs": [
        {
          "output_type": "stream",
          "name": "stdout",
          "text": [
            "Total size of the dataset :  95866\n"
          ]
        }
      ]
    },
    {
      "cell_type": "markdown",
      "metadata": {
        "id": "z3DwoI6VHDd_"
      },
      "source": [
        "## Data Preprocessing\n",
        "Here we will process the data by removing punctuation and stop words from the dataset. It is really a important part for the successful implementation of our word embedding model."
      ]
    },
    {
      "cell_type": "code",
      "metadata": {
        "id": "dKperCSDwKAa",
        "colab": {
          "base_uri": "https://localhost:8080/"
        },
        "outputId": "aa7e0707-1d92-497b-914c-f9c531e1c919"
      },
      "source": [
        "%%time\n",
        "total_words = set() ## list of all words in our dataset\n",
        "\n",
        "def creating_total_words(words):\n",
        "     for w in words:\n",
        "          total_words.add(w)\n",
        "\n",
        "processed_data = [] ##List of all the processed text\n",
        "\n",
        "for i in range(len(dataset)):\n",
        "    text = re.sub('[^\\u0980-\\u09FF]',' ', dataset['Text'][i]) ## removing punctions \n",
        "    ## removing stop words from the texts\n",
        "    words =text.split()\n",
        "    creating_total_words(words)\n",
        "    processed_data.append(words)"
      ],
      "execution_count": null,
      "outputs": [
        {
          "output_type": "stream",
          "name": "stdout",
          "text": [
            "CPU times: user 20.2 s, sys: 2.08 s, total: 22.3 s\n",
            "Wall time: 22.4 s\n"
          ]
        }
      ]
    },
    {
      "cell_type": "code",
      "metadata": {
        "id": "OEnKcMoQISJh"
      },
      "source": [
        "# Finding the size of the vocabulary\n",
        "print(\"Total Number of Words: \",len(total_words))\n",
        "\n",
        "for i in range(10):\n",
        "    print(dataset['Text'][i],'\\n',processed_data[i],'\\n\\n')"
      ],
      "execution_count": null,
      "outputs": []
    },
    {
      "cell_type": "markdown",
      "metadata": {
        "id": "wK4oUa39VC7r"
      },
      "source": [
        "# Creating Word Embedding Model\n"
      ]
    },
    {
      "cell_type": "code",
      "metadata": {
        "id": "x7mzBDUygjPf"
      },
      "source": [
        "%%time\n",
        "from gensim.models import Word2Vec\n",
        "\n",
        "#different hyperparameter that can be used to test the system \n",
        "word2vec = Word2Vec(processed_data, size=100,  min_count=5, window=5, workers=40, cbow_mean=0,seed=1, sample=1e-4, hs=1, negative=5, iter=1)"
      ],
      "execution_count": null,
      "outputs": []
    },
    {
      "cell_type": "code",
      "metadata": {
        "id": "NHld6gTvg9AP",
        "colab": {
          "base_uri": "https://localhost:8080/"
        },
        "outputId": "34e58a40-bedb-401b-98d2-ac00965d29fb"
      },
      "source": [
        "vocabulary = word2vec.wv.vocab\n",
        "print(len(vocabulary))"
      ],
      "execution_count": null,
      "outputs": [
        {
          "output_type": "stream",
          "name": "stdout",
          "text": [
            "123771\n"
          ]
        }
      ]
    },
    {
      "cell_type": "code",
      "source": [
        "vocabulary"
      ],
      "metadata": {
        "id": "iWqcOXhQ14r2"
      },
      "execution_count": null,
      "outputs": []
    },
    {
      "cell_type": "code",
      "source": [
        "# Save model in txt format\n",
        "word2vec.wv.save_word2vec_format('test_w2v.txt', binary=False)"
      ],
      "metadata": {
        "id": "xF6woej_tbd6"
      },
      "execution_count": null,
      "outputs": []
    },
    {
      "cell_type": "markdown",
      "metadata": {
        "id": "rHRFkNJW38pp"
      },
      "source": [
        "# Fetching Restaurant Review Dataset\n"
      ]
    },
    {
      "cell_type": "code",
      "source": [
        "!wget -O book-reviews.csv https://www.dropbox.com/s/6qw6vswk2gtz3p6/book-reviews.csv?dl=0"
      ],
      "metadata": {
        "id": "ckw46WOjTuqU"
      },
      "execution_count": null,
      "outputs": []
    },
    {
      "cell_type": "code",
      "metadata": {
        "id": "5weyzwKqpHXr",
        "colab": {
          "base_uri": "https://localhost:8080/"
        },
        "outputId": "4082edf5-fff0-48bf-b272-1fba70d4e084"
      },
      "source": [
        "%%time\n",
        "               \n",
        "dataset = pd.read_csv(\"book-reviews.csv\")"
      ],
      "execution_count": null,
      "outputs": [
        {
          "output_type": "stream",
          "name": "stdout",
          "text": [
            "CPU times: user 18.5 ms, sys: 6.01 ms, total: 24.5 ms\n",
            "Wall time: 27.5 ms\n"
          ]
        }
      ]
    },
    {
      "cell_type": "code",
      "source": [
        "dataset"
      ],
      "metadata": {
        "colab": {
          "base_uri": "https://localhost:8080/",
          "height": 424
        },
        "id": "rvzW8Qsu3ELZ",
        "outputId": "3810401e-a377-4e80-acf4-e55943edfd9c"
      },
      "execution_count": null,
      "outputs": [
        {
          "output_type": "execute_result",
          "data": {
            "text/plain": [
              "                                                 Review  liked\n",
              "0     বই টি আমার সংগ্রহে আছে এবং তা আমি পড়েছি। বই টি...      0\n",
              "1                        ফালতু বই। শুধু শুধু টাকা নষ্ট।      0\n",
              "2     একটু পড়ে দেখতে বলসিলো, একটু পড়লাম। তারপর হড়হড় ...      0\n",
              "3     এটা কোন বই? ছিঃ ধিকার জানায়। প্রশাসনের নজর দেয়...      0\n",
              "4     প্রিয় রকমারি.কম, দয়া করে বইটি আপনাদের ওয়েবসাইট...      0\n",
              "...                                                 ...    ...\n",
              "1439  আলহামদুলিল্লাহ্‌ খুব ভাল একটি বই। শেখার আছে অন...      1\n",
              "1440  একটু আগে পড়ে শেষ করলাম ।কাহিনী টা আমার কাছে দা...      1\n",
              "1441  মুক্তি যুদ্ধ সম্পর্কে পড়া আমার সেরা বই। অনেক ক...      1\n",
              "1442  আশাকরি ভালো একটা বই পাবো এইভাবেই এই অনুবাদকের ...      1\n",
              "1443  নবীন প্রোগ্রামারদের জন্যে অসাধারন একটা বই। আমি...      1\n",
              "\n",
              "[1444 rows x 2 columns]"
            ],
            "text/html": [
              "\n",
              "  <div id=\"df-a8b53dab-5734-4492-8a3a-4fc9b4a59d95\">\n",
              "    <div class=\"colab-df-container\">\n",
              "      <div>\n",
              "<style scoped>\n",
              "    .dataframe tbody tr th:only-of-type {\n",
              "        vertical-align: middle;\n",
              "    }\n",
              "\n",
              "    .dataframe tbody tr th {\n",
              "        vertical-align: top;\n",
              "    }\n",
              "\n",
              "    .dataframe thead th {\n",
              "        text-align: right;\n",
              "    }\n",
              "</style>\n",
              "<table border=\"1\" class=\"dataframe\">\n",
              "  <thead>\n",
              "    <tr style=\"text-align: right;\">\n",
              "      <th></th>\n",
              "      <th>Review</th>\n",
              "      <th>liked</th>\n",
              "    </tr>\n",
              "  </thead>\n",
              "  <tbody>\n",
              "    <tr>\n",
              "      <th>0</th>\n",
              "      <td>বই টি আমার সংগ্রহে আছে এবং তা আমি পড়েছি। বই টি...</td>\n",
              "      <td>0</td>\n",
              "    </tr>\n",
              "    <tr>\n",
              "      <th>1</th>\n",
              "      <td>ফালতু বই। শুধু শুধু টাকা নষ্ট।</td>\n",
              "      <td>0</td>\n",
              "    </tr>\n",
              "    <tr>\n",
              "      <th>2</th>\n",
              "      <td>একটু পড়ে দেখতে বলসিলো, একটু পড়লাম। তারপর হড়হড় ...</td>\n",
              "      <td>0</td>\n",
              "    </tr>\n",
              "    <tr>\n",
              "      <th>3</th>\n",
              "      <td>এটা কোন বই? ছিঃ ধিকার জানায়। প্রশাসনের নজর দেয়...</td>\n",
              "      <td>0</td>\n",
              "    </tr>\n",
              "    <tr>\n",
              "      <th>4</th>\n",
              "      <td>প্রিয় রকমারি.কম, দয়া করে বইটি আপনাদের ওয়েবসাইট...</td>\n",
              "      <td>0</td>\n",
              "    </tr>\n",
              "    <tr>\n",
              "      <th>...</th>\n",
              "      <td>...</td>\n",
              "      <td>...</td>\n",
              "    </tr>\n",
              "    <tr>\n",
              "      <th>1439</th>\n",
              "      <td>আলহামদুলিল্লাহ্‌ খুব ভাল একটি বই। শেখার আছে অন...</td>\n",
              "      <td>1</td>\n",
              "    </tr>\n",
              "    <tr>\n",
              "      <th>1440</th>\n",
              "      <td>একটু আগে পড়ে শেষ করলাম ।কাহিনী টা আমার কাছে দা...</td>\n",
              "      <td>1</td>\n",
              "    </tr>\n",
              "    <tr>\n",
              "      <th>1441</th>\n",
              "      <td>মুক্তি যুদ্ধ সম্পর্কে পড়া আমার সেরা বই। অনেক ক...</td>\n",
              "      <td>1</td>\n",
              "    </tr>\n",
              "    <tr>\n",
              "      <th>1442</th>\n",
              "      <td>আশাকরি ভালো একটা বই পাবো এইভাবেই এই অনুবাদকের ...</td>\n",
              "      <td>1</td>\n",
              "    </tr>\n",
              "    <tr>\n",
              "      <th>1443</th>\n",
              "      <td>নবীন প্রোগ্রামারদের জন্যে অসাধারন একটা বই। আমি...</td>\n",
              "      <td>1</td>\n",
              "    </tr>\n",
              "  </tbody>\n",
              "</table>\n",
              "<p>1444 rows × 2 columns</p>\n",
              "</div>\n",
              "      <button class=\"colab-df-convert\" onclick=\"convertToInteractive('df-a8b53dab-5734-4492-8a3a-4fc9b4a59d95')\"\n",
              "              title=\"Convert this dataframe to an interactive table.\"\n",
              "              style=\"display:none;\">\n",
              "        \n",
              "  <svg xmlns=\"http://www.w3.org/2000/svg\" height=\"24px\"viewBox=\"0 0 24 24\"\n",
              "       width=\"24px\">\n",
              "    <path d=\"M0 0h24v24H0V0z\" fill=\"none\"/>\n",
              "    <path d=\"M18.56 5.44l.94 2.06.94-2.06 2.06-.94-2.06-.94-.94-2.06-.94 2.06-2.06.94zm-11 1L8.5 8.5l.94-2.06 2.06-.94-2.06-.94L8.5 2.5l-.94 2.06-2.06.94zm10 10l.94 2.06.94-2.06 2.06-.94-2.06-.94-.94-2.06-.94 2.06-2.06.94z\"/><path d=\"M17.41 7.96l-1.37-1.37c-.4-.4-.92-.59-1.43-.59-.52 0-1.04.2-1.43.59L10.3 9.45l-7.72 7.72c-.78.78-.78 2.05 0 2.83L4 21.41c.39.39.9.59 1.41.59.51 0 1.02-.2 1.41-.59l7.78-7.78 2.81-2.81c.8-.78.8-2.07 0-2.86zM5.41 20L4 18.59l7.72-7.72 1.47 1.35L5.41 20z\"/>\n",
              "  </svg>\n",
              "      </button>\n",
              "      \n",
              "  <style>\n",
              "    .colab-df-container {\n",
              "      display:flex;\n",
              "      flex-wrap:wrap;\n",
              "      gap: 12px;\n",
              "    }\n",
              "\n",
              "    .colab-df-convert {\n",
              "      background-color: #E8F0FE;\n",
              "      border: none;\n",
              "      border-radius: 50%;\n",
              "      cursor: pointer;\n",
              "      display: none;\n",
              "      fill: #1967D2;\n",
              "      height: 32px;\n",
              "      padding: 0 0 0 0;\n",
              "      width: 32px;\n",
              "    }\n",
              "\n",
              "    .colab-df-convert:hover {\n",
              "      background-color: #E2EBFA;\n",
              "      box-shadow: 0px 1px 2px rgba(60, 64, 67, 0.3), 0px 1px 3px 1px rgba(60, 64, 67, 0.15);\n",
              "      fill: #174EA6;\n",
              "    }\n",
              "\n",
              "    [theme=dark] .colab-df-convert {\n",
              "      background-color: #3B4455;\n",
              "      fill: #D2E3FC;\n",
              "    }\n",
              "\n",
              "    [theme=dark] .colab-df-convert:hover {\n",
              "      background-color: #434B5C;\n",
              "      box-shadow: 0px 1px 3px 1px rgba(0, 0, 0, 0.15);\n",
              "      filter: drop-shadow(0px 1px 2px rgba(0, 0, 0, 0.3));\n",
              "      fill: #FFFFFF;\n",
              "    }\n",
              "  </style>\n",
              "\n",
              "      <script>\n",
              "        const buttonEl =\n",
              "          document.querySelector('#df-a8b53dab-5734-4492-8a3a-4fc9b4a59d95 button.colab-df-convert');\n",
              "        buttonEl.style.display =\n",
              "          google.colab.kernel.accessAllowed ? 'block' : 'none';\n",
              "\n",
              "        async function convertToInteractive(key) {\n",
              "          const element = document.querySelector('#df-a8b53dab-5734-4492-8a3a-4fc9b4a59d95');\n",
              "          const dataTable =\n",
              "            await google.colab.kernel.invokeFunction('convertToInteractive',\n",
              "                                                     [key], {});\n",
              "          if (!dataTable) return;\n",
              "\n",
              "          const docLinkHtml = 'Like what you see? Visit the ' +\n",
              "            '<a target=\"_blank\" href=https://colab.research.google.com/notebooks/data_table.ipynb>data table notebook</a>'\n",
              "            + ' to learn more about interactive tables.';\n",
              "          element.innerHTML = '';\n",
              "          dataTable['output_type'] = 'display_data';\n",
              "          await google.colab.output.renderOutput(dataTable, element);\n",
              "          const docLink = document.createElement('div');\n",
              "          docLink.innerHTML = docLinkHtml;\n",
              "          element.appendChild(docLink);\n",
              "        }\n",
              "      </script>\n",
              "    </div>\n",
              "  </div>\n",
              "  "
            ]
          },
          "metadata": {},
          "execution_count": 8
        }
      ]
    },
    {
      "cell_type": "code",
      "source": [
        "dataset.columns"
      ],
      "metadata": {
        "colab": {
          "base_uri": "https://localhost:8080/"
        },
        "id": "BkorqcIpVw4l",
        "outputId": "040c6da2-e00e-4e45-b8d5-17a707fd93a6"
      },
      "execution_count": null,
      "outputs": [
        {
          "output_type": "execute_result",
          "data": {
            "text/plain": [
              "Index(['Review', 'liked'], dtype='object')"
            ]
          },
          "metadata": {},
          "execution_count": 9
        }
      ]
    },
    {
      "cell_type": "code",
      "metadata": {
        "id": "zZuvn7QArsZw",
        "colab": {
          "base_uri": "https://localhost:8080/"
        },
        "outputId": "f1e19c4f-52b1-44ed-b0ea-01ca05c35f0f"
      },
      "source": [
        "labels = np.array(dataset['liked'])\n",
        "print('Total size of the dataset : ',len(dataset))"
      ],
      "execution_count": null,
      "outputs": [
        {
          "output_type": "stream",
          "name": "stdout",
          "text": [
            "Total size of the dataset :  1444\n"
          ]
        }
      ]
    },
    {
      "cell_type": "code",
      "source": [
        "# cleaning function\n",
        "def cleaning(row):\n",
        "  text = re.sub('[^\\u0980-\\u09FF]',' ', row) ## removing punctions\n",
        "  return text \n",
        "\n",
        "dataset['cleaned'] = dataset.Review.apply(cleaning)  "
      ],
      "metadata": {
        "id": "R9k9Ncrf7Sz0"
      },
      "execution_count": null,
      "outputs": []
    },
    {
      "cell_type": "code",
      "metadata": {
        "id": "MElI16T7C89W",
        "outputId": "8e64970b-1026-46f0-bd72-e0a18ce1f768",
        "colab": {
          "base_uri": "https://localhost:8080/"
        }
      },
      "source": [
        "## Printing the raw dataset\n",
        "for i in list(np.random.randint(1,len(dataset),10)):\n",
        "  print(\"Actual--> \", dataset['Review'][i],\"\\n\", \"Cleaned-->\",dataset['cleaned'][i],\"\\n\",dataset['liked'][i])"
      ],
      "execution_count": null,
      "outputs": [
        {
          "output_type": "stream",
          "name": "stdout",
          "text": [
            "Actual-->  চমৎকার একটি বই আউটসোর্সিং শুরু করার জন্য... \n",
            " Cleaned--> চমৎকার একটি বই আউটসোর্সিং শুরু করার জন্য    \n",
            " 1\n",
            "Actual-->  বইটা অনেক ভাল লেগেছে...... \n",
            " Cleaned--> বইটা অনেক ভাল লেগেছে       \n",
            " 1\n",
            "Actual-->  প্যারাডক্সিক্যাল সাজিদের প্রত্যকটা সিরিজে নাস্তিকদের কঠিন প্রশ্নের জবাবে কোরআনের আলোকে বিজ্ঞানের বিবর্তনে যৌক্তিক ব্যখ্যা দিয়ে ইশ্বর আছেন তার উপযুক্ত প্রমাণ সাজিদ দিয়েছেন। যারা শুধুমাত্র বিজ্ঞানকে বিশ্বাস করে, আল্লাহ নেই এই অদ্ভুত যুক্তি দেখিয়েছেন। তাদের যুক্তির উপর পাল্টা যুক্তি দিয়ে সাজিদ বুঝিয়ে দিয়েছে, পৃথিবীর স্রষ্টা অবশ্যই কেউ আছে। এই বিশ্বজগৎ আপনা আপনি সৃষ্টি হয় নি। \n",
            " Cleaned--> প্যারাডক্সিক্যাল সাজিদের প্রত্যকটা সিরিজে নাস্তিকদের কঠিন প্রশ্নের জবাবে কোরআনের আলোকে বিজ্ঞানের বিবর্তনে যৌক্তিক ব্যখ্যা দিয়ে ইশ্বর আছেন তার উপযুক্ত প্রমাণ সাজিদ দিয়েছেন  যারা শুধুমাত্র বিজ্ঞানকে বিশ্বাস করে  আল্লাহ নেই এই অদ্ভুত যুক্তি দেখিয়েছেন  তাদের যুক্তির উপর পাল্টা যুক্তি দিয়ে সাজিদ বুঝিয়ে দিয়েছে  পৃথিবীর স্রষ্টা অবশ্যই কেউ আছে  এই বিশ্বজগৎ আপনা আপনি সৃষ্টি হয় নি  \n",
            " 1\n",
            "Actual-->  প্রোগ্রামিং এ ক্যারিয়ার গড়তে যারা আগ্রহী তাদের জন্য অসাধারণ একটি বই । পড়ে দেখুন ভাল লাগবে । :) \n",
            " Cleaned--> প্রোগ্রামিং এ ক্যারিয়ার গড়তে যারা আগ্রহী তাদের জন্য অসাধারণ একটি বই   পড়ে দেখুন ভাল লাগবে      \n",
            " 1\n",
            "Actual-->  অসাধারণ একটি বই। আমি একজন বিজ্ঞানের ছাত্র এবং বিজ্ঞানের প্রতি আগে থেকেই আকর্ষণ।কিন্তু এই বইটি পড়ার পর আকর্ষণ আরও বেড়ে গিয়েছে। সবগুলো গল্পই চমক সৃষ্টি করার মত। আশা করি এইরকম আরও বই আসবে এবং মানুষের বিজ্ঞানের প্রতি ভালোবাসা আরও বাড়বে। \n",
            " Cleaned--> অসাধারণ একটি বই  আমি একজন বিজ্ঞানের ছাত্র এবং বিজ্ঞানের প্রতি আগে থেকেই আকর্ষণ কিন্তু এই বইটি পড়ার পর আকর্ষণ আরও বেড়ে গিয়েছে  সবগুলো গল্পই চমক সৃষ্টি করার মত  আশা করি এইরকম আরও বই আসবে এবং মানুষের বিজ্ঞানের প্রতি ভালোবাসা আরও বাড়বে  \n",
            " 1\n",
            "Actual-->  বইটি এক কথায় অসাধারণ!! \n",
            " Cleaned--> বইটি এক কথায় অসাধারণ   \n",
            " 1\n",
            "Actual-->  আমার দেখা সবচেয়ে বাজে আর ফালতু বই এটা রকমারির উচিৎ হয়নি বইটি তাদের লিস্টে রাখার। আর এই বইটি বাংলা ভাষাকে বিকৃত করছে। মর্যাদাও নষ্ট করছে। কিছু টাকার লোভে কেন যে এদের প্রোমোট করা হয় বুঝতে পারি না। আর বাংলা একাডেমির খামখেয়ালি ভাব মোটেও গ্রহণ যোগ্য নয়। \n",
            " Cleaned--> আমার দেখা সবচেয়ে বাজে আর ফালতু বই এটা রকমারির উচিৎ হয়নি বইটি তাদের লিস্টে রাখার  আর এই বইটি বাংলা ভাষাকে বিকৃত করছে  মর্যাদাও নষ্ট করছে  কিছু টাকার লোভে কেন যে এদের প্রোমোট করা হয় বুঝতে পারি না  আর বাংলা একাডেমির খামখেয়ালি ভাব মোটেও গ্রহণ যোগ্য নয়  \n",
            " 0\n",
            "Actual-->  ভাই এতো বিচ্ছিরিভাবে লিখেছেন কেন! শরীরের লোম দাড়িয়ে গেছে পড়তে। বানান ভুল অনেক। কেমন যেন লেগেছে। তবে, কাটাকাটি ভালো লেগেছে। আর চাইলে গল্প আরো বড় করতে পারতেন।তাড়াহুড়ো করেছেন বেশী ♥♥♥ \n",
            " Cleaned--> ভাই এতো বিচ্ছিরিভাবে লিখেছেন কেন  শরীরের লোম দাড়িয়ে গেছে পড়তে  বানান ভুল অনেক  কেমন যেন লেগেছে  তবে  কাটাকাটি ভালো লেগেছে  আর চাইলে গল্প আরো বড় করতে পারতেন তাড়াহুড়ো করেছেন বেশী     \n",
            " 0\n",
            "Actual-->  এসব আর্বজনাও কি বিক্রি করতে হয়? এরা কি ভাষা শহীদদের ত্যাংগের তাৎপর্য বোঝে? নোংরামির সীমা থাকা উচিত \n",
            " Cleaned--> এসব আর্বজনাও কি বিক্রি করতে হয়  এরা কি ভাষা শহীদদের ত্যাংগের তাৎপর্য বোঝে  নোংরামির সীমা থাকা উচিত \n",
            " 0\n",
            "Actual-->  বইটি পড়তে পড়তে মনে হলো নিজেই বন্দী আছি গুয়ান্তানামো কারাগারে। বইয়ের প্রতিটি পাতায় উপলব্ধি করেছি বাস্তবতা কেমন হয়। খুব ভালো এবং বাস্তবিক একটা বই। \n",
            " Cleaned--> বইটি পড়তে পড়তে মনে হলো নিজেই বন্দী আছি গুয়ান্তানামো কারাগারে  বইয়ের প্রতিটি পাতায় উপলব্ধি করেছি বাস্তবতা কেমন হয়  খুব ভালো এবং বাস্তবিক একটা বই  \n",
            " 1\n"
          ]
        }
      ]
    },
    {
      "cell_type": "markdown",
      "metadata": {
        "id": "YM2k9wW_HzH0"
      },
      "source": [
        "# Data Preprocessing\n"
      ]
    },
    {
      "cell_type": "markdown",
      "source": [
        "###Tokenization"
      ],
      "metadata": {
        "id": "nhEbT17mgWEM"
      }
    },
    {
      "cell_type": "code",
      "metadata": {
        "id": "3oodHieOJK20",
        "outputId": "337aff98-c05d-4066-e10a-6f9f2b5a2993",
        "colab": {
          "base_uri": "https://localhost:8080/"
        }
      },
      "source": [
        "%%time\n",
        "max_words = 100000\n",
        "\n",
        "from keras.preprocessing.text import Tokenizer\n",
        "\n",
        "tokenizer = Tokenizer(num_words = max_words, filters='!\"#$%&()*+,-./:;<=>?@[\\\\]^_`{|}~\\t\\n-', \n",
        "                      split=' ', char_level=False, oov_token=None, document_count=0)\n",
        "\n",
        "tokenizer.fit_on_texts(dataset['cleaned'])"
      ],
      "execution_count": null,
      "outputs": [
        {
          "output_type": "stream",
          "name": "stdout",
          "text": [
            "CPU times: user 75.6 ms, sys: 965 µs, total: 76.6 ms\n",
            "Wall time: 77.3 ms\n"
          ]
        }
      ]
    },
    {
      "cell_type": "markdown",
      "metadata": {
        "id": "ETMtFdGM1-HS"
      },
      "source": [
        "### Attributes of Tokenizer\n",
        "1. word_counts: A dictionary of words and their counts.\n",
        "\n",
        "2. word_docs: A dictionary of words and how many documents each appeared in.\n",
        "\n",
        "3. word_index: A dictionary of words and their uniquely assigned integers.\n",
        "\n",
        "4. document_count:An integer count of the total number of documents that were used to fit the Tokenizer.\n",
        "\n",
        "By using these attributes we can find the most frequent words and less frequent words and words that might be useful for our system"
      ]
    },
    {
      "cell_type": "code",
      "metadata": {
        "id": "lzv6GbepMDbj",
        "outputId": "241e0a12-74cb-4184-a5df-dd685f32f1c1",
        "colab": {
          "base_uri": "https://localhost:8080/"
        }
      },
      "source": [
        "%%time\n",
        "word_counts = tokenizer.word_counts\n",
        "word_docs = tokenizer.word_docs\n",
        "word_index = tokenizer.word_index\n",
        "document_count = tokenizer.document_count\n",
        "\n",
        "print(len(word_counts))"
      ],
      "execution_count": null,
      "outputs": [
        {
          "output_type": "stream",
          "name": "stdout",
          "text": [
            "7585\n",
            "CPU times: user 2.78 ms, sys: 0 ns, total: 2.78 ms\n",
            "Wall time: 2.94 ms\n"
          ]
        }
      ]
    },
    {
      "cell_type": "code",
      "metadata": {
        "id": "1vsy4dms5XOf",
        "outputId": "f2fd87e3-f9fa-49dc-cad5-6a51b5a914ba",
        "colab": {
          "base_uri": "https://localhost:8080/"
        }
      },
      "source": [
        "# Printing the values to understand their functions\n",
        "def print_func(i, j):\n",
        "    print(i, j)\n",
        "\n",
        "print(\"Words ===> Counts\")\n",
        "k = 0\n",
        "for (i, j) in word_counts.items():\n",
        "        print_func(i, j)\n",
        "        k+=1\n",
        "        if k== 10:\n",
        "          k=0\n",
        "          break\n",
        "\n",
        "print(\"\\nWords ===> Documents\")       \n",
        "for (i, j) in word_docs.items():\n",
        "        print_func(i, j)\n",
        "        k+=1\n",
        "        if k== 10:\n",
        "          k=0\n",
        "          break\n",
        "\n",
        "print(\"\\nWords ===> Index\")\n",
        "for (i, j) in word_index.items():\n",
        "        print_func(i, j)\n",
        "        k+=1\n",
        "        if k== 10:\n",
        "          k=0\n",
        "          break\n",
        "\n",
        "print(\"Total Number of Documents: \", document_count)"
      ],
      "execution_count": null,
      "outputs": [
        {
          "output_type": "stream",
          "name": "stdout",
          "text": [
            "Words ===> Counts\n",
            "বই 1078\n",
            "টি 34\n",
            "আমার 294\n",
            "সংগ্রহে 11\n",
            "আছে 110\n",
            "এবং 158\n",
            "তা 84\n",
            "আমি 200\n",
            "পড়েছি 28\n",
            "সম্পর্কে 43\n",
            "\n",
            "Words ===> Documents\n",
            "বর্নণা 2\n",
            "পেজে 4\n",
            "এমন 86\n",
            "পড়েছি 27\n",
            "বানান 23\n",
            "বর্ন 1\n",
            "এ 60\n",
            "কিভাবে 32\n",
            "মধ্য 3\n",
            "সাথে 78\n",
            "\n",
            "Words ===> Index\n",
            "বই 1\n",
            "এই 2\n",
            "বইটি 3\n",
            "না 4\n",
            "ভালো 5\n",
            "একটি 6\n",
            "অনেক 7\n",
            "জন্য 8\n",
            "একটা 9\n",
            "আমার 10\n",
            "Total Number of Documents:  1444\n"
          ]
        }
      ]
    },
    {
      "cell_type": "markdown",
      "metadata": {
        "id": "vFc3LGoR_fP6"
      },
      "source": [
        "### Frequency Distribution of Data Length\n",
        "Here frequency of each length will be counted to find out which lenth size is more appropiate at the time of using pad sequences. we all plot this frequency in histogram to get a visual understanding."
      ]
    },
    {
      "cell_type": "code",
      "metadata": {
        "id": "oJPdowxO2djN"
      },
      "source": [
        "Length_frequency = {}\n",
        "\n",
        "for i in range(len(dataset)):\n",
        "     index = len(dataset['cleaned'][i])\n",
        "     Length_frequency[index] = Length_frequency.get(index, 0)+1\n"
      ],
      "execution_count": null,
      "outputs": []
    },
    {
      "cell_type": "code",
      "metadata": {
        "id": "ObYh1_69__sm",
        "outputId": "f00bba12-5a49-444a-a702-7aeafc0b8415",
        "colab": {
          "base_uri": "https://localhost:8080/",
          "height": 312
        }
      },
      "source": [
        "import seaborn as sns\n",
        "\n",
        "plt.bar(list(Length_frequency.keys()), Length_frequency.values(), color ='b')\n",
        "plt.xlim(1, 1024)\n",
        "\n",
        "plt.xlabel('Lenght of the Texts')\n",
        "plt.ylabel('Frequency')\n",
        "plt.title('Length-Frequency Distribution')"
      ],
      "execution_count": null,
      "outputs": [
        {
          "output_type": "execute_result",
          "data": {
            "text/plain": [
              "Text(0.5, 1.0, 'Length-Frequency Distribution')"
            ]
          },
          "metadata": {},
          "execution_count": 44
        },
        {
          "output_type": "display_data",
          "data": {
            "text/plain": [
              "<Figure size 432x288 with 1 Axes>"
            ],
            "image/png": "[encoded data removed]"
          },
          "metadata": {
            "needs_background": "light"
          }
        }
      ]
    },
    {
      "cell_type": "markdown",
      "metadata": {
        "id": "-xM_wOx_AagP"
      },
      "source": [
        "### Encoding Data into Numbers\n",
        "To encode our text into numbers we will use  text_to_word_sequence function from keras."
      ]
    },
    {
      "cell_type": "code",
      "metadata": {
        "id": "LbgdLu9vAGvP",
        "outputId": "f6cfa629-c574-4743-c9af-7df7e63386ac",
        "colab": {
          "base_uri": "https://localhost:8080/"
        }
      },
      "source": [
        "%%time\n",
        "# Convert string into list of integer indices\n",
        "sequences = tokenizer.texts_to_sequences(dataset['cleaned'])"
      ],
      "execution_count": null,
      "outputs": [
        {
          "output_type": "stream",
          "name": "stdout",
          "text": [
            "CPU times: user 67.4 ms, sys: 971 µs, total: 68.4 ms\n",
            "Wall time: 72.1 ms\n"
          ]
        }
      ]
    },
    {
      "cell_type": "code",
      "metadata": {
        "id": "T1Qvg7bdCL3C",
        "outputId": "47fd2449-5efa-43f9-b6cd-42e1ee6b2a9d",
        "colab": {
          "base_uri": "https://localhost:8080/"
        }
      },
      "source": [
        "word_index = tokenizer.word_index\n",
        "print('Found %s unique tokens.' % len(word_index))\n",
        "print(dataset['cleaned'][1])\n",
        "print(sequences[1])"
      ],
      "execution_count": null,
      "outputs": [
        {
          "output_type": "stream",
          "name": "stdout",
          "text": [
            "Found 7585 unique tokens.\n",
            "ফালতু বই  শুধু শুধু টাকা নষ্ট \n",
            "[111, 1, 121, 121, 153, 173]\n"
          ]
        }
      ]
    },
    {
      "cell_type": "markdown",
      "metadata": {
        "id": "81kfSrIqSzsA"
      },
      "source": [
        "### Pad Sequence\n",
        "To make all the texts fo the same length we will use pad sequence from keras to standardize their length.\n",
        "\n",
        "Corpus contain our final processed data and labels contains the labels of associated data."
      ]
    },
    {
      "cell_type": "code",
      "metadata": {
        "id": "CskRP6BES2VF",
        "outputId": "5a5b5127-a19a-4724-b789-bf07acfc2b87",
        "colab": {
          "base_uri": "https://localhost:8080/"
        }
      },
      "source": [
        "%%time\n",
        "## Before padding length of different training examples \n",
        "mx = len(sequences[0])\n",
        "for x in sequences:\n",
        "  mx =max(mx, len(x))\n",
        "print(\"Maximum Review length\",mx)\n",
        "\n",
        "##We can also determine maxlen by plotting the frequency distribution of the lengths\n",
        "corpus = keras.preprocessing.sequence.pad_sequences(sequences, value=0.0, padding='post', maxlen= 100)\n",
        "## We get the maxlen value from the Length frequency distribution\n",
        "\n",
        "print(corpus[1])\n"
      ],
      "execution_count": null,
      "outputs": [
        {
          "output_type": "stream",
          "name": "stdout",
          "text": [
            "Maximum Review length 568\n",
            "[111   1 121 121 153 173   0   0   0   0   0   0   0   0   0   0   0   0\n",
            "   0   0   0   0   0   0   0   0   0   0   0   0   0   0   0   0   0   0\n",
            "   0   0   0   0   0   0   0   0   0   0   0   0   0   0   0   0   0   0\n",
            "   0   0   0   0   0   0   0   0   0   0   0   0   0   0   0   0   0   0\n",
            "   0   0   0   0   0   0   0   0   0   0   0   0   0   0   0   0   0   0\n",
            "   0   0   0   0   0   0   0   0   0   0]\n",
            "CPU times: user 12 ms, sys: 0 ns, total: 12 ms\n",
            "Wall time: 19.1 ms\n"
          ]
        }
      ]
    },
    {
      "cell_type": "code",
      "metadata": {
        "id": "FeEF30RXlzgL",
        "colab": {
          "base_uri": "https://localhost:8080/"
        },
        "outputId": "33be937f-b36a-4af3-a9a3-5a12c9f09dd2"
      },
      "source": [
        "print(\"Shape of the courpus: \", corpus.shape)\n",
        "\n",
        "for i in range(2):\n",
        "    print(dataset['cleaned'][i],\"\\n\",corpus[i])"
      ],
      "execution_count": null,
      "outputs": [
        {
          "output_type": "stream",
          "name": "stdout",
          "text": [
            "Shape of the courpus:  (1444, 100)\n",
            "বই টি আমার সংগ্রহে আছে এবং তা আমি পড়েছি  বই টি সম্পর্কে যদি এক কথায় বলতে হয় তবে বলবো মন্দের ভালো   খুবই সাধারন মানের আলোচনা করা হয়েছে ফরেক্স নিয়ে তবে অপ্রয়োজনীয় গল্প লিখে আর নিজের প্রকাশিত বইয়ের বিজ্ঞাপন দিযে বইয়ের পেজের সংখ্যা বাড়ানো হয়েছে শুধু   কয়েকটি উদাহরন দিলে বুঝতে পারবে   ফরেন রেমিটেন্স কি কিভাবে দেশের কাজে লাগে কিভাবে ইমেল এড্রেস খুলতে হয় এসব আলাপ করা হয়েছে  কিন্তু লেখক তার বই তে ডিফল্ট করা কোন ইন্ডিকেটর ই এ ট্রেডিং প্ল্যান  মানি মেনেজমেন্টে ইত্যাদি নিয়ে এক বর্ন আলোচনা করেন নাই  এমন কি ট্রেডিং প্লাটফর্মের বিভিন্ন অপশন নিয়ে দায়সারা বর্নণা দিয়েছেন  সাথে রয়েছে অসংখ্য বানান ভুল  বইয়ের ৪৭৯ টি পেজের মধ্য ৩২২ থেকে ৪৭৯ নাম্বার পেজ পর্যন্ত ১৫৭ টি পেজে যা রয়েছে তা  অতিকথন  বা  পুনরায় প্রচার  ছাড়া কিছুই না  একটি টিউটোরিয়াল সিডি দেয়া হয়েছে  তা অতি স্বল্প আলোচনা করা হয়েছে  \n",
            " [3076   30 1426  778 1427   20  121  694  695  902  193  396 3077 3078\n",
            "   60  130  696  214  107  130 3079 3080 3081   32  460 1918   39   20\n",
            "   38   33   36    1  505 3082   39   42 3083  131   51 1111 3084 1919\n",
            " 3085  607   37   21 3086  504  304   61   48   60 1111 3087  250 3088\n",
            "   37 3089 1920  305   47  194  352  225  116   30 1921  150 1426 1428\n",
            " 3090   28 1921 1922  506  205 3091  150 1112   63  194   55 3092  106\n",
            " 3093 3094  353  180    4    6  779 3095  289   20   55  372 3096  504\n",
            "   39   20]\n",
            "ফালতু বই  শুধু শুধু টাকা নষ্ট  \n",
            " [111   1 121 121 153 173   0   0   0   0   0   0   0   0   0   0   0   0\n",
            "   0   0   0   0   0   0   0   0   0   0   0   0   0   0   0   0   0   0\n",
            "   0   0   0   0   0   0   0   0   0   0   0   0   0   0   0   0   0   0\n",
            "   0   0   0   0   0   0   0   0   0   0   0   0   0   0   0   0   0   0\n",
            "   0   0   0   0   0   0   0   0   0   0   0   0   0   0   0   0   0   0\n",
            "   0   0   0   0   0   0   0   0   0   0]\n"
          ]
        }
      ]
    },
    {
      "cell_type": "markdown",
      "metadata": {
        "id": "ASUG83vgUJLV"
      },
      "source": [
        "## Creating Train, Test and Validation set\n"
      ]
    },
    {
      "cell_type": "code",
      "source": [
        "X_train,X_test,y_train,y_test = train_test_split(corpus,dataset['liked'],test_size = 0.1, random_state = 0)\n",
        "\n",
        "print(\"Training Size: \",X_train.shape)\n",
        "print(\"Test Size: \",X_test.shape)"
      ],
      "metadata": {
        "colab": {
          "base_uri": "https://localhost:8080/"
        },
        "id": "rc7GLijS-WeN",
        "outputId": "945b13f8-bcb6-4f3a-f8a4-2e1642dab006"
      },
      "execution_count": null,
      "outputs": [
        {
          "output_type": "stream",
          "name": "stdout",
          "text": [
            "Training Size:  (1299, 100)\n",
            "Test Size:  (145, 100)\n"
          ]
        }
      ]
    },
    {
      "cell_type": "markdown",
      "metadata": {
        "id": "NdG7oqhdxWIM"
      },
      "source": [
        "# Word Embedding\n",
        "Now we will implement the model with two types of word embedding. At first we will implement the model with pretrained word embedding model of the facebook. We will check how it performs,\n",
        "\n",
        "After that we will use our own word embedding. Word embedding can be done in different ways. \n",
        "\n",
        "1. We can use embedding layer form keras.\n",
        "2. Also use gensim model to implement word embedding.\n",
        "3. Fasttext model of facebook for word embedding.\n",
        "\n"
      ]
    },
    {
      "cell_type": "markdown",
      "metadata": {
        "id": "pEeqaUeQyemO"
      },
      "source": [
        "## With pretrained word embedding (News Corpus)\n"
      ]
    },
    {
      "cell_type": "code",
      "source": [
        "%%time\n",
        "# load the embedding vectors\n",
        "from gensim.models import KeyedVectors\n",
        "\n",
        "word_embedding_model = KeyedVectors.load_word2vec_format('test_w2v.txt', binary=False,encoding='utf-8')"
      ],
      "metadata": {
        "id": "lkNHrSrexMqR"
      },
      "execution_count": null,
      "outputs": []
    },
    {
      "cell_type": "code",
      "source": [
        "vocabulary = word_embedding_model.wv.vocab"
      ],
      "metadata": {
        "colab": {
          "base_uri": "https://localhost:8080/"
        },
        "id": "QIxL3Djt_m9N",
        "outputId": "f92c3cfd-82c1-4ccd-99db-2dc98c680f86"
      },
      "execution_count": null,
      "outputs": [
        {
          "output_type": "stream",
          "name": "stderr",
          "text": [
            "/usr/local/lib/python3.7/dist-packages/ipykernel_launcher.py:1: DeprecationWarning: Call to deprecated `wv` (Attribute will be removed in 4.0.0, use self instead).\n",
            "  \"\"\"Entry point for launching an IPython kernel.\n"
          ]
        }
      ]
    },
    {
      "cell_type": "markdown",
      "metadata": {
        "id": "C3y6ywwh_O-z"
      },
      "source": [
        "### Extracting word vector\n",
        "Now we will extract the word vector. These word vectors will be assainged to the words of our model. \n",
        "\n",
        "\n",
        "- `vocabulary`: A list of words exist in the loaded model\n",
        "- `word_to_vec_map`: dictionary mapping words to their GloVe vector representation."
      ]
    },
    {
      "cell_type": "code",
      "metadata": {
        "outputId": "b59d3259-0578-4b2f-d3cc-25f6d760c7da",
        "colab": {
          "base_uri": "https://localhost:8080/"
        },
        "id": "diGYW0xL_O-0"
      },
      "source": [
        "%%time\n",
        "\n",
        "vocabulary = word_embedding_model.wv.vocab\n",
        "word_to_vec_map = {}\n",
        "\n",
        "x = \"aa\"\n",
        "for w in vocabulary:\n",
        "  word_to_vec_map[w] = word_embedding_model[w]\n",
        "  x = w\n",
        "print(x, word_to_vec_map[x].shape, word_to_vec_map[x]) # From this shape we will get our embedding dimension\n",
        "print('Size of vocabulary:', len(vocabulary))"
      ],
      "execution_count": null,
      "outputs": [
        {
          "output_type": "stream",
          "name": "stderr",
          "text": [
            "/usr/local/lib/python3.7/dist-packages/ipykernel_launcher.py:2: DeprecationWarning: Call to deprecated `wv` (Attribute will be removed in 4.0.0, use self instead).\n",
            "  \n"
          ]
        },
        {
          "output_type": "stream",
          "name": "stdout",
          "text": [
            "ভায়োকানোর (100,) [ 2.7924229e-03 -3.4715910e-03  3.5304874e-03 -2.5144112e-03\n",
            "  4.8811766e-03 -7.9657586e-04  2.4060521e-03 -7.7279238e-04\n",
            "  2.1917066e-03  3.5570052e-03  4.9773110e-03 -3.5755578e-03\n",
            "  1.2375426e-03  1.4888402e-03 -4.9219667e-03  3.1660458e-03\n",
            " -1.7535317e-03  1.0741736e-03  1.8795540e-03  2.0027510e-03\n",
            " -4.5695505e-03  2.9883184e-03 -3.8537576e-03  2.5655459e-05\n",
            "  4.0220632e-03 -4.2597726e-03  7.1358832e-04  2.8424177e-03\n",
            " -4.4698035e-03  4.7771879e-03  1.6359204e-03  2.4045832e-03\n",
            "  3.8564450e-03  4.3953173e-03 -2.5937897e-03 -1.7158234e-03\n",
            "  8.9344778e-04  4.6442662e-04 -3.8832801e-03 -5.1768724e-04\n",
            " -3.3593131e-03 -6.0112431e-04 -1.9078179e-03 -2.6494621e-03\n",
            " -3.9363792e-03 -2.3469802e-03  3.4953312e-03  8.4734388e-04\n",
            "  3.1682514e-03 -2.3322835e-04 -2.1816026e-03  9.8747050e-04\n",
            "  1.6020836e-03 -2.2221049e-03  6.5835577e-04  1.3676860e-03\n",
            " -3.2645061e-03  1.3287805e-03  1.1680593e-03 -4.4875528e-04\n",
            "  4.6458440e-03  2.6122032e-04 -4.4857496e-03  2.6889669e-03\n",
            "  2.7300927e-03  3.2038102e-03  3.2952453e-03  4.1995067e-03\n",
            "  2.5363252e-03  3.6031523e-04  1.7957544e-03 -2.4622569e-03\n",
            " -4.8353495e-03 -2.9052042e-03  2.4658311e-03  1.6178857e-03\n",
            " -2.6688236e-03  2.5242493e-03 -2.9955264e-03  3.6516783e-03\n",
            " -4.8093819e-03  1.0273918e-03  7.2832679e-04  4.0883659e-03\n",
            " -3.9799395e-03  3.4242093e-03  2.7437869e-03  4.1985842e-03\n",
            "  3.3069851e-03 -8.0676022e-05  3.5605242e-04 -4.8529510e-03\n",
            "  3.9013799e-03 -3.9818920e-03 -4.5252861e-03 -2.2856048e-03\n",
            "  1.4220929e-03  4.9435664e-03 -1.2171265e-03 -4.9301363e-03]\n",
            "Size of vocabulary: 123771\n",
            "CPU times: user 252 ms, sys: 12 ms, total: 264 ms\n",
            "Wall time: 270 ms\n"
          ]
        }
      ]
    },
    {
      "cell_type": "markdown",
      "metadata": {
        "id": "DADvrfBF_O-1"
      },
      "source": [
        "### Finding most frequent words\n",
        "Now we will find some of the most frequent words of the model and similar words to them. That might be useful in future. Just use of some function"
      ]
    },
    {
      "cell_type": "code",
      "metadata": {
        "id": "mmu3MG8v_O-2"
      },
      "source": [
        "%%time\n",
        "frequent_words = word_embedding_model.wv.index2entity[50:60]\n",
        "for w in frequent_words:\n",
        "  print('\\n',w)\n",
        "  similar_words = word_embedding_model.wv.most_similar(w, topn=3)\n",
        "  for wr, vec in similar_words:\n",
        "     print(wr, vec)"
      ],
      "execution_count": null,
      "outputs": []
    },
    {
      "cell_type": "markdown",
      "metadata": {
        "id": "ly2TK0pkE3MB"
      },
      "source": [
        "### Creating Embeding Matrix\n",
        "Now, we will build an embedding matrix that we can load into an Embedding layer. It must be a matrix of shape `(max_words, embedding_dim)`, where each entry i contains\n",
        "the embedding_dim - dimensional vector for the word of index iin the reference word index. "
      ]
    },
    {
      "cell_type": "code",
      "metadata": {
        "outputId": "1f7a188c-cdf5-4dfc-824a-19a99149714a",
        "colab": {
          "base_uri": "https://localhost:8080/"
        },
        "id": "SBMVBjEEE3MB"
      },
      "source": [
        "max_words = 100000 # Most frequent 100000 words (It should be initialize during tokenization process)\n",
        "embedding_dim = 100 # embedding dimension of the model\n",
        "\n",
        "embedding_matrix = np.zeros((max_words, embedding_dim), dtype = float)\n",
        "\n",
        "c = 0\n",
        "for word, i in word_index.items():\n",
        "    if i < max_words:\n",
        "      embedding_vector = word_to_vec_map.get(word)\n",
        "      if embedding_vector is None:\n",
        "          c +=1;\n",
        "         # print(word)\n",
        "      if embedding_vector is not None:\n",
        "        embedding_matrix[i] = embedding_vector\n",
        "# Words not found in the pretrained model is assigned as zeros\n",
        "print(\"Number of words not in the vocabulary: \", c)\n",
        "print(\"Percentage of words not in the vocabulary: \", (c/max_words)*100)"
      ],
      "execution_count": null,
      "outputs": [
        {
          "output_type": "stream",
          "name": "stdout",
          "text": [
            "Number of words not in the vocabulary:  1538\n",
            "Percentage of words not in the vocabulary:  1.538\n"
          ]
        }
      ]
    },
    {
      "cell_type": "markdown",
      "metadata": {
        "id": "aX_0XZ_SE3MC"
      },
      "source": [
        "### Defining the Model\n"
      ]
    },
    {
      "cell_type": "code",
      "source": [
        "# Keras Functional API\n",
        "\n",
        "import tensorflow as tf\n",
        "from tensorflow import keras\n",
        "from keras.layers import Input, Dense, Activation, Dropout,Embedding,GlobalAveragePooling1D\n",
        "from keras.models import Model\n",
        "from tensorflow.keras.optimizers import Adam,SGD,Nadam,RMSprop\n",
        "from tensorflow.keras.models import load_model"
      ],
      "metadata": {
        "id": "y75Kki_tJM2_"
      },
      "execution_count": null,
      "outputs": []
    },
    {
      "cell_type": "code",
      "metadata": {
        "outputId": "b3653114-27f1-4ebb-e845-47f50314bdbb",
        "colab": {
          "base_uri": "https://localhost:8080/"
        },
        "id": "snnc7tAwE3MD"
      },
      "source": [
        "keras.backend.clear_session()\n",
        "\n",
        "input_length = 100\n",
        "\n",
        "\n",
        "input = Input(shape=(input_length,))\n",
        "embedding = Embedding(max_words, embedding_dim, input_length = 100, weights=[embedding_matrix], trainable=False)(input)\n",
        "flatten = GlobalAveragePooling1D()(embedding)\n",
        "dense1 = Dense(64, activation = 'relu')(flatten)\n",
        "dense2 = Dense(32, activation = 'relu')(dense1)\n",
        "output = Dense(1, activation = 'sigmoid')(dense2)\n",
        "\n",
        "model_pretrained = Model(inputs=input, outputs=output)\n",
        "\n",
        "# model_pretrained = keras.models.Sequential([\n",
        "#     keras.layers.Embedding(max_words, embedding_dim, input_length = 100, weights=[embedding_matrix], trainable=False),\n",
        "#     keras.layers.GlobalAveragePooling1D(),\n",
        "#     keras.layers.Dense(64, activation = tf.nn.relu),\n",
        "#     keras.layers.Dense(32, activation = tf.nn.relu),\n",
        "#     keras.layers.Dense(1, activation = 'sigmoid')\n",
        "# ])\n",
        "\n",
        "model_pretrained.summary()"
      ],
      "execution_count": null,
      "outputs": [
        {
          "output_type": "stream",
          "name": "stdout",
          "text": [
            "Model: \"model\"\n",
            "_________________________________________________________________\n",
            " Layer (type)                Output Shape              Param #   \n",
            "=================================================================\n",
            " input_1 (InputLayer)        [(None, 100)]             0         \n",
            "                                                                 \n",
            " embedding (Embedding)       (None, 100, 100)          10000000  \n",
            "                                                                 \n",
            " global_average_pooling1d (G  (None, 100)              0         \n",
            " lobalAveragePooling1D)                                          \n",
            "                                                                 \n",
            " dense (Dense)               (None, 64)                6464      \n",
            "                                                                 \n",
            " dense_1 (Dense)             (None, 32)                2080      \n",
            "                                                                 \n",
            " dense_2 (Dense)             (None, 1)                 33        \n",
            "                                                                 \n",
            "=================================================================\n",
            "Total params: 10,008,577\n",
            "Trainable params: 8,577\n",
            "Non-trainable params: 10,000,000\n",
            "_________________________________________________________________\n"
          ]
        }
      ]
    },
    {
      "cell_type": "code",
      "metadata": {
        "id": "aHgUV6tkE3ME"
      },
      "source": [
        "model_pretrained.compile(optimizer = 'adam',\n",
        "                      loss = 'binary_crossentropy',\n",
        "                      metrics =['accuracy'])"
      ],
      "execution_count": null,
      "outputs": []
    },
    {
      "cell_type": "code",
      "metadata": {
        "outputId": "114f907c-a33a-439b-82de-a9bc0d1d64e5",
        "colab": {
          "base_uri": "https://localhost:8080/"
        },
        "id": "ELsxJLWAE3ME"
      },
      "source": [
        "%%time\n",
        "history = model_pretrained.fit(X_train,\n",
        "                              y_train,\n",
        "                              epochs = 100,\n",
        "                              batch_size = 16,\n",
        "                              verbose = 1,\n",
        "                              validation_split =0.1)"
      ],
      "execution_count": null,
      "outputs": [
        {
          "output_type": "stream",
          "name": "stdout",
          "text": [
            "Epoch 1/100\n",
            "74/74 [==============================] - 1s 7ms/step - loss: 0.6624 - accuracy: 0.6476 - val_loss: 0.6245 - val_accuracy: 0.6846\n",
            "Epoch 2/100\n",
            "74/74 [==============================] - 0s 7ms/step - loss: 0.6301 - accuracy: 0.6749 - val_loss: 0.6236 - val_accuracy: 0.6846\n",
            "Epoch 3/100\n",
            "74/74 [==============================] - 0s 5ms/step - loss: 0.6144 - accuracy: 0.6749 - val_loss: 0.6286 - val_accuracy: 0.6615\n",
            "Epoch 4/100\n",
            "74/74 [==============================] - 1s 8ms/step - loss: 0.6019 - accuracy: 0.6886 - val_loss: 0.6107 - val_accuracy: 0.6769\n",
            "Epoch 5/100\n",
            "74/74 [==============================] - 0s 6ms/step - loss: 0.5918 - accuracy: 0.6886 - val_loss: 0.6148 - val_accuracy: 0.6769\n",
            "Epoch 6/100\n",
            "74/74 [==============================] - 0s 5ms/step - loss: 0.5737 - accuracy: 0.6963 - val_loss: 0.5892 - val_accuracy: 0.6846\n",
            "Epoch 7/100\n",
            "74/74 [==============================] - 0s 6ms/step - loss: 0.5649 - accuracy: 0.6997 - val_loss: 0.5722 - val_accuracy: 0.6769\n",
            "Epoch 8/100\n",
            "74/74 [==============================] - 0s 6ms/step - loss: 0.5406 - accuracy: 0.7151 - val_loss: 0.5691 - val_accuracy: 0.7077\n",
            "Epoch 9/100\n",
            "74/74 [==============================] - 1s 7ms/step - loss: 0.5208 - accuracy: 0.7254 - val_loss: 0.5555 - val_accuracy: 0.7154\n",
            "Epoch 10/100\n",
            "74/74 [==============================] - 1s 9ms/step - loss: 0.5072 - accuracy: 0.7425 - val_loss: 0.5414 - val_accuracy: 0.7231\n",
            "Epoch 11/100\n",
            "74/74 [==============================] - 1s 11ms/step - loss: 0.4880 - accuracy: 0.7596 - val_loss: 0.5439 - val_accuracy: 0.7385\n",
            "Epoch 12/100\n",
            "74/74 [==============================] - 1s 7ms/step - loss: 0.4792 - accuracy: 0.7656 - val_loss: 0.5432 - val_accuracy: 0.7462\n",
            "Epoch 13/100\n",
            "74/74 [==============================] - 0s 6ms/step - loss: 0.4690 - accuracy: 0.7699 - val_loss: 0.5058 - val_accuracy: 0.7308\n",
            "Epoch 14/100\n",
            "74/74 [==============================] - 0s 3ms/step - loss: 0.4629 - accuracy: 0.7844 - val_loss: 0.4929 - val_accuracy: 0.7462\n",
            "Epoch 15/100\n",
            "74/74 [==============================] - 0s 3ms/step - loss: 0.4645 - accuracy: 0.7784 - val_loss: 0.5590 - val_accuracy: 0.7308\n",
            "Epoch 16/100\n",
            "74/74 [==============================] - 0s 3ms/step - loss: 0.4789 - accuracy: 0.7853 - val_loss: 0.4833 - val_accuracy: 0.7615\n",
            "Epoch 17/100\n",
            "74/74 [==============================] - 0s 3ms/step - loss: 0.4463 - accuracy: 0.7870 - val_loss: 0.5285 - val_accuracy: 0.7462\n",
            "Epoch 18/100\n",
            "74/74 [==============================] - 0s 3ms/step - loss: 0.4380 - accuracy: 0.7930 - val_loss: 0.4687 - val_accuracy: 0.7385\n",
            "Epoch 19/100\n",
            "74/74 [==============================] - 0s 3ms/step - loss: 0.4414 - accuracy: 0.7964 - val_loss: 0.4696 - val_accuracy: 0.7462\n",
            "Epoch 20/100\n",
            "74/74 [==============================] - 0s 3ms/step - loss: 0.4371 - accuracy: 0.7913 - val_loss: 0.4993 - val_accuracy: 0.7615\n",
            "Epoch 21/100\n",
            "74/74 [==============================] - 0s 3ms/step - loss: 0.4220 - accuracy: 0.8058 - val_loss: 0.4552 - val_accuracy: 0.7615\n",
            "Epoch 22/100\n",
            "74/74 [==============================] - 0s 3ms/step - loss: 0.4282 - accuracy: 0.8058 - val_loss: 0.4621 - val_accuracy: 0.7538\n",
            "Epoch 23/100\n",
            "74/74 [==============================] - 0s 3ms/step - loss: 0.4210 - accuracy: 0.8229 - val_loss: 0.4474 - val_accuracy: 0.7538\n",
            "Epoch 24/100\n",
            "74/74 [==============================] - 0s 3ms/step - loss: 0.4233 - accuracy: 0.8135 - val_loss: 0.4363 - val_accuracy: 0.7462\n",
            "Epoch 25/100\n",
            "74/74 [==============================] - 0s 3ms/step - loss: 0.4284 - accuracy: 0.8075 - val_loss: 0.4612 - val_accuracy: 0.7692\n",
            "Epoch 26/100\n",
            "74/74 [==============================] - 0s 3ms/step - loss: 0.4153 - accuracy: 0.8255 - val_loss: 0.4517 - val_accuracy: 0.7692\n",
            "Epoch 27/100\n",
            "74/74 [==============================] - 0s 3ms/step - loss: 0.4069 - accuracy: 0.8238 - val_loss: 0.4475 - val_accuracy: 0.7538\n",
            "Epoch 28/100\n",
            "74/74 [==============================] - 0s 3ms/step - loss: 0.4153 - accuracy: 0.8109 - val_loss: 0.4344 - val_accuracy: 0.7692\n",
            "Epoch 29/100\n",
            "74/74 [==============================] - 0s 3ms/step - loss: 0.3993 - accuracy: 0.8246 - val_loss: 0.4274 - val_accuracy: 0.7923\n",
            "Epoch 30/100\n",
            "74/74 [==============================] - 0s 3ms/step - loss: 0.3987 - accuracy: 0.8229 - val_loss: 0.4407 - val_accuracy: 0.7692\n",
            "Epoch 31/100\n",
            "74/74 [==============================] - 0s 3ms/step - loss: 0.3979 - accuracy: 0.8221 - val_loss: 0.4235 - val_accuracy: 0.7923\n",
            "Epoch 32/100\n",
            "74/74 [==============================] - 0s 3ms/step - loss: 0.3872 - accuracy: 0.8306 - val_loss: 0.4225 - val_accuracy: 0.8077\n",
            "Epoch 33/100\n",
            "74/74 [==============================] - 0s 3ms/step - loss: 0.3899 - accuracy: 0.8289 - val_loss: 0.4174 - val_accuracy: 0.7538\n",
            "Epoch 34/100\n",
            "74/74 [==============================] - 0s 4ms/step - loss: 0.3881 - accuracy: 0.8332 - val_loss: 0.4484 - val_accuracy: 0.8231\n",
            "Epoch 35/100\n",
            "74/74 [==============================] - 0s 3ms/step - loss: 0.3903 - accuracy: 0.8263 - val_loss: 0.4224 - val_accuracy: 0.7846\n",
            "Epoch 36/100\n",
            "74/74 [==============================] - 0s 3ms/step - loss: 0.3860 - accuracy: 0.8392 - val_loss: 0.4206 - val_accuracy: 0.7846\n",
            "Epoch 37/100\n",
            "74/74 [==============================] - 0s 3ms/step - loss: 0.3792 - accuracy: 0.8332 - val_loss: 0.4217 - val_accuracy: 0.7846\n",
            "Epoch 38/100\n",
            "74/74 [==============================] - 0s 4ms/step - loss: 0.3867 - accuracy: 0.8323 - val_loss: 0.4518 - val_accuracy: 0.7846\n",
            "Epoch 39/100\n",
            "74/74 [==============================] - 0s 3ms/step - loss: 0.3777 - accuracy: 0.8375 - val_loss: 0.4183 - val_accuracy: 0.8154\n",
            "Epoch 40/100\n",
            "74/74 [==============================] - 0s 3ms/step - loss: 0.3829 - accuracy: 0.8323 - val_loss: 0.4367 - val_accuracy: 0.8077\n",
            "Epoch 41/100\n",
            "74/74 [==============================] - 0s 3ms/step - loss: 0.3706 - accuracy: 0.8409 - val_loss: 0.4184 - val_accuracy: 0.8154\n",
            "Epoch 42/100\n",
            "74/74 [==============================] - 0s 3ms/step - loss: 0.3762 - accuracy: 0.8383 - val_loss: 0.4063 - val_accuracy: 0.7846\n",
            "Epoch 43/100\n",
            "74/74 [==============================] - 0s 3ms/step - loss: 0.3668 - accuracy: 0.8443 - val_loss: 0.4311 - val_accuracy: 0.8154\n",
            "Epoch 44/100\n",
            "74/74 [==============================] - 0s 3ms/step - loss: 0.3651 - accuracy: 0.8435 - val_loss: 0.4340 - val_accuracy: 0.8077\n",
            "Epoch 45/100\n",
            "74/74 [==============================] - 0s 3ms/step - loss: 0.3718 - accuracy: 0.8392 - val_loss: 0.4277 - val_accuracy: 0.8077\n",
            "Epoch 46/100\n",
            "74/74 [==============================] - 0s 3ms/step - loss: 0.3658 - accuracy: 0.8358 - val_loss: 0.4738 - val_accuracy: 0.8154\n",
            "Epoch 47/100\n",
            "74/74 [==============================] - 0s 3ms/step - loss: 0.3713 - accuracy: 0.8366 - val_loss: 0.4057 - val_accuracy: 0.8154\n",
            "Epoch 48/100\n",
            "74/74 [==============================] - 0s 3ms/step - loss: 0.3626 - accuracy: 0.8332 - val_loss: 0.4330 - val_accuracy: 0.7769\n",
            "Epoch 49/100\n",
            "74/74 [==============================] - 0s 3ms/step - loss: 0.3829 - accuracy: 0.8263 - val_loss: 0.4201 - val_accuracy: 0.8077\n",
            "Epoch 50/100\n",
            "74/74 [==============================] - 0s 3ms/step - loss: 0.3601 - accuracy: 0.8426 - val_loss: 0.4006 - val_accuracy: 0.8154\n",
            "Epoch 51/100\n",
            "74/74 [==============================] - 0s 3ms/step - loss: 0.3525 - accuracy: 0.8443 - val_loss: 0.4302 - val_accuracy: 0.8154\n",
            "Epoch 52/100\n",
            "74/74 [==============================] - 0s 3ms/step - loss: 0.3509 - accuracy: 0.8443 - val_loss: 0.4123 - val_accuracy: 0.7846\n",
            "Epoch 53/100\n",
            "74/74 [==============================] - 0s 3ms/step - loss: 0.3458 - accuracy: 0.8503 - val_loss: 0.4131 - val_accuracy: 0.8000\n",
            "Epoch 54/100\n",
            "74/74 [==============================] - 0s 3ms/step - loss: 0.3674 - accuracy: 0.8426 - val_loss: 0.4053 - val_accuracy: 0.8231\n",
            "Epoch 55/100\n",
            "74/74 [==============================] - 0s 3ms/step - loss: 0.3528 - accuracy: 0.8340 - val_loss: 0.4315 - val_accuracy: 0.8077\n",
            "Epoch 56/100\n",
            "74/74 [==============================] - 0s 3ms/step - loss: 0.3432 - accuracy: 0.8469 - val_loss: 0.4267 - val_accuracy: 0.8462\n",
            "Epoch 57/100\n",
            "74/74 [==============================] - 0s 3ms/step - loss: 0.3576 - accuracy: 0.8486 - val_loss: 0.4052 - val_accuracy: 0.8308\n",
            "Epoch 58/100\n",
            "74/74 [==============================] - 0s 3ms/step - loss: 0.3428 - accuracy: 0.8520 - val_loss: 0.4132 - val_accuracy: 0.8154\n",
            "Epoch 59/100\n",
            "74/74 [==============================] - 0s 3ms/step - loss: 0.3466 - accuracy: 0.8469 - val_loss: 0.4064 - val_accuracy: 0.8077\n",
            "Epoch 60/100\n",
            "74/74 [==============================] - 0s 3ms/step - loss: 0.3397 - accuracy: 0.8648 - val_loss: 0.3915 - val_accuracy: 0.8154\n",
            "Epoch 61/100\n",
            "74/74 [==============================] - 0s 3ms/step - loss: 0.3479 - accuracy: 0.8494 - val_loss: 0.4198 - val_accuracy: 0.8154\n",
            "Epoch 62/100\n",
            "74/74 [==============================] - 0s 3ms/step - loss: 0.3385 - accuracy: 0.8563 - val_loss: 0.4182 - val_accuracy: 0.7923\n",
            "Epoch 63/100\n",
            "74/74 [==============================] - 0s 3ms/step - loss: 0.3463 - accuracy: 0.8469 - val_loss: 0.4267 - val_accuracy: 0.8000\n",
            "Epoch 64/100\n",
            "74/74 [==============================] - 0s 3ms/step - loss: 0.3292 - accuracy: 0.8529 - val_loss: 0.3870 - val_accuracy: 0.8308\n",
            "Epoch 65/100\n",
            "74/74 [==============================] - 0s 3ms/step - loss: 0.3296 - accuracy: 0.8520 - val_loss: 0.4024 - val_accuracy: 0.8308\n",
            "Epoch 66/100\n",
            "74/74 [==============================] - 0s 3ms/step - loss: 0.3319 - accuracy: 0.8597 - val_loss: 0.4088 - val_accuracy: 0.8231\n",
            "Epoch 67/100\n",
            "74/74 [==============================] - 0s 3ms/step - loss: 0.3321 - accuracy: 0.8452 - val_loss: 0.4057 - val_accuracy: 0.8000\n",
            "Epoch 68/100\n",
            "74/74 [==============================] - 0s 3ms/step - loss: 0.3295 - accuracy: 0.8477 - val_loss: 0.3894 - val_accuracy: 0.8385\n",
            "Epoch 69/100\n",
            "74/74 [==============================] - 0s 3ms/step - loss: 0.3267 - accuracy: 0.8503 - val_loss: 0.3877 - val_accuracy: 0.8385\n",
            "Epoch 70/100\n",
            "74/74 [==============================] - 0s 3ms/step - loss: 0.3298 - accuracy: 0.8460 - val_loss: 0.4304 - val_accuracy: 0.8231\n",
            "Epoch 71/100\n",
            "74/74 [==============================] - 0s 3ms/step - loss: 0.3298 - accuracy: 0.8520 - val_loss: 0.4000 - val_accuracy: 0.8231\n",
            "Epoch 72/100\n",
            "74/74 [==============================] - 0s 3ms/step - loss: 0.3247 - accuracy: 0.8571 - val_loss: 0.3988 - val_accuracy: 0.8308\n",
            "Epoch 73/100\n",
            "74/74 [==============================] - 0s 3ms/step - loss: 0.3241 - accuracy: 0.8606 - val_loss: 0.3925 - val_accuracy: 0.8077\n",
            "Epoch 74/100\n",
            "74/74 [==============================] - 0s 3ms/step - loss: 0.3309 - accuracy: 0.8571 - val_loss: 0.3915 - val_accuracy: 0.8385\n",
            "Epoch 75/100\n",
            "74/74 [==============================] - 0s 3ms/step - loss: 0.3197 - accuracy: 0.8614 - val_loss: 0.4049 - val_accuracy: 0.8385\n",
            "Epoch 76/100\n",
            "74/74 [==============================] - 0s 3ms/step - loss: 0.3195 - accuracy: 0.8597 - val_loss: 0.3740 - val_accuracy: 0.8385\n",
            "Epoch 77/100\n",
            "74/74 [==============================] - 0s 3ms/step - loss: 0.3207 - accuracy: 0.8623 - val_loss: 0.3884 - val_accuracy: 0.8385\n",
            "Epoch 78/100\n",
            "74/74 [==============================] - 0s 3ms/step - loss: 0.3136 - accuracy: 0.8614 - val_loss: 0.3930 - val_accuracy: 0.8385\n",
            "Epoch 79/100\n",
            "74/74 [==============================] - 0s 3ms/step - loss: 0.3136 - accuracy: 0.8606 - val_loss: 0.3916 - val_accuracy: 0.8385\n",
            "Epoch 80/100\n",
            "74/74 [==============================] - 0s 3ms/step - loss: 0.3252 - accuracy: 0.8520 - val_loss: 0.4240 - val_accuracy: 0.8154\n",
            "Epoch 81/100\n",
            "74/74 [==============================] - 0s 3ms/step - loss: 0.3125 - accuracy: 0.8631 - val_loss: 0.3981 - val_accuracy: 0.8462\n",
            "Epoch 82/100\n",
            "74/74 [==============================] - 0s 4ms/step - loss: 0.3085 - accuracy: 0.8657 - val_loss: 0.3885 - val_accuracy: 0.8462\n",
            "Epoch 83/100\n",
            "74/74 [==============================] - 0s 3ms/step - loss: 0.3259 - accuracy: 0.8597 - val_loss: 0.3942 - val_accuracy: 0.8308\n",
            "Epoch 84/100\n",
            "74/74 [==============================] - 0s 3ms/step - loss: 0.3271 - accuracy: 0.8520 - val_loss: 0.3677 - val_accuracy: 0.8462\n",
            "Epoch 85/100\n",
            "74/74 [==============================] - 0s 3ms/step - loss: 0.3264 - accuracy: 0.8589 - val_loss: 0.3819 - val_accuracy: 0.8385\n",
            "Epoch 86/100\n",
            "74/74 [==============================] - 0s 4ms/step - loss: 0.3210 - accuracy: 0.8546 - val_loss: 0.3782 - val_accuracy: 0.8462\n",
            "Epoch 87/100\n",
            "74/74 [==============================] - 0s 3ms/step - loss: 0.3075 - accuracy: 0.8623 - val_loss: 0.3856 - val_accuracy: 0.8154\n",
            "Epoch 88/100\n",
            "74/74 [==============================] - 0s 3ms/step - loss: 0.3005 - accuracy: 0.8700 - val_loss: 0.3728 - val_accuracy: 0.8308\n",
            "Epoch 89/100\n",
            "74/74 [==============================] - 0s 4ms/step - loss: 0.3003 - accuracy: 0.8674 - val_loss: 0.3670 - val_accuracy: 0.8385\n",
            "Epoch 90/100\n",
            "74/74 [==============================] - 0s 3ms/step - loss: 0.3032 - accuracy: 0.8640 - val_loss: 0.3689 - val_accuracy: 0.8462\n",
            "Epoch 91/100\n",
            "74/74 [==============================] - 0s 3ms/step - loss: 0.2988 - accuracy: 0.8648 - val_loss: 0.3765 - val_accuracy: 0.8231\n",
            "Epoch 92/100\n",
            "74/74 [==============================] - 0s 3ms/step - loss: 0.3044 - accuracy: 0.8734 - val_loss: 0.3865 - val_accuracy: 0.8385\n",
            "Epoch 93/100\n",
            "74/74 [==============================] - 0s 3ms/step - loss: 0.2961 - accuracy: 0.8717 - val_loss: 0.3713 - val_accuracy: 0.8538\n",
            "Epoch 94/100\n",
            "74/74 [==============================] - 0s 3ms/step - loss: 0.2935 - accuracy: 0.8691 - val_loss: 0.3899 - val_accuracy: 0.8231\n",
            "Epoch 95/100\n",
            "74/74 [==============================] - 0s 3ms/step - loss: 0.2998 - accuracy: 0.8666 - val_loss: 0.4490 - val_accuracy: 0.8000\n",
            "Epoch 96/100\n",
            "74/74 [==============================] - 0s 3ms/step - loss: 0.2929 - accuracy: 0.8734 - val_loss: 0.3957 - val_accuracy: 0.8231\n",
            "Epoch 97/100\n",
            "74/74 [==============================] - 0s 3ms/step - loss: 0.2944 - accuracy: 0.8700 - val_loss: 0.4444 - val_accuracy: 0.8077\n",
            "Epoch 98/100\n",
            "74/74 [==============================] - 0s 3ms/step - loss: 0.2951 - accuracy: 0.8640 - val_loss: 0.3749 - val_accuracy: 0.8462\n",
            "Epoch 99/100\n",
            "74/74 [==============================] - 0s 3ms/step - loss: 0.2854 - accuracy: 0.8751 - val_loss: 0.3871 - val_accuracy: 0.8308\n",
            "Epoch 100/100\n",
            "74/74 [==============================] - 0s 3ms/step - loss: 0.2995 - accuracy: 0.8614 - val_loss: 0.3871 - val_accuracy: 0.8231\n",
            "CPU times: user 27 s, sys: 2.09 s, total: 29 s\n",
            "Wall time: 41.6 s\n"
          ]
        }
      ]
    },
    {
      "cell_type": "markdown",
      "metadata": {
        "id": "UpsgJ03SE3ME"
      },
      "source": [
        "#### Plotting accuracy and loss graphs\n",
        "\n",
        "Finaly loss and accuracy graph is plotted to take some important decision such as after how many epochs our model starts to overfit, what batch size give us better result, whether we need to get more data or not."
      ]
    },
    {
      "cell_type": "code",
      "metadata": {
        "outputId": "c62a9c4d-6690-4594-af63-4def5a1884dc",
        "colab": {
          "base_uri": "https://localhost:8080/"
        },
        "id": "NdGzGCAPE3MF"
      },
      "source": [
        "history_dict = history.history\n",
        "history_dict.keys()"
      ],
      "execution_count": null,
      "outputs": [
        {
          "output_type": "execute_result",
          "data": {
            "text/plain": [
              "dict_keys(['loss', 'accuracy', 'val_loss', 'val_accuracy'])"
            ]
          },
          "metadata": {},
          "execution_count": 63
        }
      ]
    },
    {
      "cell_type": "code",
      "metadata": {
        "outputId": "54892a24-5772-4a5f-e243-804061716182",
        "colab": {
          "base_uri": "https://localhost:8080/",
          "height": 295
        },
        "id": "_sCDmB2pE3MF"
      },
      "source": [
        "import matplotlib.pyplot as plt\n",
        "\n",
        "acc = history_dict['accuracy']\n",
        "val_acc = history_dict['val_accuracy']\n",
        "\n",
        "loss = history_dict['loss']\n",
        "val_loss = history_dict['val_loss']\n",
        "\n",
        "epochs = range(1, len(acc)+1)\n",
        "\n",
        "plt.plot(epochs, loss, 'r-', label='Training Loss')\n",
        "plt.plot(epochs, val_loss, 'g', label = 'Validation Loss')\n",
        "plt.title('Training and Validation loss')\n",
        "plt.legend()\n",
        "plt.xlabel('epochs')\n",
        "plt.ylabel('loss')\n",
        "plt.show()"
      ],
      "execution_count": null,
      "outputs": [
        {
          "output_type": "display_data",
          "data": {
            "text/plain": [
              "<Figure size 432x288 with 1 Axes>"
            ],
            "image/png": "[encoded data removed]"
          },
          "metadata": {
            "needs_background": "light"
          }
        }
      ]
    },
    {
      "cell_type": "code",
      "metadata": {
        "outputId": "9d54ca32-03c4-4bde-a7ed-673a66b0485a",
        "colab": {
          "base_uri": "https://localhost:8080/",
          "height": 312
        },
        "id": "ZbrSL0DYE3MG"
      },
      "source": [
        "plt.clf()   # clear figure\n",
        "\n",
        "plt.plot(epochs, acc, 'y', label='Training acc')\n",
        "plt.plot(epochs, val_acc, 'b', label='Validation acc')\n",
        "plt.title('Training and validation accuracy')\n",
        "plt.xlabel('Epochs')\n",
        "plt.ylabel('Accuracy')\n",
        "plt.legend()\n"
      ],
      "execution_count": null,
      "outputs": [
        {
          "output_type": "execute_result",
          "data": {
            "text/plain": [
              "<matplotlib.legend.Legend at 0x7fcd234dca50>"
            ]
          },
          "metadata": {},
          "execution_count": 65
        },
        {
          "output_type": "display_data",
          "data": {
            "text/plain": [
              "<Figure size 432x288 with 1 Axes>"
            ],
            "image/png": "[encoded data removed]"
          },
          "metadata": {
            "needs_background": "light"
          }
        }
      ]
    },
    {
      "cell_type": "code",
      "metadata": {
        "outputId": "993f6bff-00ce-439d-a229-9bb1e9d8ce81",
        "colab": {
          "base_uri": "https://localhost:8080/"
        },
        "id": "JaEIRojdE3MG"
      },
      "source": [
        "ls, ac = model_pretrained.evaluate(X_test, y_test)\n",
        "\n",
        "print(\"Final loss ==========>\", ls)\n",
        "print('Final System Accuracy ========>', ac)\n"
      ],
      "execution_count": null,
      "outputs": [
        {
          "output_type": "stream",
          "name": "stdout",
          "text": [
            "5/5 [==============================] - 0s 5ms/step - loss: 0.5806 - accuracy: 0.7310\n",
            "Final loss ==========> 0.5805870294570923\n",
            "Final System Accuracy ========> 0.7310344576835632\n"
          ]
        }
      ]
    },
    {
      "cell_type": "markdown",
      "metadata": {
        "id": "E_ldBxw9HOQA"
      },
      "source": [
        "## Without pre-trained word embedding\n",
        "Here we will not use any pre trained word embedding rather than we will use embedding layer from keras. We may see some change in the accuracy of the models. "
      ]
    },
    {
      "cell_type": "code",
      "metadata": {
        "outputId": "a5497a30-f3a0-4b34-cc61-9790e9316958",
        "colab": {
          "base_uri": "https://localhost:8080/"
        },
        "id": "pUByvQBWHOQB"
      },
      "source": [
        "keras.backend.clear_session()\n",
        "\n",
        "\n",
        "model_without_pretrained = keras.models.Sequential([\n",
        "    keras.layers.Embedding(max_words, embedding_dim, input_length = 100),\n",
        "    keras.layers.GlobalAveragePooling1D(),\n",
        "    keras.layers.Dense(64, activation = tf.nn.relu),\n",
        "    keras.layers.Dense(32, activation = tf.nn.relu),\n",
        "    keras.layers.Dense(1, activation = 'sigmoid')\n",
        "])\n",
        "\n",
        "model_without_pretrained.summary()"
      ],
      "execution_count": null,
      "outputs": [
        {
          "output_type": "stream",
          "name": "stdout",
          "text": [
            "Model: \"sequential\"\n",
            "_________________________________________________________________\n",
            " Layer (type)                Output Shape              Param #   \n",
            "=================================================================\n",
            " embedding (Embedding)       (None, 100, 100)          10000000  \n",
            "                                                                 \n",
            " global_average_pooling1d (G  (None, 100)              0         \n",
            " lobalAveragePooling1D)                                          \n",
            "                                                                 \n",
            " dense (Dense)               (None, 64)                6464      \n",
            "                                                                 \n",
            " dense_1 (Dense)             (None, 32)                2080      \n",
            "                                                                 \n",
            " dense_2 (Dense)             (None, 1)                 33        \n",
            "                                                                 \n",
            "=================================================================\n",
            "Total params: 10,008,577\n",
            "Trainable params: 10,008,577\n",
            "Non-trainable params: 0\n",
            "_________________________________________________________________\n"
          ]
        }
      ]
    },
    {
      "cell_type": "code",
      "metadata": {
        "id": "FA7iv0f1Hifr"
      },
      "source": [
        "model_without_pretrained.compile(optimizer = 'adam',\n",
        "                      loss = 'binary_crossentropy',\n",
        "                      metrics =['accuracy'])"
      ],
      "execution_count": null,
      "outputs": []
    },
    {
      "cell_type": "code",
      "metadata": {
        "outputId": "e7953483-ce40-4783-bb93-c12b043397c9",
        "colab": {
          "base_uri": "https://localhost:8080/"
        },
        "id": "GVrWOfEwHifs"
      },
      "source": [
        "%%time\n",
        "history = model_without_pretrained.fit(X_train,\n",
        "                              y_train,\n",
        "                              epochs = 10,\n",
        "                              batch_size = 16,\n",
        "                              verbose = 1,\n",
        "                              validation_split =0.1)"
      ],
      "execution_count": null,
      "outputs": [
        {
          "output_type": "stream",
          "name": "stdout",
          "text": [
            "Epoch 1/10\n",
            "74/74 [==============================] - 9s 110ms/step - loss: 0.6279 - accuracy: 0.6758 - val_loss: 0.6221 - val_accuracy: 0.6846\n",
            "Epoch 2/10\n",
            "74/74 [==============================] - 8s 114ms/step - loss: 0.5861 - accuracy: 0.6955 - val_loss: 0.5684 - val_accuracy: 0.7000\n",
            "Epoch 3/10\n",
            "74/74 [==============================] - 8s 107ms/step - loss: 0.3810 - accuracy: 0.8426 - val_loss: 0.3034 - val_accuracy: 0.8231\n",
            "Epoch 4/10\n",
            "74/74 [==============================] - 8s 109ms/step - loss: 0.1583 - accuracy: 0.9538 - val_loss: 0.1779 - val_accuracy: 0.9231\n",
            "Epoch 5/10\n",
            "74/74 [==============================] - 8s 108ms/step - loss: 0.0832 - accuracy: 0.9786 - val_loss: 0.1261 - val_accuracy: 0.9462\n",
            "Epoch 6/10\n",
            "74/74 [==============================] - 8s 107ms/step - loss: 0.0490 - accuracy: 0.9906 - val_loss: 0.1066 - val_accuracy: 0.9538\n",
            "Epoch 7/10\n",
            "74/74 [==============================] - 8s 108ms/step - loss: 0.0444 - accuracy: 0.9820 - val_loss: 0.1465 - val_accuracy: 0.9308\n",
            "Epoch 8/10\n",
            "74/74 [==============================] - 8s 107ms/step - loss: 0.0267 - accuracy: 0.9940 - val_loss: 0.1044 - val_accuracy: 0.9615\n",
            "Epoch 9/10\n",
            "74/74 [==============================] - 8s 107ms/step - loss: 0.0224 - accuracy: 0.9949 - val_loss: 0.2133 - val_accuracy: 0.9231\n",
            "Epoch 10/10\n",
            "74/74 [==============================] - 8s 107ms/step - loss: 0.0196 - accuracy: 0.9932 - val_loss: 0.0746 - val_accuracy: 0.9615\n",
            "CPU times: user 2min 12s, sys: 5.05 s, total: 2min 17s\n",
            "Wall time: 1min 22s\n"
          ]
        }
      ]
    },
    {
      "cell_type": "markdown",
      "metadata": {
        "id": "wz6uS2LEHift"
      },
      "source": [
        "#### Plotting accuracy and loss graphs\n",
        "\n",
        "Finaly loss and accuracy graph is plotted to take some important decision such as after how many epochs our model starts to overfit, what batch size give us better result, whether we need to get more data or not."
      ]
    },
    {
      "cell_type": "code",
      "metadata": {
        "outputId": "0d3b84a8-e36a-433c-d9b8-312e7d75e7e7",
        "colab": {
          "base_uri": "https://localhost:8080/"
        },
        "id": "3JupbLJQHifu"
      },
      "source": [
        "history_dict = history.history\n",
        "history_dict.keys()"
      ],
      "execution_count": null,
      "outputs": [
        {
          "output_type": "execute_result",
          "data": {
            "text/plain": [
              "dict_keys(['loss', 'accuracy', 'val_loss', 'val_accuracy'])"
            ]
          },
          "metadata": {},
          "execution_count": 54
        }
      ]
    },
    {
      "cell_type": "code",
      "metadata": {
        "outputId": "afd2c2ae-25be-4970-d8d7-a6a50937010f",
        "colab": {
          "base_uri": "https://localhost:8080/",
          "height": 295
        },
        "id": "I6a9ORgoHifu"
      },
      "source": [
        "import matplotlib.pyplot as plt\n",
        "\n",
        "acc = history_dict['accuracy']\n",
        "val_acc = history_dict['val_accuracy']\n",
        "\n",
        "loss = history_dict['loss']\n",
        "val_loss = history_dict['val_loss']\n",
        "\n",
        "epochs = range(1, len(acc)+1)\n",
        "\n",
        "plt.plot(epochs, loss, 'r-', label='Training Loss')\n",
        "plt.plot(epochs, val_loss, 'g', label = 'Validation Loss')\n",
        "plt.title('Training and Validation loss')\n",
        "plt.legend()\n",
        "plt.xlabel('epochs')\n",
        "plt.ylabel('loss')\n",
        "plt.show()"
      ],
      "execution_count": null,
      "outputs": [
        {
          "output_type": "display_data",
          "data": {
            "text/plain": [
              "<Figure size 432x288 with 1 Axes>"
            ],
            "image/png": "[encoded data removed]"
          },
          "metadata": {
            "needs_background": "light"
          }
        }
      ]
    },
    {
      "cell_type": "code",
      "metadata": {
        "outputId": "38e09483-1d78-4f26-ff3b-91acd1553fef",
        "colab": {
          "base_uri": "https://localhost:8080/",
          "height": 312
        },
        "id": "iXXb95zfHifv"
      },
      "source": [
        "plt.clf()   # clear figure\n",
        "\n",
        "plt.plot(epochs, acc, 'y', label='Training acc')\n",
        "plt.plot(epochs, val_acc, 'b', label='Validation acc')\n",
        "plt.title('Training and validation accuracy')\n",
        "plt.xlabel('Epochs')\n",
        "plt.ylabel('Accuracy')\n",
        "plt.legend()\n"
      ],
      "execution_count": null,
      "outputs": [
        {
          "output_type": "execute_result",
          "data": {
            "text/plain": [
              "<matplotlib.legend.Legend at 0x7fcd24a41110>"
            ]
          },
          "metadata": {},
          "execution_count": 56
        },
        {
          "output_type": "display_data",
          "data": {
            "text/plain": [
              "<Figure size 432x288 with 1 Axes>"
            ],
            "image/png": "[encoded data removed]"
          },
          "metadata": {
            "needs_background": "light"
          }
        }
      ]
    },
    {
      "cell_type": "code",
      "metadata": {
        "outputId": "2c9de7f2-53cb-4c0c-8b89-fdbfae9ffeeb",
        "colab": {
          "base_uri": "https://localhost:8080/"
        },
        "id": "-3R1Ld6KHifv"
      },
      "source": [
        "ls, ac = model_without_pretrained.evaluate(X_test, y_test)\n",
        "\n",
        "print(\"Final loss ==========>\", ls)\n",
        "print('Final System Accuracy ========>', ac)\n"
      ],
      "execution_count": null,
      "outputs": [
        {
          "output_type": "stream",
          "name": "stdout",
          "text": [
            "5/5 [==============================] - 0s 5ms/step - loss: 0.3607 - accuracy: 0.9034\n",
            "Final loss ==========> 0.3606809675693512\n",
            "Final System Accuracy ========> 0.9034482836723328\n"
          ]
        }
      ]
    }
  ]
}