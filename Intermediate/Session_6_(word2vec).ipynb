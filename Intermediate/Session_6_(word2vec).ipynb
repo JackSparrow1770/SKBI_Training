{
  "nbformat": 4,
  "nbformat_minor": 0,
  "metadata": {
    "colab": {
      "name": "Session-6 (word2vec).ipynb",
      "provenance": [],
      "collapsed_sections": [],
      "include_colab_link": true
    },
    "kernelspec": {
      "name": "python3",
      "display_name": "Python 3"
    },
    "accelerator": "GPU"
  },
  "cells": [
    {
      "cell_type": "markdown",
      "metadata": {
        "id": "view-in-github",
        "colab_type": "text"
      },
      "source": [
        "<a href=\"https://colab.research.google.com/github/eftekhar-hossain/SKBI_Training/blob/main/Intermediate/Session_6_(word2vec).ipynb\" target=\"_parent\"><img src=\"https://colab.research.google.com/assets/colab-badge.svg\" alt=\"Open In Colab\"/></a>"
      ]
    },
    {
      "cell_type": "markdown",
      "source": [
        "<center> <h1> <u> <font color='red'> Training on AI and ML with Python (Intermediate) </font> </u> </h1> </center>"
      ],
      "metadata": {
        "id": "HdnTap_Z-WY4"
      }
    },
    {
      "cell_type": "code",
      "metadata": {
        "id": "09gE0k3JozVl",
        "colab": {
          "base_uri": "https://localhost:8080/"
        },
        "outputId": "106b51db-245f-4be7-aa2f-cf13d5f5bced"
      },
      "source": [
        "%%time\n",
        "import os\n",
        "from glob import glob\n",
        "import numpy as np\n",
        "import matplotlib.pyplot as plt\n",
        "import pandas as pd\n",
        "import re\n",
        "import nltk\n",
        "import tensorflow as tf\n",
        "from tensorflow import keras"
      ],
      "execution_count": null,
      "outputs": [
        {
          "output_type": "stream",
          "name": "stdout",
          "text": [
            "CPU times: user 27 µs, sys: 0 ns, total: 27 µs\n",
            "Wall time: 31.2 µs\n"
          ]
        }
      ]
    },
    {
      "cell_type": "markdown",
      "metadata": {
        "id": "07ZIp6sbpJJB"
      },
      "source": [
        "## Fetching the Dataset\n",
        "Now we will get the dataset form our google drive. A class array will be created which contains the name of the classes we are interested to work with."
      ]
    },
    {
      "cell_type": "code",
      "source": [
        "!wget -O news.csv https://www.dropbox.com/s/12yza2h4bja9fqy/News_12Class.csv?dl=0"
      ],
      "metadata": {
        "id": "ckw46WOjTuqU"
      },
      "execution_count": null,
      "outputs": []
    },
    {
      "cell_type": "code",
      "metadata": {
        "id": "5weyzwKqpHXr",
        "colab": {
          "base_uri": "https://localhost:8080/"
        },
        "outputId": "ca974e66-a997-4623-e3c4-3b8452b8b6f3"
      },
      "source": [
        "%%time\n",
        "class_names = ['Accident', 'Art', 'Crime', 'Economics', 'Education', 'Entertainment',\n",
        "               'Environment', 'International', 'Politics', 'Science_tech', 'Sports', 'Suspicious']\n",
        "               \n",
        "dataset = pd.read_csv(\"news.csv\")\n",
        "dataset"
      ],
      "execution_count": null,
      "outputs": [
        {
          "output_type": "stream",
          "name": "stdout",
          "text": [
            "CPU times: user 5.73 s, sys: 632 ms, total: 6.36 s\n",
            "Wall time: 6.33 s\n"
          ]
        }
      ]
    },
    {
      "cell_type": "code",
      "source": [
        "dataset.columns"
      ],
      "metadata": {
        "colab": {
          "base_uri": "https://localhost:8080/"
        },
        "id": "BkorqcIpVw4l",
        "outputId": "ccc9921e-f9cb-4045-d10f-08981fc25079"
      },
      "execution_count": null,
      "outputs": [
        {
          "output_type": "execute_result",
          "data": {
            "text/plain": [
              "Index(['Unnamed: 0', 'Text', 'Category'], dtype='object')"
            ]
          },
          "metadata": {},
          "execution_count": 19
        }
      ]
    },
    {
      "cell_type": "code",
      "metadata": {
        "id": "zZuvn7QArsZw",
        "colab": {
          "base_uri": "https://localhost:8080/"
        },
        "outputId": "6027d58b-6c6e-4e8f-b2a3-3c5ab5535bf1"
      },
      "source": [
        "labels = np.array(dataset['Category'])\n",
        "print('Total size of the dataset : ',len(dataset))"
      ],
      "execution_count": null,
      "outputs": [
        {
          "output_type": "stream",
          "name": "stdout",
          "text": [
            "Total size of the dataset :  95866\n"
          ]
        }
      ]
    },
    {
      "cell_type": "markdown",
      "metadata": {
        "id": "f0DMJCgFG10I"
      },
      "source": [
        "The total size of the dataset is 90996. We will build our word embedding model on this dataset"
      ]
    },
    {
      "cell_type": "markdown",
      "metadata": {
        "id": "z3DwoI6VHDd_"
      },
      "source": [
        "## Data Preprocessing\n",
        "Here we will process the data by removing punctuation and stop words from the dataset. It is really a important part for the successful implementation of our word embedding model."
      ]
    },
    {
      "cell_type": "markdown",
      "metadata": {
        "id": "9RhBdc9rHqQ_"
      },
      "source": [
        "### Removing stop words and punctuation\n",
        "I do not think when we are implementing words embedding there are any need of removing stop words. This effect our cause of interest a little. So there is not need to remove this stop words for this case. But a efficient way of removing stop words are shown below."
      ]
    },
    {
      "cell_type": "code",
      "metadata": {
        "id": "dKperCSDwKAa",
        "colab": {
          "base_uri": "https://localhost:8080/"
        },
        "outputId": "f2649877-4ac7-4873-9613-6e56b0b760a3"
      },
      "source": [
        "%%time\n",
        "total_words = set() ## list of all words in our dataset\n",
        "\n",
        "def creating_total_words(words):\n",
        "     for w in words:\n",
        "          total_words.add(w)\n",
        "\n",
        "processed_data = [] ##List of all the processed text\n",
        "\n",
        "for i in range(len(dataset)):\n",
        "    text = re.sub('[^\\u0980-\\u09FF]',' ', dataset['Text'][i]) ## removing punctions \n",
        "    ## removing stop words from the texts\n",
        "    words =text.split()\n",
        "    creating_total_words(words)\n",
        "    processed_data.append(words)"
      ],
      "execution_count": null,
      "outputs": [
        {
          "output_type": "stream",
          "name": "stdout",
          "text": [
            "CPU times: user 15.9 s, sys: 1.25 s, total: 17.2 s\n",
            "Wall time: 17.6 s\n"
          ]
        }
      ]
    },
    {
      "cell_type": "markdown",
      "metadata": {
        "id": "Jc27KMk6Z36w"
      },
      "source": [
        "Here exists a special trick that inceease the total runtime of the system. So this code is removed and executed separately"
      ]
    },
    {
      "cell_type": "code",
      "metadata": {
        "id": "Gv0InPafWzCg"
      },
      "source": [
        "# vocabulary = list(total_words)\n",
        "# for w in vocabulary:\n",
        "#     if w in set(Stopwords_bng.words):\n",
        "#       vocabulary.remove(w)\n"
      ],
      "execution_count": null,
      "outputs": []
    },
    {
      "cell_type": "code",
      "metadata": {
        "id": "OEnKcMoQISJh",
        "colab": {
          "base_uri": "https://localhost:8080/"
        },
        "outputId": "ec2413ad-817e-4078-ac94-669d222c81af"
      },
      "source": [
        "# Finding the size of the vocabulary\n",
        "print(len(total_words))\n",
        "# Size of vocabulary after removing the stop words\n",
        "#print(len(vocabulary))\n",
        "#for w in total_words:\n",
        "  #print(w)\n",
        "##Look at the a fraction of the dataset after preprocessing\n",
        "\n",
        "for i in range(10):\n",
        "    print(dataset['Text'][i],'\\n',processed_data[i],'\\n\\n')"
      ],
      "execution_count": null,
      "outputs": [
        {
          "output_type": "stream",
          "name": "stdout",
          "text": [
            "429370\n",
            " নাটোরের বড়াইগ্রাম উপজেলায় মাটির দেয়াল চাপা পড়ে মা ও ছেলের মৃত্যু হয়েছে। সোমবার রাত ৮টার দিকে উপজেলার মেরিগাছা বাজারের পাশে জেলে পাড়ায় এ দুর্ঘটনা ঘটে বলে প্রত্যক্ষদর্শীরা জানিয়েছে। নিহতরা হলেন- রাজিয়া বেগম (৫৫) ও তার ছেলে হাবিবুর রহমান হবি (৩৫)। রাজিয়া বেগমের স্বামী নূর মোহাম্মদ বিডিনিউজ টোয়েন্টিফোর ডটকমকে জানান, রাতে মা ও ছেলে বাড়ির উঠানে বসে মাছ ধরার চাঁই তৈরি করছিলেন। এ সময় ঘরের পুরোনো মাটির দেয়াল ধসে তাদের ওপর পড়ে। \"হাসপাতালে নেওয়ার পথে রাত ৯টার দিকে রাজিয়া মারা যান। রাত পৌনে ১০টার দিকে মারা যায় হাবিব।\"  \n",
            " ['নাটোরের', 'বড়াইগ্রাম', 'উপজেলায়', 'মাটির', 'দেয়াল', 'চাপা', 'পড়ে', 'মা', 'ও', 'ছেলের', 'মৃত্যু', 'হয়েছে', 'সোমবার', 'রাত', '৮টার', 'দিকে', 'উপজেলার', 'মেরিগাছা', 'বাজারের', 'পাশে', 'জেলে', 'পাড়ায়', 'এ', 'দুর্ঘটনা', 'ঘটে', 'বলে', 'প্রত্যক্ষদর্শীরা', 'জানিয়েছে', 'নিহতরা', 'হলেন', 'রাজিয়া', 'বেগম', '৫৫', 'ও', 'তার', 'ছেলে', 'হাবিবুর', 'রহমান', 'হবি', '৩৫', 'রাজিয়া', 'বেগমের', 'স্বামী', 'নূর', 'মোহাম্মদ', 'বিডিনিউজ', 'টোয়েন্টিফোর', 'ডটকমকে', 'জানান', 'রাতে', 'মা', 'ও', 'ছেলে', 'বাড়ির', 'উঠানে', 'বসে', 'মাছ', 'ধরার', 'চাঁই', 'তৈরি', 'করছিলেন', 'এ', 'সময়', 'ঘরের', 'পুরোনো', 'মাটির', 'দেয়াল', 'ধসে', 'তাদের', 'ওপর', 'পড়ে', 'হাসপাতালে', 'নেওয়ার', 'পথে', 'রাত', '৯টার', 'দিকে', 'রাজিয়া', 'মারা', 'যান', 'রাত', 'পৌনে', '১০টার', 'দিকে', 'মারা', 'যায়', 'হাবিব'] \n",
            "\n",
            "\n",
            "চট্টগ্রামের আনোয়ারায় পানিতে ডুবে এক শিশুর মৃত্যু হয়েছে। উপজেলার রায়পুর ইউনিয়নের উত্তর পরুয়াপাড়ায় গতকাল বৃহস্পতিবার সকালে এ ঘটনা ঘটে। স্থানীয় সূত্র জানায়, গতকাল সকালে বাড়ির উঠানে খেলা করার কোনো এক সময় পুকুরে পড়ে যায় আকলিমা আকতার (৮)। পরে খোঁজাখুঁজির পর পুকুর থেকে তুলে আনোয়ারা স্বাস্থ্যকেন্দ্রে নিয়ে গেলে সেখানে কর্তব্যরত চিকিৎসক তাকে মৃত ঘোষণা করেন। আকলিমা মো. ইসহাকের মেয়ে বলে জানা গেছে।    \n",
            " ['চট্টগ্রামের', 'আনোয়ারায়', 'পানিতে', 'ডুবে', 'এক', 'শিশুর', 'মৃত্যু', 'হয়েছে', 'উপজেলার', 'রায়পুর', 'ইউনিয়নের', 'উত্তর', 'পরুয়াপাড়ায়', 'গতকাল', 'বৃহস্পতিবার', 'সকালে', 'এ', 'ঘটনা', 'ঘটে', 'স্থানীয়', 'সূত্র', 'জানায়', 'গতকাল', 'সকালে', 'বাড়ির', 'উঠানে', 'খেলা', 'করার', 'কোনো', 'এক', 'সময়', 'পুকুরে', 'পড়ে', 'যায়', 'আকলিমা', 'আকতার', '৮', 'পরে', 'খোঁজাখুঁজির', 'পর', 'পুকুর', 'থেকে', 'তুলে', 'আনোয়ারা', 'স্বাস্থ্যকেন্দ্রে', 'নিয়ে', 'গেলে', 'সেখানে', 'কর্তব্যরত', 'চিকিৎসক', 'তাকে', 'মৃত', 'ঘোষণা', 'করেন', 'আকলিমা', 'মো', 'ইসহাকের', 'মেয়ে', 'বলে', 'জানা', 'গেছে'] \n",
            "\n",
            "\n",
            " পূর্ব চীনের শাংডং প্রদেশে কয়লা খনিতে বন্যার পানি ঢুকে কমপক্ষে ১৮০ জন খনি শ্রমিক নিহত হওয়ার আশঙ্কা করা হচ্ছে। শুক্রবার অত্যধিক বৃষ্টির কারণে দুটি খনিতে বন্যার পানি ঢুকে পড়লে এ ঘটনা ঘটে। উদ্ধারকারীরা সেখান থেকে প্রায় ছয়শ' শ্রমিককে বের করে আনতে পারলেও শনিবার সকাল পর্যন্ত খোঁজ মেলেনি ১৮০ শ্রমিকের। সরকারি বার্তা সংস্থা সিনহুয়া শনিবার একথা জানায়। বার্তা সংস্থাটি জানায় শাংডং প্রদেশে সরকারি মালিকানাধীন হুয়াইউয়ান মাইনিং কর্পোরেশেনের খনিতে ওই দুর্ঘটনা ঘটে। উদ্ধারকারীরা ভেতর থেকে ৫৮৪ জনকে নিরাপদে বের করে আনতে পারলেও খনিটিতে আটকা পড়ে আছেন আরও ১৭২ জন শ্রমিক। এছাড়া এর পাশের আরেকটি খনিতে আটকা পড়েছেন আরও ৯ শ্রমিক। শাংডং কয়লাখনি নিরাপত্তা প্রশাসনের পরিচালক ওয়াং জিকি সিনহুয়াকে বলেছেন আটকাপড়া শ্রমিকদের বেঁচে থাকার সম্ভাবনা অত্যন্ত ক্ষীণ। ভারী বৃষ্টিপাতের কারণে বেইজিংয়ের ৫৭০ কিলোমিটার দক্ষিণপূর্বে সিনতাই অঞ্চলে ওয়েন নদীর পাড়ের ১৬০ ফুট দীর্ঘ একটি বাঁধ ভেঙোগ গিয়ে খনি অঞ্চল প্লাবিত হয়। তবে শনিবার দুপুর পর্যন্ত আনুমনিক ২০০০ সেনাসদস্য পুলিশ এবং খনিশ্রমিকরা প্রায় ৬০ ফুট এলাকা মেরামত করতে সক্ষম হয়েছে। এদিকে ২,৮০০ ফুট গভীর খনির ভেতরের বেশিরভাগই পানিতে ভরে গেছে বলে জানিয়েছেন উদ্ধারকারীরা। তবে শ্রমিকরা তখন কতোটা নীচের স্তরে কাজ করছিলেন তা জানা যায়নি। তবে সিনহুয়া জানিয়েছে কমপক্ষে ১৪ জন শ্রমিক তখন ৯০ ফুট নীচুতে কাজ করছিল। সরা পৃথিবীর কয়লা শিল্পে চীনা কয়লাখনি সবচেয়ে বেশি ঝুঁকিপূর্ণ। শুধু ২০০৬ সালেই চীনের বিভিন্ন খনিতে নানা ধরণের দুর্ঘটনায় প্রায় ৪,৭৪৬ জন নিহত হন। বিডিনিউজ টুযেন্টিফোর ডটকম/এএমটি/১৩২০ ঘ.   \n",
            " ['পূর্ব', 'চীনের', 'শাংডং', 'প্রদেশে', 'কয়লা', 'খনিতে', 'বন্যার', 'পানি', 'ঢুকে', 'কমপক্ষে', '১৮০', 'জন', 'খনি', 'শ্রমিক', 'নিহত', 'হওয়ার', 'আশঙ্কা', 'করা', 'হচ্ছে', 'শুক্রবার', 'অত্যধিক', 'বৃষ্টির', 'কারণে', 'দুটি', 'খনিতে', 'বন্যার', 'পানি', 'ঢুকে', 'পড়লে', 'এ', 'ঘটনা', 'ঘটে', 'উদ্ধারকারীরা', 'সেখান', 'থেকে', 'প্রায়', 'ছয়শ', 'শ্রমিককে', 'বের', 'করে', 'আনতে', 'পারলেও', 'শনিবার', 'সকাল', 'পর্যন্ত', 'খোঁজ', 'মেলেনি', '১৮০', 'শ্রমিকের', 'সরকারি', 'বার্তা', 'সংস্থা', 'সিনহুয়া', 'শনিবার', 'একথা', 'জানায়', 'বার্তা', 'সংস্থাটি', 'জানায়', 'শাংডং', 'প্রদেশে', 'সরকারি', 'মালিকানাধীন', 'হুয়াইউয়ান', 'মাইনিং', 'কর্পোরেশেনের', 'খনিতে', 'ওই', 'দুর্ঘটনা', 'ঘটে', 'উদ্ধারকারীরা', 'ভেতর', 'থেকে', '৫৮৪', 'জনকে', 'নিরাপদে', 'বের', 'করে', 'আনতে', 'পারলেও', 'খনিটিতে', 'আটকা', 'পড়ে', 'আছেন', 'আরও', '১৭২', 'জন', 'শ্রমিক', 'এছাড়া', 'এর', 'পাশের', 'আরেকটি', 'খনিতে', 'আটকা', 'পড়েছেন', 'আরও', '৯', 'শ্রমিক', 'শাংডং', 'কয়লাখনি', 'নিরাপত্তা', 'প্রশাসনের', 'পরিচালক', 'ওয়াং', 'জিকি', 'সিনহুয়াকে', 'বলেছেন', 'আটকাপড়া', 'শ্রমিকদের', 'বেঁচে', 'থাকার', 'সম্ভাবনা', 'অত্যন্ত', 'ক্ষীণ', 'ভারী', 'বৃষ্টিপাতের', 'কারণে', 'বেইজিংয়ের', '৫৭০', 'কিলোমিটার', 'দক্ষিণপূর্বে', 'সিনতাই', 'অঞ্চলে', 'ওয়েন', 'নদীর', 'পাড়ের', '১৬০', 'ফুট', 'দীর্ঘ', 'একটি', 'বাঁধ', 'ভেঙোগ', 'গিয়ে', 'খনি', 'অঞ্চল', 'প্লাবিত', 'হয়', 'তবে', 'শনিবার', 'দুপুর', 'পর্যন্ত', 'আনুমনিক', '২০০০', 'সেনাসদস্য', 'পুলিশ', 'এবং', 'খনিশ্রমিকরা', 'প্রায়', '৬০', 'ফুট', 'এলাকা', 'মেরামত', 'করতে', 'সক্ষম', 'হয়েছে', 'এদিকে', '২', '৮০০', 'ফুট', 'গভীর', 'খনির', 'ভেতরের', 'বেশিরভাগই', 'পানিতে', 'ভরে', 'গেছে', 'বলে', 'জানিয়েছেন', 'উদ্ধারকারীরা', 'তবে', 'শ্রমিকরা', 'তখন', 'কতোটা', 'নীচের', 'স্তরে', 'কাজ', 'করছিলেন', 'তা', 'জানা', 'যায়নি', 'তবে', 'সিনহুয়া', 'জানিয়েছে', 'কমপক্ষে', '১৪', 'জন', 'শ্রমিক', 'তখন', '৯০', 'ফুট', 'নীচুতে', 'কাজ', 'করছিল', 'সরা', 'পৃথিবীর', 'কয়লা', 'শিল্পে', 'চীনা', 'কয়লাখনি', 'সবচেয়ে', 'বেশি', 'ঝুঁকিপূর্ণ', 'শুধু', '২০০৬', 'সালেই', 'চীনের', 'বিভিন্ন', 'খনিতে', 'নানা', 'ধরণের', 'দুর্ঘটনায়', 'প্রায়', '৪', '৭৪৬', 'জন', 'নিহত', 'হন', 'বিডিনিউজ', 'টুযেন্টিফোর', 'ডটকম', 'এএমটি', '১৩২০', 'ঘ'] \n",
            "\n",
            "\n",
            " ঢাকার ধামরাই উপজেলায় ঢাকা-আরিচা মহাসড়কে বুধবার ভোরে যাত্রীবাহী একটি বাসের সঙ্গে মালবাহী একটি ট্রাকের সংঘর্ষে চার জন নিহত এবং ৩০ জন আহত হয়েছে। ধামরাইয়ের বাধুলি ও শ্রীরামপুর এলাকার মধ্যবর্তী স্থান বালিট্টা বাসস্ট্যান্ডের কাছে ভোর ৫টার দিকে ওই দুর্ঘটনা ঘটে বলে ধামরাই থানার উপ-পরিদর্শক আমিরুল ইসলাম জানিয়েছেন। নিহতরা হলেন, সাভারের ইমান্দীপুর এলাকার মাসুম বিল্লাহ (২৪), পিরোজপুর জেলার ভাণ্ডারিয়া উপজেলার মজিবুর রহমান (৪৮) এবং পাবনা জেলার বেড়া উপজেলার পানপাড়া গ্রামের আব্দুল করিম (২৭) ও রহিম খান (৩০)। পুলিশ কর্মকর্তা আমিরুল ইসলাম বিডিনিউজ টোয়েন্টিফোর ডটকমকে বলেন, \"ঝালকাঠি থেকে ঢাকাগামী ঈগল পরিবহনের একটি বাসের সঙ্গে আরিচাগামী একটি ট্রাকের মুখোমুখি সংঘর্ষ হয়। এতে বাস আরোহী মাসুম, মিজানুর এবং ট্রাক আরোহী করিম ঘটনাস্থলেই মারা যায়। হাসপাতালে নেওয়ার পথে মারা যায় ট্রাকচালক রহিম খান।\" আহতদের সাভারের রাবেয়া ক্লিনিক, ধামরাই উপজেলা স্বাস্থ্য কেন্দ্র এবং সাভার গণস্বাস্থ্য হাসপাতালে ভর্তি করা হয়েছে। এর মধ্যে মুরাদ, আব্দুল করিম ও কল্পনা রাণী হালদার নামে তিন জনের অবস্থা গুরুতর বলে চিকিৎসকরা জানিয়েছেন। পুলিশ লাশ চারটি ধামরাই থানায় নিয়ে গেছে। এ ঘটনায় মামলার প্রস্তুতি চলছে।  \n",
            " ['ঢাকার', 'ধামরাই', 'উপজেলায়', 'ঢাকা', 'আরিচা', 'মহাসড়কে', 'বুধবার', 'ভোরে', 'যাত্রীবাহী', 'একটি', 'বাসের', 'সঙ্গে', 'মালবাহী', 'একটি', 'ট্রাকের', 'সংঘর্ষে', 'চার', 'জন', 'নিহত', 'এবং', '৩০', 'জন', 'আহত', 'হয়েছে', 'ধামরাইয়ের', 'বাধুলি', 'ও', 'শ্রীরামপুর', 'এলাকার', 'মধ্যবর্তী', 'স্থান', 'বালিট্টা', 'বাসস্ট্যান্ডের', 'কাছে', 'ভোর', '৫টার', 'দিকে', 'ওই', 'দুর্ঘটনা', 'ঘটে', 'বলে', 'ধামরাই', 'থানার', 'উপ', 'পরিদর্শক', 'আমিরুল', 'ইসলাম', 'জানিয়েছেন', 'নিহতরা', 'হলেন', 'সাভারের', 'ইমান্দীপুর', 'এলাকার', 'মাসুম', 'বিল্লাহ', '২৪', 'পিরোজপুর', 'জেলার', 'ভাণ্ডারিয়া', 'উপজেলার', 'মজিবুর', 'রহমান', '৪৮', 'এবং', 'পাবনা', 'জেলার', 'বেড়া', 'উপজেলার', 'পানপাড়া', 'গ্রামের', 'আব্দুল', 'করিম', '২৭', 'ও', 'রহিম', 'খান', '৩০', 'পুলিশ', 'কর্মকর্তা', 'আমিরুল', 'ইসলাম', 'বিডিনিউজ', 'টোয়েন্টিফোর', 'ডটকমকে', 'বলেন', 'ঝালকাঠি', 'থেকে', 'ঢাকাগামী', 'ঈগল', 'পরিবহনের', 'একটি', 'বাসের', 'সঙ্গে', 'আরিচাগামী', 'একটি', 'ট্রাকের', 'মুখোমুখি', 'সংঘর্ষ', 'হয়', 'এতে', 'বাস', 'আরোহী', 'মাসুম', 'মিজানুর', 'এবং', 'ট্রাক', 'আরোহী', 'করিম', 'ঘটনাস্থলেই', 'মারা', 'যায়', 'হাসপাতালে', 'নেওয়ার', 'পথে', 'মারা', 'যায়', 'ট্রাকচালক', 'রহিম', 'খান', 'আহতদের', 'সাভারের', 'রাবেয়া', 'ক্লিনিক', 'ধামরাই', 'উপজেলা', 'স্বাস্থ্য', 'কেন্দ্র', 'এবং', 'সাভার', 'গণস্বাস্থ্য', 'হাসপাতালে', 'ভর্তি', 'করা', 'হয়েছে', 'এর', 'মধ্যে', 'মুরাদ', 'আব্দুল', 'করিম', 'ও', 'কল্পনা', 'রাণী', 'হালদার', 'নামে', 'তিন', 'জনের', 'অবস্থা', 'গুরুতর', 'বলে', 'চিকিৎসকরা', 'জানিয়েছেন', 'পুলিশ', 'লাশ', 'চারটি', 'ধামরাই', 'থানায়', 'নিয়ে', 'গেছে', 'এ', 'ঘটনায়', 'মামলার', 'প্রস্তুতি', 'চলছে'] \n",
            "\n",
            "\n",
            "গত তিনমাসে এ সড়কে দুর্ঘটনায় ৪২ জনের মৃত্যু হয়েছে। আহত হন অন্তত ৭৬ জন। হাইওয়ে পুলিশের সিলেট জোনের সহকারী পুলিশ সুপার গোলাম মোহাম্মদ হতাহতের এ পরিসংখ্যান জানিয়ে বলেন, সড়কের বাম অংশ ভাঙা থাকায় ডান অংশ দিয়ে গাড়ি চালানোর প্রবণতার কারণে প্রায়ই দুর্ঘটনা ঘটছে। সিলেট সড়ক ও জনপথ বিভাগের (সওজ) নির্বাহী প্রকৌশলী আবু এহতেশাম রাশেদ বলেন, একটা নির্দিষ্ট মেয়াদের মধ্যে মহাসড়ক সার্ভিসিং করতে হয়। তা না হওয়ায় ভারি যান চলাচলের কারণে প্রতিনিয়ত মেরামত করার পরও রাস্তা ভাঙা ঠেকানো যাচ্ছে না। তিনি জানান, মহাসড়কের ধারণ ক্ষমতা ২০ টন। কিন্ত জাফলং ও ভোলাগঞ্জ থেকে পাথরবাহী ৪০-৫০ টন ওজনবাহী ট্রাকও চলাচল করে। এ কারণেই সিলেট থেকে ঢাকা অভিমুখী রাস্তার বাম অংশ ভাঙছে বলে দাবি করেন তিনি। ২৪৮ কিলোমিটার দৈর্ঘ্যর এ মহাসড়কের সিলেট অংশে প্রায় ৩৯ কিলোমিটারের অবস্থা ঝুঁকিপূর্ণ। সিলেটের দক্ষিণ সুরমার তেতলী এলাকা থেকে শুরু করে নবীগঞ্জের আউশকান্দি পর্যন্ত অন্তত ৬০টি জায়গায় রাস্তা ভেঙেছে। এরমধ্যে তেতলী, সাতমাইল, রশিদপুর, কুরুয়া, দয়ামীর, ব্রহ্মণশাসন, গোয়ালাবাজার, ওসমানীনগর, গয়নানগর, কাগজপুর, সাদীপুর, শেরপুর টোলপ্লাজা, ইনাতগঞ্জ ও আউশকান্দি এলাকায় বেশি খানাখন্দ ও ফাটল রয়েছে। সরেজমিনে এসব এলাকায় ঘুরে দেখা গেছে, কোথাও কার্পেটিং উঠে গেছে, কোথাও দেবে গেছে, আবার কোথাও রয়েছে ছোট-বড় ফাটল। মহাসড়কের ওসমানীনগর এলাকার ব্রাহ্মণশাসন মোড়ের একপাশ দেবে গিয়ে বড় বড় গর্ত তৈরি হয়েছে। এই এলাকার বাসিন্দা শিব্বির আহমদ আনোয়ার জানান, এ মোড়ে প্রতদিনিই ছোটখাটো দুর্ঘঘটনা ঘটছে। গত বছরের ১১মে গ্রীনলাইন পরবিহনের সঙ্গে পাথরবোঝাই একটি ট্রাকের সংর্ঘষে ইফতেখার হোসেন শামীমসহ ৮ জন নিহত হন। সিলেট জেলা বাস-মিনিবাস মালিক গ্রুপের সহ-সভাপতি শাহনুরুর রহমান সানুর বলেন, এই মহাসড়কের দুর্ঘটনায় সাবেক অর্থমন্ত্রী এম সাইফুর রহমান, সিলেট জেলা আওয়ামী লীগের সাবেক সাধারণ সম্পাদক ইফতখোর হোসনে শামীম ও সুনামগঞ্জ পৌরসভার চেয়ারম্যান মমিনুল মউজদীনসহ অনেকের মৃত্যু হয়েছে।  এ ব্যাপারে সওজের নির্বাহী প্রকৌশলী এহতেশাম রাশেদ বলেন, সড়ক সংস্কারে ১১ কোটি টাকার একটি প্রকল্প মন্ত্রণালয়ে পাঠানো হয়েছে। এটি বাস্তবায়িত হলে এ সমস্যা আর থাকবে না।   \n",
            " ['গত', 'তিনমাসে', 'এ', 'সড়কে', 'দুর্ঘটনায়', '৪২', 'জনের', 'মৃত্যু', 'হয়েছে', 'আহত', 'হন', 'অন্তত', '৭৬', 'জন', 'হাইওয়ে', 'পুলিশের', 'সিলেট', 'জোনের', 'সহকারী', 'পুলিশ', 'সুপার', 'গোলাম', 'মোহাম্মদ', 'হতাহতের', 'এ', 'পরিসংখ্যান', 'জানিয়ে', 'বলেন', 'সড়কের', 'বাম', 'অংশ', 'ভাঙা', 'থাকায়', 'ডান', 'অংশ', 'দিয়ে', 'গাড়ি', 'চালানোর', 'প্রবণতার', 'কারণে', 'প্রায়ই', 'দুর্ঘটনা', 'ঘটছে', 'সিলেট', 'সড়ক', 'ও', 'জনপথ', 'বিভাগের', 'সওজ', 'নির্বাহী', 'প্রকৌশলী', 'আবু', 'এহতেশাম', 'রাশেদ', 'বলেন', 'একটা', 'নির্দিষ্ট', 'মেয়াদের', 'মধ্যে', 'মহাসড়ক', 'সার্ভিসিং', 'করতে', 'হয়', 'তা', 'না', 'হওয়ায়', 'ভারি', 'যান', 'চলাচলের', 'কারণে', 'প্রতিনিয়ত', 'মেরামত', 'করার', 'পরও', 'রাস্তা', 'ভাঙা', 'ঠেকানো', 'যাচ্ছে', 'না', 'তিনি', 'জানান', 'মহাসড়কের', 'ধারণ', 'ক্ষমতা', '২০', 'টন', 'কিন্ত', 'জাফলং', 'ও', 'ভোলাগঞ্জ', 'থেকে', 'পাথরবাহী', '৪০', '৫০', 'টন', 'ওজনবাহী', 'ট্রাকও', 'চলাচল', 'করে', 'এ', 'কারণেই', 'সিলেট', 'থেকে', 'ঢাকা', 'অভিমুখী', 'রাস্তার', 'বাম', 'অংশ', 'ভাঙছে', 'বলে', 'দাবি', 'করেন', 'তিনি', '২৪৮', 'কিলোমিটার', 'দৈর্ঘ্যর', 'এ', 'মহাসড়কের', 'সিলেট', 'অংশে', 'প্রায়', '৩৯', 'কিলোমিটারের', 'অবস্থা', 'ঝুঁকিপূর্ণ', 'সিলেটের', 'দক্ষিণ', 'সুরমার', 'তেতলী', 'এলাকা', 'থেকে', 'শুরু', 'করে', 'নবীগঞ্জের', 'আউশকান্দি', 'পর্যন্ত', 'অন্তত', '৬০টি', 'জায়গায়', 'রাস্তা', 'ভেঙেছে', 'এরমধ্যে', 'তেতলী', 'সাতমাইল', 'রশিদপুর', 'কুরুয়া', 'দয়ামীর', 'ব্রহ্মণশাসন', 'গোয়ালাবাজার', 'ওসমানীনগর', 'গয়নানগর', 'কাগজপুর', 'সাদীপুর', 'শেরপুর', 'টোলপ্লাজা', 'ইনাতগঞ্জ', 'ও', 'আউশকান্দি', 'এলাকায়', 'বেশি', 'খানাখন্দ', 'ও', 'ফাটল', 'রয়েছে', 'সরেজমিনে', 'এসব', 'এলাকায়', 'ঘুরে', 'দেখা', 'গেছে', 'কোথাও', 'কার্পেটিং', 'উঠে', 'গেছে', 'কোথাও', 'দেবে', 'গেছে', 'আবার', 'কোথাও', 'রয়েছে', 'ছোট', 'বড়', 'ফাটল', 'মহাসড়কের', 'ওসমানীনগর', 'এলাকার', 'ব্রাহ্মণশাসন', 'মোড়ের', 'একপাশ', 'দেবে', 'গিয়ে', 'বড়', 'বড়', 'গর্ত', 'তৈরি', 'হয়েছে', 'এই', 'এলাকার', 'বাসিন্দা', 'শিব্বির', 'আহমদ', 'আনোয়ার', 'জানান', 'এ', 'মোড়ে', 'প্রতদিনিই', 'ছোটখাটো', 'দুর্ঘঘটনা', 'ঘটছে', 'গত', 'বছরের', '১১মে', 'গ্রীনলাইন', 'পরবিহনের', 'সঙ্গে', 'পাথরবোঝাই', 'একটি', 'ট্রাকের', 'সংর্ঘষে', 'ইফতেখার', 'হোসেন', 'শামীমসহ', '৮', 'জন', 'নিহত', 'হন', 'সিলেট', 'জেলা', 'বাস', 'মিনিবাস', 'মালিক', 'গ্রুপের', 'সহ', 'সভাপতি', 'শাহনুরুর', 'রহমান', 'সানুর', 'বলেন', 'এই', 'মহাসড়কের', 'দুর্ঘটনায়', 'সাবেক', 'অর্থমন্ত্রী', 'এম', 'সাইফুর', 'রহমান', 'সিলেট', 'জেলা', 'আওয়ামী', 'লীগের', 'সাবেক', 'সাধারণ', 'সম্পাদক', 'ইফতখোর', 'হোসনে', 'শামীম', 'ও', 'সুনামগঞ্জ', 'পৌরসভার', 'চেয়ারম্যান', 'মমিনুল', 'মউজদীনসহ', 'অনেকের', 'মৃত্যু', 'হয়েছে', 'এ', 'ব্যাপারে', 'সওজের', 'নির্বাহী', 'প্রকৌশলী', 'এহতেশাম', 'রাশেদ', 'বলেন', 'সড়ক', 'সংস্কারে', '১১', 'কোটি', 'টাকার', 'একটি', 'প্রকল্প', 'মন্ত্রণালয়ে', 'পাঠানো', 'হয়েছে', 'এটি', 'বাস্তবায়িত', 'হলে', 'এ', 'সমস্যা', 'আর', 'থাকবে', 'না'] \n",
            "\n",
            "\n",
            " নাটোরের বড়াইগ্রাম উপজেলায় ট্রাকচাপায় দুই জন নিহত হয়েছে। আহত হয়েছেন একজন। নাটোর-ঢাকা মহাসড়কের কাচুটিয়া খেজুরতলা নামক স্থানে মঙ্গলবার সকাল ১১টার দিকে এ দুর্ঘটনা ঘটে। নিহতরা হলেন- গুরুদাসপুর উপজেলার বাকিবেকপুর গ্রামের ভ্যান চালক ছানোয়ার হোসেন (৩৮) এবং ধানুড়া গ্রামের আশরাফুল ইসলাম (৪২)। আহত বড়াইগ্রাম উপজেলার কৈডিমা গ্রামের মইন উদ্দিনকে (৪২) আশঙ্কাজনক অবস্থায় রাজশাহী মেডিকেল কলেজ হাসপাতালে ভর্তি করা হয়েছে। বনপাড়া হাইওয়ে থানার ওসি দ্বীন-ই ইসলাম বিডিনিউজ টোয়েন্টিফোর ডটকমকে জানান, খেজুরতলা নামক স্থানে রাজশাহীগামী ট্রাকটি বিপরীত দিক আসা ভ্যানকে চাপা দিলে ঘটনাস্থলেই ছানোয়ারের মৃত্যু হয়। আশরাফুলকে স্থানীয় আমিনা হাসপাতালে ভর্তি করার পর সেখানে তিনি মারা যান। ট্রাক ও এর চালককে আটক করা হয়েছে।  \n",
            " ['নাটোরের', 'বড়াইগ্রাম', 'উপজেলায়', 'ট্রাকচাপায়', 'দুই', 'জন', 'নিহত', 'হয়েছে', 'আহত', 'হয়েছেন', 'একজন', 'নাটোর', 'ঢাকা', 'মহাসড়কের', 'কাচুটিয়া', 'খেজুরতলা', 'নামক', 'স্থানে', 'মঙ্গলবার', 'সকাল', '১১টার', 'দিকে', 'এ', 'দুর্ঘটনা', 'ঘটে', 'নিহতরা', 'হলেন', 'গুরুদাসপুর', 'উপজেলার', 'বাকিবেকপুর', 'গ্রামের', 'ভ্যান', 'চালক', 'ছানোয়ার', 'হোসেন', '৩৮', 'এবং', 'ধানুড়া', 'গ্রামের', 'আশরাফুল', 'ইসলাম', '৪২', 'আহত', 'বড়াইগ্রাম', 'উপজেলার', 'কৈডিমা', 'গ্রামের', 'মইন', 'উদ্দিনকে', '৪২', 'আশঙ্কাজনক', 'অবস্থায়', 'রাজশাহী', 'মেডিকেল', 'কলেজ', 'হাসপাতালে', 'ভর্তি', 'করা', 'হয়েছে', 'বনপাড়া', 'হাইওয়ে', 'থানার', 'ওসি', 'দ্বীন', 'ই', 'ইসলাম', 'বিডিনিউজ', 'টোয়েন্টিফোর', 'ডটকমকে', 'জানান', 'খেজুরতলা', 'নামক', 'স্থানে', 'রাজশাহীগামী', 'ট্রাকটি', 'বিপরীত', 'দিক', 'আসা', 'ভ্যানকে', 'চাপা', 'দিলে', 'ঘটনাস্থলেই', 'ছানোয়ারের', 'মৃত্যু', 'হয়', 'আশরাফুলকে', 'স্থানীয়', 'আমিনা', 'হাসপাতালে', 'ভর্তি', 'করার', 'পর', 'সেখানে', 'তিনি', 'মারা', 'যান', 'ট্রাক', 'ও', 'এর', 'চালককে', 'আটক', 'করা', 'হয়েছে'] \n",
            "\n",
            "\n",
            " সিরাজগঞ্জের বঙ্গবন্ধু সেতুর পশ্চিমপাড়ে বাস চাপায় এক নারীর মৃত্যু হয়েছে। মঙ্গলবার বিকাল সাড়ে ৫টার দিকে সড়কের ঝাঐল ওভার ব্রিজের কাছে এ দুর্ঘটনা ঘটে বলে পুলিশ জানিয়েছে। নিহত আয়েশা খাতুন (৩৫) বেলকুচি উপজেলার তামাই কুটিপাড়া গ্রামের বাসিন্দা। বঙ্গবন্ধু সেতুর পশ্চিমপাড় থানার উপ-পরিদর্শক (এসআই) নাসের আলী বিডিনিউজ টোয়েন্টিফোর ডটকমকে জানান, আয়েশা বিকাল সাড়ে ৫টার দিকে রাস্তা পার হচ্ছিলেন। এ সময় হানিফ পরিবহনের একটি যাত্রীবাহী বাস তাকে চাপা দিলে তিনি ঘটনাস্থলেই মারা যান। দূর্ঘটনার পর বাসটি পালিয়ে গেছে। আয়েশার লাশ পরিবারের সদস্যরা নিয়ে গেছে বলে জানান এসআই।  \n",
            " ['সিরাজগঞ্জের', 'বঙ্গবন্ধু', 'সেতুর', 'পশ্চিমপাড়ে', 'বাস', 'চাপায়', 'এক', 'নারীর', 'মৃত্যু', 'হয়েছে', 'মঙ্গলবার', 'বিকাল', 'সাড়ে', '৫টার', 'দিকে', 'সড়কের', 'ঝাঐল', 'ওভার', 'ব্রিজের', 'কাছে', 'এ', 'দুর্ঘটনা', 'ঘটে', 'বলে', 'পুলিশ', 'জানিয়েছে', 'নিহত', 'আয়েশা', 'খাতুন', '৩৫', 'বেলকুচি', 'উপজেলার', 'তামাই', 'কুটিপাড়া', 'গ্রামের', 'বাসিন্দা', 'বঙ্গবন্ধু', 'সেতুর', 'পশ্চিমপাড়', 'থানার', 'উপ', 'পরিদর্শক', 'এসআই', 'নাসের', 'আলী', 'বিডিনিউজ', 'টোয়েন্টিফোর', 'ডটকমকে', 'জানান', 'আয়েশা', 'বিকাল', 'সাড়ে', '৫টার', 'দিকে', 'রাস্তা', 'পার', 'হচ্ছিলেন', 'এ', 'সময়', 'হানিফ', 'পরিবহনের', 'একটি', 'যাত্রীবাহী', 'বাস', 'তাকে', 'চাপা', 'দিলে', 'তিনি', 'ঘটনাস্থলেই', 'মারা', 'যান', 'দূর্ঘটনার', 'পর', 'বাসটি', 'পালিয়ে', 'গেছে', 'আয়েশার', 'লাশ', 'পরিবারের', 'সদস্যরা', 'নিয়ে', 'গেছে', 'বলে', 'জানান', 'এসআই'] \n",
            "\n",
            "\n",
            " সিরাজগঞ্জের বেলকুচিতে সড়ক দুর্ঘটনায় এক ব্যক্তি নিহত হয়েছে। বৃহস্পতিবার বিকাল সাড়ে ৪টার দিকে উপজেলার জামতৈল নামক স্থানে এ দুর্ঘটনা ঘটে বলে জানিয়েছে পুলিশ। আব্দুল আওয়াল (৪০) এনায়েতপুর থানার আজুগড়া গ্রামের বাসিন্দা। বেলকুচি থানার ওসি মোস্তাফিজার রহমান বিডিনিউজ টোযেন্টিফোর ডটকমকে জানান, রাস্তা পার হওয়ার সময় নসিমনের ধাক্কায় আউয়াল ঘটনাস্থলেই মারা যায়। নছিমনটি পালিয়ে গেছে। নিহতের লাশ পরিবারের কাছে হস্তান্তর করা হয়েছে। এ ঘটনায় থানায় অপমৃত্যু মামলা হয়েছে বলে জানান ওসি।  \n",
            " ['সিরাজগঞ্জের', 'বেলকুচিতে', 'সড়ক', 'দুর্ঘটনায়', 'এক', 'ব্যক্তি', 'নিহত', 'হয়েছে', 'বৃহস্পতিবার', 'বিকাল', 'সাড়ে', '৪টার', 'দিকে', 'উপজেলার', 'জামতৈল', 'নামক', 'স্থানে', 'এ', 'দুর্ঘটনা', 'ঘটে', 'বলে', 'জানিয়েছে', 'পুলিশ', 'আব্দুল', 'আওয়াল', '৪০', 'এনায়েতপুর', 'থানার', 'আজুগড়া', 'গ্রামের', 'বাসিন্দা', 'বেলকুচি', 'থানার', 'ওসি', 'মোস্তাফিজার', 'রহমান', 'বিডিনিউজ', 'টোযেন্টিফোর', 'ডটকমকে', 'জানান', 'রাস্তা', 'পার', 'হওয়ার', 'সময়', 'নসিমনের', 'ধাক্কায়', 'আউয়াল', 'ঘটনাস্থলেই', 'মারা', 'যায়', 'নছিমনটি', 'পালিয়ে', 'গেছে', 'নিহতের', 'লাশ', 'পরিবারের', 'কাছে', 'হস্তান্তর', 'করা', 'হয়েছে', 'এ', 'ঘটনায়', 'থানায়', 'অপমৃত্যু', 'মামলা', 'হয়েছে', 'বলে', 'জানান', 'ওসি'] \n",
            "\n",
            "\n",
            " ঢাকা-রংপুর মহাসড়কে গাইবান্ধার সাদুল্লাপুরের একবারপুরে মাইক্রোবাসের ধাক্কায় প্রাথমিক বিদ্যালয়ের একজন শিক্ষক নিহত হয়েছে। বৃহস্পতিবার সন্ধ্যায় এ দুর্ঘটনা ঘটে। ওই শিক্ষকের নাম হাফিজার রহমান (৪৫)। তিনি সাদুল্লাপুরের ইদিলপুর ইউনিয়নের রাঘবেন্দ্রপুর বেসরকারি রেজিস্টার্ড প্রাথমিক বিদ্যালয়ের সহকারী শিক্ষক ও একই গ্রামের জেনাত উল্লার ছেলে। সাদুল্লাপুর থানার ওসি হাসান ইনাম জানান, হাফিজার রহমান বৃহস্পতিবার সন্ধ্যায় পলাশবাড়ী থেকে মটর সাইকেল যোগে বাড়ীর ফিরছিলেন। পথে ওই স্থানে একটি মাইক্রোবাস তার মোটর সাইকেলটিকে ধাক্কা দিয়ে চলে যায়। এতে পড়ে গিয়ে ঘটনাস্থলেই তার মৃত্যু হয়। তিনি আরো জানান, পরিবারের লোকজন লাশ নিয়ে গেছে। এ নিয়ে পরিবারের পক্ষ থেকে থানায় কোন মামলা করা হয় নাই।  \n",
            " ['ঢাকা', 'রংপুর', 'মহাসড়কে', 'গাইবান্ধার', 'সাদুল্লাপুরের', 'একবারপুরে', 'মাইক্রোবাসের', 'ধাক্কায়', 'প্রাথমিক', 'বিদ্যালয়ের', 'একজন', 'শিক্ষক', 'নিহত', 'হয়েছে', 'বৃহস্পতিবার', 'সন্ধ্যায়', 'এ', 'দুর্ঘটনা', 'ঘটে', 'ওই', 'শিক্ষকের', 'নাম', 'হাফিজার', 'রহমান', '৪৫', 'তিনি', 'সাদুল্লাপুরের', 'ইদিলপুর', 'ইউনিয়নের', 'রাঘবেন্দ্রপুর', 'বেসরকারি', 'রেজিস্টার্ড', 'প্রাথমিক', 'বিদ্যালয়ের', 'সহকারী', 'শিক্ষক', 'ও', 'একই', 'গ্রামের', 'জেনাত', 'উল্লার', 'ছেলে', 'সাদুল্লাপুর', 'থানার', 'ওসি', 'হাসান', 'ইনাম', 'জানান', 'হাফিজার', 'রহমান', 'বৃহস্পতিবার', 'সন্ধ্যায়', 'পলাশবাড়ী', 'থেকে', 'মটর', 'সাইকেল', 'যোগে', 'বাড়ীর', 'ফিরছিলেন', 'পথে', 'ওই', 'স্থানে', 'একটি', 'মাইক্রোবাস', 'তার', 'মোটর', 'সাইকেলটিকে', 'ধাক্কা', 'দিয়ে', 'চলে', 'যায়', 'এতে', 'পড়ে', 'গিয়ে', 'ঘটনাস্থলেই', 'তার', 'মৃত্যু', 'হয়', 'তিনি', 'আরো', 'জানান', 'পরিবারের', 'লোকজন', 'লাশ', 'নিয়ে', 'গেছে', 'এ', 'নিয়ে', 'পরিবারের', 'পক্ষ', 'থেকে', 'থানায়', 'কোন', 'মামলা', 'করা', 'হয়', 'নাই'] \n",
            "\n",
            "\n",
            " মাওয়া-কাওড়াকান্দি নৌরুটে পদ্মা নদীর হাজরা টার্নিংয়ে দুটি সিবোটের মুখোমুখি সংঘর্ষে অন্ততঃ ১২ জন আহত হয়েছে। বৃহস্পতিবার রাত ৮টার দিকে এ দুর্ঘটনা ঘটে। গুরুতর আহত ৬ জনকে চিকিৎসার জন্য ঢাকায় পাঠানো হয়েছে। মাওয়া ঘাটে বিআইডব্লিউটিসির সহকারী ব্যবস্থাপক চন্দ্র শেখর রায় জানান, কাওড়াকান্দিগামী দিনু খানের সিবোট ও মাওয়াগামী তেল ব্যবসায়ী সানির সিবোটের মধ্যে মুখোমুখি সংঘর্ষ ঘটে। এতে দিনু খানের সিবোটের চালক ও ১২ জন যাত্রী আহত হয়ে ছিটকে পদ্মা নদীতে পড়ে যায়। অপর সিবোটে কোন যাত্রী ছিল না। এ সময় অন্য সিবোট ও লঞ্চগুলো নদী থেকে যাত্রীদের উদ্ধার করে। মাওয়া ঘাটে কয়েকজনকে প্রাথমিক চিকিৎসা দেয়া হয়। ছয়জনকে উন্নত চিকিৎসার জন্য ঢাকায় পাঠানো হয়েছে। লৌহজং থানার ওসি সুব্রত কুমার সাহা এ খবরের সত্যতা নিশ্চিত করেছেন। তবে তিনি আহতদের নাম জানাতে পারেন নি। উল্লেখ্য, সন্ধ্যার পর পদ্মায় সিবোট চলাচল নিষিদ্ধ থাকলেও এখানে তা বার বার উপেক্ষিত হচ্ছে।  \n",
            " ['মাওয়া', 'কাওড়াকান্দি', 'নৌরুটে', 'পদ্মা', 'নদীর', 'হাজরা', 'টার্নিংয়ে', 'দুটি', 'সিবোটের', 'মুখোমুখি', 'সংঘর্ষে', 'অন্ততঃ', '১২', 'জন', 'আহত', 'হয়েছে', 'বৃহস্পতিবার', 'রাত', '৮টার', 'দিকে', 'এ', 'দুর্ঘটনা', 'ঘটে', 'গুরুতর', 'আহত', '৬', 'জনকে', 'চিকিৎসার', 'জন্য', 'ঢাকায়', 'পাঠানো', 'হয়েছে', 'মাওয়া', 'ঘাটে', 'বিআইডব্লিউটিসির', 'সহকারী', 'ব্যবস্থাপক', 'চন্দ্র', 'শেখর', 'রায়', 'জানান', 'কাওড়াকান্দিগামী', 'দিনু', 'খানের', 'সিবোট', 'ও', 'মাওয়াগামী', 'তেল', 'ব্যবসায়ী', 'সানির', 'সিবোটের', 'মধ্যে', 'মুখোমুখি', 'সংঘর্ষ', 'ঘটে', 'এতে', 'দিনু', 'খানের', 'সিবোটের', 'চালক', 'ও', '১২', 'জন', 'যাত্রী', 'আহত', 'হয়ে', 'ছিটকে', 'পদ্মা', 'নদীতে', 'পড়ে', 'যায়', 'অপর', 'সিবোটে', 'কোন', 'যাত্রী', 'ছিল', 'না', 'এ', 'সময়', 'অন্য', 'সিবোট', 'ও', 'লঞ্চগুলো', 'নদী', 'থেকে', 'যাত্রীদের', 'উদ্ধার', 'করে', 'মাওয়া', 'ঘাটে', 'কয়েকজনকে', 'প্রাথমিক', 'চিকিৎসা', 'দেয়া', 'হয়', 'ছয়জনকে', 'উন্নত', 'চিকিৎসার', 'জন্য', 'ঢাকায়', 'পাঠানো', 'হয়েছে', 'লৌহজং', 'থানার', 'ওসি', 'সুব্রত', 'কুমার', 'সাহা', 'এ', 'খবরের', 'সত্যতা', 'নিশ্চিত', 'করেছেন', 'তবে', 'তিনি', 'আহতদের', 'নাম', 'জানাতে', 'পারেন', 'নি', 'উল্লেখ্য', 'সন্ধ্যার', 'পর', 'পদ্মায়', 'সিবোট', 'চলাচল', 'নিষিদ্ধ', 'থাকলেও', 'এখানে', 'তা', 'বার', 'বার', 'উপেক্ষিত', 'হচ্ছে'] \n",
            "\n",
            "\n"
          ]
        }
      ]
    },
    {
      "cell_type": "markdown",
      "metadata": {
        "id": "xFpgDB8Ufvtq"
      },
      "source": [
        "### Finding Frequency Distribution of Data Length \n",
        "\n",
        "Here frequency of each length will be counted to find out which lenth size is more appropiate at the time of using pad sequences. we all plot this frequency in histogram to get a visual understanding."
      ]
    },
    {
      "cell_type": "code",
      "metadata": {
        "id": "IQhsCTxibUgQ",
        "colab": {
          "base_uri": "https://localhost:8080/"
        },
        "outputId": "620ddca5-8619-40a8-d162-2deb7204d051"
      },
      "source": [
        "Length_frequency = {}\n",
        "\n",
        "for i in range(len(dataset)):\n",
        "     index = len(dataset[\"Text\"][i])\n",
        "     Length_frequency[index] = Length_frequency.get(index, 0)+1\n",
        "      \n",
        "\n",
        "\n",
        "j = 0\n",
        "for i,v in Length_frequency.items():\n",
        "  print(i,v,'\\n')\n",
        "  if j==10:\n",
        "    break\n",
        "  j+=1"
      ],
      "execution_count": null,
      "outputs": [
        {
          "output_type": "stream",
          "name": "stdout",
          "text": [
            "513 37 \n",
            "\n",
            "401 16 \n",
            "\n",
            "1395 46 \n",
            "\n",
            "1064 56 \n",
            "\n",
            "1853 28 \n",
            "\n",
            "688 51 \n",
            "\n",
            "550 41 \n",
            "\n",
            "466 25 \n",
            "\n",
            "662 35 \n",
            "\n",
            "819 52 \n",
            "\n",
            "442 22 \n",
            "\n"
          ]
        }
      ]
    },
    {
      "cell_type": "code",
      "metadata": {
        "id": "8mFivWlhf6nI",
        "colab": {
          "base_uri": "https://localhost:8080/",
          "height": 313
        },
        "outputId": "c93da849-98fb-4832-f1bb-67a3c2764989"
      },
      "source": [
        "import seaborn as sns\n",
        "\n",
        "plt.bar(list(Length_frequency.keys()), Length_frequency.values(), color ='b')\n",
        "plt.xlim(1, 2048)\n",
        "\n",
        "plt.xlabel('Lenght of the Texts')\n",
        "plt.ylabel('Frequency')\n",
        "plt.title('Length-Frequency Distribution')"
      ],
      "execution_count": null,
      "outputs": [
        {
          "output_type": "execute_result",
          "data": {
            "text/plain": [
              "Text(0.5, 1.0, 'Length-Frequency Distribution')"
            ]
          },
          "metadata": {},
          "execution_count": 14
        },
        {
          "output_type": "display_data",
          "data": {
            "text/plain": [
              "<Figure size 432x288 with 1 Axes>"
            ],
            "image/png": "[encoded data removed]"
          },
          "metadata": {
            "needs_background": "light"
          }
        }
      ]
    },
    {
      "cell_type": "markdown",
      "metadata": {
        "id": "wK4oUa39VC7r"
      },
      "source": [
        "# Creating Word Embedding Model\n"
      ]
    },
    {
      "cell_type": "markdown",
      "metadata": {
        "id": "Q8fa0eFWVKqF"
      },
      "source": [
        "## Defining the Model\n",
        "Here we will define the model and necessary hyperparameters. Necessity of this hyperparameters will be briefly describe in the paper."
      ]
    },
    {
      "cell_type": "code",
      "metadata": {
        "id": "x7mzBDUygjPf",
        "colab": {
          "base_uri": "https://localhost:8080/"
        },
        "outputId": "fdbdf499-74f4-4b9f-941e-f2e4682b093e"
      },
      "source": [
        "%%time\n",
        "from gensim.models import Word2Vec\n",
        "#different hyperparameter that can be used to test the system \n",
        "#ensim.models.Word2Vec(size=300, window=5, min_count=1 workers=40,seed=1,cbow=0,sample=1e-4,hs=1,negative=5,iter=15)\n",
        "word2vec = Word2Vec(processed_data, size=100,  min_count=5, window=5, workers=40, cbow_mean=0,seed=1, sample=1e-4, hs=1, negative=5, iter=1)"
      ],
      "execution_count": null,
      "outputs": [
        {
          "output_type": "stream",
          "name": "stdout",
          "text": [
            "CPU times: user 2min 38s, sys: 895 ms, total: 2min 38s\n",
            "Wall time: 1min 36s\n"
          ]
        }
      ]
    },
    {
      "cell_type": "code",
      "metadata": {
        "id": "NHld6gTvg9AP",
        "colab": {
          "base_uri": "https://localhost:8080/"
        },
        "outputId": "d479654d-3f88-490e-cc65-bf5a092ce3d0"
      },
      "source": [
        "vocabulary = word2vec.wv.vocab\n",
        "print(len(vocabulary))"
      ],
      "execution_count": null,
      "outputs": [
        {
          "output_type": "stream",
          "name": "stdout",
          "text": [
            "123771\n"
          ]
        }
      ]
    },
    {
      "cell_type": "markdown",
      "metadata": {
        "id": "ENwW9WBMWGPu"
      },
      "source": [
        "## Creating necessary List and Arrays\n",
        "Create the necessary lists which will be used for further processing with our model."
      ]
    },
    {
      "cell_type": "code",
      "metadata": {
        "id": "N6JUFRcHhb6P",
        "colab": {
          "base_uri": "https://localhost:8080/"
        },
        "outputId": "cacede3a-fd72-418c-f511-0b276bcab751"
      },
      "source": [
        "%%time\n",
        "\n",
        "model = word2vec\n",
        "vocabulary = model.wv.vocab\n",
        "word_to_vec_map = {}\n",
        "words_to_index = {}\n",
        "index_to_words = {}\n",
        "frequency_of_words = {}\n",
        "\n",
        "c =1\n",
        "for w in vocabulary:\n",
        "  word_to_vec_map[w] = model[w]\n",
        "  words_to_index[w] = c\n",
        "  index_to_words[c] = w\n",
        "  frequency_of_words[w] = vocabulary[w].count\n",
        "  c = c+1\n",
        "\n",
        "print(len(vocabulary))"
      ],
      "execution_count": null,
      "outputs": [
        {
          "output_type": "stream",
          "name": "stderr",
          "text": [
            "/usr/local/lib/python3.7/dist-packages/ipykernel_launcher.py:11: DeprecationWarning: Call to deprecated `__getitem__` (Method will be removed in 4.0.0, use self.wv.__getitem__() instead).\n",
            "  # This is added back by InteractiveShellApp.init_path()\n"
          ]
        },
        {
          "output_type": "stream",
          "name": "stdout",
          "text": [
            "123771\n",
            "CPU times: user 539 ms, sys: 11 ms, total: 550 ms\n",
            "Wall time: 551 ms\n"
          ]
        }
      ]
    },
    {
      "cell_type": "markdown",
      "metadata": {
        "id": "Rbu9PrQZX2St"
      },
      "source": [
        "## Creating List of Check Words\n",
        "Here we will create a list  through which we evaluate our model."
      ]
    },
    {
      "cell_type": "code",
      "metadata": {
        "id": "Ui1b41shXNY_",
        "colab": {
          "base_uri": "https://localhost:8080/"
        },
        "outputId": "bfc7fb7e-687f-4193-8c8e-49caeb6d706b"
      },
      "source": [
        "check_words = []\n",
        "for i in range(10):\n",
        "  check_words.append(processed_data[i][10])\n",
        "\n",
        "cc = pd.read_csv('check_words.txt')\n",
        "check_words2 = []\n",
        "for w in cc.words:\n",
        "    if w in vocabulary:\n",
        "      print(w)\n",
        "      print(word_to_vec_map[w])\n",
        "      check_words2.append(w)\n",
        "print(check_words2)"
      ],
      "execution_count": null,
      "outputs": [
        {
          "output_type": "stream",
          "name": "stdout",
          "text": [
            "করিম\n",
            "[-7.9434192e-01 -2.9286855e-01 -3.3166942e-01  6.2602478e-01\n",
            " -1.3783178e-01  3.8270968e-01  2.2676398e-01  1.5395352e-01\n",
            " -4.2833984e-02  3.3314507e-02 -4.2610484e-01  8.5615544e-03\n",
            " -3.8844216e-01 -4.1423237e-01  1.3804965e-01  1.0733470e-01\n",
            " -3.4638178e-01 -4.9720486e-05 -3.7410101e-01 -6.8929002e-02\n",
            "  1.8939941e-01  7.7513832e-01 -1.3755192e-01  6.0052644e-03\n",
            " -2.5406143e-02  2.7786404e-01  2.8891519e-02  3.1532869e-01\n",
            "  7.7647336e-02  3.0923393e-01 -2.5153818e-02 -3.7138471e-01\n",
            "  4.0381157e-01  1.7067917e-01 -4.0255386e-01  4.6060067e-01\n",
            " -1.4879836e-01 -4.1666445e-01  2.1722944e-01 -6.3280517e-01\n",
            "  2.2239603e-01 -3.1398150e-01 -2.8936937e-01 -2.3062888e-01\n",
            " -8.3010450e-02  3.3564813e-02 -3.0436686e-01  7.9063088e-02\n",
            " -4.6665341e-01  2.8846332e-01  6.7828067e-02 -2.5425342e-01\n",
            " -2.3807187e-01 -9.5302828e-02  2.7180782e-02 -3.5589555e-01\n",
            "  2.3593606e-01 -7.8888911e-01 -2.4786231e-01 -5.2086338e-02\n",
            " -5.7630175e-01  8.2319163e-02  5.0275862e-01  3.0028090e-02\n",
            " -5.2726400e-01  4.7467768e-02 -2.9055393e-01  1.5789880e-01\n",
            "  1.0798044e-01  3.3410442e-01 -2.3921721e-01 -1.9301620e-01\n",
            "  4.3641418e-01 -2.0563392e-01 -2.4071562e-01  2.7278420e-01\n",
            " -1.8795729e-01  1.9476661e-01 -3.3885574e-01  3.3067438e-01\n",
            " -1.3984926e-01 -3.2094941e-02 -1.0914617e-01  2.9886359e-01\n",
            "  9.3596451e-02  5.8790225e-01 -2.8323016e-01  5.1317728e-01\n",
            "  3.4252244e-01  5.2385628e-01  1.9902739e-01 -6.9249880e-01\n",
            "  4.3859521e-01  5.9568983e-02  4.2263374e-01  4.3865971e-02\n",
            "  1.3693918e-01  1.1413792e-01 -4.7657315e-02 -1.9067767e-01]\n",
            "ঢাকা\n",
            "[-3.60561073e-01 -8.67869556e-02  1.28954288e-03  5.42811789e-02\n",
            " -7.63487145e-02  1.50376990e-01  2.03106269e-01 -4.28282738e-01\n",
            " -2.02843413e-01 -1.25436410e-01 -1.88308686e-01  8.82157534e-02\n",
            "  7.38658682e-02 -8.52175523e-03 -6.78890795e-02 -2.91119553e-02\n",
            " -1.13067120e-01  2.00755205e-02  6.42450228e-02  1.74638361e-01\n",
            " -2.28161275e-01  3.26169908e-01 -2.43862152e-01  6.96817413e-02\n",
            "  1.89972818e-01  2.35966817e-01 -8.63823742e-02  2.66794622e-01\n",
            " -3.25631618e-01  8.27300921e-02 -7.35478103e-02  1.45268708e-01\n",
            "  2.07021944e-02  1.20792255e-01 -1.93824962e-01  1.08329402e-02\n",
            " -3.20771635e-01 -1.87689498e-01  3.52838695e-01 -5.24722397e-01\n",
            "  2.55935043e-01  1.74241990e-01 -1.42341658e-01 -3.38387758e-01\n",
            " -4.40061241e-02 -5.67705072e-02  1.89892858e-01  8.66600573e-02\n",
            " -3.14891160e-01  1.91195875e-01  4.88662794e-02 -1.71550810e-01\n",
            "  1.23994075e-01  7.90761635e-02  1.81060750e-02 -1.30141884e-01\n",
            "  8.90148953e-02 -2.95307219e-01  1.20446816e-01  9.36260372e-02\n",
            " -3.36599529e-01 -7.46975616e-02  2.56080985e-01 -9.72071141e-02\n",
            "  8.23172554e-03 -2.17821240e-01  1.64489970e-01 -3.49047691e-01\n",
            "  5.32350302e-01  3.94469351e-01 -8.89431685e-02 -8.48082826e-02\n",
            "  3.74404639e-01 -2.42904246e-01  5.11987448e-01 -1.16895817e-01\n",
            "  3.64376098e-01 -1.11363068e-01 -1.05663180e-01 -1.58225700e-01\n",
            " -2.47160390e-01  1.23434007e-01  1.95405409e-01  1.59075826e-01\n",
            "  7.51569942e-02  5.16825140e-01  4.61050794e-02  2.81225264e-01\n",
            "  1.33828610e-01 -2.81991214e-02  1.53587118e-01 -1.18035316e-01\n",
            " -2.50760257e-01  1.98229980e-02  4.12327005e-04 -3.98589939e-01\n",
            " -4.19456929e-01 -3.65420312e-01  1.57267600e-01 -1.04739361e-01]\n",
            "কুকুর\n",
            "[-4.00954112e-02 -6.20888099e-02 -6.78108633e-02  4.41153422e-02\n",
            "  1.12183645e-01  2.76616484e-01  6.74648881e-02 -1.93541393e-01\n",
            "  3.95415612e-02 -6.46002293e-02 -9.95011181e-02 -1.72147483e-01\n",
            "  1.37970727e-02  6.90318495e-02 -1.68923199e-01  1.91417709e-02\n",
            " -1.08900387e-02  7.57262483e-02  6.71116030e-03  1.19438246e-01\n",
            " -2.77501270e-02  1.21817410e-01  1.23723196e-02 -9.62266512e-03\n",
            " -2.77878959e-02  2.81158704e-02 -9.42371115e-02 -1.08890636e-02\n",
            " -1.00737229e-01  2.67805811e-02 -6.51178882e-02 -3.30551639e-02\n",
            " -6.09444939e-02  2.61220001e-02  1.23883132e-02  7.39423279e-03\n",
            " -9.26665887e-02  3.30584310e-03  5.84210828e-02 -1.61300287e-01\n",
            " -1.58327430e-01 -8.40977672e-03 -2.74330042e-02 -1.99659333e-01\n",
            " -1.20499209e-01  1.91422570e-02  9.35484692e-02 -3.16774212e-02\n",
            "  1.46561459e-01  6.58543855e-02  4.81905155e-02 -2.79732551e-02\n",
            " -1.16872378e-01 -4.49541546e-02 -1.92709398e-04 -2.37342253e-01\n",
            " -4.79425713e-02  4.18560095e-02 -7.62573928e-02  2.48522758e-02\n",
            " -1.17118135e-01  2.38412339e-03  6.56810924e-02 -1.89729363e-01\n",
            " -1.44306481e-01  6.23288304e-02  1.16234988e-01 -3.48859169e-02\n",
            "  4.14793231e-02  8.28640983e-02  1.03695346e-02 -8.64740014e-02\n",
            "  1.14691950e-01 -2.47103032e-02  6.08794428e-02  2.07272302e-02\n",
            " -1.17553985e-02  1.71125459e-03 -2.29029879e-02  3.86221744e-02\n",
            " -1.22078456e-01  1.51948538e-02 -5.16252443e-02  2.05099210e-01\n",
            "  1.26574351e-03  3.22444029e-02 -2.27059722e-02  1.81321457e-01\n",
            " -1.86229981e-02  4.49356362e-02  8.45251158e-02  4.52515818e-02\n",
            "  6.92948326e-02 -6.93103597e-02 -1.33306962e-02 -1.38241440e-01\n",
            " -1.69168785e-01 -3.31535786e-02 -3.14263478e-02 -4.62648179e-03]\n",
            "চুয়েট\n",
            "[-0.05429284  0.13936515 -0.0632434  -0.04344836 -0.04490919  0.09623849\n",
            "  0.05232215 -0.00196099 -0.09907038 -0.03052734 -0.04332071 -0.01404262\n",
            "  0.09757397 -0.09454515  0.02969208 -0.02482516  0.04555944  0.02461839\n",
            "  0.05973902 -0.08387493 -0.00048525 -0.03802811 -0.05471393 -0.0168427\n",
            "  0.08035649  0.07299947 -0.07959827  0.04667215 -0.03838427  0.04147704\n",
            " -0.06127886  0.02939218  0.06401738  0.01285155 -0.02763401  0.12560594\n",
            " -0.08089155 -0.0704334   0.0430475  -0.05136797  0.03560309  0.00470575\n",
            "  0.03000894 -0.05213026  0.05167744 -0.01718682 -0.05101813  0.00901962\n",
            " -0.0349228  -0.02433376 -0.01167796 -0.10522438  0.04246169 -0.04549866\n",
            "  0.00116325 -0.02255039  0.04388642 -0.00331167 -0.00385715  0.05575752\n",
            "  0.00953113 -0.02311969 -0.03316952 -0.03460641 -0.00851018  0.01472432\n",
            "  0.05518141 -0.04731344  0.05147197  0.01720016  0.0077596  -0.06399161\n",
            " -0.05238071 -0.03194682  0.08445457 -0.02497351  0.02193786  0.04083542\n",
            " -0.02762148 -0.00875112  0.00773869  0.00040411  0.0479565  -0.01082263\n",
            "  0.04839985  0.11873978  0.0260244   0.02473614 -0.04882291  0.05647057\n",
            "  0.00644206 -0.03954391 -0.031432    0.01205631  0.02587298 -0.03492045\n",
            " -0.12210199 -0.0619118   0.02415537 -0.09785738]\n",
            "['করিম', 'ঢাকা', 'কুকুর', 'চুয়েট']\n"
          ]
        }
      ]
    },
    {
      "cell_type": "markdown",
      "metadata": {
        "id": "hxhNtwxlYvf5"
      },
      "source": [
        "## Finding most frequent words and similar words"
      ]
    },
    {
      "cell_type": "code",
      "metadata": {
        "id": "ewtj85mRYrXK",
        "colab": {
          "base_uri": "https://localhost:8080/"
        },
        "outputId": "ce7206f5-218b-4e3d-d27a-7719f77653d2"
      },
      "source": [
        "%%time\n",
        "\n",
        "## Finding most frequent words within a frequency range\n",
        "frequent_words = model.wv.index2entity[45:60]\n",
        "\n",
        "## Finding the similar words of this frequent words\n",
        "words_to_print = []\n",
        "for w in check_words2:\n",
        "  print('\\n',w)\n",
        "  words_to_print.append(w)\n",
        "  similar_words = model.wv.most_similar(w, topn=10)\n",
        "  for wr, vec in similar_words:\n",
        "    words_to_print.append(wr)\n",
        "    print(wr, vec)"
      ],
      "execution_count": null,
      "outputs": [
        {
          "output_type": "stream",
          "name": "stdout",
          "text": [
            "\n",
            " করিম\n",
            "করিমকে 0.770182728767395\n",
            "বারী 0.7294464111328125\n",
            "করিমের 0.729069173336029\n",
            "আজিম 0.6956832408905029\n",
            "বাহার 0.686455488204956\n",
            "তালুকদার 0.6859972476959229\n",
            "কবীর 0.6843044757843018\n",
            "হক 0.6829004883766174\n",
            "হালিম 0.6794058084487915\n",
            "করীম 0.6703448295593262\n",
            "\n",
            " ঢাকা\n",
            "রাজশাহী 0.8973428606987\n",
            "চট্টগ্রাম 0.8885113596916199\n",
            "সিলেট 0.8660680055618286\n",
            "খুলনা 0.8419204354286194\n",
            "বরিশাল 0.8349708318710327\n",
            "রংপুর 0.8256484270095825\n",
            "কুমিল্লা 0.787453293800354\n",
            "যশোর 0.7814102172851562\n",
            "ময়মনসিংহ 0.7626311182975769\n",
            "সিলেটের 0.7576984167098999\n",
            "\n",
            " কুকুর\n",
            "লগে 0.8553169965744019\n",
            "খোঁজে 0.8409215807914734\n",
            "পোষা 0.8220635652542114\n",
            "হাতির 0.8214366436004639\n",
            "মরা 0.8210550546646118\n",
            "উড়ে 0.8165916800498962\n",
            "ছোট্ট 0.8138324022293091\n",
            "জঙ্গলে 0.8108670115470886\n",
            "কাপড় 0.8072777986526489\n",
            "মাঝেমধ্যে 0.8049430251121521\n",
            "\n",
            " চুয়েট\n",
            "রুয়েট 0.7458735108375549\n",
            "রাবি 0.7072412967681885\n",
            "বিশ্ববিদ্যালয় 0.704220712184906\n",
            "চবি 0.6974164247512817\n",
            "বুয়েট 0.687343418598175\n",
            "বিশ্ববিদ্যালয় 0.6823685169219971\n",
            "বিশ্ববিদ্যালয়ের 0.6792470216751099\n",
            "শাবিপ্রবি 0.6707145571708679\n",
            "বিজ্ঞান 0.6657630801200867\n",
            "চারুকলা 0.6604824066162109\n",
            "CPU times: user 117 ms, sys: 35 ms, total: 152 ms\n",
            "Wall time: 103 ms\n"
          ]
        }
      ]
    },
    {
      "cell_type": "markdown",
      "metadata": {
        "id": "mCUWiiLmZb5V"
      },
      "source": [
        "## Installing Bangla Fonts\n",
        "Here we will install bangla font to show bangla in TSNE plot."
      ]
    },
    {
      "cell_type": "code",
      "source": [
        "!wget -O Kalpurush.ttf https://www.dropbox.com/s/162f2fsxn38lh0r/Kalpurush.ttf?dl=0"
      ],
      "metadata": {
        "id": "Q_VBq_ulcGN0"
      },
      "execution_count": null,
      "outputs": []
    },
    {
      "cell_type": "code",
      "metadata": {
        "id": "oOzCqpqaY6xK",
        "colab": {
          "base_uri": "https://localhost:8080/",
          "height": 269
        },
        "outputId": "3b003699-c879-4b98-b889-5700a56d3a36"
      },
      "source": [
        "from __future__ import unicode_literals\n",
        "import matplotlib.font_manager as fm\n",
        "import matplotlib.pyplot as plt\n",
        "font_path = 'Kalpurush.ttf'\n",
        "prop = fm.FontProperties(fname=font_path)\n",
        "\n",
        "#prop = fm.FontProperties(fname='kalpurush.ttf')\n",
        "s = \"কৃষক জমিতে ধান চাষ করে\"\n",
        "x = 0.2\n",
        "y = 0.2\n",
        "plt.text(x, y, s, fontproperties=prop)\n",
        "plt.show()"
      ],
      "execution_count": null,
      "outputs": [
        {
          "output_type": "display_data",
          "data": {
            "text/plain": [
              "<Figure size 432x288 with 1 Axes>"
            ],
            "image/png": "[encoded data removed]"
          },
          "metadata": {
            "needs_background": "light"
          }
        }
      ]
    },
    {
      "cell_type": "markdown",
      "metadata": {
        "id": "oxMQgxsbZ3IK"
      },
      "source": [
        "## Plotting Using TSNE\n",
        "Here frequent words will be shown using TSNE plot."
      ]
    },
    {
      "cell_type": "code",
      "metadata": {
        "id": "uLlyxUSNZzOl",
        "colab": {
          "base_uri": "https://localhost:8080/",
          "height": 704
        },
        "outputId": "58e31433-33ee-44a4-ae7e-6f7350ffb423"
      },
      "source": [
        "from __future__ import print_function\n",
        "from gensim.models import KeyedVectors\n",
        "import numpy as np\n",
        "from sklearn.manifold import TSNE\n",
        "import matplotlib.pyplot as plt\n",
        "\n",
        "## To show bangla fonts\n",
        "import matplotlib.font_manager as fm\n",
        "import matplotlib.pyplot as plt\n",
        "font_path = 'Kalpurush.ttf'\n",
        "prop = fm.FontProperties(fname=font_path)\n",
        "###\n",
        "\n",
        "frequent_words = model.wv.index2entity[100:500]\n",
        "frequent_words = words_to_print\n",
        "# Limit number of tokens to be visualized\n",
        "limit = len(frequent_words)\n",
        "vector_dim = 100\n",
        "\n",
        "# Getting tokens and vectors\n",
        "words = frequent_words\n",
        "embedding = np.array([])\n",
        "i = 0\n",
        "for w in words:\n",
        "    embedding = np.append(embedding, model[w])\n",
        "\n",
        "# Reshaping the embedding vector \n",
        "embedding = embedding.reshape(limit, vector_dim)\n",
        "\n",
        "def plot_with_labels(low_dim_embs, labels, filename='tsne.png'):\n",
        "    assert low_dim_embs.shape[0] >= len(labels), \"More labels than embeddings\"\n",
        "    plt.figure(figsize=(15, 10))  # in inches\n",
        "    for i, label in enumerate(labels):\n",
        "        #print(label)\n",
        "        x, y = low_dim_embs[i, :]\n",
        "        plt.scatter(x, y)\n",
        "        plt.annotate(label,\n",
        "                 xy=(x, y),\n",
        "                 xytext=(5, 2),\n",
        "                 textcoords='offset points',\n",
        "                 ha='right',\n",
        "                 fontproperties=prop,\n",
        "                 va='bottom')\n",
        "   # os.chdir('/content/drive/Word_Embedding')\n",
        "    #plt.savefig(filename)\n",
        "\n",
        "\n",
        "# Creating the tsne plot [Warning: will take time]\n",
        "tsne = TSNE(perplexity=30.0, n_components=2, init='pca', n_iter=5000)\n",
        "\n",
        "low_dim_embedding = tsne.fit_transform(embedding)\n",
        "\n",
        "# Finally plotting and saving the fig \n",
        "plot_with_labels(low_dim_embedding, words)\n"
      ],
      "execution_count": null,
      "outputs": [
        {
          "output_type": "stream",
          "name": "stderr",
          "text": [
            "/usr/local/lib/python3.7/dist-packages/ipykernel_launcher.py:25: DeprecationWarning: Call to deprecated `__getitem__` (Method will be removed in 4.0.0, use self.wv.__getitem__() instead).\n",
            "/usr/local/lib/python3.7/dist-packages/sklearn/manifold/_t_sne.py:793: FutureWarning: The default learning rate in TSNE will change from 200.0 to 'auto' in 1.2.\n",
            "  FutureWarning,\n",
            "/usr/local/lib/python3.7/dist-packages/sklearn/manifold/_t_sne.py:986: FutureWarning: The PCA initialization in TSNE will change to have the standard deviation of PC1 equal to 1e-4 in 1.2. This will ensure better convergence.\n",
            "  FutureWarning,\n"
          ]
        },
        {
          "output_type": "display_data",
          "data": {
            "text/plain": [
              "<Figure size 1080x720 with 1 Axes>"
            ],
            "image/png": "[encoded data removed]"
          },
          "metadata": {
            "needs_background": "light"
          }
        }
      ]
    },
    {
      "cell_type": "markdown",
      "metadata": {
        "id": "scu8bKqIs-dk"
      },
      "source": [
        "## For show in Embedding projector"
      ]
    },
    {
      "cell_type": "code",
      "metadata": {
        "id": "fo5p51SZaPbi"
      },
      "source": [
        "words = frequent_words\n",
        "\n",
        "import io\n",
        "\n",
        "out_v = io.open('vecs.tsv', 'w', encoding='utf-8')\n",
        "out_m = io.open('meta.tsv', 'w', encoding='utf-8')\n",
        "for word in words:\n",
        "  embeddings = word_to_vec_map[word]\n",
        "  out_m.write(word + \"\\n\")\n",
        "  out_v.write('\\t'.join([str(x) for x in embeddings]) + \"\\n\")\n",
        "out_v.close()\n",
        "out_m.close()"
      ],
      "execution_count": null,
      "outputs": []
    },
    {
      "cell_type": "markdown",
      "metadata": {
        "id": "QNIvMSa1CnBA"
      },
      "source": [
        "## Code to download file form colab"
      ]
    },
    {
      "cell_type": "code",
      "metadata": {
        "id": "QQBLnZnXtEHB"
      },
      "source": [
        "try:\n",
        "  from google.colab import files\n",
        "except ImportError:\n",
        "  pass\n",
        "else:\n",
        "  files.download('vecs.tsv')\n",
        "  files.download('meta.tsv')"
      ],
      "execution_count": null,
      "outputs": []
    }
  ]
}