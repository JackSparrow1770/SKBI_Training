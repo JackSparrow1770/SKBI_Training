{
  "nbformat": 4,
  "nbformat_minor": 0,
  "metadata": {
    "colab": {
      "name": "Session-8 (Text-CNN)",
      "provenance": [],
      "collapsed_sections": [],
      "include_colab_link": true
    },
    "kernelspec": {
      "name": "python3",
      "display_name": "Python 3"
    },
    "gpuClass": "standard",
    "accelerator": "GPU"
  },
  "cells": [
    {
      "cell_type": "markdown",
      "metadata": {
        "id": "view-in-github",
        "colab_type": "text"
      },
      "source": [
        "<a href=\"https://colab.research.google.com/github/eftekhar-hossain/SKBI_Training/blob/main/Intermediate/Session_8_(Text_CNN).ipynb\" target=\"_parent\"><img src=\"https://colab.research.google.com/assets/colab-badge.svg\" alt=\"Open In Colab\"/></a>"
      ]
    },
    {
      "cell_type": "markdown",
      "source": [
        "<center> <h1> <u> <font color='red'> Training on AI and ML with Python (Intermediate) </font> </u> </h1> </center>"
      ],
      "metadata": {
        "id": "KNLAaQUnLFfH"
      }
    },
    {
      "cell_type": "code",
      "metadata": {
        "id": "3YW8LwzIBysE",
        "outputId": "159d120e-af0d-408a-8e3a-f3e2302e8528",
        "colab": {
          "base_uri": "https://localhost:8080/"
        }
      },
      "source": [
        "%%time\n",
        "import os\n",
        "from glob import glob\n",
        "import numpy as np\n",
        "import matplotlib.pyplot as plt\n",
        "import pandas as pd\n",
        "import re\n",
        "import nltk\n",
        "from sklearn.model_selection import train_test_split\n",
        "from sklearn.metrics import classification_report,confusion_matrix\n",
        "import tensorflow as tf\n",
        "from tensorflow import keras"
      ],
      "execution_count": null,
      "outputs": [
        {
          "output_type": "stream",
          "name": "stdout",
          "text": [
            "CPU times: user 32 µs, sys: 4 µs, total: 36 µs\n",
            "Wall time: 39.1 µs\n"
          ]
        }
      ]
    },
    {
      "cell_type": "markdown",
      "metadata": {
        "id": "rHRFkNJW38pp"
      },
      "source": [
        "# Bangla Aggression Dataset\n"
      ]
    },
    {
      "cell_type": "code",
      "source": [
        "!wget -O aggression.zip https://www.dropbox.com/s/uwenro90496krax/aggression.zip?dl=0"
      ],
      "metadata": {
        "id": "ckw46WOjTuqU"
      },
      "execution_count": null,
      "outputs": []
    },
    {
      "cell_type": "code",
      "source": [
        "# extract the zip file and save the files into bangla-digit folder\n",
        "import zipfile\n",
        "zip_ref = zipfile.ZipFile(\"aggression.zip\", 'r')\n",
        "zip_ref.extractall(\"\")\n",
        "zip_ref.close()"
      ],
      "metadata": {
        "id": "G8VcJGm2Nndh"
      },
      "execution_count": null,
      "outputs": []
    },
    {
      "cell_type": "code",
      "metadata": {
        "id": "5weyzwKqpHXr",
        "colab": {
          "base_uri": "https://localhost:8080/"
        },
        "outputId": "7b324c6d-52c5-484c-a9d3-32cdf8fd3169"
      },
      "source": [
        "%%time\n",
        "               \n",
        "dataset = pd.read_excel(\"aggression/train-multi.xlsx\")\n",
        "dataset = dataset.iloc[:,1:]\n",
        "dataset"
      ],
      "execution_count": null,
      "outputs": [
        {
          "output_type": "stream",
          "name": "stdout",
          "text": [
            "CPU times: user 734 ms, sys: 50.2 ms, total: 785 ms\n",
            "Wall time: 909 ms\n"
          ]
        }
      ]
    },
    {
      "cell_type": "code",
      "source": [
        "dataset"
      ],
      "metadata": {
        "id": "rvzW8Qsu3ELZ"
      },
      "execution_count": null,
      "outputs": []
    },
    {
      "cell_type": "code",
      "source": [
        "dataset.columns"
      ],
      "metadata": {
        "colab": {
          "base_uri": "https://localhost:8080/"
        },
        "id": "BkorqcIpVw4l",
        "outputId": "67408755-e7ac-4146-ebec-0f7c591f8d01"
      },
      "execution_count": null,
      "outputs": [
        {
          "output_type": "execute_result",
          "data": {
            "text/plain": [
              "Index(['cleaned', 'Class', 'Label'], dtype='object')"
            ]
          },
          "metadata": {},
          "execution_count": 18
        }
      ]
    },
    {
      "cell_type": "code",
      "source": [
        "number_of_classes = len(dataset['Class'].unique())"
      ],
      "metadata": {
        "id": "QPTaIoWbSWWW"
      },
      "execution_count": null,
      "outputs": []
    },
    {
      "cell_type": "code",
      "metadata": {
        "id": "zZuvn7QArsZw",
        "colab": {
          "base_uri": "https://localhost:8080/"
        },
        "outputId": "31f980e5-5459-4a8c-a053-72a8873f77b6"
      },
      "source": [
        "labels = np.array(dataset['Class'])\n",
        "print('Total size of the dataset : ',len(dataset))"
      ],
      "execution_count": null,
      "outputs": [
        {
          "output_type": "stream",
          "name": "stdout",
          "text": [
            "Total size of the dataset :  5446\n"
          ]
        }
      ]
    },
    {
      "cell_type": "code",
      "metadata": {
        "id": "MElI16T7C89W",
        "outputId": "bc35fc13-b24c-497e-e83d-b3956e49717a",
        "colab": {
          "base_uri": "https://localhost:8080/"
        }
      },
      "source": [
        "## Printing the raw dataset\n",
        "for i in list(np.random.randint(1,len(dataset),10)):\n",
        "  print(dataset['cleaned'][i],\"\\n\",dataset['Class'][i])"
      ],
      "execution_count": null,
      "outputs": [
        {
          "output_type": "stream",
          "name": "stdout",
          "text": [
            "আওয়ামিলীগ আর কয়েক বছর কমতাই তাকলে বাংলাদেশ তেকে মুসলমাল ইমান নিয়ে বাচতে পারবে না \n",
            " PoAG\n",
            "খানকি  মহিলা  তুই  তো  দেখি  এখনো  ভিখারি  ই  আছিস \n",
            " VeAG\n",
            "এটাই পারেন ইসলাম মিথ্যা চার করে কতদিন \n",
            " ReAG\n",
            "ইসলাম বকামুল্লা বরবর পুরোনো বরবর নিয়ম মেনে চলে ও ইসলাম না মানলে কুত্তা বিড়াল এর চেয়ে নিকৃষ্ট বলতে লজ্জা লাগেনা মুসলমানদের ইসলাম মানে হচ্ছে মহা পাগলামি \n",
            " ReAG\n",
            "হালা পাডার ঘরের পাডাদিলি তো দিনের হোগা মাইরা \n",
            " VeAG\n",
            "তোরে যদি পাইতাম তোর হোগার ভিতর বন্দুক ডুকাইয়া ইচ্ছা মতো ব্রাশ ফায়ার করতাম হাউয়ার লাদি \n",
            " VeAG\n",
            "টাকে প্রকাশ্যে ফাসি দেওয়া হোক  \n",
            " VeAG\n",
            "কাদের খামা খামি কয় নাই বিএনপি মাজা বাংগা দল \n",
            " PoAG\n",
            "মোল্লা তাড়াও পৃথিবী বাঁচাও \n",
            " ReAG\n",
            "কোন খানকির ছেলে বলতে পারবেনা মুসলিমদের পুর্বপুরুস হিন্দু ছিল \n",
            " ReAG\n"
          ]
        }
      ]
    },
    {
      "cell_type": "markdown",
      "metadata": {
        "id": "YM2k9wW_HzH0"
      },
      "source": [
        "# Data Preprocessing\n"
      ]
    },
    {
      "cell_type": "markdown",
      "source": [
        "###Tokenization"
      ],
      "metadata": {
        "id": "nhEbT17mgWEM"
      }
    },
    {
      "cell_type": "code",
      "metadata": {
        "id": "3oodHieOJK20",
        "outputId": "c1d55a28-aba6-4e9d-9a67-57edaa5ec2b1",
        "colab": {
          "base_uri": "https://localhost:8080/"
        }
      },
      "source": [
        "%%time\n",
        "max_words = 100000\n",
        "\n",
        "from keras.preprocessing.text import Tokenizer\n",
        "\n",
        "tokenizer = Tokenizer(num_words = max_words, filters='!\"#$%&()*+,-./:;<=>?@[\\\\]^_`{|}~\\t\\n-', \n",
        "                      split=' ', char_level=False, oov_token=None, document_count=0)\n",
        "\n",
        "tokenizer.fit_on_texts(dataset['cleaned'])"
      ],
      "execution_count": null,
      "outputs": [
        {
          "output_type": "stream",
          "name": "stdout",
          "text": [
            "CPU times: user 132 ms, sys: 6.91 ms, total: 139 ms\n",
            "Wall time: 139 ms\n"
          ]
        }
      ]
    },
    {
      "cell_type": "markdown",
      "metadata": {
        "id": "ETMtFdGM1-HS"
      },
      "source": [
        "### Attributes of Tokenizer\n",
        "1. word_counts: A dictionary of words and their counts.\n",
        "\n",
        "2. word_docs: A dictionary of words and how many documents each appeared in.\n",
        "\n",
        "3. word_index: A dictionary of words and their uniquely assigned integers.\n",
        "\n",
        "4. document_count:An integer count of the total number of documents that were used to fit the Tokenizer.\n",
        "\n",
        "By using these attributes we can find the most frequent words and less frequent words and words that might be useful for our system"
      ]
    },
    {
      "cell_type": "code",
      "metadata": {
        "id": "lzv6GbepMDbj",
        "outputId": "6c3029a1-17da-44cc-96d7-8f3a824b8f46",
        "colab": {
          "base_uri": "https://localhost:8080/"
        }
      },
      "source": [
        "%%time\n",
        "word_counts = tokenizer.word_counts\n",
        "word_docs = tokenizer.word_docs\n",
        "word_index = tokenizer.word_index\n",
        "document_count = tokenizer.document_count\n",
        "\n",
        "print(len(word_counts))"
      ],
      "execution_count": null,
      "outputs": [
        {
          "output_type": "stream",
          "name": "stdout",
          "text": [
            "16251\n",
            "CPU times: user 74 µs, sys: 0 ns, total: 74 µs\n",
            "Wall time: 77.5 µs\n"
          ]
        }
      ]
    },
    {
      "cell_type": "code",
      "metadata": {
        "id": "1vsy4dms5XOf",
        "outputId": "b419df2e-3eb2-424d-e5f4-e72725749bdd",
        "colab": {
          "base_uri": "https://localhost:8080/"
        }
      },
      "source": [
        "# Printing the values to understand their functions\n",
        "def print_func(i, j):\n",
        "    print(i, j)\n",
        "\n",
        "print(\"Words ===> Counts\")\n",
        "k = 0\n",
        "for (i, j) in word_counts.items():\n",
        "        print_func(i, j)\n",
        "        k+=1\n",
        "        if k== 10:\n",
        "          k=0\n",
        "          break\n",
        "\n",
        "print(\"\\nWords ===> Documents\")       \n",
        "for (i, j) in word_docs.items():\n",
        "        print_func(i, j)\n",
        "        k+=1\n",
        "        if k== 10:\n",
        "          k=0\n",
        "          break\n",
        "\n",
        "print(\"\\nWords ===> Index\")\n",
        "for (i, j) in word_index.items():\n",
        "        print_func(i, j)\n",
        "        k+=1\n",
        "        if k== 10:\n",
        "          k=0\n",
        "          break\n",
        "\n",
        "print(\"Total Number of Documents: \", document_count)"
      ],
      "execution_count": null,
      "outputs": [
        {
          "output_type": "stream",
          "name": "stdout",
          "text": [
            "Words ===> Counts\n",
            "বর্তমানে 17\n",
            "শেখ 149\n",
            "পরিবার 12\n",
            "মানেই 27\n",
            "আলাদিনের 1\n",
            "চ্যাড়াগ 1\n",
            "কি 509\n",
            "রাজনৈতি 1\n",
            "মাইরি 1\n",
            "মাগি 91\n",
            "\n",
            "Words ===> Documents\n",
            "মানেই 26\n",
            "কি 453\n",
            "মাইরি 1\n",
            "বর্তমানে 16\n",
            "রাজনৈতি 1\n",
            "চ্যাড়াগ 1\n",
            "শেখ 126\n",
            "পরিবার 12\n",
            "আলাদিনের 1\n",
            "কথা 251\n",
            "\n",
            "Words ===> Index\n",
            "না 1\n",
            "করে 2\n",
            "আর 3\n",
            "এই 4\n",
            "ধর্ম 5\n",
            "কি 6\n",
            "তোর 7\n",
            "কে 8\n",
            "ও 9\n",
            "তো 10\n",
            "Total Number of Documents:  5446\n"
          ]
        }
      ]
    },
    {
      "cell_type": "markdown",
      "metadata": {
        "id": "vFc3LGoR_fP6"
      },
      "source": [
        "### Frequency Distribution of Data Length\n",
        "Here frequency of each length will be counted to find out which lenth size is more appropiate at the time of using pad sequences. we all plot this frequency in histogram to get a visual understanding."
      ]
    },
    {
      "cell_type": "code",
      "metadata": {
        "id": "oJPdowxO2djN"
      },
      "source": [
        "Length_frequency = {}\n",
        "\n",
        "for i in range(len(dataset)):\n",
        "     index = len(dataset['cleaned'][i])\n",
        "     Length_frequency[index] = Length_frequency.get(index, 0)+1\n"
      ],
      "execution_count": null,
      "outputs": []
    },
    {
      "cell_type": "code",
      "metadata": {
        "id": "ObYh1_69__sm",
        "outputId": "a50435b0-19d8-467a-c0b3-bb3159a69705",
        "colab": {
          "base_uri": "https://localhost:8080/",
          "height": 312
        }
      },
      "source": [
        "import seaborn as sns\n",
        "\n",
        "plt.bar(list(Length_frequency.keys()), Length_frequency.values(), color ='b')\n",
        "plt.xlim(1, 1024)\n",
        "\n",
        "plt.xlabel('Lenght of the Texts')\n",
        "plt.ylabel('Frequency')\n",
        "plt.title('Length-Frequency Distribution')"
      ],
      "execution_count": null,
      "outputs": [
        {
          "output_type": "execute_result",
          "data": {
            "text/plain": [
              "Text(0.5, 1.0, 'Length-Frequency Distribution')"
            ]
          },
          "metadata": {},
          "execution_count": 29
        },
        {
          "output_type": "display_data",
          "data": {
            "text/plain": [
              "<Figure size 432x288 with 1 Axes>"
            ],
            "image/png": "[encoded data removed]"
          },
          "metadata": {
            "needs_background": "light"
          }
        }
      ]
    },
    {
      "cell_type": "markdown",
      "metadata": {
        "id": "-xM_wOx_AagP"
      },
      "source": [
        "### Encoding Data into Numbers\n",
        "To encode our text into numbers we will use  text_to_word_sequence function from keras."
      ]
    },
    {
      "cell_type": "code",
      "metadata": {
        "id": "LbgdLu9vAGvP",
        "outputId": "a013bb89-0e9b-441a-f43d-09484990a7e6",
        "colab": {
          "base_uri": "https://localhost:8080/"
        }
      },
      "source": [
        "%%time\n",
        "# Convert string into list of integer indices\n",
        "sequences = tokenizer.texts_to_sequences(dataset['cleaned'])"
      ],
      "execution_count": null,
      "outputs": [
        {
          "output_type": "stream",
          "name": "stdout",
          "text": [
            "CPU times: user 107 ms, sys: 0 ns, total: 107 ms\n",
            "Wall time: 108 ms\n"
          ]
        }
      ]
    },
    {
      "cell_type": "code",
      "metadata": {
        "id": "T1Qvg7bdCL3C",
        "outputId": "22622a86-157b-43b5-c4e2-1b9f9667a2f7",
        "colab": {
          "base_uri": "https://localhost:8080/"
        }
      },
      "source": [
        "word_index = tokenizer.word_index\n",
        "print('Found %s unique tokens.' % len(word_index))\n",
        "print(dataset['cleaned'][1])\n",
        "print(sequences[1])"
      ],
      "execution_count": null,
      "outputs": [
        {
          "output_type": "stream",
          "name": "stdout",
          "text": [
            "Found 16251 unique tokens.\n",
            "মাগি আগে কথা বলা শেখ তার পর ভিডিও বানাইস\n",
            "[117, 87, 22, 230, 56, 33, 181, 313, 5934]\n"
          ]
        }
      ]
    },
    {
      "cell_type": "markdown",
      "metadata": {
        "id": "81kfSrIqSzsA"
      },
      "source": [
        "### Pad Sequence\n",
        "To make all the texts fo the same length we will use pad sequence from keras to standardize their length.\n",
        "\n",
        "Corpus contain our final processed data and labels contains the labels of associated data."
      ]
    },
    {
      "cell_type": "code",
      "metadata": {
        "id": "CskRP6BES2VF",
        "outputId": "3ea3e9c8-42e4-495f-8e3d-12bb3ced98cb",
        "colab": {
          "base_uri": "https://localhost:8080/"
        }
      },
      "source": [
        "%%time\n",
        "## Before padding length of different training examples \n",
        "mx = len(sequences[0])\n",
        "for x in sequences:\n",
        "  mx =max(mx, len(x))\n",
        "print(\"Maximum Text length\",mx)\n",
        "\n",
        "##We can also determine maxlen by plotting the frequency distribution of the lengths\n",
        "corpus = keras.preprocessing.sequence.pad_sequences(sequences, value=0.0, padding='post', maxlen= 100)\n",
        "## We get the maxlen value from the Length frequency distribution\n",
        "\n",
        "print(corpus[1])\n"
      ],
      "execution_count": null,
      "outputs": [
        {
          "output_type": "stream",
          "name": "stdout",
          "text": [
            "Maximum Text length 132\n",
            "[ 117   87   22  230   56   33  181  313 5934    0    0    0    0    0\n",
            "    0    0    0    0    0    0    0    0    0    0    0    0    0    0\n",
            "    0    0    0    0    0    0    0    0    0    0    0    0    0    0\n",
            "    0    0    0    0    0    0    0    0    0    0    0    0    0    0\n",
            "    0    0    0    0    0    0    0    0    0    0    0    0    0    0\n",
            "    0    0    0    0    0    0    0    0    0    0    0    0    0    0\n",
            "    0    0    0    0    0    0    0    0    0    0    0    0    0    0\n",
            "    0    0]\n",
            "CPU times: user 24.5 ms, sys: 1.15 ms, total: 25.7 ms\n",
            "Wall time: 27.9 ms\n"
          ]
        }
      ]
    },
    {
      "cell_type": "code",
      "metadata": {
        "id": "FeEF30RXlzgL",
        "colab": {
          "base_uri": "https://localhost:8080/"
        },
        "outputId": "c6522d3b-5145-4e4f-815e-9ec00851a28c"
      },
      "source": [
        "print(\"Shape of the courpus: \", corpus.shape)\n",
        "\n",
        "for i in range(2):\n",
        "    print(dataset['cleaned'][i],\"\\n\",corpus[i])"
      ],
      "execution_count": null,
      "outputs": [
        {
          "output_type": "stream",
          "name": "stdout",
          "text": [
            "Shape of the courpus:  (5446, 100)\n",
            "বর্তমানে শেখ পরিবার মানেই আলাদিনের চ্যাড়াগ কি রাজনৈতি মাইরি \n",
            " [ 682   56  955  435 5930 5931    6 5932 5933    0    0    0    0    0\n",
            "    0    0    0    0    0    0    0    0    0    0    0    0    0    0\n",
            "    0    0    0    0    0    0    0    0    0    0    0    0    0    0\n",
            "    0    0    0    0    0    0    0    0    0    0    0    0    0    0\n",
            "    0    0    0    0    0    0    0    0    0    0    0    0    0    0\n",
            "    0    0    0    0    0    0    0    0    0    0    0    0    0    0\n",
            "    0    0    0    0    0    0    0    0    0    0    0    0    0    0\n",
            "    0    0]\n",
            "মাগি আগে কথা বলা শেখ তার পর ভিডিও বানাইস \n",
            " [ 117   87   22  230   56   33  181  313 5934    0    0    0    0    0\n",
            "    0    0    0    0    0    0    0    0    0    0    0    0    0    0\n",
            "    0    0    0    0    0    0    0    0    0    0    0    0    0    0\n",
            "    0    0    0    0    0    0    0    0    0    0    0    0    0    0\n",
            "    0    0    0    0    0    0    0    0    0    0    0    0    0    0\n",
            "    0    0    0    0    0    0    0    0    0    0    0    0    0    0\n",
            "    0    0    0    0    0    0    0    0    0    0    0    0    0    0\n",
            "    0    0]\n"
          ]
        }
      ]
    },
    {
      "cell_type": "markdown",
      "metadata": {
        "id": "ASUG83vgUJLV"
      },
      "source": [
        "## Creating Train, Test and Validation set\n"
      ]
    },
    {
      "cell_type": "code",
      "source": [
        "X_train,X_test,y_train,y_test = train_test_split(corpus,dataset['Label'],test_size = 0.2, random_state = 0)\n",
        "\n",
        "print(\"Training Size: \",X_train.shape)\n",
        "print(\"Test Size: \",X_test.shape)"
      ],
      "metadata": {
        "colab": {
          "base_uri": "https://localhost:8080/"
        },
        "id": "rc7GLijS-WeN",
        "outputId": "2ac937f7-d65a-4a41-e177-734a258447ad"
      },
      "execution_count": null,
      "outputs": [
        {
          "output_type": "stream",
          "name": "stdout",
          "text": [
            "Training Size:  (4356, 100)\n",
            "Test Size:  (1090, 100)\n"
          ]
        }
      ]
    },
    {
      "cell_type": "markdown",
      "metadata": {
        "id": "pEeqaUeQyemO"
      },
      "source": [
        "## CNN with Keras Embedding\n"
      ]
    },
    {
      "cell_type": "code",
      "source": [
        "# Keras Functional API\n",
        "\n",
        "import tensorflow as tf\n",
        "from tensorflow import keras\n",
        "from keras.layers import Input, Dense, Activation, Dropout,Flatten,Embedding\n",
        "from keras.layers import Conv1D,MaxPooling1D,GlobalAveragePooling1D\n",
        "from keras.models import Model\n",
        "from tensorflow.keras.optimizers import Adam,SGD,Nadam,RMSprop\n",
        "from tensorflow.keras.models import load_model"
      ],
      "metadata": {
        "id": "y75Kki_tJM2_"
      },
      "execution_count": null,
      "outputs": []
    },
    {
      "cell_type": "code",
      "metadata": {
        "outputId": "b9de1401-c822-427b-c57a-a759cca9f66a",
        "colab": {
          "base_uri": "https://localhost:8080/"
        },
        "id": "GYoG2xa1Q812"
      },
      "source": [
        "keras.backend.clear_session()\n",
        "\n",
        "max_length = 100\n",
        "embedding_dim = 64\n",
        "number_of_classes = len(dataset['Class'].unique())\n",
        "\n",
        "# define CNN model\n",
        "\n",
        "def CNN():\n",
        "\n",
        "  input = Input(shape=(max_length,))\n",
        "  embedding = Embedding(max_words, embedding_dim, input_length = 100)(input)\n",
        "  conv1 = Conv1D(32,2,activation='relu')(embedding)\n",
        "  pool1 = MaxPooling1D(2)(conv1)\n",
        "  flat = Flatten()(pool1)\n",
        "  output_layer = Dense(number_of_classes, activation='softmax')(flat)\n",
        "  model = Model(inputs=input, outputs=output_layer)\n",
        "\n",
        "  return model\n",
        "\n",
        "# call the model\n",
        "cnn_model = CNN()\n",
        "\n",
        "cnn_model.summary()"
      ],
      "execution_count": null,
      "outputs": [
        {
          "output_type": "stream",
          "name": "stdout",
          "text": [
            "Model: \"model\"\n",
            "_________________________________________________________________\n",
            " Layer (type)                Output Shape              Param #   \n",
            "=================================================================\n",
            " input_1 (InputLayer)        [(None, 100)]             0         \n",
            "                                                                 \n",
            " embedding (Embedding)       (None, 100, 64)           6400000   \n",
            "                                                                 \n",
            " conv1d (Conv1D)             (None, 99, 32)            4128      \n",
            "                                                                 \n",
            " max_pooling1d (MaxPooling1D  (None, 49, 32)           0         \n",
            " )                                                               \n",
            "                                                                 \n",
            " flatten (Flatten)           (None, 1568)              0         \n",
            "                                                                 \n",
            " dense (Dense)               (None, 4)                 6276      \n",
            "                                                                 \n",
            "=================================================================\n",
            "Total params: 6,410,404\n",
            "Trainable params: 6,410,404\n",
            "Non-trainable params: 0\n",
            "_________________________________________________________________\n"
          ]
        }
      ]
    },
    {
      "cell_type": "code",
      "metadata": {
        "id": "OYeCNPk6Q813"
      },
      "source": [
        "cnn_model.compile(optimizer = 'adam',\n",
        "                      loss = 'sparse_categorical_crossentropy',\n",
        "                      metrics =['accuracy'])"
      ],
      "execution_count": null,
      "outputs": []
    },
    {
      "cell_type": "code",
      "metadata": {
        "outputId": "a49d3923-2354-401d-aade-eed73517193b",
        "colab": {
          "base_uri": "https://localhost:8080/"
        },
        "id": "jiaomGWEQ813"
      },
      "source": [
        "%%time\n",
        "history = cnn_model.fit(X_train,\n",
        "                              y_train,\n",
        "                              epochs = 20,\n",
        "                              batch_size = 32,\n",
        "                              verbose = 1,\n",
        "                              validation_split =0.1)"
      ],
      "execution_count": null,
      "outputs": [
        {
          "output_type": "stream",
          "name": "stdout",
          "text": [
            "Epoch 1/20\n",
            "123/123 [==============================] - 2s 8ms/step - loss: 1.1954 - accuracy: 0.4551 - val_loss: 0.9436 - val_accuracy: 0.7408\n",
            "Epoch 2/20\n",
            "123/123 [==============================] - 1s 7ms/step - loss: 0.5606 - accuracy: 0.8413 - val_loss: 0.5278 - val_accuracy: 0.8463\n",
            "Epoch 3/20\n",
            "123/123 [==============================] - 1s 7ms/step - loss: 0.2347 - accuracy: 0.9214 - val_loss: 0.5219 - val_accuracy: 0.8417\n",
            "Epoch 4/20\n",
            "123/123 [==============================] - 1s 7ms/step - loss: 0.1187 - accuracy: 0.9742 - val_loss: 0.5862 - val_accuracy: 0.8005\n",
            "Epoch 5/20\n",
            "123/123 [==============================] - 1s 7ms/step - loss: 0.0563 - accuracy: 0.9929 - val_loss: 0.6467 - val_accuracy: 0.7936\n",
            "Epoch 6/20\n",
            "123/123 [==============================] - 1s 7ms/step - loss: 0.0263 - accuracy: 0.9982 - val_loss: 0.7092 - val_accuracy: 0.7890\n",
            "Epoch 7/20\n",
            "123/123 [==============================] - 1s 7ms/step - loss: 0.0135 - accuracy: 0.9992 - val_loss: 0.7421 - val_accuracy: 0.7867\n",
            "Epoch 8/20\n",
            "123/123 [==============================] - 1s 7ms/step - loss: 0.0079 - accuracy: 0.9995 - val_loss: 0.7804 - val_accuracy: 0.7798\n",
            "Epoch 9/20\n",
            "123/123 [==============================] - 1s 7ms/step - loss: 0.0048 - accuracy: 1.0000 - val_loss: 0.8042 - val_accuracy: 0.7821\n",
            "Epoch 10/20\n",
            "123/123 [==============================] - 1s 7ms/step - loss: 0.0033 - accuracy: 1.0000 - val_loss: 0.8525 - val_accuracy: 0.7683\n",
            "Epoch 11/20\n",
            "123/123 [==============================] - 1s 7ms/step - loss: 0.0024 - accuracy: 1.0000 - val_loss: 0.8596 - val_accuracy: 0.7844\n",
            "Epoch 12/20\n",
            "123/123 [==============================] - 1s 7ms/step - loss: 0.0019 - accuracy: 1.0000 - val_loss: 0.8757 - val_accuracy: 0.7821\n",
            "Epoch 13/20\n",
            "123/123 [==============================] - 1s 7ms/step - loss: 0.0015 - accuracy: 1.0000 - val_loss: 0.9049 - val_accuracy: 0.7798\n",
            "Epoch 14/20\n",
            "123/123 [==============================] - 1s 7ms/step - loss: 0.0012 - accuracy: 1.0000 - val_loss: 0.9237 - val_accuracy: 0.7821\n",
            "Epoch 15/20\n",
            "123/123 [==============================] - 1s 7ms/step - loss: 9.5090e-04 - accuracy: 1.0000 - val_loss: 0.9326 - val_accuracy: 0.7844\n",
            "Epoch 16/20\n",
            "123/123 [==============================] - 1s 7ms/step - loss: 7.8543e-04 - accuracy: 1.0000 - val_loss: 0.9394 - val_accuracy: 0.7867\n",
            "Epoch 17/20\n",
            "123/123 [==============================] - 1s 7ms/step - loss: 6.6279e-04 - accuracy: 1.0000 - val_loss: 0.9521 - val_accuracy: 0.7867\n",
            "Epoch 18/20\n",
            "123/123 [==============================] - 1s 7ms/step - loss: 5.5990e-04 - accuracy: 1.0000 - val_loss: 0.9780 - val_accuracy: 0.7867\n",
            "Epoch 19/20\n",
            "123/123 [==============================] - 1s 7ms/step - loss: 4.7627e-04 - accuracy: 1.0000 - val_loss: 0.9813 - val_accuracy: 0.7867\n",
            "Epoch 20/20\n",
            "123/123 [==============================] - 1s 7ms/step - loss: 4.1226e-04 - accuracy: 1.0000 - val_loss: 0.9878 - val_accuracy: 0.7890\n",
            "CPU times: user 17.3 s, sys: 1.32 s, total: 18.7 s\n",
            "Wall time: 20.9 s\n"
          ]
        }
      ]
    },
    {
      "cell_type": "markdown",
      "metadata": {
        "id": "7GikWSYEQ814"
      },
      "source": [
        "#### Plotting accuracy and loss graphs\n",
        "\n",
        "Finaly loss and accuracy graph is plotted to take some important decision such as after how many epochs our model starts to overfit, what batch size give us better result, whether we need to get more data or not."
      ]
    },
    {
      "cell_type": "code",
      "metadata": {
        "outputId": "e8347cda-2b61-45cf-f1b9-eb9aebc2f0ec",
        "colab": {
          "base_uri": "https://localhost:8080/"
        },
        "id": "qdJjD5oDQ814"
      },
      "source": [
        "history_dict = history.history\n",
        "history_dict.keys()"
      ],
      "execution_count": null,
      "outputs": [
        {
          "output_type": "execute_result",
          "data": {
            "text/plain": [
              "dict_keys(['loss', 'accuracy', 'val_loss', 'val_accuracy'])"
            ]
          },
          "metadata": {},
          "execution_count": 30
        }
      ]
    },
    {
      "cell_type": "code",
      "metadata": {
        "outputId": "7de15dd7-9457-4c17-c690-12a318b482b6",
        "colab": {
          "base_uri": "https://localhost:8080/",
          "height": 295
        },
        "id": "-qVmK5nSQ814"
      },
      "source": [
        "import matplotlib.pyplot as plt\n",
        "\n",
        "acc = history_dict['accuracy']\n",
        "val_acc = history_dict['val_accuracy']\n",
        "\n",
        "loss = history_dict['loss']\n",
        "val_loss = history_dict['val_loss']\n",
        "\n",
        "epochs = range(1, len(acc)+1)\n",
        "\n",
        "plt.plot(epochs, loss, 'r-', label='Training Loss')\n",
        "plt.plot(epochs, val_loss, 'g', label = 'Validation Loss')\n",
        "plt.title('Training and Validation loss')\n",
        "plt.legend()\n",
        "plt.xlabel('epochs')\n",
        "plt.ylabel('loss')\n",
        "plt.show()"
      ],
      "execution_count": null,
      "outputs": [
        {
          "output_type": "display_data",
          "data": {
            "text/plain": [
              "<Figure size 432x288 with 1 Axes>"
            ],
            "image/png": "[encoded data removed]"
          },
          "metadata": {
            "needs_background": "light"
          }
        }
      ]
    },
    {
      "cell_type": "code",
      "metadata": {
        "outputId": "c8d30c01-8dc6-4640-c644-e96eef9407ea",
        "colab": {
          "base_uri": "https://localhost:8080/",
          "height": 312
        },
        "id": "UZKEzlyEQ815"
      },
      "source": [
        "plt.clf()   # clear figure\n",
        "\n",
        "plt.plot(epochs, acc, 'y', label='Training acc')\n",
        "plt.plot(epochs, val_acc, 'b', label='Validation acc')\n",
        "plt.title('Training and validation accuracy')\n",
        "plt.xlabel('Epochs')\n",
        "plt.ylabel('Accuracy')\n",
        "plt.legend()\n"
      ],
      "execution_count": null,
      "outputs": [
        {
          "output_type": "execute_result",
          "data": {
            "text/plain": [
              "<matplotlib.legend.Legend at 0x7fee0861f890>"
            ]
          },
          "metadata": {},
          "execution_count": 32
        },
        {
          "output_type": "display_data",
          "data": {
            "text/plain": [
              "<Figure size 432x288 with 1 Axes>"
            ],
            "image/png": "[encoded data removed]"
          },
          "metadata": {
            "needs_background": "light"
          }
        }
      ]
    },
    {
      "cell_type": "code",
      "metadata": {
        "outputId": "0484d45b-4fc2-4e8e-8cf1-e81ea9c7bc95",
        "colab": {
          "base_uri": "https://localhost:8080/"
        },
        "id": "o8SJR_DqQ815"
      },
      "source": [
        "y_pred = np.argmax(cnn_model.predict(X_test), axis=-1)\n",
        "y_pred"
      ],
      "execution_count": null,
      "outputs": [
        {
          "output_type": "execute_result",
          "data": {
            "text/plain": [
              "array([2, 1, 2, ..., 1, 0, 2])"
            ]
          },
          "metadata": {},
          "execution_count": 33
        }
      ]
    },
    {
      "cell_type": "markdown",
      "source": [
        "###Performance "
      ],
      "metadata": {
        "id": "OKQ9GnUcVm_H"
      }
    },
    {
      "cell_type": "code",
      "source": [
        "print(classification_report(y_test,y_pred))"
      ],
      "metadata": {
        "colab": {
          "base_uri": "https://localhost:8080/"
        },
        "id": "8vg1GKT8VOnG",
        "outputId": "9a4a782a-9b2c-4820-c735-41a198214c2a"
      },
      "execution_count": null,
      "outputs": [
        {
          "output_type": "stream",
          "name": "stdout",
          "text": [
            "              precision    recall  f1-score   support\n",
            "\n",
            "           0       0.90      0.86      0.88       371\n",
            "           1       0.94      0.89      0.91       324\n",
            "           2       0.83      0.77      0.80       325\n",
            "           3       0.28      0.51      0.36        70\n",
            "\n",
            "    accuracy                           0.82      1090\n",
            "   macro avg       0.74      0.76      0.74      1090\n",
            "weighted avg       0.85      0.82      0.83      1090\n",
            "\n"
          ]
        }
      ]
    },
    {
      "cell_type": "code",
      "source": [
        "confusion_matrix(y_test,y_pred)"
      ],
      "metadata": {
        "colab": {
          "base_uri": "https://localhost:8080/"
        },
        "id": "w94M9j2oVV_Z",
        "outputId": "b7eab6bc-0cfd-4cf7-a128-bec6317ea570"
      },
      "execution_count": null,
      "outputs": [
        {
          "output_type": "execute_result",
          "data": {
            "text/plain": [
              "array([[318,   5,  21,  27],\n",
              "       [  6, 289,   5,  24],\n",
              "       [ 23,  10, 249,  43],\n",
              "       [  6,   4,  24,  36]])"
            ]
          },
          "metadata": {},
          "execution_count": 36
        }
      ]
    },
    {
      "cell_type": "markdown",
      "metadata": {
        "id": "NdG7oqhdxWIM"
      },
      "source": [
        "# CNN with Glove Word Embedding\n",
        "\n",
        "[Link](https://github.com/sagorbrur/GloVe-Bengali)\n"
      ]
    },
    {
      "cell_type": "code",
      "source": [
        "# download pretrained glove vectors\n",
        "!wget -O bangla-glove-300d.zip https://www.dropbox.com/s/jimqem93cof5tww/bn_glove.39M.300d.zip?dl=0"
      ],
      "metadata": {
        "id": "3a5dSfzxVqdn"
      },
      "execution_count": null,
      "outputs": []
    },
    {
      "cell_type": "code",
      "source": [
        "# extract the zip file and save the files into bangla-digit folder\n",
        "import zipfile\n",
        "zip_ref = zipfile.ZipFile(\"bangla-glove-300d.zip\", 'r')\n",
        "zip_ref.extractall(\"\")\n",
        "zip_ref.close()"
      ],
      "metadata": {
        "id": "fQMzKeJHVqdo"
      },
      "execution_count": null,
      "outputs": []
    },
    {
      "cell_type": "code",
      "source": [
        "from gensim.scripts.glove2word2vec import glove2word2vec\n",
        "glove2word2vec(glove_input_file='bn_glove.39M.300d.txt', word2vec_output_file=\"gensim_glove_vectors.txt\")"
      ],
      "metadata": {
        "colab": {
          "base_uri": "https://localhost:8080/"
        },
        "id": "CsLTF8CUW4_Z",
        "outputId": "d69b4ec3-ca4a-43cc-f5b1-64a0de2904de"
      },
      "execution_count": null,
      "outputs": [
        {
          "output_type": "execute_result",
          "data": {
            "text/plain": [
              "(178153, 300)"
            ]
          },
          "metadata": {},
          "execution_count": 41
        }
      ]
    },
    {
      "cell_type": "code",
      "source": [
        "from gensim.models.keyedvectors import KeyedVectors\n",
        "glove_model = KeyedVectors.load_word2vec_format(\"gensim_glove_vectors.txt\", binary=False)"
      ],
      "metadata": {
        "id": "5izf0wLxXAEP"
      },
      "execution_count": null,
      "outputs": []
    },
    {
      "cell_type": "code",
      "source": [
        "vocabulary = glove_model.wv.vocab"
      ],
      "metadata": {
        "colab": {
          "base_uri": "https://localhost:8080/"
        },
        "id": "QIxL3Djt_m9N",
        "outputId": "7bc31781-c744-44e4-8f69-089737c4cf32"
      },
      "execution_count": null,
      "outputs": [
        {
          "output_type": "stream",
          "name": "stderr",
          "text": [
            "/usr/local/lib/python3.7/dist-packages/ipykernel_launcher.py:1: DeprecationWarning: Call to deprecated `wv` (Attribute will be removed in 4.0.0, use self instead).\n",
            "  \"\"\"Entry point for launching an IPython kernel.\n"
          ]
        }
      ]
    },
    {
      "cell_type": "code",
      "source": [
        "vocabulary"
      ],
      "metadata": {
        "id": "mrIrhZPzXgKx"
      },
      "execution_count": null,
      "outputs": []
    },
    {
      "cell_type": "markdown",
      "metadata": {
        "id": "C3y6ywwh_O-z"
      },
      "source": [
        "### Extracting word vector\n",
        "Now we will extract the word vector. These word vectors will be assainged to the words of our model. \n",
        "\n",
        "\n",
        "- `vocabulary`: A list of words exist in the loaded model\n",
        "- `word_to_vec_map`: dictionary mapping words to their GloVe vector representation."
      ]
    },
    {
      "cell_type": "code",
      "metadata": {
        "id": "diGYW0xL_O-0"
      },
      "source": [
        "%%time\n",
        "\n",
        "vocabulary = glove_model.wv.vocab\n",
        "word_to_vec_map = {}\n",
        "\n",
        "x = \"aa\"\n",
        "for w in vocabulary:\n",
        "  word_to_vec_map[w] = glove_model[w]\n",
        "  x = w\n",
        "print(x, word_to_vec_map[x].shape, word_to_vec_map[x]) # From this shape we will get our embedding dimension\n",
        "print('Size of vocabulary:', len(vocabulary))"
      ],
      "execution_count": null,
      "outputs": []
    },
    {
      "cell_type": "markdown",
      "metadata": {
        "id": "DADvrfBF_O-1"
      },
      "source": [
        "### Finding most frequent words\n",
        "Now we will find some of the most frequent words of the model and similar words to them. That might be useful in future. Just use of some function"
      ]
    },
    {
      "cell_type": "code",
      "metadata": {
        "id": "mmu3MG8v_O-2",
        "colab": {
          "base_uri": "https://localhost:8080/"
        },
        "outputId": "c5fab2f8-cb3d-4c7b-a911-61973acf5fd4"
      },
      "source": [
        "%%time\n",
        "frequent_words = glove_model.wv.index2entity[50:60]\n",
        "for w in frequent_words:\n",
        "  print('\\n',w)\n",
        "  similar_words = glove_model.wv.most_similar(w, topn=3)\n",
        "  for wr, vec in similar_words:\n",
        "     print(wr, vec)"
      ],
      "execution_count": null,
      "outputs": [
        {
          "output_type": "stream",
          "name": "stderr",
          "text": [
            "/usr/local/lib/python3.7/dist-packages/ipykernel_launcher.py:1: DeprecationWarning: Call to deprecated `wv` (Attribute will be removed in 4.0.0, use self instead).\n",
            "  \"\"\"Entry point for launching an IPython kernel.\n",
            "/usr/local/lib/python3.7/dist-packages/ipykernel_launcher.py:4: DeprecationWarning: Call to deprecated `wv` (Attribute will be removed in 4.0.0, use self instead).\n",
            "  after removing the cwd from sys.path.\n"
          ]
        },
        {
          "output_type": "stream",
          "name": "stdout",
          "text": [
            "\n",
            " আছে\n",
            "রয়েছে 0.5870643854141235\n",
            "অনেক 0.550443172454834\n",
            "নেই 0.527860164642334\n",
            "\n",
            " একজন\n",
            "যিনি 0.6538171172142029\n",
            "ছিলেন 0.571128249168396\n",
            "ব্যক্তি 0.5518900156021118\n",
            "\n",
            " যায়\n",
            "পাওয়া 0.7962223291397095\n",
            "গিয়েছিল 0.6485409736633301\n",
            "পড়ে 0.6365272998809814\n",
            "\n",
            " হচ্ছে\n",
            "করা 0.48764684796333313\n",
            "যাচ্ছে 0.47582098841667175\n",
            "এগুলো 0.47380131483078003\n",
            "\n",
            " হন\n",
            "হয়েছিলেন 0.739832878112793\n",
            "নির্বাচিত 0.6171943545341492\n",
            "হয়েছেন 0.6106654405593872\n",
            "\n",
            " দলের\n",
            "দল 0.6920536756515503\n",
            "দলে 0.6245256662368774\n",
            "দলটির 0.6236886978149414\n",
            "\n",
            " বিভিন্ন\n",
            "নানা 0.6497145891189575\n",
            "অন্যান্য 0.5586411952972412\n",
            "বহু 0.5433717966079712\n",
            "\n",
            " তা\n",
            "সেটি 0.5834987163543701\n",
            "যে 0.5711970329284668\n",
            "কিন্তু 0.569290280342102\n",
            "\n",
            " হয়ে\n",
            "পড়ে 0.6394785046577454\n",
            "যায় 0.631236732006073\n",
            "থাকে 0.582851231098175\n",
            "\n",
            " বাংলাদেশ\n",
            "বাংলাদেশের 0.5982800722122192\n",
            "মিরপুর১৮ 0.5265884399414062\n",
            "মিরপুর১৫ 0.525682806968689\n",
            "CPU times: user 523 ms, sys: 170 ms, total: 692 ms\n",
            "Wall time: 503 ms\n"
          ]
        }
      ]
    },
    {
      "cell_type": "markdown",
      "metadata": {
        "id": "ly2TK0pkE3MB"
      },
      "source": [
        "### Creating Embeding Matrix\n",
        "Now, we will build an embedding matrix that we can load into an Embedding layer. It must be a matrix of shape `(max_words, embedding_dim)`, where each entry i contains\n",
        "the embedding_dim - dimensional vector for the word of index iin the reference word index. "
      ]
    },
    {
      "cell_type": "code",
      "metadata": {
        "id": "SBMVBjEEE3MB"
      },
      "source": [
        "max_words = 100000 # Most frequent 100000 words (It should be initialize during tokenization process)\n",
        "embedding_dim = 300 # embedding dimension of the model\n",
        "\n",
        "embedding_matrix = np.zeros((max_words, embedding_dim), dtype = float)\n",
        "\n",
        "c = 0\n",
        "for word, i in word_index.items():\n",
        "    if i < max_words:\n",
        "      embedding_vector = word_to_vec_map.get(word)\n",
        "      if embedding_vector is None:\n",
        "          c +=1;\n",
        "          #print(word)\n",
        "      if embedding_vector is not None:\n",
        "        embedding_matrix[i] = embedding_vector\n",
        "# Words not found in the pretrained model is assigned as zeros\n",
        "print(\"Number of words not in the vocabulary: \", c)\n",
        "print(\"Percentage of words not in the vocabulary: \", (c/max_words)*100)"
      ],
      "execution_count": null,
      "outputs": []
    },
    {
      "cell_type": "markdown",
      "source": [
        "###Checkpoint"
      ],
      "metadata": {
        "id": "Xd4hpbq3YMpx"
      }
    },
    {
      "cell_type": "code",
      "source": [
        "''' Callbacks with Checkpoint'''\n",
        "\n",
        "accuracy_threshold = 0.99\n",
        "\n",
        "class myCallback(keras.callbacks.Callback):\n",
        "  def on_epoch_end(self, epoch, logs={}):\n",
        "      if(logs.get('accuracy')>accuracy_threshold):\n",
        "        print(\"\\nReached %2.2f%% accuracy so we will stop trianing\" % (accuracy_threshold*100))\n",
        "        self.model.stop_training = True\n",
        "\n",
        "acc_callback = myCallback()\n",
        "  # Saved the Best Model\n",
        "filepath = \"mymodel.h5\"\n",
        "checkpoint = keras.callbacks.ModelCheckpoint(filepath, monitor='val_accuracy', verbose=2, save_best_only=True, \n",
        "                                             save_weights_only=False, mode='max')\n",
        "  # callback list\n",
        "callback_list = [acc_callback, checkpoint] \n"
      ],
      "metadata": {
        "id": "ICHqDfEpYOnx"
      },
      "execution_count": null,
      "outputs": []
    },
    {
      "cell_type": "markdown",
      "metadata": {
        "id": "aX_0XZ_SE3MC"
      },
      "source": [
        "### Defining the Model\n"
      ]
    },
    {
      "cell_type": "code",
      "metadata": {
        "outputId": "aa04280d-c102-4f64-91a0-d83698f750cc",
        "colab": {
          "base_uri": "https://localhost:8080/"
        },
        "id": "snnc7tAwE3MD"
      },
      "source": [
        "keras.backend.clear_session()\n",
        "\n",
        "max_length = 100\n",
        "embedding_dim = 300\n",
        "number_of_classes = len(dataset['Class'].unique())\n",
        "\n",
        "# define CNN model\n",
        "\n",
        "def CNN():\n",
        "\n",
        "  input = Input(shape=(max_length,))\n",
        "  embedding = Embedding(max_words, embedding_dim, input_length = 100, weights=[embedding_matrix], trainable=False)(input)\n",
        "  conv1 = Conv1D(32,2,activation='relu')(embedding)\n",
        "  pool1 = MaxPooling1D(2)(conv1)\n",
        "  flat = Flatten()(pool1)\n",
        "  output_layer = Dense(number_of_classes, activation='softmax')(flat)\n",
        "  model = Model(inputs=input, outputs=output_layer)\n",
        "\n",
        "  return model\n",
        "\n",
        "# call the model\n",
        "cnn_model_pretrained = CNN()\n",
        "\n",
        "cnn_model_pretrained.summary()"
      ],
      "execution_count": null,
      "outputs": [
        {
          "output_type": "stream",
          "name": "stdout",
          "text": [
            "Model: \"model\"\n",
            "_________________________________________________________________\n",
            " Layer (type)                Output Shape              Param #   \n",
            "=================================================================\n",
            " input_1 (InputLayer)        [(None, 100)]             0         \n",
            "                                                                 \n",
            " embedding (Embedding)       (None, 100, 300)          30000000  \n",
            "                                                                 \n",
            " conv1d (Conv1D)             (None, 99, 32)            19232     \n",
            "                                                                 \n",
            " max_pooling1d (MaxPooling1D  (None, 49, 32)           0         \n",
            " )                                                               \n",
            "                                                                 \n",
            " flatten (Flatten)           (None, 1568)              0         \n",
            "                                                                 \n",
            " dense (Dense)               (None, 4)                 6276      \n",
            "                                                                 \n",
            "=================================================================\n",
            "Total params: 30,025,508\n",
            "Trainable params: 25,508\n",
            "Non-trainable params: 30,000,000\n",
            "_________________________________________________________________\n"
          ]
        }
      ]
    },
    {
      "cell_type": "code",
      "metadata": {
        "id": "aHgUV6tkE3ME"
      },
      "source": [
        "cnn_model_pretrained.compile(optimizer = 'adam',\n",
        "                      loss = 'sparse_categorical_crossentropy',\n",
        "                      metrics =['accuracy'])"
      ],
      "execution_count": null,
      "outputs": []
    },
    {
      "cell_type": "code",
      "metadata": {
        "outputId": "0020d677-fa94-46ae-e02f-ba960fabfe5c",
        "colab": {
          "base_uri": "https://localhost:8080/"
        },
        "id": "ELsxJLWAE3ME"
      },
      "source": [
        "%%time\n",
        "history = cnn_model_pretrained.fit(X_train,\n",
        "                              y_train,\n",
        "                              epochs = 20,\n",
        "                              batch_size = 32,\n",
        "                              verbose = 1,\n",
        "                              validation_split =0.1,\n",
        "                              callbacks = callback_list)"
      ],
      "execution_count": null,
      "outputs": [
        {
          "output_type": "stream",
          "name": "stdout",
          "text": [
            "Epoch 1/20\n",
            "118/123 [===========================>..] - ETA: 0s - loss: 0.9640 - accuracy: 0.6419\n",
            "Epoch 1: val_accuracy did not improve from 0.81881\n",
            "123/123 [==============================] - 1s 5ms/step - loss: 0.9548 - accuracy: 0.6457 - val_loss: 0.6462 - val_accuracy: 0.7982\n",
            "Epoch 2/20\n",
            "109/123 [=========================>....] - ETA: 0s - loss: 0.5794 - accuracy: 0.7982\n",
            "Epoch 2: val_accuracy improved from 0.81881 to 0.82110, saving model to mymodel.h5\n",
            "123/123 [==============================] - 1s 5ms/step - loss: 0.5802 - accuracy: 0.7980 - val_loss: 0.5695 - val_accuracy: 0.8211\n",
            "Epoch 3/20\n",
            "115/123 [===========================>..] - ETA: 0s - loss: 0.4774 - accuracy: 0.8348\n",
            "Epoch 3: val_accuracy improved from 0.82110 to 0.82339, saving model to mymodel.h5\n",
            "123/123 [==============================] - 1s 6ms/step - loss: 0.4752 - accuracy: 0.8357 - val_loss: 0.5538 - val_accuracy: 0.8234\n",
            "Epoch 4/20\n",
            "117/123 [===========================>..] - ETA: 0s - loss: 0.3993 - accuracy: 0.8670\n",
            "Epoch 4: val_accuracy improved from 0.82339 to 0.83028, saving model to mymodel.h5\n",
            "123/123 [==============================] - 1s 6ms/step - loss: 0.4020 - accuracy: 0.8668 - val_loss: 0.5502 - val_accuracy: 0.8303\n",
            "Epoch 5/20\n",
            "107/123 [=========================>....] - ETA: 0s - loss: 0.3381 - accuracy: 0.8867\n",
            "Epoch 5: val_accuracy did not improve from 0.83028\n",
            "123/123 [==============================] - 0s 3ms/step - loss: 0.3365 - accuracy: 0.8880 - val_loss: 0.5658 - val_accuracy: 0.8211\n",
            "Epoch 6/20\n",
            "112/123 [==========================>...] - ETA: 0s - loss: 0.2882 - accuracy: 0.9124\n",
            "Epoch 6: val_accuracy did not improve from 0.83028\n",
            "123/123 [==============================] - 0s 3ms/step - loss: 0.2888 - accuracy: 0.9120 - val_loss: 0.5531 - val_accuracy: 0.8211\n",
            "Epoch 7/20\n",
            "106/123 [========================>.....] - ETA: 0s - loss: 0.2413 - accuracy: 0.9307\n",
            "Epoch 7: val_accuracy did not improve from 0.83028\n",
            "123/123 [==============================] - 0s 4ms/step - loss: 0.2399 - accuracy: 0.9309 - val_loss: 0.5733 - val_accuracy: 0.8234\n",
            "Epoch 8/20\n",
            "106/123 [========================>.....] - ETA: 0s - loss: 0.2008 - accuracy: 0.9472\n",
            "Epoch 8: val_accuracy did not improve from 0.83028\n",
            "123/123 [==============================] - 0s 3ms/step - loss: 0.2027 - accuracy: 0.9454 - val_loss: 0.5741 - val_accuracy: 0.8096\n",
            "Epoch 9/20\n",
            "110/123 [=========================>....] - ETA: 0s - loss: 0.1737 - accuracy: 0.9563\n",
            "Epoch 9: val_accuracy did not improve from 0.83028\n",
            "123/123 [==============================] - 0s 4ms/step - loss: 0.1710 - accuracy: 0.9577 - val_loss: 0.5871 - val_accuracy: 0.8188\n",
            "Epoch 10/20\n",
            "122/123 [============================>.] - ETA: 0s - loss: 0.1443 - accuracy: 0.9680\n",
            "Epoch 10: val_accuracy did not improve from 0.83028\n",
            "123/123 [==============================] - 0s 4ms/step - loss: 0.1439 - accuracy: 0.9681 - val_loss: 0.6104 - val_accuracy: 0.8142\n",
            "Epoch 11/20\n",
            "112/123 [==========================>...] - ETA: 0s - loss: 0.1206 - accuracy: 0.9768\n",
            "Epoch 11: val_accuracy did not improve from 0.83028\n",
            "123/123 [==============================] - 0s 3ms/step - loss: 0.1191 - accuracy: 0.9770 - val_loss: 0.6249 - val_accuracy: 0.8096\n",
            "Epoch 12/20\n",
            "121/123 [============================>.] - ETA: 0s - loss: 0.1011 - accuracy: 0.9827\n",
            "Epoch 12: val_accuracy did not improve from 0.83028\n",
            "123/123 [==============================] - 0s 4ms/step - loss: 0.1008 - accuracy: 0.9829 - val_loss: 0.6388 - val_accuracy: 0.8119\n",
            "Epoch 13/20\n",
            "121/123 [============================>.] - ETA: 0s - loss: 0.0856 - accuracy: 0.9850\n",
            "Epoch 13: val_accuracy did not improve from 0.83028\n",
            "123/123 [==============================] - 0s 4ms/step - loss: 0.0858 - accuracy: 0.9849 - val_loss: 0.6706 - val_accuracy: 0.8028\n",
            "Epoch 14/20\n",
            "119/123 [============================>.] - ETA: 0s - loss: 0.0718 - accuracy: 0.9879\n",
            "Epoch 14: val_accuracy did not improve from 0.83028\n",
            "123/123 [==============================] - 0s 4ms/step - loss: 0.0714 - accuracy: 0.9883 - val_loss: 0.6884 - val_accuracy: 0.7982\n",
            "Epoch 15/20\n",
            "117/123 [===========================>..] - ETA: 0s - loss: 0.0594 - accuracy: 0.9912\n",
            "Reached 99.00% accuracy so we will stop trianing\n",
            "\n",
            "Epoch 15: val_accuracy did not improve from 0.83028\n",
            "123/123 [==============================] - 0s 4ms/step - loss: 0.0603 - accuracy: 0.9908 - val_loss: 0.7148 - val_accuracy: 0.7982\n",
            "CPU times: user 7.84 s, sys: 1.03 s, total: 8.87 s\n",
            "Wall time: 8.05 s\n"
          ]
        }
      ]
    },
    {
      "cell_type": "markdown",
      "metadata": {
        "id": "UpsgJ03SE3ME"
      },
      "source": [
        "#### Plotting accuracy and loss graphs\n",
        "\n",
        "Finaly loss and accuracy graph is plotted to take some important decision such as after how many epochs our model starts to overfit, what batch size give us better result, whether we need to get more data or not."
      ]
    },
    {
      "cell_type": "code",
      "metadata": {
        "outputId": "a77131a7-acd1-4aaa-9aea-526defb7a33c",
        "colab": {
          "base_uri": "https://localhost:8080/"
        },
        "id": "NdGzGCAPE3MF"
      },
      "source": [
        "history_dict = history.history\n",
        "history_dict.keys()"
      ],
      "execution_count": null,
      "outputs": [
        {
          "output_type": "execute_result",
          "data": {
            "text/plain": [
              "dict_keys(['loss', 'accuracy', 'val_loss', 'val_accuracy'])"
            ]
          },
          "metadata": {},
          "execution_count": 57
        }
      ]
    },
    {
      "cell_type": "code",
      "metadata": {
        "outputId": "52494e42-2add-481c-f5bf-14f5ad295efb",
        "colab": {
          "base_uri": "https://localhost:8080/",
          "height": 295
        },
        "id": "_sCDmB2pE3MF"
      },
      "source": [
        "import matplotlib.pyplot as plt\n",
        "\n",
        "acc = history_dict['accuracy']\n",
        "val_acc = history_dict['val_accuracy']\n",
        "\n",
        "loss = history_dict['loss']\n",
        "val_loss = history_dict['val_loss']\n",
        "\n",
        "epochs = range(1, len(acc)+1)\n",
        "\n",
        "plt.plot(epochs, loss, 'r-', label='Training Loss')\n",
        "plt.plot(epochs, val_loss, 'g', label = 'Validation Loss')\n",
        "plt.title('Training and Validation loss')\n",
        "plt.legend()\n",
        "plt.xlabel('epochs')\n",
        "plt.ylabel('loss')\n",
        "plt.show()"
      ],
      "execution_count": null,
      "outputs": [
        {
          "output_type": "display_data",
          "data": {
            "text/plain": [
              "<Figure size 432x288 with 1 Axes>"
            ],
            "image/png": "[encoded data removed]"
          },
          "metadata": {
            "needs_background": "light"
          }
        }
      ]
    },
    {
      "cell_type": "code",
      "metadata": {
        "outputId": "75948660-2ded-4877-eb40-e7a39c230ebc",
        "colab": {
          "base_uri": "https://localhost:8080/",
          "height": 312
        },
        "id": "ZbrSL0DYE3MG"
      },
      "source": [
        "plt.clf()   # clear figure\n",
        "\n",
        "plt.plot(epochs, acc, 'y', label='Training acc')\n",
        "plt.plot(epochs, val_acc, 'b', label='Validation acc')\n",
        "plt.title('Training and validation accuracy')\n",
        "plt.xlabel('Epochs')\n",
        "plt.ylabel('Accuracy')\n",
        "plt.legend()\n"
      ],
      "execution_count": null,
      "outputs": [
        {
          "output_type": "execute_result",
          "data": {
            "text/plain": [
              "<matplotlib.legend.Legend at 0x7fed3a4720d0>"
            ]
          },
          "metadata": {},
          "execution_count": 59
        },
        {
          "output_type": "display_data",
          "data": {
            "text/plain": [
              "<Figure size 432x288 with 1 Axes>"
            ],
            "image/png": "[encoded data removed]"
          },
          "metadata": {
            "needs_background": "light"
          }
        }
      ]
    },
    {
      "cell_type": "code",
      "source": [
        "# Recreate the exact same model purely from the file:\n",
        "model = load_model(\"mymodel.h5\")"
      ],
      "metadata": {
        "id": "n6iqaXmaZejL"
      },
      "execution_count": null,
      "outputs": []
    },
    {
      "cell_type": "code",
      "metadata": {
        "outputId": "837d9090-0f6e-4229-b9f7-a7f26a2f3ed4",
        "colab": {
          "base_uri": "https://localhost:8080/"
        },
        "id": "6c07mxSHZNNk"
      },
      "source": [
        "y_pred = np.argmax(model.predict(X_test), axis=-1)\n",
        "y_pred"
      ],
      "execution_count": null,
      "outputs": [
        {
          "output_type": "execute_result",
          "data": {
            "text/plain": [
              "array([2, 1, 2, ..., 1, 0, 2])"
            ]
          },
          "metadata": {},
          "execution_count": 65
        }
      ]
    },
    {
      "cell_type": "markdown",
      "source": [
        "###Performance "
      ],
      "metadata": {
        "id": "jmMJ3jZqZNNl"
      }
    },
    {
      "cell_type": "code",
      "source": [
        "print(classification_report(y_test,y_pred))"
      ],
      "metadata": {
        "colab": {
          "base_uri": "https://localhost:8080/"
        },
        "outputId": "d53b2cb4-ebad-48cb-abcf-cda326ac2d03",
        "id": "yhLRNEYOZNNl"
      },
      "execution_count": null,
      "outputs": [
        {
          "output_type": "stream",
          "name": "stdout",
          "text": [
            "              precision    recall  f1-score   support\n",
            "\n",
            "           0       0.84      0.90      0.87       371\n",
            "           1       0.87      0.86      0.87       324\n",
            "           2       0.77      0.82      0.80       325\n",
            "           3       0.57      0.19      0.28        70\n",
            "\n",
            "    accuracy                           0.82      1090\n",
            "   macro avg       0.76      0.69      0.70      1090\n",
            "weighted avg       0.81      0.82      0.81      1090\n",
            "\n"
          ]
        }
      ]
    },
    {
      "cell_type": "code",
      "source": [
        "confusion_matrix(y_test,y_pred)"
      ],
      "metadata": {
        "colab": {
          "base_uri": "https://localhost:8080/"
        },
        "outputId": "04cb2aac-0ec8-4b77-8374-e87f84cc2fcb",
        "id": "mX0flZ_gZNNm"
      },
      "execution_count": null,
      "outputs": [
        {
          "output_type": "execute_result",
          "data": {
            "text/plain": [
              "array([[333,  12,  24,   2],\n",
              "       [ 22, 280,  18,   4],\n",
              "       [ 30,  23, 268,   4],\n",
              "       [ 12,   6,  39,  13]])"
            ]
          },
          "metadata": {},
          "execution_count": 67
        }
      ]
    }
  ]
}