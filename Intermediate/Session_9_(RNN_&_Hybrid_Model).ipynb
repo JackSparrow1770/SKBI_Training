{
  "nbformat": 4,
  "nbformat_minor": 0,
  "metadata": {
    "colab": {
      "name": "Session-9 (RNN & Hybrid Model)",
      "provenance": [],
      "collapsed_sections": [],
      "include_colab_link": true
    },
    "kernelspec": {
      "name": "python3",
      "display_name": "Python 3"
    },
    "gpuClass": "standard",
    "accelerator": "GPU"
  },
  "cells": [
    {
      "cell_type": "markdown",
      "metadata": {
        "id": "view-in-github",
        "colab_type": "text"
      },
      "source": [
        "<a href=\"https://colab.research.google.com/github/eftekhar-hossain/SKBI_Training/blob/main/Intermediate/Session_9_(RNN_%26_Hybrid_Model).ipynb\" target=\"_parent\"><img src=\"https://colab.research.google.com/assets/colab-badge.svg\" alt=\"Open In Colab\"/></a>"
      ]
    },
    {
      "cell_type": "markdown",
      "source": [
        "<center> <h1> <u> <font color='red'> Training on AI and ML with Python (Intermediate) </font> </u> </h1> </center>"
      ],
      "metadata": {
        "id": "KNLAaQUnLFfH"
      }
    },
    {
      "cell_type": "code",
      "metadata": {
        "id": "3YW8LwzIBysE",
        "outputId": "ff879302-4a59-49ac-d31c-73c90eb1ebae",
        "colab": {
          "base_uri": "https://localhost:8080/"
        }
      },
      "source": [
        "%%time\n",
        "import os\n",
        "from glob import glob\n",
        "import numpy as np\n",
        "import matplotlib.pyplot as plt\n",
        "import pandas as pd\n",
        "import re\n",
        "import nltk\n",
        "from sklearn.model_selection import train_test_split\n",
        "from sklearn.metrics import classification_report,confusion_matrix\n",
        "import tensorflow as tf\n",
        "from tensorflow import keras"
      ],
      "execution_count": 55,
      "outputs": [
        {
          "output_type": "stream",
          "name": "stdout",
          "text": [
            "CPU times: user 52 µs, sys: 5 µs, total: 57 µs\n",
            "Wall time: 64.4 µs\n"
          ]
        }
      ]
    },
    {
      "cell_type": "markdown",
      "metadata": {
        "id": "rHRFkNJW38pp"
      },
      "source": [
        "# Bangla Book Review Dataset\n"
      ]
    },
    {
      "cell_type": "code",
      "source": [
        "!wget -O reviews.csv https://www.dropbox.com/s/k9q1zrdr26ycmhv/book-reviews.csv?dl=0"
      ],
      "metadata": {
        "id": "ckw46WOjTuqU",
        "colab": {
          "base_uri": "https://localhost:8080/"
        },
        "outputId": "cbc46717-d039-4057-fe8a-db325fbb8124"
      },
      "execution_count": 56,
      "outputs": [
        {
          "output_type": "stream",
          "name": "stdout",
          "text": [
            "--2022-07-02 08:57:47--  https://www.dropbox.com/s/k9q1zrdr26ycmhv/book-reviews.csv?dl=0\n",
            "Resolving www.dropbox.com (www.dropbox.com)... 162.125.1.18, 2620:100:6017:18::a27d:212\n",
            "Connecting to www.dropbox.com (www.dropbox.com)|162.125.1.18|:443... connected.\n",
            "HTTP request sent, awaiting response... 301 Moved Permanently\n",
            "Location: /s/raw/k9q1zrdr26ycmhv/book-reviews.csv [following]\n",
            "--2022-07-02 08:57:47--  https://www.dropbox.com/s/raw/k9q1zrdr26ycmhv/book-reviews.csv\n",
            "Reusing existing connection to www.dropbox.com:443.\n",
            "HTTP request sent, awaiting response... 302 Found\n",
            "Location: https://uc286b4aa561b1bf5a2e95f204c1.dl.dropboxusercontent.com/cd/0/inline/BoSoCg0DBokfohIL1fzyekGWhMmxd_GZAVVXxDg5CVqkXeqLxpUvxPmKBFjWVXNIZCD3y6AiKiE0AlJVadu__4y6Oh0G-bubpnpmi1Zs_Z7nQmeaiJewsrXhK8d6lWJaZ5ZVAt3XW9b_BbHmRXGX0uWJCT3OWSRssgdzSWyQ-WIl7g/file# [following]\n",
            "--2022-07-02 08:57:47--  https://uc286b4aa561b1bf5a2e95f204c1.dl.dropboxusercontent.com/cd/0/inline/BoSoCg0DBokfohIL1fzyekGWhMmxd_GZAVVXxDg5CVqkXeqLxpUvxPmKBFjWVXNIZCD3y6AiKiE0AlJVadu__4y6Oh0G-bubpnpmi1Zs_Z7nQmeaiJewsrXhK8d6lWJaZ5ZVAt3XW9b_BbHmRXGX0uWJCT3OWSRssgdzSWyQ-WIl7g/file\n",
            "Resolving uc286b4aa561b1bf5a2e95f204c1.dl.dropboxusercontent.com (uc286b4aa561b1bf5a2e95f204c1.dl.dropboxusercontent.com)... 162.125.1.15, 2620:100:6016:15::a27d:10f\n",
            "Connecting to uc286b4aa561b1bf5a2e95f204c1.dl.dropboxusercontent.com (uc286b4aa561b1bf5a2e95f204c1.dl.dropboxusercontent.com)|162.125.1.15|:443... connected.\n",
            "HTTP request sent, awaiting response... 200 OK\n",
            "Length: 561945 (549K) [text/plain]\n",
            "Saving to: ‘reviews.csv’\n",
            "\n",
            "reviews.csv         100%[===================>] 548.77K  --.-KB/s    in 0.03s   \n",
            "\n",
            "2022-07-02 08:57:48 (17.5 MB/s) - ‘reviews.csv’ saved [561945/561945]\n",
            "\n"
          ]
        }
      ]
    },
    {
      "cell_type": "code",
      "metadata": {
        "id": "5weyzwKqpHXr",
        "colab": {
          "base_uri": "https://localhost:8080/"
        },
        "outputId": "867f1b8c-f3f4-4d3f-d2b1-2143a2eee82d"
      },
      "source": [
        "%%time\n",
        "               \n",
        "dataset = pd.read_csv(\"reviews.csv\")\n",
        "dataset"
      ],
      "execution_count": 57,
      "outputs": [
        {
          "output_type": "stream",
          "name": "stdout",
          "text": [
            "CPU times: user 24.9 ms, sys: 6.98 ms, total: 31.9 ms\n",
            "Wall time: 86.2 ms\n"
          ]
        }
      ]
    },
    {
      "cell_type": "code",
      "source": [
        "dataset"
      ],
      "metadata": {
        "id": "rvzW8Qsu3ELZ"
      },
      "execution_count": null,
      "outputs": []
    },
    {
      "cell_type": "code",
      "source": [
        "dataset.columns"
      ],
      "metadata": {
        "colab": {
          "base_uri": "https://localhost:8080/"
        },
        "id": "BkorqcIpVw4l",
        "outputId": "c47f242c-b29c-4c9c-d788-085218fa80b5"
      },
      "execution_count": 8,
      "outputs": [
        {
          "output_type": "execute_result",
          "data": {
            "text/plain": [
              "Index(['Review', 'liked'], dtype='object')"
            ]
          },
          "metadata": {},
          "execution_count": 8
        }
      ]
    },
    {
      "cell_type": "code",
      "source": [
        "number_of_classes = len(dataset['liked'].unique())"
      ],
      "metadata": {
        "id": "QPTaIoWbSWWW"
      },
      "execution_count": 9,
      "outputs": []
    },
    {
      "cell_type": "code",
      "metadata": {
        "id": "zZuvn7QArsZw",
        "colab": {
          "base_uri": "https://localhost:8080/"
        },
        "outputId": "eb1b39dd-c4d0-41bc-d788-42c456d8eb91"
      },
      "source": [
        "print('Total size of the dataset : ',len(dataset))"
      ],
      "execution_count": 10,
      "outputs": [
        {
          "output_type": "stream",
          "name": "stdout",
          "text": [
            "Total size of the dataset :  1444\n"
          ]
        }
      ]
    },
    {
      "cell_type": "code",
      "source": [
        "# cleaning function\n",
        "def cleaning(row):\n",
        "  text = re.sub('[^\\u0980-\\u09FF]',' ', row) ## removing punctions\n",
        "  return text \n",
        "\n",
        "dataset['cleaned'] = dataset.Review.apply(cleaning)  "
      ],
      "metadata": {
        "id": "D_rzkjO95CnV"
      },
      "execution_count": 58,
      "outputs": []
    },
    {
      "cell_type": "code",
      "metadata": {
        "id": "MElI16T7C89W",
        "colab": {
          "base_uri": "https://localhost:8080/"
        },
        "outputId": "fef6625e-0270-4ada-fe84-4a49ca7d08bb"
      },
      "source": [
        "## Printing the raw dataset\n",
        "for i in list(np.random.randint(1,len(dataset),10)):\n",
        "  print(dataset['cleaned'][i],\"\\n\",dataset['liked'][i])"
      ],
      "execution_count": 59,
      "outputs": [
        {
          "output_type": "stream",
          "name": "stdout",
          "text": [
            "আমি মনে করি থ্রিলার প্রেমিদের জন্য আবশ্যক একটি বই  এর প্রতিটি অধ্যায়েই রয়েছে অসাধারণ থ্রিল যা আপনাকে বইয়ের সাথে আটকে রাখতে বাধ্য করবে   \n",
            " 1\n",
            "বালমার্কা উপন্যাস  \n",
            " 0\n",
            "বাংলা ভাষাকে অপমানের জন্য এই একটি বই যথেষ্ট  \n",
            " 0\n",
            "এক কথায় অসাধারন \n",
            " 1\n",
            "বই টি অনেক ভাল \n",
            " 1\n",
            "অনেক বেশি তথ্যপূর্ণ একটি বই  যারা ঘুরে বেড়াতে পছন্দ করেন  তাদের পছন্দের তালিকায় এই বইটি অবশ্যই শীর্ষে থাকবে  ধন্যবাদ  আয়মান ভাইয়া আমার মত ভ্রমণ পিপাসুদের জন্য এমন দারুণ একটি বই উপহার দেয়ার জন্যে  \n",
            " 1\n",
            "অসাধারন একটি বই   বেশ মজার সাথে পড়ছি মাঝে মাঝে হাসি পাচ্ছে তবে অনেক কিছু শিখতে পারছি অনেক সহজভাবে যা আগে পারি নাই  বেসিকের জন্যএর চেয়ে ভালো বই আর হয় না  \n",
            " 1\n",
            "বিশেষ কিছু বলতে চাচ্ছি না এক কথায় অসাধারণ   বাকিটুকু পাঠকেরা নিজে পড়ে বুঝে নিন   \n",
            " 1\n",
            "লেখনি ভাল লাগেনি  ব্যঙ্গমা  ব্যঙ্গমি             \n",
            " 0\n",
            "এ ধরণের বইয়ে একটা ফাতরা ক্যারেক্টার থাকাই যথেষ্ট ছিল  সেখানে মৃন্ময়ীর দাদা  তার মা  মৃন্ময়ী নিজে  জহিরের বোন মিনা  তার স্বামী সবুজ টিয়া  এতগুলো ফাতরা আহ্লাদি ক্যারেক্টার না থাকাটাই ভাল হত  যারা আজ চিত্রার বিয়ে বইটি পড়েছেন  যারা একটু লক্ষ্য করলেই দেখবেন ওই বইয়ের প্লট খানিকটা ঘুরিয়ে ফিরিয়ে লেখা  সেই অসহায় মিথ্যাবাদী বোন  চুরির অভ্যাস  নির্দিষ্ট সময়ে কারও টেলিফোন ইত্যাদি  হুমায়ূন আহমেদ আমার অন্যতম প্রিয় লেখক  তার বইতে সচরাচর আমি এক তারা দেই না  এই বইতে দিতে বাধ্য হলাম  \n",
            " 0\n"
          ]
        }
      ]
    },
    {
      "cell_type": "markdown",
      "metadata": {
        "id": "YM2k9wW_HzH0"
      },
      "source": [
        "# Data Preprocessing\n"
      ]
    },
    {
      "cell_type": "markdown",
      "source": [
        "###Tokenization"
      ],
      "metadata": {
        "id": "nhEbT17mgWEM"
      }
    },
    {
      "cell_type": "code",
      "metadata": {
        "id": "3oodHieOJK20",
        "outputId": "7810e51e-fa86-4e1d-cbfb-5accbdbe005e",
        "colab": {
          "base_uri": "https://localhost:8080/"
        }
      },
      "source": [
        "%%time\n",
        "max_words = 100000\n",
        "\n",
        "from keras.preprocessing.text import Tokenizer\n",
        "\n",
        "tokenizer = Tokenizer(num_words = max_words, filters='!\"#$%&()*+,-./:;<=>?@[\\\\]^_`{|}~\\t\\n-', \n",
        "                      split=' ', char_level=False, oov_token=None, document_count=0)\n",
        "\n",
        "tokenizer.fit_on_texts(dataset['cleaned'])"
      ],
      "execution_count": 60,
      "outputs": [
        {
          "output_type": "stream",
          "name": "stdout",
          "text": [
            "CPU times: user 59 ms, sys: 2.89 ms, total: 61.9 ms\n",
            "Wall time: 61.9 ms\n"
          ]
        }
      ]
    },
    {
      "cell_type": "markdown",
      "metadata": {
        "id": "ETMtFdGM1-HS"
      },
      "source": [
        "### Attributes of Tokenizer\n",
        "1. word_counts: A dictionary of words and their counts.\n",
        "\n",
        "2. word_docs: A dictionary of words and how many documents each appeared in.\n",
        "\n",
        "3. word_index: A dictionary of words and their uniquely assigned integers.\n",
        "\n",
        "4. document_count:An integer count of the total number of documents that were used to fit the Tokenizer.\n",
        "\n",
        "By using these attributes we can find the most frequent words and less frequent words and words that might be useful for our system"
      ]
    },
    {
      "cell_type": "code",
      "metadata": {
        "id": "lzv6GbepMDbj",
        "outputId": "5778d64c-d368-486b-c1ef-7ebb367f9eef",
        "colab": {
          "base_uri": "https://localhost:8080/"
        }
      },
      "source": [
        "%%time\n",
        "word_counts = tokenizer.word_counts\n",
        "word_docs = tokenizer.word_docs\n",
        "word_index = tokenizer.word_index\n",
        "document_count = tokenizer.document_count\n",
        "\n",
        "print(len(word_counts))"
      ],
      "execution_count": 61,
      "outputs": [
        {
          "output_type": "stream",
          "name": "stdout",
          "text": [
            "7585\n",
            "CPU times: user 1.78 ms, sys: 32 µs, total: 1.82 ms\n",
            "Wall time: 1.62 ms\n"
          ]
        }
      ]
    },
    {
      "cell_type": "code",
      "metadata": {
        "id": "1vsy4dms5XOf",
        "colab": {
          "base_uri": "https://localhost:8080/"
        },
        "outputId": "8b54efef-d36a-467b-99b3-140b65c2aeec"
      },
      "source": [
        "# Printing the values to understand their functions\n",
        "def print_func(i, j):\n",
        "    print(i, j)\n",
        "\n",
        "print(\"Words ===> Counts\")\n",
        "k = 0\n",
        "for (i, j) in word_counts.items():\n",
        "        print_func(i, j)\n",
        "        k+=1\n",
        "        if k== 10:\n",
        "          k=0\n",
        "          break\n",
        "\n",
        "print(\"\\nWords ===> Documents\")       \n",
        "for (i, j) in word_docs.items():\n",
        "        print_func(i, j)\n",
        "        k+=1\n",
        "        if k== 10:\n",
        "          k=0\n",
        "          break\n",
        "\n",
        "print(\"\\nWords ===> Index\")\n",
        "for (i, j) in word_index.items():\n",
        "        print_func(i, j)\n",
        "        k+=1\n",
        "        if k== 10:\n",
        "          k=0\n",
        "          break\n",
        "\n",
        "print(\"Total Number of Documents: \", document_count)"
      ],
      "execution_count": 17,
      "outputs": [
        {
          "output_type": "stream",
          "name": "stdout",
          "text": [
            "Words ===> Counts\n",
            "বই 1078\n",
            "টি 34\n",
            "আমার 294\n",
            "সংগ্রহে 11\n",
            "আছে 110\n",
            "এবং 158\n",
            "তা 84\n",
            "আমি 200\n",
            "পড়েছি 28\n",
            "সম্পর্কে 43\n",
            "\n",
            "Words ===> Documents\n",
            "যদি 50\n",
            "করেন 16\n",
            "রেমিটেন্স 1\n",
            "দেয়া 18\n",
            "তা 66\n",
            "থেকে 127\n",
            "এড্রেস 1\n",
            "ই 34\n",
            "ফরেন 1\n",
            "তার 98\n",
            "\n",
            "Words ===> Index\n",
            "বই 1\n",
            "এই 2\n",
            "বইটি 3\n",
            "না 4\n",
            "ভালো 5\n",
            "একটি 6\n",
            "অনেক 7\n",
            "জন্য 8\n",
            "একটা 9\n",
            "আমার 10\n",
            "Total Number of Documents:  1444\n"
          ]
        }
      ]
    },
    {
      "cell_type": "markdown",
      "metadata": {
        "id": "vFc3LGoR_fP6"
      },
      "source": [
        "### Frequency Distribution of Data Length\n",
        "Here frequency of each length will be counted to find out which lenth size is more appropiate at the time of using pad sequences. we all plot this frequency in histogram to get a visual understanding."
      ]
    },
    {
      "cell_type": "code",
      "metadata": {
        "id": "oJPdowxO2djN"
      },
      "source": [
        "Length_frequency = {}\n",
        "\n",
        "for i in range(len(dataset)):\n",
        "     index = len(dataset['cleaned'][i])\n",
        "     Length_frequency[index] = Length_frequency.get(index, 0)+1\n"
      ],
      "execution_count": null,
      "outputs": []
    },
    {
      "cell_type": "code",
      "metadata": {
        "id": "ObYh1_69__sm",
        "outputId": "a50435b0-19d8-467a-c0b3-bb3159a69705",
        "colab": {
          "base_uri": "https://localhost:8080/",
          "height": 312
        }
      },
      "source": [
        "import seaborn as sns\n",
        "\n",
        "plt.bar(list(Length_frequency.keys()), Length_frequency.values(), color ='b')\n",
        "plt.xlim(1, 1024)\n",
        "\n",
        "plt.xlabel('Lenght of the Texts')\n",
        "plt.ylabel('Frequency')\n",
        "plt.title('Length-Frequency Distribution')"
      ],
      "execution_count": null,
      "outputs": [
        {
          "output_type": "execute_result",
          "data": {
            "text/plain": [
              "Text(0.5, 1.0, 'Length-Frequency Distribution')"
            ]
          },
          "metadata": {},
          "execution_count": 29
        },
        {
          "output_type": "display_data",
          "data": {
            "text/plain": [
              "<Figure size 432x288 with 1 Axes>"
            ],
            "image/png": "[encoded data removed]"
          },
          "metadata": {
            "needs_background": "light"
          }
        }
      ]
    },
    {
      "cell_type": "markdown",
      "metadata": {
        "id": "-xM_wOx_AagP"
      },
      "source": [
        "### Encoding Data into Numbers\n",
        "To encode our text into numbers we will use  text_to_word_sequence function from keras."
      ]
    },
    {
      "cell_type": "code",
      "metadata": {
        "id": "LbgdLu9vAGvP",
        "outputId": "abb2235e-7116-431b-9b62-311f91f44e19",
        "colab": {
          "base_uri": "https://localhost:8080/"
        }
      },
      "source": [
        "%%time\n",
        "# Convert string into list of integer indices\n",
        "sequences = tokenizer.texts_to_sequences(dataset['cleaned'])"
      ],
      "execution_count": 62,
      "outputs": [
        {
          "output_type": "stream",
          "name": "stdout",
          "text": [
            "CPU times: user 47.1 ms, sys: 963 µs, total: 48.1 ms\n",
            "Wall time: 49.1 ms\n"
          ]
        }
      ]
    },
    {
      "cell_type": "code",
      "metadata": {
        "id": "T1Qvg7bdCL3C",
        "outputId": "6c238f0b-53c3-4060-870e-42d8bd25cd4e",
        "colab": {
          "base_uri": "https://localhost:8080/"
        }
      },
      "source": [
        "word_index = tokenizer.word_index\n",
        "print('Found %s unique tokens.' % len(word_index))\n",
        "# print(dataset['cleaned'][3])\n",
        "# print(sequences[1])"
      ],
      "execution_count": 63,
      "outputs": [
        {
          "output_type": "stream",
          "name": "stdout",
          "text": [
            "Found 7585 unique tokens.\n"
          ]
        }
      ]
    },
    {
      "cell_type": "markdown",
      "metadata": {
        "id": "81kfSrIqSzsA"
      },
      "source": [
        "### Pad Sequence\n",
        "To make all the texts fo the same length we will use pad sequence from keras to standardize their length.\n",
        "\n",
        "Corpus contain our final processed data and labels contains the labels of associated data."
      ]
    },
    {
      "cell_type": "code",
      "metadata": {
        "id": "CskRP6BES2VF",
        "outputId": "e022c261-3f09-457c-84b4-0ae3ca391956",
        "colab": {
          "base_uri": "https://localhost:8080/"
        }
      },
      "source": [
        "%%time\n",
        "## Before padding length of different training examples \n",
        "mx = len(sequences[0])\n",
        "for x in sequences:\n",
        "  mx =max(mx, len(x))\n",
        "print(\"Maximum Text length\",mx)\n",
        "\n",
        "##We can also determine maxlen by plotting the frequency distribution of the lengths\n",
        "corpus = keras.preprocessing.sequence.pad_sequences(sequences, value=0.0, padding='post', maxlen= 100)\n",
        "## We get the maxlen value from the Length frequency distribution\n",
        "\n",
        "print(corpus[1])\n"
      ],
      "execution_count": 64,
      "outputs": [
        {
          "output_type": "stream",
          "name": "stdout",
          "text": [
            "Maximum Text length 568\n",
            "[111   1 121 121 153 173   0   0   0   0   0   0   0   0   0   0   0   0\n",
            "   0   0   0   0   0   0   0   0   0   0   0   0   0   0   0   0   0   0\n",
            "   0   0   0   0   0   0   0   0   0   0   0   0   0   0   0   0   0   0\n",
            "   0   0   0   0   0   0   0   0   0   0   0   0   0   0   0   0   0   0\n",
            "   0   0   0   0   0   0   0   0   0   0   0   0   0   0   0   0   0   0\n",
            "   0   0   0   0   0   0   0   0   0   0]\n",
            "CPU times: user 9.61 ms, sys: 1.06 ms, total: 10.7 ms\n",
            "Wall time: 11.5 ms\n"
          ]
        }
      ]
    },
    {
      "cell_type": "code",
      "metadata": {
        "id": "FeEF30RXlzgL",
        "colab": {
          "base_uri": "https://localhost:8080/"
        },
        "outputId": "9106b203-4e64-446a-8248-81408481e0b6"
      },
      "source": [
        "print(\"Shape of the courpus: \", corpus.shape)\n",
        "\n",
        "for i in range(2):\n",
        "    print(dataset['cleaned'][i],\"\\n\",corpus[i])"
      ],
      "execution_count": 21,
      "outputs": [
        {
          "output_type": "stream",
          "name": "stdout",
          "text": [
            "Shape of the courpus:  (1444, 100)\n",
            "বই টি আমার সংগ্রহে আছে এবং তা আমি পড়েছি  বই টি সম্পর্কে যদি এক কথায় বলতে হয় তবে বলবো মন্দের ভালো   খুবই সাধারন মানের আলোচনা করা হয়েছে ফরেক্স নিয়ে তবে অপ্রয়োজনীয় গল্প লিখে আর নিজের প্রকাশিত বইয়ের বিজ্ঞাপন দিযে বইয়ের পেজের সংখ্যা বাড়ানো হয়েছে শুধু   কয়েকটি উদাহরন দিলে বুঝতে পারবে   ফরেন রেমিটেন্স কি কিভাবে দেশের কাজে লাগে কিভাবে ইমেল এড্রেস খুলতে হয় এসব আলাপ করা হয়েছে  কিন্তু লেখক তার বই তে ডিফল্ট করা কোন ইন্ডিকেটর ই এ ট্রেডিং প্ল্যান  মানি মেনেজমেন্টে ইত্যাদি নিয়ে এক বর্ন আলোচনা করেন নাই  এমন কি ট্রেডিং প্লাটফর্মের বিভিন্ন অপশন নিয়ে দায়সারা বর্নণা দিয়েছেন  সাথে রয়েছে অসংখ্য বানান ভুল  বইয়ের ৪৭৯ টি পেজের মধ্য ৩২২ থেকে ৪৭৯ নাম্বার পেজ পর্যন্ত ১৫৭ টি পেজে যা রয়েছে তা  অতিকথন  বা  পুনরায় প্রচার  ছাড়া কিছুই না  একটি টিউটোরিয়াল সিডি দেয়া হয়েছে  তা অতি স্বল্প আলোচনা করা হয়েছে  \n",
            " [3076   30 1426  778 1427   20  121  694  695  902  193  396 3077 3078\n",
            "   60  130  696  214  107  130 3079 3080 3081   32  460 1918   39   20\n",
            "   38   33   36    1  505 3082   39   42 3083  131   51 1111 3084 1919\n",
            " 3085  607   37   21 3086  504  304   61   48   60 1111 3087  250 3088\n",
            "   37 3089 1920  305   47  194  352  225  116   30 1921  150 1426 1428\n",
            " 3090   28 1921 1922  506  205 3091  150 1112   63  194   55 3092  106\n",
            " 3093 3094  353  180    4    6  779 3095  289   20   55  372 3096  504\n",
            "   39   20]\n",
            "ফালতু বই  শুধু শুধু টাকা নষ্ট  \n",
            " [111   1 121 121 153 173   0   0   0   0   0   0   0   0   0   0   0   0\n",
            "   0   0   0   0   0   0   0   0   0   0   0   0   0   0   0   0   0   0\n",
            "   0   0   0   0   0   0   0   0   0   0   0   0   0   0   0   0   0   0\n",
            "   0   0   0   0   0   0   0   0   0   0   0   0   0   0   0   0   0   0\n",
            "   0   0   0   0   0   0   0   0   0   0   0   0   0   0   0   0   0   0\n",
            "   0   0   0   0   0   0   0   0   0   0]\n"
          ]
        }
      ]
    },
    {
      "cell_type": "markdown",
      "metadata": {
        "id": "ASUG83vgUJLV"
      },
      "source": [
        "## Creating Train, Test and Validation set\n"
      ]
    },
    {
      "cell_type": "code",
      "source": [
        "X_train,X_test,y_train,y_test = train_test_split(corpus,dataset['liked'],test_size = 0.2, random_state = 0)\n",
        "\n",
        "print(\"Training Size: \",X_train.shape)\n",
        "print(\"Test Size: \",X_test.shape)"
      ],
      "metadata": {
        "colab": {
          "base_uri": "https://localhost:8080/"
        },
        "id": "rc7GLijS-WeN",
        "outputId": "8c1dabf7-0604-4a74-e29e-6e79fc2b742c"
      },
      "execution_count": 65,
      "outputs": [
        {
          "output_type": "stream",
          "name": "stdout",
          "text": [
            "Training Size:  (1155, 100)\n",
            "Test Size:  (289, 100)\n"
          ]
        }
      ]
    },
    {
      "cell_type": "markdown",
      "metadata": {
        "id": "pEeqaUeQyemO"
      },
      "source": [
        "## Single Layer LSTM with Keras Embedding\n"
      ]
    },
    {
      "cell_type": "code",
      "source": [
        "# Keras Functional API\n",
        "\n",
        "import tensorflow as tf\n",
        "from tensorflow import keras\n",
        "from keras.layers import Input, Dense, Activation, Dropout,Flatten,Embedding\n",
        "from keras.layers import Conv1D,MaxPooling1D,GlobalAveragePooling1D, Bidirectional, LSTM, GRU\n",
        "from keras.models import Model\n",
        "from tensorflow.keras.optimizers import Adam,SGD,Nadam,RMSprop\n",
        "from tensorflow.keras.models import load_model"
      ],
      "metadata": {
        "id": "y75Kki_tJM2_"
      },
      "execution_count": 66,
      "outputs": []
    },
    {
      "cell_type": "code",
      "metadata": {
        "outputId": "ad412ebb-0ede-41b9-8ab4-7a7286ef29cb",
        "colab": {
          "base_uri": "https://localhost:8080/"
        },
        "id": "GYoG2xa1Q812"
      },
      "source": [
        "keras.backend.clear_session()\n",
        "\n",
        "max_length = 100\n",
        "embedding_dim = 64\n",
        "number_of_classes = len(dataset['liked'].unique())\n",
        "\n",
        "# define bilstm model\n",
        "\n",
        "def lstm():\n",
        "\n",
        "\n",
        "   ###### BiLSTM Model #######\n",
        "  bi_text_inputs = Input(shape=(max_length,))\n",
        "  bi_embedding_layer = Embedding(max_words,embedding_dim)(bi_text_inputs)\n",
        "  LSTM_Layer_1 = Bidirectional(LSTM(32))(bi_embedding_layer)\n",
        "  bi_dense_layer_1 = Dense(1, activation='sigmoid')(LSTM_Layer_1)\n",
        "  bilstm_model = Model(inputs=bi_text_inputs, outputs=bi_dense_layer_1)\n",
        "\n",
        "\n",
        "  return bilstm_model\n",
        "\n",
        "# call the model\n",
        "lstm_model = lstm()\n",
        "\n",
        "lstm_model.summary()"
      ],
      "execution_count": 34,
      "outputs": [
        {
          "output_type": "stream",
          "name": "stdout",
          "text": [
            "Model: \"model\"\n",
            "_________________________________________________________________\n",
            " Layer (type)                Output Shape              Param #   \n",
            "=================================================================\n",
            " input_1 (InputLayer)        [(None, 100)]             0         \n",
            "                                                                 \n",
            " embedding (Embedding)       (None, 100, 64)           6400000   \n",
            "                                                                 \n",
            " bidirectional (Bidirectiona  (None, 64)               24832     \n",
            " l)                                                              \n",
            "                                                                 \n",
            " dense (Dense)               (None, 1)                 65        \n",
            "                                                                 \n",
            "=================================================================\n",
            "Total params: 6,424,897\n",
            "Trainable params: 6,424,897\n",
            "Non-trainable params: 0\n",
            "_________________________________________________________________\n"
          ]
        }
      ]
    },
    {
      "cell_type": "code",
      "metadata": {
        "id": "OYeCNPk6Q813"
      },
      "source": [
        "lstm_model.compile(optimizer = 'adam',\n",
        "                      loss = 'binary_crossentropy',\n",
        "                      metrics =['accuracy'])"
      ],
      "execution_count": 35,
      "outputs": []
    },
    {
      "cell_type": "code",
      "metadata": {
        "outputId": "d9eb7476-394a-4e72-dcd7-29ad54312411",
        "colab": {
          "base_uri": "https://localhost:8080/"
        },
        "id": "jiaomGWEQ813"
      },
      "source": [
        "%%time\n",
        "history = lstm_model.fit(X_train,\n",
        "                              y_train,\n",
        "                              epochs = 20,\n",
        "                              batch_size = 16,\n",
        "                              verbose = 1,\n",
        "                              validation_split =0.1)"
      ],
      "execution_count": 36,
      "outputs": [
        {
          "output_type": "stream",
          "name": "stdout",
          "text": [
            "Epoch 1/20\n",
            "65/65 [==============================] - 5s 27ms/step - loss: 0.6003 - accuracy: 0.6843 - val_loss: 0.5529 - val_accuracy: 0.6724\n",
            "Epoch 2/20\n",
            "65/65 [==============================] - 1s 14ms/step - loss: 0.3332 - accuracy: 0.8662 - val_loss: 0.3431 - val_accuracy: 0.8707\n",
            "Epoch 3/20\n",
            "65/65 [==============================] - 1s 14ms/step - loss: 0.1322 - accuracy: 0.9769 - val_loss: 0.2630 - val_accuracy: 0.8879\n",
            "Epoch 4/20\n",
            "65/65 [==============================] - 1s 13ms/step - loss: 0.0540 - accuracy: 0.9913 - val_loss: 0.2029 - val_accuracy: 0.9138\n",
            "Epoch 5/20\n",
            "65/65 [==============================] - 1s 13ms/step - loss: 0.0305 - accuracy: 0.9952 - val_loss: 0.3007 - val_accuracy: 0.8879\n",
            "Epoch 6/20\n",
            "65/65 [==============================] - 1s 14ms/step - loss: 0.0221 - accuracy: 0.9971 - val_loss: 0.2227 - val_accuracy: 0.9397\n",
            "Epoch 7/20\n",
            "65/65 [==============================] - 1s 13ms/step - loss: 0.0134 - accuracy: 0.9990 - val_loss: 0.2113 - val_accuracy: 0.9483\n",
            "Epoch 8/20\n",
            "65/65 [==============================] - 1s 13ms/step - loss: 0.0106 - accuracy: 0.9990 - val_loss: 0.2255 - val_accuracy: 0.9483\n",
            "Epoch 9/20\n",
            "65/65 [==============================] - 1s 13ms/step - loss: 0.0081 - accuracy: 0.9990 - val_loss: 0.2010 - val_accuracy: 0.9483\n",
            "Epoch 10/20\n",
            "65/65 [==============================] - 1s 13ms/step - loss: 0.0203 - accuracy: 0.9962 - val_loss: 0.2544 - val_accuracy: 0.9310\n",
            "Epoch 11/20\n",
            "65/65 [==============================] - 1s 13ms/step - loss: 0.0187 - accuracy: 0.9962 - val_loss: 0.2169 - val_accuracy: 0.9138\n",
            "Epoch 12/20\n",
            "65/65 [==============================] - 1s 14ms/step - loss: 0.0057 - accuracy: 0.9990 - val_loss: 0.2339 - val_accuracy: 0.9310\n",
            "Epoch 13/20\n",
            "65/65 [==============================] - 1s 13ms/step - loss: 0.0050 - accuracy: 0.9981 - val_loss: 0.2332 - val_accuracy: 0.9310\n",
            "Epoch 14/20\n",
            "65/65 [==============================] - 1s 13ms/step - loss: 0.0046 - accuracy: 0.9981 - val_loss: 0.2410 - val_accuracy: 0.9397\n",
            "Epoch 15/20\n",
            "65/65 [==============================] - 1s 13ms/step - loss: 0.0040 - accuracy: 0.9990 - val_loss: 0.2126 - val_accuracy: 0.9397\n",
            "Epoch 16/20\n",
            "65/65 [==============================] - 1s 13ms/step - loss: 0.0036 - accuracy: 0.9990 - val_loss: 0.2326 - val_accuracy: 0.9310\n",
            "Epoch 17/20\n",
            "65/65 [==============================] - 1s 13ms/step - loss: 0.0111 - accuracy: 0.9962 - val_loss: 0.4433 - val_accuracy: 0.8621\n",
            "Epoch 18/20\n",
            "65/65 [==============================] - 1s 13ms/step - loss: 0.0051 - accuracy: 0.9990 - val_loss: 0.3754 - val_accuracy: 0.9052\n",
            "Epoch 19/20\n",
            "65/65 [==============================] - 1s 13ms/step - loss: 0.0038 - accuracy: 0.9990 - val_loss: 0.3730 - val_accuracy: 0.9052\n",
            "Epoch 20/20\n",
            "65/65 [==============================] - 1s 13ms/step - loss: 0.0033 - accuracy: 0.9981 - val_loss: 0.3741 - val_accuracy: 0.9052\n",
            "CPU times: user 23 s, sys: 1.76 s, total: 24.8 s\n",
            "Wall time: 21.3 s\n"
          ]
        }
      ]
    },
    {
      "cell_type": "markdown",
      "metadata": {
        "id": "7GikWSYEQ814"
      },
      "source": [
        "#### Plotting accuracy and loss graphs\n",
        "\n",
        "Finaly loss and accuracy graph is plotted to take some important decision such as after how many epochs our model starts to overfit, what batch size give us better result, whether we need to get more data or not."
      ]
    },
    {
      "cell_type": "code",
      "metadata": {
        "outputId": "6643a1d0-e598-4b87-d35f-e834dd58421b",
        "colab": {
          "base_uri": "https://localhost:8080/"
        },
        "id": "qdJjD5oDQ814"
      },
      "source": [
        "history_dict = history.history\n",
        "history_dict.keys()"
      ],
      "execution_count": 37,
      "outputs": [
        {
          "output_type": "execute_result",
          "data": {
            "text/plain": [
              "dict_keys(['loss', 'accuracy', 'val_loss', 'val_accuracy'])"
            ]
          },
          "metadata": {},
          "execution_count": 37
        }
      ]
    },
    {
      "cell_type": "code",
      "metadata": {
        "outputId": "568e5174-ec85-4099-8d29-c328192c1f5c",
        "colab": {
          "base_uri": "https://localhost:8080/",
          "height": 295
        },
        "id": "-qVmK5nSQ814"
      },
      "source": [
        "import matplotlib.pyplot as plt\n",
        "\n",
        "acc = history_dict['accuracy']\n",
        "val_acc = history_dict['val_accuracy']\n",
        "\n",
        "loss = history_dict['loss']\n",
        "val_loss = history_dict['val_loss']\n",
        "\n",
        "epochs = range(1, len(acc)+1)\n",
        "\n",
        "plt.plot(epochs, loss, 'r-', label='Training Loss')\n",
        "plt.plot(epochs, val_loss, 'g', label = 'Validation Loss')\n",
        "plt.title('Training and Validation loss')\n",
        "plt.legend()\n",
        "plt.xlabel('epochs')\n",
        "plt.ylabel('loss')\n",
        "plt.show()"
      ],
      "execution_count": 38,
      "outputs": [
        {
          "output_type": "display_data",
          "data": {
            "text/plain": [
              "<Figure size 432x288 with 1 Axes>"
            ],
            "image/png": "[encoded data removed]"
          },
          "metadata": {
            "needs_background": "light"
          }
        }
      ]
    },
    {
      "cell_type": "code",
      "metadata": {
        "outputId": "43118563-095a-4eb5-91e9-7feea3e4f570",
        "colab": {
          "base_uri": "https://localhost:8080/",
          "height": 312
        },
        "id": "UZKEzlyEQ815"
      },
      "source": [
        "plt.clf()   # clear figure\n",
        "\n",
        "plt.plot(epochs, acc, 'y', label='Training acc')\n",
        "plt.plot(epochs, val_acc, 'b', label='Validation acc')\n",
        "plt.title('Training and validation accuracy')\n",
        "plt.xlabel('Epochs')\n",
        "plt.ylabel('Accuracy')\n",
        "plt.legend()\n"
      ],
      "execution_count": 39,
      "outputs": [
        {
          "output_type": "execute_result",
          "data": {
            "text/plain": [
              "<matplotlib.legend.Legend at 0x7f6d501c66d0>"
            ]
          },
          "metadata": {},
          "execution_count": 39
        },
        {
          "output_type": "display_data",
          "data": {
            "text/plain": [
              "<Figure size 432x288 with 1 Axes>"
            ],
            "image/png": "[encoded data removed]"
          },
          "metadata": {
            "needs_background": "light"
          }
        }
      ]
    },
    {
      "cell_type": "code",
      "metadata": {
        "id": "o8SJR_DqQ815"
      },
      "source": [
        "y_pred = lstm_model.predict(X_test)\n",
        "y_pred = (y_pred>0.5).astype('int')\n",
        "y_pred"
      ],
      "execution_count": null,
      "outputs": []
    },
    {
      "cell_type": "markdown",
      "source": [
        "###Performance "
      ],
      "metadata": {
        "id": "OKQ9GnUcVm_H"
      }
    },
    {
      "cell_type": "code",
      "source": [
        "print(classification_report(y_test,y_pred))"
      ],
      "metadata": {
        "colab": {
          "base_uri": "https://localhost:8080/"
        },
        "id": "8vg1GKT8VOnG",
        "outputId": "2f6aa06d-669a-4242-e4c2-8df5f2e651bb"
      },
      "execution_count": 44,
      "outputs": [
        {
          "output_type": "stream",
          "name": "stdout",
          "text": [
            "              precision    recall  f1-score   support\n",
            "\n",
            "           0       0.84      0.79      0.81       102\n",
            "           1       0.89      0.91      0.90       187\n",
            "\n",
            "    accuracy                           0.87       289\n",
            "   macro avg       0.86      0.85      0.86       289\n",
            "weighted avg       0.87      0.87      0.87       289\n",
            "\n"
          ]
        }
      ]
    },
    {
      "cell_type": "code",
      "source": [
        "confusion_matrix(y_test,y_pred)"
      ],
      "metadata": {
        "colab": {
          "base_uri": "https://localhost:8080/"
        },
        "id": "w94M9j2oVV_Z",
        "outputId": "4c1874ef-1c4b-40da-8c58-bad415fe8e48"
      },
      "execution_count": 45,
      "outputs": [
        {
          "output_type": "execute_result",
          "data": {
            "text/plain": [
              "array([[ 81,  21],\n",
              "       [ 16, 171]])"
            ]
          },
          "metadata": {},
          "execution_count": 45
        }
      ]
    },
    {
      "cell_type": "markdown",
      "metadata": {
        "id": "NdG7oqhdxWIM"
      },
      "source": [
        "# Stacked LSTM\n",
        "\n",
        "\n"
      ]
    },
    {
      "cell_type": "markdown",
      "source": [
        "###Checkpoint"
      ],
      "metadata": {
        "id": "Xd4hpbq3YMpx"
      }
    },
    {
      "cell_type": "code",
      "source": [
        "''' Callbacks with Checkpoint'''\n",
        "\n",
        "accuracy_threshold = 0.99\n",
        "\n",
        "class myCallback(keras.callbacks.Callback):\n",
        "  def on_epoch_end(self, epoch, logs={}):\n",
        "      if(logs.get('accuracy')>accuracy_threshold):\n",
        "        print(\"\\nReached %2.2f%% accuracy so we will stop trianing\" % (accuracy_threshold*100))\n",
        "        self.model.stop_training = True\n",
        "\n",
        "acc_callback = myCallback()\n",
        "  # Saved the Best Model\n",
        "filepath = \"mymodel.h5\"\n",
        "checkpoint = keras.callbacks.ModelCheckpoint(filepath, monitor='val_accuracy', verbose=2, save_best_only=True, \n",
        "                                             save_weights_only=False, mode='max')\n",
        "  # callback list\n",
        "callback_list = [acc_callback, checkpoint] \n"
      ],
      "metadata": {
        "id": "ICHqDfEpYOnx"
      },
      "execution_count": 46,
      "outputs": []
    },
    {
      "cell_type": "code",
      "metadata": {
        "outputId": "15052110-199f-40c4-f3b4-e070df216712",
        "colab": {
          "base_uri": "https://localhost:8080/"
        },
        "id": "CJEzf25E-u8o"
      },
      "source": [
        "keras.backend.clear_session()\n",
        "\n",
        "max_length = 100\n",
        "embedding_dim = 64\n",
        "number_of_classes = len(dataset['liked'].unique())\n",
        "\n",
        "# define bilstm model\n",
        "\n",
        "def stacked_lstm():\n",
        "\n",
        "\n",
        "   ###### BiLSTM Model #######\n",
        "  bi_text_inputs = Input(shape=(max_length,))\n",
        "  bi_embedding_layer = Embedding(max_words,embedding_dim)(bi_text_inputs)\n",
        "  LSTM_Layer_1 = Bidirectional(LSTM(16,return_sequences = True))(bi_embedding_layer)\n",
        "  LSTM_Layer_2 = Bidirectional(LSTM(8))(LSTM_Layer_1)\n",
        "  bi_dense_layer_1 = Dense(1, activation='sigmoid')(LSTM_Layer_2)\n",
        "  bilstm_model = Model(inputs=bi_text_inputs, outputs=bi_dense_layer_1)\n",
        "\n",
        "\n",
        "  return bilstm_model\n",
        "\n",
        "# call the model\n",
        "stacked_lstm_model = stacked_lstm()\n",
        "\n",
        "stacked_lstm_model.summary()"
      ],
      "execution_count": 48,
      "outputs": [
        {
          "output_type": "stream",
          "name": "stdout",
          "text": [
            "Model: \"model\"\n",
            "_________________________________________________________________\n",
            " Layer (type)                Output Shape              Param #   \n",
            "=================================================================\n",
            " input_1 (InputLayer)        [(None, 100)]             0         \n",
            "                                                                 \n",
            " embedding (Embedding)       (None, 100, 64)           6400000   \n",
            "                                                                 \n",
            " bidirectional (Bidirectiona  (None, 100, 32)          10368     \n",
            " l)                                                              \n",
            "                                                                 \n",
            " bidirectional_1 (Bidirectio  (None, 16)               2624      \n",
            " nal)                                                            \n",
            "                                                                 \n",
            " dense (Dense)               (None, 1)                 17        \n",
            "                                                                 \n",
            "=================================================================\n",
            "Total params: 6,413,009\n",
            "Trainable params: 6,413,009\n",
            "Non-trainable params: 0\n",
            "_________________________________________________________________\n"
          ]
        }
      ]
    },
    {
      "cell_type": "code",
      "metadata": {
        "id": "dpQtDPlP-u8r"
      },
      "source": [
        "stacked_lstm_model.compile(optimizer = 'adam',\n",
        "                      loss = 'binary_crossentropy',\n",
        "                      metrics =['accuracy'])"
      ],
      "execution_count": 50,
      "outputs": []
    },
    {
      "cell_type": "code",
      "metadata": {
        "outputId": "27c779e7-bf49-4feb-fbef-7fd7a39cc833",
        "colab": {
          "base_uri": "https://localhost:8080/"
        },
        "id": "jZv45WN6-u8s"
      },
      "source": [
        "%%time\n",
        "history = stacked_lstm_model.fit(X_train,\n",
        "                              y_train,\n",
        "                              epochs = 20,\n",
        "                              batch_size = 16,\n",
        "                              verbose = 1,\n",
        "                              validation_split =0.1,\n",
        "                              callbacks = callback_list)"
      ],
      "execution_count": 51,
      "outputs": [
        {
          "output_type": "stream",
          "name": "stdout",
          "text": [
            "Epoch 1/20\n",
            "64/65 [============================>.] - ETA: 0s - loss: 0.6182 - accuracy: 0.6689\n",
            "Epoch 1: val_accuracy improved from -inf to 0.67241, saving model to mymodel.h5\n",
            "65/65 [==============================] - 68s 973ms/step - loss: 0.6183 - accuracy: 0.6689 - val_loss: 0.5919 - val_accuracy: 0.6724\n",
            "Epoch 2/20\n",
            "64/65 [============================>.] - ETA: 0s - loss: 0.3859 - accuracy: 0.8369\n",
            "Epoch 2: val_accuracy improved from 0.67241 to 0.86207, saving model to mymodel.h5\n",
            "65/65 [==============================] - 2s 32ms/step - loss: 0.3835 - accuracy: 0.8383 - val_loss: 0.3508 - val_accuracy: 0.8621\n",
            "Epoch 3/20\n",
            "64/65 [============================>.] - ETA: 0s - loss: 0.1124 - accuracy: 0.9727\n",
            "Epoch 3: val_accuracy improved from 0.86207 to 0.89655, saving model to mymodel.h5\n",
            "65/65 [==============================] - 2s 24ms/step - loss: 0.1112 - accuracy: 0.9731 - val_loss: 0.3302 - val_accuracy: 0.8966\n",
            "Epoch 4/20\n",
            "64/65 [============================>.] - ETA: 0s - loss: 0.0386 - accuracy: 0.9951\n",
            "Reached 99.00% accuracy so we will stop trianing\n",
            "\n",
            "Epoch 4: val_accuracy improved from 0.89655 to 0.91379, saving model to mymodel.h5\n",
            "65/65 [==============================] - 2s 25ms/step - loss: 0.0383 - accuracy: 0.9952 - val_loss: 0.2580 - val_accuracy: 0.9138\n",
            "CPU times: user 13.7 s, sys: 1.07 s, total: 14.8 s\n",
            "Wall time: 1min 12s\n"
          ]
        }
      ]
    },
    {
      "cell_type": "code",
      "metadata": {
        "id": "SspQFcjk__M7"
      },
      "source": [
        "y_pred = stacked_lstm_model.predict(X_test)\n",
        "y_pred = (y_pred>0.5).astype('int')\n",
        "y_pred"
      ],
      "execution_count": null,
      "outputs": []
    },
    {
      "cell_type": "markdown",
      "source": [
        "###Performance "
      ],
      "metadata": {
        "id": "rqCeQ3oP__M8"
      }
    },
    {
      "cell_type": "code",
      "source": [
        "print(classification_report(y_test,y_pred))"
      ],
      "metadata": {
        "colab": {
          "base_uri": "https://localhost:8080/"
        },
        "outputId": "63fdc4e1-8170-48b3-f7c4-f24cebef4a16",
        "id": "1Zo8PewH__M9"
      },
      "execution_count": 53,
      "outputs": [
        {
          "output_type": "stream",
          "name": "stdout",
          "text": [
            "              precision    recall  f1-score   support\n",
            "\n",
            "           0       0.88      0.77      0.82       102\n",
            "           1       0.88      0.94      0.91       187\n",
            "\n",
            "    accuracy                           0.88       289\n",
            "   macro avg       0.88      0.86      0.87       289\n",
            "weighted avg       0.88      0.88      0.88       289\n",
            "\n"
          ]
        }
      ]
    },
    {
      "cell_type": "code",
      "source": [
        "confusion_matrix(y_test,y_pred)"
      ],
      "metadata": {
        "colab": {
          "base_uri": "https://localhost:8080/"
        },
        "outputId": "2120a013-1faf-4122-a4e8-4e3925208f80",
        "id": "jkC3o9xy__M9"
      },
      "execution_count": 54,
      "outputs": [
        {
          "output_type": "execute_result",
          "data": {
            "text/plain": [
              "array([[ 79,  23],\n",
              "       [ 11, 176]])"
            ]
          },
          "metadata": {},
          "execution_count": 54
        }
      ]
    },
    {
      "cell_type": "markdown",
      "source": [
        "# BiLSTM + CNN"
      ],
      "metadata": {
        "id": "1GLWpt4WIp8z"
      }
    },
    {
      "cell_type": "code",
      "source": [
        "keras.backend.clear_session()\n",
        "\n",
        "max_length = 100\n",
        "embedding_dim = 64\n",
        "number_of_classes = len(dataset['liked'].unique())\n",
        "\n",
        "# define bilstm + Cnn model\n",
        "\n",
        "def lstm_cnn():\n",
        "\n",
        "\n",
        "  lc_text_inputs = Input(shape=(max_length,))\n",
        "  lc_embedding_layer = Embedding(max_words,embedding_dim)(lc_text_inputs)\n",
        "  LSTM_Layer = Bidirectional(LSTM(32,return_sequences=True))(lc_embedding_layer)\n",
        "  lc_conv1 = Conv1D(32,2,activation='relu')(LSTM_Layer)\n",
        "  lc_pool1 = MaxPooling1D(2)(lc_conv1)\n",
        "  lc_flat = Flatten()(lc_pool1)\n",
        "  lc_dense_layer_1 = Dense(1, activation='sigmoid')(lc_flat)\n",
        "  cnn_lstm_model = Model(inputs=lc_text_inputs, outputs=lc_dense_layer_1)\n",
        "\n",
        "\n",
        "  return cnn_lstm_model\n",
        "\n",
        "# call the model\n",
        "lstm_cnn_model = lstm_cnn()\n",
        "\n",
        "lstm_cnn_model.summary()"
      ],
      "metadata": {
        "colab": {
          "base_uri": "https://localhost:8080/"
        },
        "id": "yAdOa6unIs-A",
        "outputId": "c58459c2-2db4-405d-8357-af188c86e6aa"
      },
      "execution_count": 67,
      "outputs": [
        {
          "output_type": "stream",
          "name": "stdout",
          "text": [
            "Model: \"model\"\n",
            "_________________________________________________________________\n",
            " Layer (type)                Output Shape              Param #   \n",
            "=================================================================\n",
            " input_1 (InputLayer)        [(None, 100)]             0         \n",
            "                                                                 \n",
            " embedding (Embedding)       (None, 100, 64)           6400000   \n",
            "                                                                 \n",
            " bidirectional (Bidirectiona  (None, 100, 64)          24832     \n",
            " l)                                                              \n",
            "                                                                 \n",
            " conv1d (Conv1D)             (None, 99, 32)            4128      \n",
            "                                                                 \n",
            " max_pooling1d (MaxPooling1D  (None, 49, 32)           0         \n",
            " )                                                               \n",
            "                                                                 \n",
            " flatten (Flatten)           (None, 1568)              0         \n",
            "                                                                 \n",
            " dense (Dense)               (None, 1)                 1569      \n",
            "                                                                 \n",
            "=================================================================\n",
            "Total params: 6,430,529\n",
            "Trainable params: 6,430,529\n",
            "Non-trainable params: 0\n",
            "_________________________________________________________________\n"
          ]
        }
      ]
    },
    {
      "cell_type": "code",
      "metadata": {
        "id": "XpyOybVIJct4"
      },
      "source": [
        "lstm_cnn_model.compile(optimizer = 'adam',\n",
        "                      loss = 'binary_crossentropy',\n",
        "                      metrics =['accuracy'])"
      ],
      "execution_count": 68,
      "outputs": []
    },
    {
      "cell_type": "code",
      "metadata": {
        "outputId": "f3a15732-5dec-4599-cd1b-4db41d65654d",
        "colab": {
          "base_uri": "https://localhost:8080/"
        },
        "id": "uYOBYlykJct4"
      },
      "source": [
        "%%time\n",
        "history = lstm_cnn_model.fit(X_train,\n",
        "                              y_train,\n",
        "                              epochs = 20,\n",
        "                              batch_size = 16,\n",
        "                              verbose = 1,\n",
        "                              validation_split =0.1,\n",
        "                              callbacks = callback_list)"
      ],
      "execution_count": 69,
      "outputs": [
        {
          "output_type": "stream",
          "name": "stdout",
          "text": [
            "Epoch 1/20\n",
            "65/65 [==============================] - ETA: 0s - loss: 0.6167 - accuracy: 0.6737\n",
            "Epoch 1: val_accuracy did not improve from 0.91379\n",
            "65/65 [==============================] - 13s 42ms/step - loss: 0.6167 - accuracy: 0.6737 - val_loss: 0.6158 - val_accuracy: 0.6724\n",
            "Epoch 2/20\n",
            "64/65 [============================>.] - ETA: 0s - loss: 0.2581 - accuracy: 0.8994\n",
            "Epoch 2: val_accuracy did not improve from 0.91379\n",
            "65/65 [==============================] - 1s 23ms/step - loss: 0.2547 - accuracy: 0.9009 - val_loss: 0.3962 - val_accuracy: 0.8276\n",
            "Epoch 3/20\n",
            "64/65 [============================>.] - ETA: 0s - loss: 0.0664 - accuracy: 0.9775\n",
            "Epoch 3: val_accuracy did not improve from 0.91379\n",
            "65/65 [==============================] - 2s 31ms/step - loss: 0.0655 - accuracy: 0.9779 - val_loss: 0.4276 - val_accuracy: 0.8534\n",
            "Epoch 4/20\n",
            "64/65 [============================>.] - ETA: 0s - loss: 0.0264 - accuracy: 0.9912\n",
            "Reached 99.00% accuracy so we will stop trianing\n",
            "\n",
            "Epoch 4: val_accuracy did not improve from 0.91379\n",
            "65/65 [==============================] - 2s 26ms/step - loss: 0.0261 - accuracy: 0.9913 - val_loss: 0.4512 - val_accuracy: 0.8707\n",
            "CPU times: user 10.1 s, sys: 884 ms, total: 10.9 s\n",
            "Wall time: 18.5 s\n"
          ]
        }
      ]
    },
    {
      "cell_type": "code",
      "source": [
        "lstm_cnn = load_model(\"mymodel.h5\")"
      ],
      "metadata": {
        "id": "mkuIjCf5JotA"
      },
      "execution_count": 71,
      "outputs": []
    },
    {
      "cell_type": "code",
      "metadata": {
        "id": "z2KVdMxMJct5"
      },
      "source": [
        "y_pred = lstm_cnn.predict(X_test)\n",
        "y_pred = (y_pred>0.5).astype('int')\n",
        "y_pred"
      ],
      "execution_count": null,
      "outputs": []
    },
    {
      "cell_type": "markdown",
      "source": [
        "###Performance "
      ],
      "metadata": {
        "id": "WOjQZ5elJct5"
      }
    },
    {
      "cell_type": "code",
      "source": [
        "print(classification_report(y_test,y_pred))"
      ],
      "metadata": {
        "colab": {
          "base_uri": "https://localhost:8080/"
        },
        "outputId": "da6acc97-0ca2-43dd-c301-17bec5c16c4c",
        "id": "gBOvJag9Jct5"
      },
      "execution_count": 73,
      "outputs": [
        {
          "output_type": "stream",
          "name": "stdout",
          "text": [
            "              precision    recall  f1-score   support\n",
            "\n",
            "           0       0.88      0.77      0.82       102\n",
            "           1       0.88      0.94      0.91       187\n",
            "\n",
            "    accuracy                           0.88       289\n",
            "   macro avg       0.88      0.86      0.87       289\n",
            "weighted avg       0.88      0.88      0.88       289\n",
            "\n"
          ]
        }
      ]
    },
    {
      "cell_type": "code",
      "source": [
        "confusion_matrix(y_test,y_pred)"
      ],
      "metadata": {
        "colab": {
          "base_uri": "https://localhost:8080/"
        },
        "outputId": "2120a013-1faf-4122-a4e8-4e3925208f80",
        "id": "i6nMFS_5Jct6"
      },
      "execution_count": null,
      "outputs": [
        {
          "output_type": "execute_result",
          "data": {
            "text/plain": [
              "array([[ 79,  23],\n",
              "       [ 11, 176]])"
            ]
          },
          "metadata": {},
          "execution_count": 54
        }
      ]
    }
  ]
}