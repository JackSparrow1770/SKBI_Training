{
  "nbformat": 4,
  "nbformat_minor": 0,
  "metadata": {
    "colab": {
      "provenance": [],
      "collapsed_sections": [
        "KMyoaDOjs8hF"
      ],
      "authorship_tag": "ABX9TyMsUbOp9xhgxOZ8b27Kav28",
      "include_colab_link": true
    },
    "kernelspec": {
      "name": "python3",
      "display_name": "Python 3"
    },
    "language_info": {
      "name": "python"
    }
  },
  "cells": [
    {
      "cell_type": "markdown",
      "metadata": {
        "id": "view-in-github",
        "colab_type": "text"
      },
      "source": [
        "<a href=\"https://colab.research.google.com/github/eftekhar-hossain/SKBI_Training/blob/main/Session_10_(Regression).ipynb\" target=\"_parent\"><img src=\"https://colab.research.google.com/assets/colab-badge.svg\" alt=\"Open In Colab\"/></a>"
      ]
    },
    {
      "cell_type": "markdown",
      "source": [
        "<center> <h1> <u> <font color='red'> Training on AI and ML with Python (Intermediate) </font> </u> </h1> </center>"
      ],
      "metadata": {
        "id": "h18sS7Y7cHcK"
      }
    },
    {
      "cell_type": "markdown",
      "metadata": {
        "id": "_LXY86Xtc23Z"
      },
      "source": [
        "#Session-10: Simple Linear Regression\n",
        "\n",
        "\n",
        "\n",
        "###Objective: \n",
        " 1. Implement Linear Regression from scratch.\n",
        " 2. Introduce with Scikit Learn Library \n",
        " 3. Apply linear regression algorithm on a real world dataset.\n",
        " \n",
        "\n"
      ]
    },
    {
      "cell_type": "code",
      "metadata": {
        "id": "sr74smUBlWw7"
      },
      "source": [
        "import warnings\n",
        "warnings.filterwarnings(\"ignore\")"
      ],
      "execution_count": null,
      "outputs": []
    },
    {
      "cell_type": "markdown",
      "metadata": {
        "id": "ACPzUHjSiCsH"
      },
      "source": [
        "# Import the libraries"
      ]
    },
    {
      "cell_type": "code",
      "metadata": {
        "id": "O_zWgw13iDPA"
      },
      "source": [
        "import numpy as np        \n",
        "import pandas as pd     \n",
        "import matplotlib.pyplot as plt       "
      ],
      "execution_count": null,
      "outputs": []
    },
    {
      "cell_type": "markdown",
      "metadata": {
        "id": "wzFjn82Q6fWp"
      },
      "source": [
        "#Simple Linear Regression"
      ]
    },
    {
      "cell_type": "markdown",
      "metadata": {
        "id": "KjNpONjqiK0f"
      },
      "source": [
        "##Dataset"
      ]
    },
    {
      "cell_type": "code",
      "metadata": {
        "id": "-l8pYv-dhhk9"
      },
      "source": [
        "# Download the data\n",
        "!wget -O Salary_Data.csv https://www.dropbox.com/s/qq08pgcg9vbbztr/Salary_Data.csv?dl=0"
      ],
      "execution_count": null,
      "outputs": []
    },
    {
      "cell_type": "code",
      "metadata": {
        "id": "pAob0RHGiRjq"
      },
      "source": [
        "\"\"\"importing the dataset \"\"\"\n",
        "\n",
        "dataset = pd.read_csv('Salary_Data.csv')\n",
        "dataset.head(5)"
      ],
      "execution_count": null,
      "outputs": []
    },
    {
      "cell_type": "code",
      "metadata": {
        "id": "ki4sp9QwiuEz"
      },
      "source": [
        "# independent variable  or input feature\n",
        "feature = dataset[['YearsExperience']]  \n",
        "\n",
        "# dependent variable or output\n",
        "target = dataset[['Salary']] "
      ],
      "execution_count": null,
      "outputs": []
    },
    {
      "cell_type": "code",
      "metadata": {
        "id": "4pOhP_o4jKsy",
        "colab": {
          "base_uri": "https://localhost:8080/"
        },
        "outputId": "8ce97676-6df8-4da5-a5dd-d2c22077654f"
      },
      "source": [
        "feature"
      ],
      "execution_count": null,
      "outputs": [
        {
          "output_type": "execute_result",
          "data": {
            "text/plain": [
              "pandas.core.frame.DataFrame"
            ]
          },
          "metadata": {},
          "execution_count": 7
        }
      ]
    },
    {
      "cell_type": "code",
      "metadata": {
        "id": "vZsulkurjM-H"
      },
      "source": [
        "target"
      ],
      "execution_count": null,
      "outputs": []
    },
    {
      "cell_type": "markdown",
      "metadata": {
        "id": "azmcrMicoru3"
      },
      "source": [
        "##Splitting the Dataset"
      ]
    },
    {
      "cell_type": "code",
      "metadata": {
        "id": "Q8l1QMbuo0fq"
      },
      "source": [
        "from sklearn.model_selection import train_test_split"
      ],
      "execution_count": null,
      "outputs": []
    },
    {
      "cell_type": "code",
      "metadata": {
        "id": "QLjV41K_oxSg"
      },
      "source": [
        "\"\"\"Spliting the Dataset into Training Set and Test Set \"\"\"\n",
        "\n",
        "X_train,X_test,y_train,y_test=train_test_split(feature,target,test_size = 0.2,random_state = 0)\n",
        "# random_state = 0 is select to get the same result"
      ],
      "execution_count": null,
      "outputs": []
    },
    {
      "cell_type": "code",
      "source": [
        "X_train.values"
      ],
      "metadata": {
        "id": "Ot74ng44NmTR"
      },
      "execution_count": null,
      "outputs": []
    },
    {
      "cell_type": "code",
      "metadata": {
        "colab": {
          "base_uri": "https://localhost:8080/"
        },
        "id": "YDzGdXXrpBlc",
        "outputId": "8aafed92-de7a-47f1-e07c-5f937d8f173a"
      },
      "source": [
        "print(\"Training Set Size:\", X_train.shape)\n",
        "print(\"Test Set Size:\", X_test.shape)"
      ],
      "execution_count": null,
      "outputs": [
        {
          "output_type": "stream",
          "name": "stdout",
          "text": [
            "Training Set Size: (24, 1)\n",
            "Test Set Size: (6, 1)\n"
          ]
        }
      ]
    },
    {
      "cell_type": "code",
      "metadata": {
        "id": "kZJyLGIxInsG"
      },
      "source": [
        "X_test"
      ],
      "execution_count": null,
      "outputs": []
    },
    {
      "cell_type": "markdown",
      "source": [
        "#Implementation from scratch"
      ],
      "metadata": {
        "id": "SSSxRE_FOezf"
      }
    },
    {
      "cell_type": "markdown",
      "source": [
        "**The simplest form** of the regression equation with one dependent and one independent variable.\n",
        "\n",
        "$$h_\\theta(x) = \\theta_0+\\theta_1x$$\n",
        "\n",
        "where,\n",
        "\n",
        "- $h_\\theta(x)$ = estimated dependent value.\n",
        "- $\\theta_0$ = constant or bias.\n",
        "- $\\theta_1$ = regression coefficient or slope.\n",
        "- $x$ = value of the independent variable."
      ],
      "metadata": {
        "id": "te7UiVlWOngw"
      }
    },
    {
      "cell_type": "markdown",
      "source": [
        "**The cost function (or loss function)** is used to measure the performance of a machine learning model or quantifies the error between the expected values and the values predicted by our hypothetical function ($h_\\theta$). The cost function for Linear Regression is represented by $J$.\n",
        "\n",
        "$$J(\\theta_0,\\theta_1) = \\frac{1}{2m}∑_{i=1}^m (h_\\theta(x^{(i)}-y^{(i)})^2$$\n",
        "\n",
        "- Here, $m$ is the total number of training examples in the dataset.\n",
        "- $y^{(i)}$ represents the value of target variable for $i^{th}$ training example.\n",
        "\n",
        "So, our **objective** is to **minimize the cost function** $J$ (or improve the performance of our machine learning model). To do this, we have to find the weights ($\\theta_0, \\theta_1$) at which $J$ is minimum.  One such algorithm which can be used to minimize any differentiable function is **Gradient Descent**. It is a first-order iterative optimizing algorithm that takes us to a minimum of a function."
      ],
      "metadata": {
        "id": "8ZV2T3_uPmlk"
      }
    },
    {
      "cell_type": "markdown",
      "source": [
        "# Steps to Implement Gradient Descent\n",
        "\n",
        "**Step-1 Initializing the parameters**\n",
        "\n",
        "Here, we need to initialize the values for our parameters. Let’s keep $\\theta_0 = 0$ and $\\theta_1 = 0$.\n",
        "\n",
        "We will also need a **learning rate** to determine the step size at each iteration while moving toward a minimum value of our loss function.\n",
        "\n",
        "**Step -2 Calculate the Partial Derivatives with respect to parameters**\n",
        "\n",
        "Here we partially differentiate our loss function with respect to the parameters we have.\n",
        "\n",
        "\n",
        "$$\\frac{\\partial J}{\\partial \\theta_0} = \\frac{1}{m}∑_{i=1}^m ((\\theta_0+\\theta_1x^{(i)})-y^{(i)})$$\n",
        "\n",
        "$$\\frac{\\partial J}{\\partial \\theta_1} = \\frac{1}{m}∑_{i=1}^m ((\\theta_0+\\theta_1x^{(i)})-y^{(i)}).x^{(i)}$$\n",
        "\n",
        "\n",
        "\n",
        "**Step – 3 Updating the parameters**\n",
        "\n",
        "Now, we update the values of our parameters using the equations given below\n",
        "\n",
        "$$\\theta_0 = \\theta_0 - lr.\\frac{\\partial J}{\\partial \\theta_0} $$\n",
        "$$\\theta_1 = \\theta_1 - lr.\\frac{\\partial J}{\\partial \\theta_1} $$"
      ],
      "metadata": {
        "id": "xPdXgTF-RQkx"
      }
    },
    {
      "cell_type": "code",
      "source": [
        "# Linear Regression\n",
        "  \n",
        "class LinearRegression() :\n",
        "      \n",
        "    def __init__( self, lr, iter ) :\n",
        "          \n",
        "        self.learning_rate = lr   \n",
        "        self.iterations = iter\n",
        "          \n",
        "    # Function for model training           \n",
        "    def fit(self, X, Y ) :\n",
        "          \n",
        "        # no_of_training_examples, no_of_features\n",
        "        self.m, self.n = X.shape\n",
        "          \n",
        "        # weight initialization\n",
        "        self.theta_1 = np.zeros(self.n) \n",
        "        self.theta_0 = 0\n",
        "        self.X = X   \n",
        "        self.Y = Y\n",
        "             \n",
        "        # gradient descent learning\n",
        "                  \n",
        "        for i in range(self.iterations) :\n",
        "              \n",
        "            self.update_weights()\n",
        "              \n",
        "        return self\n",
        "      \n",
        "    # Helper function to update weights in gradient descent\n",
        "      \n",
        "    def update_weights( self ) :\n",
        "             \n",
        "        Y_pred = self.predict( self.X )\n",
        "          \n",
        "        # calculate gradients  \n",
        "\n",
        "        dtheta_1 = (1/self.m)*sum(self.X * (Y_pred - self.Y))\n",
        "        dtheta_0 = (1/self.m)*sum(Y_pred-self.Y)\n",
        "      \n",
        "        # dtheta_1 = - ( 2 * ( self.X.T ).dot( self.Y - Y_pred )  ) / self.m\n",
        "       \n",
        "        # dtheta_0 = - 2 * np.sum( self.Y - Y_pred ) / self.m \n",
        "          \n",
        "        # update weights\n",
        "      \n",
        "        self.theta_1 = self.theta_1 - self.learning_rate * dtheta_1\n",
        "        self.theta_0 = self.theta_0 - self.learning_rate * dtheta_0\n",
        "          \n",
        "        return self\n",
        "      \n",
        "    # Hypothetical function  h( x ) \n",
        "      \n",
        "    def predict(self, X) :\n",
        "      \n",
        "        return self.theta_1* X + self.theta_0"
      ],
      "metadata": {
        "id": "Woba9wt9Oigv"
      },
      "execution_count": null,
      "outputs": []
    },
    {
      "cell_type": "code",
      "source": [
        "model = LinearRegression(lr = 0.01, iter = 1000 )\n",
        "  \n",
        "model.fit(X_train.values, y_train.values )\n",
        "      \n",
        "# Prediction on test set\n",
        "  \n",
        "y_pred = model.predict(X_test )\n",
        "      \n",
        "print( \"Predicted values\\n \", np.round( y_pred[:3].values, 2 ) )       \n",
        "print( \"Real values      \\n\", y_test[:3].values )      \n",
        "print( \"Trained theta_1        \", round( model.theta_1[0], 2 ) )      \n",
        "print( \"Trained theta_0        \", round(model.theta_0[0],2) )"
      ],
      "metadata": {
        "colab": {
          "base_uri": "https://localhost:8080/"
        },
        "id": "1V49IrDzXNkh",
        "outputId": "b4b309d9-c5c6-495f-90fe-3bfffd5302df"
      },
      "execution_count": null,
      "outputs": [
        {
          "output_type": "stream",
          "name": "stdout",
          "text": [
            "Predicted values\n",
            "  [[ 38249.04]\n",
            " [124747.49]\n",
            " [ 63805.4 ]]\n",
            "Real values      \n",
            " [[ 37731.]\n",
            " [122391.]\n",
            " [ 57081.]]\n",
            "Trained theta_1         9829.37\n",
            "Trained theta_0         23504.99\n"
          ]
        }
      ]
    },
    {
      "cell_type": "markdown",
      "source": [
        "#Linear Regression using Scikit learn"
      ],
      "metadata": {
        "id": "r8_q3YCkUOBx"
      }
    },
    {
      "cell_type": "code",
      "metadata": {
        "id": "KZWjA9QSpJTJ",
        "colab": {
          "base_uri": "https://localhost:8080/"
        },
        "outputId": "4c36a510-53c1-4f11-dbd0-49473117cc12"
      },
      "source": [
        "# Fitting a simple linear regression to Training Set\n",
        "from sklearn.linear_model import LinearRegression\n",
        "\n",
        "\n",
        "regressor = LinearRegression()\n",
        "\n",
        "# fit the regressor on training dataset\n",
        "regressor.fit(X_train,y_train)"
      ],
      "execution_count": null,
      "outputs": [
        {
          "output_type": "execute_result",
          "data": {
            "text/plain": [
              "LinearRegression()"
            ]
          },
          "metadata": {},
          "execution_count": 54
        }
      ]
    },
    {
      "cell_type": "code",
      "metadata": {
        "id": "1axxobG26yVJ",
        "colab": {
          "base_uri": "https://localhost:8080/"
        },
        "outputId": "81b8a344-389c-4ea9-b21f-5c6e282de869"
      },
      "source": [
        "# predicting the Test set Results\n",
        "y_pred = regressor.predict(X_test)\n",
        "y_pred"
      ],
      "execution_count": null,
      "outputs": [
        {
          "output_type": "execute_result",
          "data": {
            "text/plain": [
              "array([[ 40748.96184072],\n",
              "       [122699.62295594],\n",
              "       [ 64961.65717022],\n",
              "       [ 63099.14214487],\n",
              "       [115249.56285456],\n",
              "       [107799.50275317]])"
            ]
          },
          "metadata": {},
          "execution_count": 60
        }
      ]
    },
    {
      "cell_type": "code",
      "source": [
        "y_test"
      ],
      "metadata": {
        "colab": {
          "base_uri": "https://localhost:8080/",
          "height": 238
        },
        "id": "GzAe_Q-2hyEI",
        "outputId": "40a9876c-2968-4f3b-8e04-cf5a165f96e2"
      },
      "execution_count": null,
      "outputs": [
        {
          "output_type": "execute_result",
          "data": {
            "text/plain": [
              "      Salary\n",
              "2    37731.0\n",
              "28  122391.0\n",
              "13   57081.0\n",
              "10   63218.0\n",
              "26  116969.0\n",
              "24  109431.0"
            ],
            "text/html": [
              "\n",
              "  <div id=\"df-e9e1217e-4900-46d5-9940-369013fdc781\">\n",
              "    <div class=\"colab-df-container\">\n",
              "      <div>\n",
              "<style scoped>\n",
              "    .dataframe tbody tr th:only-of-type {\n",
              "        vertical-align: middle;\n",
              "    }\n",
              "\n",
              "    .dataframe tbody tr th {\n",
              "        vertical-align: top;\n",
              "    }\n",
              "\n",
              "    .dataframe thead th {\n",
              "        text-align: right;\n",
              "    }\n",
              "</style>\n",
              "<table border=\"1\" class=\"dataframe\">\n",
              "  <thead>\n",
              "    <tr style=\"text-align: right;\">\n",
              "      <th></th>\n",
              "      <th>Salary</th>\n",
              "    </tr>\n",
              "  </thead>\n",
              "  <tbody>\n",
              "    <tr>\n",
              "      <th>2</th>\n",
              "      <td>37731.0</td>\n",
              "    </tr>\n",
              "    <tr>\n",
              "      <th>28</th>\n",
              "      <td>122391.0</td>\n",
              "    </tr>\n",
              "    <tr>\n",
              "      <th>13</th>\n",
              "      <td>57081.0</td>\n",
              "    </tr>\n",
              "    <tr>\n",
              "      <th>10</th>\n",
              "      <td>63218.0</td>\n",
              "    </tr>\n",
              "    <tr>\n",
              "      <th>26</th>\n",
              "      <td>116969.0</td>\n",
              "    </tr>\n",
              "    <tr>\n",
              "      <th>24</th>\n",
              "      <td>109431.0</td>\n",
              "    </tr>\n",
              "  </tbody>\n",
              "</table>\n",
              "</div>\n",
              "      <button class=\"colab-df-convert\" onclick=\"convertToInteractive('df-e9e1217e-4900-46d5-9940-369013fdc781')\"\n",
              "              title=\"Convert this dataframe to an interactive table.\"\n",
              "              style=\"display:none;\">\n",
              "        \n",
              "  <svg xmlns=\"http://www.w3.org/2000/svg\" height=\"24px\"viewBox=\"0 0 24 24\"\n",
              "       width=\"24px\">\n",
              "    <path d=\"M0 0h24v24H0V0z\" fill=\"none\"/>\n",
              "    <path d=\"M18.56 5.44l.94 2.06.94-2.06 2.06-.94-2.06-.94-.94-2.06-.94 2.06-2.06.94zm-11 1L8.5 8.5l.94-2.06 2.06-.94-2.06-.94L8.5 2.5l-.94 2.06-2.06.94zm10 10l.94 2.06.94-2.06 2.06-.94-2.06-.94-.94-2.06-.94 2.06-2.06.94z\"/><path d=\"M17.41 7.96l-1.37-1.37c-.4-.4-.92-.59-1.43-.59-.52 0-1.04.2-1.43.59L10.3 9.45l-7.72 7.72c-.78.78-.78 2.05 0 2.83L4 21.41c.39.39.9.59 1.41.59.51 0 1.02-.2 1.41-.59l7.78-7.78 2.81-2.81c.8-.78.8-2.07 0-2.86zM5.41 20L4 18.59l7.72-7.72 1.47 1.35L5.41 20z\"/>\n",
              "  </svg>\n",
              "      </button>\n",
              "      \n",
              "  <style>\n",
              "    .colab-df-container {\n",
              "      display:flex;\n",
              "      flex-wrap:wrap;\n",
              "      gap: 12px;\n",
              "    }\n",
              "\n",
              "    .colab-df-convert {\n",
              "      background-color: #E8F0FE;\n",
              "      border: none;\n",
              "      border-radius: 50%;\n",
              "      cursor: pointer;\n",
              "      display: none;\n",
              "      fill: #1967D2;\n",
              "      height: 32px;\n",
              "      padding: 0 0 0 0;\n",
              "      width: 32px;\n",
              "    }\n",
              "\n",
              "    .colab-df-convert:hover {\n",
              "      background-color: #E2EBFA;\n",
              "      box-shadow: 0px 1px 2px rgba(60, 64, 67, 0.3), 0px 1px 3px 1px rgba(60, 64, 67, 0.15);\n",
              "      fill: #174EA6;\n",
              "    }\n",
              "\n",
              "    [theme=dark] .colab-df-convert {\n",
              "      background-color: #3B4455;\n",
              "      fill: #D2E3FC;\n",
              "    }\n",
              "\n",
              "    [theme=dark] .colab-df-convert:hover {\n",
              "      background-color: #434B5C;\n",
              "      box-shadow: 0px 1px 3px 1px rgba(0, 0, 0, 0.15);\n",
              "      filter: drop-shadow(0px 1px 2px rgba(0, 0, 0, 0.3));\n",
              "      fill: #FFFFFF;\n",
              "    }\n",
              "  </style>\n",
              "\n",
              "      <script>\n",
              "        const buttonEl =\n",
              "          document.querySelector('#df-e9e1217e-4900-46d5-9940-369013fdc781 button.colab-df-convert');\n",
              "        buttonEl.style.display =\n",
              "          google.colab.kernel.accessAllowed ? 'block' : 'none';\n",
              "\n",
              "        async function convertToInteractive(key) {\n",
              "          const element = document.querySelector('#df-e9e1217e-4900-46d5-9940-369013fdc781');\n",
              "          const dataTable =\n",
              "            await google.colab.kernel.invokeFunction('convertToInteractive',\n",
              "                                                     [key], {});\n",
              "          if (!dataTable) return;\n",
              "\n",
              "          const docLinkHtml = 'Like what you see? Visit the ' +\n",
              "            '<a target=\"_blank\" href=https://colab.research.google.com/notebooks/data_table.ipynb>data table notebook</a>'\n",
              "            + ' to learn more about interactive tables.';\n",
              "          element.innerHTML = '';\n",
              "          dataTable['output_type'] = 'display_data';\n",
              "          await google.colab.output.renderOutput(dataTable, element);\n",
              "          const docLink = document.createElement('div');\n",
              "          docLink.innerHTML = docLinkHtml;\n",
              "          element.appendChild(docLink);\n",
              "        }\n",
              "      </script>\n",
              "    </div>\n",
              "  </div>\n",
              "  "
            ]
          },
          "metadata": {},
          "execution_count": 33
        }
      ]
    },
    {
      "cell_type": "code",
      "metadata": {
        "colab": {
          "base_uri": "https://localhost:8080/"
        },
        "id": "IhU4489qIv3I",
        "outputId": "bebd95c1-6e01-4639-e55d-da947a651d3b"
      },
      "source": [
        "y_pred"
      ],
      "execution_count": null,
      "outputs": [
        {
          "output_type": "execute_result",
          "data": {
            "text/plain": [
              "array([[ 40748.96184072],\n",
              "       [122699.62295594],\n",
              "       [ 64961.65717022],\n",
              "       [ 63099.14214487],\n",
              "       [115249.56285456],\n",
              "       [107799.50275317]])"
            ]
          },
          "metadata": {},
          "execution_count": 32
        }
      ]
    },
    {
      "cell_type": "code",
      "metadata": {
        "colab": {
          "base_uri": "https://localhost:8080/",
          "height": 238
        },
        "id": "bzVNaXJoI2qH",
        "outputId": "f1474097-64e8-4147-8dd6-cc7264382f5c"
      },
      "source": [
        "y_test"
      ],
      "execution_count": null,
      "outputs": [
        {
          "output_type": "execute_result",
          "data": {
            "text/plain": [
              "      Salary\n",
              "2    37731.0\n",
              "28  122391.0\n",
              "13   57081.0\n",
              "10   63218.0\n",
              "26  116969.0\n",
              "24  109431.0"
            ],
            "text/html": [
              "\n",
              "  <div id=\"df-25a70875-0f6f-43ed-a757-0be995d32ce6\">\n",
              "    <div class=\"colab-df-container\">\n",
              "      <div>\n",
              "<style scoped>\n",
              "    .dataframe tbody tr th:only-of-type {\n",
              "        vertical-align: middle;\n",
              "    }\n",
              "\n",
              "    .dataframe tbody tr th {\n",
              "        vertical-align: top;\n",
              "    }\n",
              "\n",
              "    .dataframe thead th {\n",
              "        text-align: right;\n",
              "    }\n",
              "</style>\n",
              "<table border=\"1\" class=\"dataframe\">\n",
              "  <thead>\n",
              "    <tr style=\"text-align: right;\">\n",
              "      <th></th>\n",
              "      <th>Salary</th>\n",
              "    </tr>\n",
              "  </thead>\n",
              "  <tbody>\n",
              "    <tr>\n",
              "      <th>2</th>\n",
              "      <td>37731.0</td>\n",
              "    </tr>\n",
              "    <tr>\n",
              "      <th>28</th>\n",
              "      <td>122391.0</td>\n",
              "    </tr>\n",
              "    <tr>\n",
              "      <th>13</th>\n",
              "      <td>57081.0</td>\n",
              "    </tr>\n",
              "    <tr>\n",
              "      <th>10</th>\n",
              "      <td>63218.0</td>\n",
              "    </tr>\n",
              "    <tr>\n",
              "      <th>26</th>\n",
              "      <td>116969.0</td>\n",
              "    </tr>\n",
              "    <tr>\n",
              "      <th>24</th>\n",
              "      <td>109431.0</td>\n",
              "    </tr>\n",
              "  </tbody>\n",
              "</table>\n",
              "</div>\n",
              "      <button class=\"colab-df-convert\" onclick=\"convertToInteractive('df-25a70875-0f6f-43ed-a757-0be995d32ce6')\"\n",
              "              title=\"Convert this dataframe to an interactive table.\"\n",
              "              style=\"display:none;\">\n",
              "        \n",
              "  <svg xmlns=\"http://www.w3.org/2000/svg\" height=\"24px\"viewBox=\"0 0 24 24\"\n",
              "       width=\"24px\">\n",
              "    <path d=\"M0 0h24v24H0V0z\" fill=\"none\"/>\n",
              "    <path d=\"M18.56 5.44l.94 2.06.94-2.06 2.06-.94-2.06-.94-.94-2.06-.94 2.06-2.06.94zm-11 1L8.5 8.5l.94-2.06 2.06-.94-2.06-.94L8.5 2.5l-.94 2.06-2.06.94zm10 10l.94 2.06.94-2.06 2.06-.94-2.06-.94-.94-2.06-.94 2.06-2.06.94z\"/><path d=\"M17.41 7.96l-1.37-1.37c-.4-.4-.92-.59-1.43-.59-.52 0-1.04.2-1.43.59L10.3 9.45l-7.72 7.72c-.78.78-.78 2.05 0 2.83L4 21.41c.39.39.9.59 1.41.59.51 0 1.02-.2 1.41-.59l7.78-7.78 2.81-2.81c.8-.78.8-2.07 0-2.86zM5.41 20L4 18.59l7.72-7.72 1.47 1.35L5.41 20z\"/>\n",
              "  </svg>\n",
              "      </button>\n",
              "      \n",
              "  <style>\n",
              "    .colab-df-container {\n",
              "      display:flex;\n",
              "      flex-wrap:wrap;\n",
              "      gap: 12px;\n",
              "    }\n",
              "\n",
              "    .colab-df-convert {\n",
              "      background-color: #E8F0FE;\n",
              "      border: none;\n",
              "      border-radius: 50%;\n",
              "      cursor: pointer;\n",
              "      display: none;\n",
              "      fill: #1967D2;\n",
              "      height: 32px;\n",
              "      padding: 0 0 0 0;\n",
              "      width: 32px;\n",
              "    }\n",
              "\n",
              "    .colab-df-convert:hover {\n",
              "      background-color: #E2EBFA;\n",
              "      box-shadow: 0px 1px 2px rgba(60, 64, 67, 0.3), 0px 1px 3px 1px rgba(60, 64, 67, 0.15);\n",
              "      fill: #174EA6;\n",
              "    }\n",
              "\n",
              "    [theme=dark] .colab-df-convert {\n",
              "      background-color: #3B4455;\n",
              "      fill: #D2E3FC;\n",
              "    }\n",
              "\n",
              "    [theme=dark] .colab-df-convert:hover {\n",
              "      background-color: #434B5C;\n",
              "      box-shadow: 0px 1px 3px 1px rgba(0, 0, 0, 0.15);\n",
              "      filter: drop-shadow(0px 1px 2px rgba(0, 0, 0, 0.3));\n",
              "      fill: #FFFFFF;\n",
              "    }\n",
              "  </style>\n",
              "\n",
              "      <script>\n",
              "        const buttonEl =\n",
              "          document.querySelector('#df-25a70875-0f6f-43ed-a757-0be995d32ce6 button.colab-df-convert');\n",
              "        buttonEl.style.display =\n",
              "          google.colab.kernel.accessAllowed ? 'block' : 'none';\n",
              "\n",
              "        async function convertToInteractive(key) {\n",
              "          const element = document.querySelector('#df-25a70875-0f6f-43ed-a757-0be995d32ce6');\n",
              "          const dataTable =\n",
              "            await google.colab.kernel.invokeFunction('convertToInteractive',\n",
              "                                                     [key], {});\n",
              "          if (!dataTable) return;\n",
              "\n",
              "          const docLinkHtml = 'Like what you see? Visit the ' +\n",
              "            '<a target=\"_blank\" href=https://colab.research.google.com/notebooks/data_table.ipynb>data table notebook</a>'\n",
              "            + ' to learn more about interactive tables.';\n",
              "          element.innerHTML = '';\n",
              "          dataTable['output_type'] = 'display_data';\n",
              "          await google.colab.output.renderOutput(dataTable, element);\n",
              "          const docLink = document.createElement('div');\n",
              "          docLink.innerHTML = docLinkHtml;\n",
              "          element.appendChild(docLink);\n",
              "        }\n",
              "      </script>\n",
              "    </div>\n",
              "  </div>\n",
              "  "
            ]
          },
          "metadata": {},
          "execution_count": 17
        }
      ]
    },
    {
      "cell_type": "code",
      "metadata": {
        "colab": {
          "base_uri": "https://localhost:8080/",
          "height": 295
        },
        "id": "TZF5HP4e663n",
        "outputId": "a6714fc6-e5c6-4cea-ce74-12eede42b426"
      },
      "source": [
        "# Visualization the training Set Results\n",
        "\n",
        "plt.scatter(X_train, y_train, color = 'red')\n",
        "# this line is for the regressor line \n",
        "plt.plot(X_train,regressor.predict(X_train), color = 'blue')\n",
        "plt.title('Salary vs Experience(Training Set Result)')\n",
        "plt.xlabel('Years of Experince')\n",
        "plt.ylabel('Salary')\n",
        "plt.show()\n"
      ],
      "execution_count": null,
      "outputs": [
        {
          "output_type": "display_data",
          "data": {
            "text/plain": [
              "<Figure size 432x288 with 1 Axes>"
            ],
            "image/png": "[encoded data removed]"
          },
          "metadata": {
            "needs_background": "light"
          }
        }
      ]
    },
    {
      "cell_type": "code",
      "metadata": {
        "colab": {
          "base_uri": "https://localhost:8080/",
          "height": 295
        },
        "id": "P0qSXfwq7CKk",
        "outputId": "f93560b7-ba90-4306-8450-59c5d6d3b688"
      },
      "source": [
        "# Visualization the testing Set Results\n",
        "\n",
        "plt.scatter(X_test, y_test, color = 'red')\n",
        "plt.plot(X_train,regressor.predict(X_train), color = 'blue',linewidth=1)\n",
        "plt.title('Salary vs Experience(Test Set Result)')\n",
        "plt.xlabel('Years of Experince')\n",
        "plt.ylabel('Salary')\n",
        "plt.show()\n"
      ],
      "execution_count": null,
      "outputs": [
        {
          "output_type": "display_data",
          "data": {
            "text/plain": [
              "<Figure size 432x288 with 1 Axes>"
            ],
            "image/png": "[encoded data removed]"
          },
          "metadata": {
            "needs_background": "light"
          }
        }
      ]
    },
    {
      "cell_type": "markdown",
      "metadata": {
        "id": "P7KrHcmB_Ghr"
      },
      "source": [
        "##Evaluation Metrices\n",
        "\n",
        "1. Mean Absolute Error (MAE)\n",
        "2. Mean Squared Error (MSE)\n",
        "3. R-Squared Error"
      ]
    },
    {
      "cell_type": "code",
      "metadata": {
        "id": "DF5fsdqj_SOb",
        "colab": {
          "base_uri": "https://localhost:8080/"
        },
        "outputId": "3e7ec05e-6ca8-4450-96e9-7366ab3b2382"
      },
      "source": [
        "from sklearn.metrics import mean_absolute_error\n",
        "\n",
        "# MAE\n",
        "mean_absolute_error(y_test, y_pred)"
      ],
      "execution_count": null,
      "outputs": [
        {
          "output_type": "execute_result",
          "data": {
            "text/plain": [
              "2446.1723690465055"
            ]
          },
          "metadata": {},
          "execution_count": 20
        }
      ]
    },
    {
      "cell_type": "code",
      "metadata": {
        "colab": {
          "base_uri": "https://localhost:8080/"
        },
        "id": "P93HtBbm_q_T",
        "outputId": "92b9e2c2-7450-486b-86ad-23ca3631eda7"
      },
      "source": [
        "from sklearn.metrics import mean_squared_error\n",
        "\n",
        "print(mean_squared_error(y_test, y_pred))"
      ],
      "execution_count": null,
      "outputs": [
        {
          "output_type": "stream",
          "name": "stdout",
          "text": [
            "12823412.298126549\n"
          ]
        }
      ]
    },
    {
      "cell_type": "code",
      "source": [
        "def mse(y_test,y_pred):\n",
        "  "
      ],
      "metadata": {
        "id": "9MZ9wBOyRsxM"
      },
      "execution_count": null,
      "outputs": []
    },
    {
      "cell_type": "code",
      "source": [
        "from sklearn.metrics import r2_score\n",
        "\n",
        "r2_score(y_test, y_pred)"
      ],
      "metadata": {
        "colab": {
          "base_uri": "https://localhost:8080/"
        },
        "id": "RmrYQFn1crtb",
        "outputId": "2e4954c3-36a8-4239-fe77-ecd8773789d8"
      },
      "execution_count": null,
      "outputs": [
        {
          "output_type": "execute_result",
          "data": {
            "text/plain": [
              "0.988169515729126"
            ]
          },
          "metadata": {},
          "execution_count": 59
        }
      ]
    },
    {
      "cell_type": "code",
      "source": [
        "dataset"
      ],
      "metadata": {
        "id": "KXb05d0WSBEf"
      },
      "execution_count": null,
      "outputs": []
    },
    {
      "cell_type": "code",
      "source": [
        "regressor.predict([[10.4]])"
      ],
      "metadata": {
        "colab": {
          "base_uri": "https://localhost:8080/"
        },
        "id": "Y8o9A-xKR96R",
        "outputId": "817fbb1a-9e36-44ff-9e04-bd1f4ee21a3a"
      },
      "execution_count": null,
      "outputs": [
        {
          "output_type": "stream",
          "name": "stderr",
          "text": [
            "/usr/local/lib/python3.7/dist-packages/sklearn/base.py:451: UserWarning: X does not have valid feature names, but LinearRegression was fitted with feature names\n",
            "  \"X does not have valid feature names, but\"\n"
          ]
        },
        {
          "output_type": "execute_result",
          "data": {
            "text/plain": [
              "array([[123630.88046861]])"
            ]
          },
          "metadata": {},
          "execution_count": 65
        }
      ]
    },
    {
      "cell_type": "markdown",
      "metadata": {
        "id": "KMyoaDOjs8hF"
      },
      "source": [
        "#Reference\n",
        "\n",
        "\n",
        "1.   [SuperDataScience](https://www.superdatascience.com/pages/machine-learning)\n",
        "\n",
        "2.   [GeeksforGeeks](https://www.geeksforgeeks.org/linear-regression-implementation-from-scratch-using-python/)\n",
        "\n"
      ]
    }
  ]
}