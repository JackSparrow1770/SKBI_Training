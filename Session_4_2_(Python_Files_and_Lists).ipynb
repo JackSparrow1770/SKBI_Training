{
  "nbformat": 4,
  "nbformat_minor": 0,
  "metadata": {
    "colab": {
      "name": "Session-4.2 (Python Files and Lists).ipynb",
      "provenance": [],
      "collapsed_sections": [],
      "authorship_tag": "ABX9TyNdipeexuKliagZklrgiHYt",
      "include_colab_link": true
    },
    "kernelspec": {
      "name": "python3",
      "display_name": "Python 3"
    },
    "language_info": {
      "name": "python"
    }
  },
  "cells": [
    {
      "cell_type": "markdown",
      "metadata": {
        "id": "view-in-github",
        "colab_type": "text"
      },
      "source": [
        "<a href=\"https://colab.research.google.com/github/eftekhar-hossain/SKBI_Training/blob/main/Session_4_2_(Python_Files_and_Lists).ipynb\" target=\"_parent\"><img src=\"https://colab.research.google.com/assets/colab-badge.svg\" alt=\"Open In Colab\"/></a>"
      ]
    },
    {
      "cell_type": "markdown",
      "source": [
        "<center> <h1> <u> <font color='red'> Training on AI and ML with Python </font> </u> </h1> </center>"
      ],
      "metadata": {
        "id": "i4AtqJFBadeM"
      }
    },
    {
      "cell_type": "markdown",
      "metadata": {
        "id": "C-BUBBYTWTYU"
      },
      "source": [
        "# Session-4.2: Python Files and Lists\n",
        "\n",
        "\n",
        "###Objective: \n",
        " 1. *Get familiar with Python Files.*\n",
        " 2. *Get familiar with the Lists and its various operations .*\n"
      ]
    },
    {
      "cell_type": "code",
      "metadata": {
        "id": "ps_MOc1N3JJ0",
        "colab": {
          "base_uri": "https://localhost:8080/"
        },
        "outputId": "81f7fb0a-b9ac-41db-d993-7a8535e2b5de"
      },
      "source": [
        "# download the text file\n",
        "!wget https://www.py4e.com/code3/mbox-short.txt"
      ],
      "execution_count": null,
      "outputs": [
        {
          "output_type": "stream",
          "name": "stdout",
          "text": [
            "--2022-06-24 15:54:57--  https://www.py4e.com/code3/mbox-short.txt\n",
            "Resolving www.py4e.com (www.py4e.com)... 188.114.96.0, 188.114.97.0, 2a06:98c1:3121::, ...\n",
            "Connecting to www.py4e.com (www.py4e.com)|188.114.96.0|:443... connected.\n",
            "HTTP request sent, awaiting response... 200 OK\n",
            "Length: unspecified [text/plain]\n",
            "Saving to: ‘mbox-short.txt’\n",
            "\n",
            "mbox-short.txt          [ <=>                ]  92.41K  --.-KB/s    in 0.005s  \n",
            "\n",
            "2022-06-24 15:54:57 (18.5 MB/s) - ‘mbox-short.txt’ saved [94626]\n",
            "\n"
          ]
        }
      ]
    },
    {
      "cell_type": "markdown",
      "metadata": {
        "id": "QhF4WYk54kYS"
      },
      "source": [
        "#Opening Files\n",
        "\n",
        "When we want to read or write a file (say on your hard drive), we first must\n",
        "open the file."
      ]
    },
    {
      "cell_type": "code",
      "metadata": {
        "id": "-7CCNMcG4mzr",
        "colab": {
          "base_uri": "https://localhost:8080/"
        },
        "outputId": "28330634-07bc-4486-a51a-7be0814e433c"
      },
      "source": [
        "fhand = open('mbox-short.txt')\n",
        "print(fhand)"
      ],
      "execution_count": null,
      "outputs": [
        {
          "output_type": "stream",
          "name": "stdout",
          "text": [
            "<_io.TextIOWrapper name='mbox-short.txt' mode='r' encoding='UTF-8'>\n"
          ]
        }
      ]
    },
    {
      "cell_type": "markdown",
      "metadata": {
        "id": "zIPs_O7y5LaX"
      },
      "source": [
        "If the open is successful, the operating system returns us a ***file handle***. The ***file handle*** is not the actual data contained in the file, but instead it is a “handle” that we can use to read the data. You are given a handle if the requested file exists and you have the proper permissions to read the file."
      ]
    },
    {
      "cell_type": "markdown",
      "metadata": {
        "id": "dTX_t5aC58Pl"
      },
      "source": [
        "#Text files and lines\n",
        "\n",
        "A text file can be thought of as a **sequence of lines**, much like a Python string can be thought of as a **sequence of characters**. For example, this is a sample of a text file which records mail activity from various individuals in an open source project development team:\n",
        "```\n",
        "From stephen.marquard@uct.ac.za Sat Jan 5 09:14:16 2008\n",
        "Return-Path: <postmaster@collab.sakaiproject.org>\n",
        "Date: Sat, 5 Jan 2008 09:12:18 -0500\n",
        "To: source@collab.sakaiproject.org\n",
        "From: stephen.marquard@uct.ac.za\n",
        "Subject: [sakai] svn commit: r39772 - content/branches/\n",
        "Details: http://source.sakaiproject.org/viewsvn/?view=rev&rev=39772\n",
        "```\n",
        "\n",
        "\n",
        "These files are in a standard format for a file containing multiple mail messages. The lines which start with **“From”** separate the messages and the lines which start with **“From:”** are part of the messages.\n",
        "\n",
        "To break the file into lines, there is a special character that represents the **“end of the line”** called the newline character.\n"
      ]
    },
    {
      "cell_type": "code",
      "metadata": {
        "id": "7qtTbOmG5YYQ",
        "colab": {
          "base_uri": "https://localhost:8080/"
        },
        "outputId": "46b86c86-f865-4cb6-8162-dd5248d79fe1"
      },
      "source": [
        "stuff = 'Hello\\nWorld!'\n",
        "#stuff\n",
        "\n",
        "\n",
        "print(stuff)\n"
      ],
      "execution_count": null,
      "outputs": [
        {
          "output_type": "stream",
          "name": "stdout",
          "text": [
            "Hello\n",
            "World!\n"
          ]
        }
      ]
    },
    {
      "cell_type": "code",
      "metadata": {
        "id": "-RH2I1Zp7vwW",
        "colab": {
          "base_uri": "https://localhost:8080/"
        },
        "outputId": "9f6c2be0-ed78-4d2e-b425-b5b48f24d0a9"
      },
      "source": [
        "stuff = 'X\\nY'\n",
        "print(stuff)\n",
        "len(stuff)"
      ],
      "execution_count": null,
      "outputs": [
        {
          "output_type": "stream",
          "name": "stdout",
          "text": [
            "X\n",
            "Y\n"
          ]
        },
        {
          "output_type": "execute_result",
          "data": {
            "text/plain": [
              "3"
            ]
          },
          "metadata": {},
          "execution_count": 2
        }
      ]
    },
    {
      "cell_type": "markdown",
      "metadata": {
        "id": "hEqxkzBR7UM2"
      },
      "source": [
        "When we look at the variable by entering **“stuff”** in the interpreter, it shows us the `\\n` in the string, but when we use print to show the string, we see the string broken into two lines by the newline character. You can also see that the length of the string **X\\nY** is three characters because the newline character is a single character.\n",
        "\n",
        "**So when we look at the lines in a file, we need to `imagine` that there is a special invisible character called the` newline` at the end of each line that marks the end of the line. So the `newline` character separates the characters in the file into lines**."
      ]
    },
    {
      "cell_type": "markdown",
      "metadata": {
        "id": "uV8D8RRG8lHq"
      },
      "source": [
        "#Reading Files"
      ]
    },
    {
      "cell_type": "code",
      "metadata": {
        "id": "-YXhKohjxm1-"
      },
      "source": [
        "fhand = open('mbox-short.txt')\n",
        "\n",
        "for line in fhand:\n",
        "  print(line)"
      ],
      "execution_count": null,
      "outputs": []
    },
    {
      "cell_type": "code",
      "metadata": {
        "id": "1mwpAjtA8ivG",
        "colab": {
          "base_uri": "https://localhost:8080/"
        },
        "outputId": "509fff02-ba7e-4889-bf1f-ea25bce0909a"
      },
      "source": [
        "fhand = open('mbox-short.txt')\n",
        "count = 0\n",
        "for line in fhand:\n",
        "  count = count + 1\n",
        "print('Line Count:', count)"
      ],
      "execution_count": null,
      "outputs": [
        {
          "output_type": "stream",
          "name": "stdout",
          "text": [
            "Line Count: 1910\n"
          ]
        }
      ]
    },
    {
      "cell_type": "code",
      "metadata": {
        "id": "D5gJ6itJ9K1a",
        "colab": {
          "base_uri": "https://localhost:8080/",
          "height": 157
        },
        "outputId": "8a99241c-f5bc-4c2b-bed1-42558604d187"
      },
      "source": [
        "# read method convert whole text file into a string\n",
        "\n",
        "fhand = open('mbox-short.txt')\n",
        "inp = fhand.read()\n",
        "print(len(inp))\n",
        "\n",
        "inp"
      ],
      "execution_count": null,
      "outputs": [
        {
          "output_type": "stream",
          "name": "stdout",
          "text": [
            "94626\n"
          ]
        },
        {
          "output_type": "execute_result",
          "data": {
            "text/plain": [
              "'From stephen.marquard@uct.ac.za Sat Jan  5 09:14:16 2008\\nReturn-Path: <postmaster@collab.sakaiproject.org>\\nReceived: from murder (mail.umich.edu [141.211.14.90])\\n\\t by frankenstein.mail.umich.edu (Cyrus v2.3.8) with LMTPA;\\n\\t Sat, 05 Jan 2008 09:14:16 -0500\\nX-Sieve: CMU Sieve 2.3\\nReceived: from murder ([unix socket])\\n\\t by mail.umich.edu (Cyrus v2.2.12) with LMTPA;\\n\\t Sat, 05 Jan 2008 09:14:16 -0500\\nReceived: from holes.mr.itd.umich.edu (holes.mr.itd.umich.edu [141.211.14.79])\\n\\tby flawless.mail.umich.edu () with ESMTP id m05EEFR1013674;\\n\\tSat, 5 Jan 2008 09:14:15 -0500\\nReceived: FROM paploo.uhi.ac.uk (app1.prod.collab.uhi.ac.uk [194.35.219.184])\\n\\tBY holes.mr.itd.umich.edu ID 477F90B0.2DB2F.12494 ; \\n\\t 5 Jan 2008 09:14:10 -0500\\nReceived: from paploo.uhi.ac.uk (localhost [127.0.0.1])\\n\\tby paploo.uhi.ac.uk (Postfix) with ESMTP id 5F919BC2F2;\\n\\tSat,  5 Jan 2008 14:10:05 +0000 (GMT)\\nMessage-ID: <200801051412.m05ECIaH010327@nakamura.uits.iupui.edu>\\nMime-Version: 1.0\\nContent-Transfer-Encoding: 7bit\\nReceived: from prod.collab.uhi.ac.uk ([194.35.219.182])\\n          by paploo.uhi.ac.uk (JAMES SMTP Server 2.1.3) with SMTP ID 899\\n          for <source@collab.sakaiproject.org>;\\n          Sat, 5 Jan 2008 14:09:50 +0000 (GMT)\\nReceived: from nakamura.uits.iupui.edu (nakamura.uits.iupui.edu [134.68.220.122])\\n\\tby shmi.uhi.ac.uk (Postfix) with ESMTP id A215243002\\n\\tfor <source@collab.sakaiproject.org>; Sat,  5 Jan 2008 14:13:33 +0000 (GMT)\\nReceived: from nakamura.uits.iupui.edu (localhost [127.0.0.1])\\n\\tby nakamura.uits.iupui.edu (8.12.11.20060308/8.12.11) with ESMTP id m05ECJVp010329\\n\\tfor <source@collab.sakaiproject.org>; Sat, 5 Jan 2008 09:12:19 -0500\\nReceived: (from apache@localhost)\\n\\tby nakamura.uits.iupui.edu (8.12.11.20060308/8.12.11/Submit) id m05ECIaH010327\\n\\tfor source@collab.sakaiproject.org; Sat, 5 Jan 2008 09:12:18 -0500\\nDate: Sat, 5 Jan 2008 09:12:18 -0500\\nX-Authentication-Warning: nakamura.uits.iupui.edu: apache set sender to stephen.marquard@uct.ac.za using -f\\nTo: source@collab.sakaiproject.org\\nFrom: stephen.marquard@uct.ac.za\\nSubject: [sakai] svn commit: r39772 - content/branches/sakai_2-5-x/content-impl/impl/src/java/org/sakaiproject/content/impl\\nX-Content-Type-Outer-Envelope: text/plain; charset=UTF-8\\nX-Content-Type-Message-Body: text/plain; charset=UTF-8\\nContent-Type: text/plain; charset=UTF-8\\nX-DSPAM-Result: Innocent\\nX-DSPAM-Processed: Sat Jan  5 09:14:16 2008\\nX-DSPAM-Confidence: 0.8475\\nX-DSPAM-Probability: 0.0000\\n\\nDetails: http://source.sakaiproject.org/viewsvn/?view=rev&rev=39772\\n\\nAuthor: stephen.marquard@uct.ac.za\\nDate: 2008-01-05 09:12:07 -0500 (Sat, 05 Jan 2008)\\nNew Revision: 39772\\n\\nModified:\\ncontent/branches/sakai_2-5-x/content-impl/impl/src/java/org/sakaiproject/content/impl/ContentServiceSqlOracle.java\\ncontent/branches/sakai_2-5-x/content-impl/impl/src/java/org/sakaiproject/content/impl/DbContentService.java\\nLog:\\nSAK-12501 merge to 2-5-x: r39622, r39624:5, r39632:3 (resolve conflict from differing linebreaks for r39622)\\n\\n----------------------\\nThis automatic notification message was sent by Sakai Collab (https://collab.sakaiproject.org/portal) from the Source site.\\nYou can modify how you receive notifications at My Workspace > Preferences.\\n\\n\\n\\nFrom louis@media.berkeley.edu Fri Jan  4 18:10:48 2008\\nReturn-Path: <postmaster@collab.sakaiproject.org>\\nReceived: from murder (mail.umich.edu [141.211.14.97])\\n\\t by frankenstein.mail.umich.edu (Cyrus v2.3.8) with LMTPA;\\n\\t Fri, 04 Jan 2008 18:10:48 -0500\\nX-Sieve: CMU Sieve 2.3\\nReceived: from murder ([unix socket])\\n\\t by mail.umich.edu (Cyrus v2.2.12) with LMTPA;\\n\\t Fri, 04 Jan 2008 18:10:48 -0500\\nReceived: from icestorm.mr.itd.umich.edu (icestorm.mr.itd.umich.edu [141.211.93.149])\\n\\tby sleepers.mail.umich.edu () with ESMTP id m04NAbGa029441;\\n\\tFri, 4 Jan 2008 18:10:37 -0500\\nReceived: FROM paploo.uhi.ac.uk (app1.prod.collab.uhi.ac.uk [194.35.219.184])\\n\\tBY icestorm.mr.itd.umich.edu ID 477EBCE3.161BB.4320 ; \\n\\t 4 Jan 2008 18:10:31 -0500\\nReceived: from paploo.uhi.ac.uk (localhost [127.0.0.1])\\n\\tby paploo.uhi.ac.uk (Postfix) with ESMTP id 07969BB706;\\n\\tFri,  4 Jan 2008 23:10:33 +0000 (GMT)\\nMessage-ID: <200801042308.m04N8v6O008125@nakamura.uits.iupui.edu>\\nMime-Version: 1.0\\nContent-Transfer-Encoding: 7bit\\nReceived: from prod.collab.uhi.ac.uk ([194.35.219.182])\\n          by paploo.uhi.ac.uk (JAMES SMTP Server 2.1.3) with SMTP ID 710\\n          for <source@collab.sakaiproject.org>;\\n          Fri, 4 Jan 2008 23:10:10 +0000 (GMT)\\nReceived: from nakamura.uits.iupui.edu (nakamura.uits.iupui.edu [134.68.220.122])\\n\\tby shmi.uhi.ac.uk (Postfix) with ESMTP id 4BA2F42F57\\n\\tfor <source@collab.sakaiproject.org>; Fri,  4 Jan 2008 23:10:10 +0000 (GMT)\\nReceived: from nakamura.uits.iupui.edu (localhost [127.0.0.1])\\n\\tby nakamura.uits.iupui.edu (8.12.11.20060308/8.12.11) with ESMTP id m04N8vHG008127\\n\\tfor <source@collab.sakaiproject.org>; Fri, 4 Jan 2008 18:08:57 -0500\\nReceived: (from apache@localhost)\\n\\tby nakamura.uits.iupui.edu (8.12.11.20060308/8.12.11/Submit) id m04N8v6O008125\\n\\tfor source@collab.sakaiproject.org; Fri, 4 Jan 2008 18:08:57 -0500\\nDate: Fri, 4 Jan 2008 18:08:57 -0500\\nX-Authentication-Warning: nakamura.uits.iupui.edu: apache set sender to louis@media.berkeley.edu using -f\\nTo: source@collab.sakaiproject.org\\nFrom: louis@media.berkeley.edu\\nSubject: [sakai] svn commit: r39771 - in bspace/site-manage/sakai_2-4-x/site-manage-tool/tool/src: bundle java/org/sakaiproject/site/tool\\nX-Content-Type-Outer-Envelope: text/plain; charset=UTF-8\\nX-Content-Type-Message-Body: text/plain; charset=UTF-8\\nContent-Type: text/plain; charset=UTF-8\\nX-DSPAM-Result: Innocent\\nX-DSPAM-Processed: Fri Jan  4 18:10:48 2008\\nX-DSPAM-Confidence: 0.6178\\nX-DSPAM-Probability: 0.0000\\n\\nDetails: http://source.sakaiproject.org/viewsvn/?view=rev&rev=39771\\n\\nAuthor: louis@media.berkeley.edu\\nDate: 2008-01-04 18:08:50 -0500 (Fri, 04 Jan 2008)\\nNew Revision: 39771\\n\\nModified:\\nbspace/site-manage/sakai_2-4-x/site-manage-tool/tool/src/bundle/sitesetupgeneric.properties\\nbspace/site-manage/sakai_2-4-x/site-manage-tool/tool/src/java/org/sakaiproject/site/tool/SiteAction.java\\nLog:\\nBSP-1415 New (Guest) user Notification\\n\\n----------------------\\nThis automatic notification message was sent by Sakai Collab (https://collab.sakaiproject.org/portal) from the Source site.\\nYou can modify how you receive notifications at My Workspace > Preferences.\\n\\n\\n\\nFrom zqian@umich.edu Fri Jan  4 16:10:39 2008\\nReturn-Path: <postmaster@collab.sakaiproject.org>\\nReceived: from murder (mail.umich.edu [141.211.14.25])\\n\\t by frankenstein.mail.umich.edu (Cyrus v2.3.8) with LMTPA;\\n\\t Fri, 04 Jan 2008 16:10:39 -0500\\nX-Sieve: CMU Sieve 2.3\\nReceived: from murder ([unix socket])\\n\\t by mail.umich.edu (Cyrus v2.2.12) with LMTPA;\\n\\t Fri, 04 Jan 2008 16:10:39 -0500\\nReceived: from ghostbusters.mr.itd.umich.edu (ghostbusters.mr.itd.umich.edu [141.211.93.144])\\n\\tby panther.mail.umich.edu () with ESMTP id m04LAcZw014275;\\n\\tFri, 4 Jan 2008 16:10:38 -0500\\nReceived: FROM paploo.uhi.ac.uk (app1.prod.collab.uhi.ac.uk [194.35.219.184])\\n\\tBY ghostbusters.mr.itd.umich.edu ID 477EA0C6.A0214.25480 ; \\n\\t 4 Jan 2008 16:10:33 -0500\\nReceived: from paploo.uhi.ac.uk (localhost [127.0.0.1])\\n\\tby paploo.uhi.ac.uk (Postfix) with ESMTP id C48CDBB490;\\n\\tFri,  4 Jan 2008 21:10:31 +0000 (GMT)\\nMessage-ID: <200801042109.m04L92hb007923@nakamura.uits.iupui.edu>\\nMime-Version: 1.0\\nContent-Transfer-Encoding: 7bit\\nReceived: from prod.collab.uhi.ac.uk ([194.35.219.182])\\n          by paploo.uhi.ac.uk (JAMES SMTP Server 2.1.3) with SMTP ID 906\\n          for <source@collab.sakaiproject.org>;\\n          Fri, 4 Jan 2008 21:10:18 +0000 (GMT)\\nReceived: from nakamura.uits.iupui.edu (nakamura.uits.iupui.edu [134.68.220.122])\\n\\tby shmi.uhi.ac.uk (Postfix) with ESMTP id 7D13042F71\\n\\tfor <source@collab.sakaiproject.org>; Fri,  4 Jan 2008 21:10:14 +0000 (GMT)\\nReceived: from nakamura.uits.iupui.edu (localhost [127.0.0.1])\\n\\tby nakamura.uits.iupui.edu (8.12.11.20060308/8.12.11) with ESMTP id m04L927E007925\\n\\tfor <source@collab.sakaiproject.org>; Fri, 4 Jan 2008 16:09:02 -0500\\nReceived: (from apache@localhost)\\n\\tby nakamura.uits.iupui.edu (8.12.11.20060308/8.12.11/Submit) id m04L92hb007923\\n\\tfor source@collab.sakaiproject.org; Fri, 4 Jan 2008 16:09:02 -0500\\nDate: Fri, 4 Jan 2008 16:09:02 -0500\\nX-Authentication-Warning: nakamura.uits.iupui.edu: apache set sender to zqian@umich.edu using -f\\nTo: source@collab.sakaiproject.org\\nFrom: zqian@umich.edu\\nSubject: [sakai] svn commit: r39770 - site-manage/branches/sakai_2-5-x/site-manage-tool/tool/src/webapp/vm/sitesetup\\nX-Content-Type-Outer-Envelope: text/plain; charset=UTF-8\\nX-Content-Type-Message-Body: text/plain; charset=UTF-8\\nContent-Type: text/plain; charset=UTF-8\\nX-DSPAM-Result: Innocent\\nX-DSPAM-Processed: Fri Jan  4 16:10:39 2008\\nX-DSPAM-Confidence: 0.6961\\nX-DSPAM-Probability: 0.0000\\n\\nDetails: http://source.sakaiproject.org/viewsvn/?view=rev&rev=39770\\n\\nAuthor: zqian@umich.edu\\nDate: 2008-01-04 16:09:01 -0500 (Fri, 04 Jan 2008)\\nNew Revision: 39770\\n\\nModified:\\nsite-manage/branches/sakai_2-5-x/site-manage-tool/tool/src/webapp/vm/sitesetup/chef_site-siteInfo-list.vm\\nLog:\\nmerge fix to SAK-9996 into 2-5-x branch: svn merge -r 39687:39688 https://source.sakaiproject.org/svn/site-manage/trunk/\\n\\n----------------------\\nThis automatic notification message was sent by Sakai Collab (https://collab.sakaiproject.org/portal) from the Source site.\\nYou can modify how you receive notifications at My Workspace > Preferences.\\n\\n\\n\\nFrom rjlowe@iupui.edu Fri Jan  4 15:46:24 2008\\nReturn-Path: <postmaster@collab.sakaiproject.org>\\nReceived: from murder (mail.umich.edu [141.211.14.25])\\n\\t by frankenstein.mail.umich.edu (Cyrus v2.3.8) with LMTPA;\\n\\t Fri, 04 Jan 2008 15:46:24 -0500\\nX-Sieve: CMU Sieve 2.3\\nReceived: from murder ([unix socket])\\n\\t by mail.umich.edu (Cyrus v2.2.12) with LMTPA;\\n\\t Fri, 04 Jan 2008 15:46:24 -0500\\nReceived: from dreamcatcher.mr.itd.umich.edu (dreamcatcher.mr.itd.umich.edu [141.211.14.43])\\n\\tby panther.mail.umich.edu () with ESMTP id m04KkNbx032077;\\n\\tFri, 4 Jan 2008 15:46:23 -0500\\nReceived: FROM paploo.uhi.ac.uk (app1.prod.collab.uhi.ac.uk [194.35.219.184])\\n\\tBY dreamcatcher.mr.itd.umich.edu ID 477E9B13.2F3BC.22965 ; \\n\\t 4 Jan 2008 15:46:13 -0500\\nReceived: from paploo.uhi.ac.uk (localhost [127.0.0.1])\\n\\tby paploo.uhi.ac.uk (Postfix) with ESMTP id 4AE03BB552;\\n\\tFri,  4 Jan 2008 20:46:13 +0000 (GMT)\\nMessage-ID: <200801042044.m04Kiem3007881@nakamura.uits.iupui.edu>\\nMime-Version: 1.0\\nContent-Transfer-Encoding: 7bit\\nReceived: from prod.collab.uhi.ac.uk ([194.35.219.182])\\n          by paploo.uhi.ac.uk (JAMES SMTP Server 2.1.3) with SMTP ID 38\\n          for <source@collab.sakaiproject.org>;\\n          Fri, 4 Jan 2008 20:45:56 +0000 (GMT)\\nReceived: from nakamura.uits.iupui.edu (nakamura.uits.iupui.edu [134.68.220.122])\\n\\tby shmi.uhi.ac.uk (Postfix) with ESMTP id A55D242F57\\n\\tfor <source@collab.sakaiproject.org>; Fri,  4 Jan 2008 20:45:52 +0000 (GMT)\\nReceived: from nakamura.uits.iupui.edu (localhost [127.0.0.1])\\n\\tby nakamura.uits.iupui.edu (8.12.11.20060308/8.12.11) with ESMTP id m04KieqE007883\\n\\tfor <source@collab.sakaiproject.org>; Fri, 4 Jan 2008 15:44:40 -0500\\nReceived: (from apache@localhost)\\n\\tby nakamura.uits.iupui.edu (8.12.11.20060308/8.12.11/Submit) id m04Kiem3007881\\n\\tfor source@collab.sakaiproject.org; Fri, 4 Jan 2008 15:44:40 -0500\\nDate: Fri, 4 Jan 2008 15:44:40 -0500\\nX-Authentication-Warning: nakamura.uits.iupui.edu: apache set sender to rjlowe@iupui.edu using -f\\nTo: source@collab.sakaiproject.org\\nFrom: rjlowe@iupui.edu\\nSubject: [sakai] svn commit: r39769 - in gradebook/trunk/app/ui/src: java/org/sakaiproject/tool/gradebook/ui/helpers/beans java/org/sakaiproject/tool/gradebook/ui/helpers/producers webapp/WEB-INF webapp/WEB-INF/bundle\\nX-Content-Type-Outer-Envelope: text/plain; charset=UTF-8\\nX-Content-Type-Message-Body: text/plain; charset=UTF-8\\nContent-Type: text/plain; charset=UTF-8\\nX-DSPAM-Result: Innocent\\nX-DSPAM-Processed: Fri Jan  4 15:46:24 2008\\nX-DSPAM-Confidence: 0.7565\\nX-DSPAM-Probability: 0.0000\\n\\nDetails: http://source.sakaiproject.org/viewsvn/?view=rev&rev=39769\\n\\nAuthor: rjlowe@iupui.edu\\nDate: 2008-01-04 15:44:39 -0500 (Fri, 04 Jan 2008)\\nNew Revision: 39769\\n\\nModified:\\ngradebook/trunk/app/ui/src/java/org/sakaiproject/tool/gradebook/ui/helpers/beans/AssignmentGradeRecordBean.java\\ngradebook/trunk/app/ui/src/java/org/sakaiproject/tool/gradebook/ui/helpers/producers/GradeGradebookItemProducer.java\\ngradebook/trunk/app/ui/src/webapp/WEB-INF/applicationContext.xml\\ngradebook/trunk/app/ui/src/webapp/WEB-INF/bundle/messages.properties\\ngradebook/trunk/app/ui/src/webapp/WEB-INF/requestContext.xml\\nLog:\\nSAK-12180 - Fixed errors with grading helper\\n\\n----------------------\\nThis automatic notification message was sent by Sakai Collab (https://collab.sakaiproject.org/portal) from the Source site.\\nYou can modify how you receive notifications at My Workspace > Preferences.\\n\\n\\n\\nFrom zqian@umich.edu Fri Jan  4 15:03:18 2008\\nReturn-Path: <postmaster@collab.sakaiproject.org>\\nReceived: from murder (mail.umich.edu [141.211.14.46])\\n\\t by frankenstein.mail.umich.edu (Cyrus v2.3.8) with LMTPA;\\n\\t Fri, 04 Jan 2008 15:03:18 -0500\\nX-Sieve: CMU Sieve 2.3\\nReceived: from murder ([unix socket])\\n\\t by mail.umich.edu (Cyrus v2.2.12) with LMTPA;\\n\\t Fri, 04 Jan 2008 15:03:18 -0500\\nReceived: from firestarter.mr.itd.umich.edu (firestarter.mr.itd.umich.edu [141.211.14.83])\\n\\tby fan.mail.umich.edu () with ESMTP id m04K3HGF006563;\\n\\tFri, 4 Jan 2008 15:03:17 -0500\\nReceived: FROM paploo.uhi.ac.uk (app1.prod.collab.uhi.ac.uk [194.35.219.184])\\n\\tBY firestarter.mr.itd.umich.edu ID 477E9100.8F7F4.1590 ; \\n\\t 4 Jan 2008 15:03:15 -0500\\nReceived: from paploo.uhi.ac.uk (localhost [127.0.0.1])\\n\\tby paploo.uhi.ac.uk (Postfix) with ESMTP id 57770BB477;\\n\\tFri,  4 Jan 2008 20:03:09 +0000 (GMT)\\nMessage-ID: <200801042001.m04K1cO0007738@nakamura.uits.iupui.edu>\\nMime-Version: 1.0\\nContent-Transfer-Encoding: 7bit\\nReceived: from prod.collab.uhi.ac.uk ([194.35.219.182])\\n          by paploo.uhi.ac.uk (JAMES SMTP Server 2.1.3) with SMTP ID 622\\n          for <source@collab.sakaiproject.org>;\\n          Fri, 4 Jan 2008 20:02:46 +0000 (GMT)\\nReceived: from nakamura.uits.iupui.edu (nakamura.uits.iupui.edu [134.68.220.122])\\n\\tby shmi.uhi.ac.uk (Postfix) with ESMTP id AB4D042F4D\\n\\tfor <source@collab.sakaiproject.org>; Fri,  4 Jan 2008 20:02:50 +0000 (GMT)\\nReceived: from nakamura.uits.iupui.edu (localhost [127.0.0.1])\\n\\tby nakamura.uits.iupui.edu (8.12.11.20060308/8.12.11) with ESMTP id m04K1cXv007740\\n\\tfor <source@collab.sakaiproject.org>; Fri, 4 Jan 2008 15:01:38 -0500\\nReceived: (from apache@localhost)\\n\\tby nakamura.uits.iupui.edu (8.12.11.20060308/8.12.11/Submit) id m04K1cO0007738\\n\\tfor source@collab.sakaiproject.org; Fri, 4 Jan 2008 15:01:38 -0500\\nDate: Fri, 4 Jan 2008 15:01:38 -0500\\nX-Authentication-Warning: nakamura.uits.iupui.edu: apache set sender to zqian@umich.edu using -f\\nTo: source@collab.sakaiproject.org\\nFrom: zqian@umich.edu\\nSubject: [sakai] svn commit: r39766 - site-manage/branches/sakai_2-4-x/site-manage-tool/tool/src/java/org/sakaiproject/site/tool\\nX-Content-Type-Outer-Envelope: text/plain; charset=UTF-8\\nX-Content-Type-Message-Body: text/plain; charset=UTF-8\\nContent-Type: text/plain; charset=UTF-8\\nX-DSPAM-Result: Innocent\\nX-DSPAM-Processed: Fri Jan  4 15:03:18 2008\\nX-DSPAM-Confidence: 0.7626\\nX-DSPAM-Probability: 0.0000\\n\\nDetails: http://source.sakaiproject.org/viewsvn/?view=rev&rev=39766\\n\\nAuthor: zqian@umich.edu\\nDate: 2008-01-04 15:01:37 -0500 (Fri, 04 Jan 2008)\\nNew Revision: 39766\\n\\nModified:\\nsite-manage/branches/sakai_2-4-x/site-manage-tool/tool/src/java/org/sakaiproject/site/tool/SiteAction.java\\nLog:\\nmerge fix to SAK-10788 into site-manage 2.4.x branch:\\n\\nSakai Source Repository  \\t#38024  \\tWed Nov 07 14:54:46 MST 2007  \\tzqian@umich.edu  \\t Fix to SAK-10788: If a provided id in a couse site is fake or doesn\\'t provide any user information, Site Info appears to be like project site with empty participant list\\n\\nWatch for enrollments object being null and concatenate provider ids when there are more than one.\\nFiles Changed\\nMODIFY /site-manage/trunk/site-manage-tool/tool/src/java/org/sakaiproject/site/tool/SiteAction.java \\n\\n\\n\\n\\n----------------------\\nThis automatic notification message was sent by Sakai Collab (https://collab.sakaiproject.org/portal) from the Source site.\\nYou can modify how you receive notifications at My Workspace > Preferences.\\n\\n\\n\\nFrom rjlowe@iupui.edu Fri Jan  4 14:50:18 2008\\nReturn-Path: <postmaster@collab.sakaiproject.org>\\nReceived: from murder (mail.umich.edu [141.211.14.93])\\n\\t by frankenstein.mail.umich.edu (Cyrus v2.3.8) with LMTPA;\\n\\t Fri, 04 Jan 2008 14:50:18 -0500\\nX-Sieve: CMU Sieve 2.3\\nReceived: from murder ([unix socket])\\n\\t by mail.umich.edu (Cyrus v2.2.12) with LMTPA;\\n\\t Fri, 04 Jan 2008 14:50:18 -0500\\nReceived: from eyewitness.mr.itd.umich.edu (eyewitness.mr.itd.umich.edu [141.211.93.142])\\n\\tby mission.mail.umich.edu () with ESMTP id m04JoHJi019755;\\n\\tFri, 4 Jan 2008 14:50:17 -0500\\nReceived: FROM paploo.uhi.ac.uk (app1.prod.collab.uhi.ac.uk [194.35.219.184])\\n\\tBY eyewitness.mr.itd.umich.edu ID 477E8DF2.67B91.5278 ; \\n\\t 4 Jan 2008 14:50:13 -0500\\nReceived: from paploo.uhi.ac.uk (localhost [127.0.0.1])\\n\\tby paploo.uhi.ac.uk (Postfix) with ESMTP id 2D1B9BB492;\\n\\tFri,  4 Jan 2008 19:47:10 +0000 (GMT)\\nMessage-ID: <200801041948.m04JmdwO007705@nakamura.uits.iupui.edu>\\nMime-Version: 1.0\\nContent-Transfer-Encoding: 7bit\\nReceived: from prod.collab.uhi.ac.uk ([194.35.219.182])\\n          by paploo.uhi.ac.uk (JAMES SMTP Server 2.1.3) with SMTP ID 960\\n          for <source@collab.sakaiproject.org>;\\n          Fri, 4 Jan 2008 19:46:50 +0000 (GMT)\\nReceived: from nakamura.uits.iupui.edu (nakamura.uits.iupui.edu [134.68.220.122])\\n\\tby shmi.uhi.ac.uk (Postfix) with ESMTP id B3E6742F4A\\n\\tfor <source@collab.sakaiproject.org>; Fri,  4 Jan 2008 19:49:51 +0000 (GMT)\\nReceived: from nakamura.uits.iupui.edu (localhost [127.0.0.1])\\n\\tby nakamura.uits.iupui.edu (8.12.11.20060308/8.12.11) with ESMTP id m04JmeV9007707\\n\\tfor <source@collab.sakaiproject.org>; Fri, 4 Jan 2008 14:48:40 -0500\\nReceived: (from apache@localhost)\\n\\tby nakamura.uits.iupui.edu (8.12.11.20060308/8.12.11/Submit) id m04JmdwO007705\\n\\tfor source@collab.sakaiproject.org; Fri, 4 Jan 2008 14:48:39 -0500\\nDate: Fri, 4 Jan 2008 14:48:39 -0500\\nX-Authentication-Warning: nakamura.uits.iupui.edu: apache set sender to rjlowe@iupui.edu using -f\\nTo: source@collab.sakaiproject.org\\nFrom: rjlowe@iupui.edu\\nSubject: [sakai] svn commit: r39765 - in gradebook/trunk/app: business/src/java/org/sakaiproject/tool/gradebook/business business/src/java/org/sakaiproject/tool/gradebook/business/impl ui ui/src/java/org/sakaiproject/tool/gradebook/ui/helpers/beans ui/src/java/org/sakaiproject/tool/gradebook/ui/helpers/entity ui/src/java/org/sakaiproject/tool/gradebook/ui/helpers/params ui/src/java/org/sakaiproject/tool/gradebook/ui/helpers/producers ui/src/webapp/WEB-INF ui/src/webapp/WEB-INF/bundle ui/src/webapp/content/templates\\nX-Content-Type-Outer-Envelope: text/plain; charset=UTF-8\\nX-Content-Type-Message-Body: text/plain; charset=UTF-8\\nContent-Type: text/plain; charset=UTF-8\\nX-DSPAM-Result: Innocent\\nX-DSPAM-Processed: Fri Jan  4 14:50:18 2008\\nX-DSPAM-Confidence: 0.7556\\nX-DSPAM-Probability: 0.0000\\n\\nDetails: http://source.sakaiproject.org/viewsvn/?view=rev&rev=39765\\n\\nAuthor: rjlowe@iupui.edu\\nDate: 2008-01-04 14:48:37 -0500 (Fri, 04 Jan 2008)\\nNew Revision: 39765\\n\\nAdded:\\ngradebook/trunk/app/ui/src/java/org/sakaiproject/tool/gradebook/ui/helpers/beans/AssignmentGradeRecordBean.java\\ngradebook/trunk/app/ui/src/java/org/sakaiproject/tool/gradebook/ui/helpers/beans/AssignmentGradeRecordCreator.java\\ngradebook/trunk/app/ui/src/java/org/sakaiproject/tool/gradebook/ui/helpers/entity/GradebookEntryGradeEntityProvider.java\\ngradebook/trunk/app/ui/src/java/org/sakaiproject/tool/gradebook/ui/helpers/params/GradeGradebookItemViewParams.java\\ngradebook/trunk/app/ui/src/java/org/sakaiproject/tool/gradebook/ui/helpers/producers/GradeGradebookItemProducer.java\\ngradebook/trunk/app/ui/src/webapp/content/templates/grade-gradebook-item.html\\nModified:\\ngradebook/trunk/app/business/src/java/org/sakaiproject/tool/gradebook/business/GradebookManager.java\\ngradebook/trunk/app/business/src/java/org/sakaiproject/tool/gradebook/business/impl/GradebookManagerHibernateImpl.java\\ngradebook/trunk/app/ui/pom.xml\\ngradebook/trunk/app/ui/src/java/org/sakaiproject/tool/gradebook/ui/helpers/beans/GradebookItemBean.java\\ngradebook/trunk/app/ui/src/java/org/sakaiproject/tool/gradebook/ui/helpers/entity/GradebookEntryEntityProvider.java\\ngradebook/trunk/app/ui/src/java/org/sakaiproject/tool/gradebook/ui/helpers/producers/AddGradebookItemProducer.java\\ngradebook/trunk/app/ui/src/webapp/WEB-INF/applicationContext.xml\\ngradebook/trunk/app/ui/src/webapp/WEB-INF/bundle/messages.properties\\ngradebook/trunk/app/ui/src/webapp/WEB-INF/requestContext.xml\\nLog:\\nSAK-12180 - New helper tool to grade an assignment\\n\\n----------------------\\nThis automatic notification message was sent by Sakai Collab (https://collab.sakaiproject.org/portal) from the Source site.\\nYou can modify how you receive notifications at My Workspace > Preferences.\\n\\n\\n\\nFrom cwen@iupui.edu Fri Jan  4 11:37:30 2008\\nReturn-Path: <postmaster@collab.sakaiproject.org>\\nReceived: from murder (mail.umich.edu [141.211.14.46])\\n\\t by frankenstein.mail.umich.edu (Cyrus v2.3.8) with LMTPA;\\n\\t Fri, 04 Jan 2008 11:37:30 -0500\\nX-Sieve: CMU Sieve 2.3\\nReceived: from murder ([unix socket])\\n\\t by mail.umich.edu (Cyrus v2.2.12) with LMTPA;\\n\\t Fri, 04 Jan 2008 11:37:30 -0500\\nReceived: from tadpole.mr.itd.umich.edu (tadpole.mr.itd.umich.edu [141.211.14.72])\\n\\tby fan.mail.umich.edu () with ESMTP id m04GbT9x022078;\\n\\tFri, 4 Jan 2008 11:37:29 -0500\\nReceived: FROM paploo.uhi.ac.uk (app1.prod.collab.uhi.ac.uk [194.35.219.184])\\n\\tBY tadpole.mr.itd.umich.edu ID 477E60B2.82756.9904 ; \\n\\t 4 Jan 2008 11:37:09 -0500\\nReceived: from paploo.uhi.ac.uk (localhost [127.0.0.1])\\n\\tby paploo.uhi.ac.uk (Postfix) with ESMTP id 8D13DBB001;\\n\\tFri,  4 Jan 2008 16:37:07 +0000 (GMT)\\nMessage-ID: <200801041635.m04GZQGZ007313@nakamura.uits.iupui.edu>\\nMime-Version: 1.0\\nContent-Transfer-Encoding: 7bit\\nReceived: from prod.collab.uhi.ac.uk ([194.35.219.182])\\n          by paploo.uhi.ac.uk (JAMES SMTP Server 2.1.3) with SMTP ID 120\\n          for <source@collab.sakaiproject.org>;\\n          Fri, 4 Jan 2008 16:36:40 +0000 (GMT)\\nReceived: from nakamura.uits.iupui.edu (nakamura.uits.iupui.edu [134.68.220.122])\\n\\tby shmi.uhi.ac.uk (Postfix) with ESMTP id D430B42E42\\n\\tfor <source@collab.sakaiproject.org>; Fri,  4 Jan 2008 16:36:37 +0000 (GMT)\\nReceived: from nakamura.uits.iupui.edu (localhost [127.0.0.1])\\n\\tby nakamura.uits.iupui.edu (8.12.11.20060308/8.12.11) with ESMTP id m04GZQ7W007315\\n\\tfor <source@collab.sakaiproject.org>; Fri, 4 Jan 2008 11:35:26 -0500\\nReceived: (from apache@localhost)\\n\\tby nakamura.uits.iupui.edu (8.12.11.20060308/8.12.11/Submit) id m04GZQGZ007313\\n\\tfor source@collab.sakaiproject.org; Fri, 4 Jan 2008 11:35:26 -0500\\nDate: Fri, 4 Jan 2008 11:35:26 -0500\\nX-Authentication-Warning: nakamura.uits.iupui.edu: apache set sender to cwen@iupui.edu using -f\\nTo: source@collab.sakaiproject.org\\nFrom: cwen@iupui.edu\\nSubject: [sakai] svn commit: r39764 - in msgcntr/trunk/messageforums-app/src/java/org/sakaiproject/tool/messageforums: . ui\\nX-Content-Type-Outer-Envelope: text/plain; charset=UTF-8\\nX-Content-Type-Message-Body: text/plain; charset=UTF-8\\nContent-Type: text/plain; charset=UTF-8\\nX-DSPAM-Result: Innocent\\nX-DSPAM-Processed: Fri Jan  4 11:37:30 2008\\nX-DSPAM-Confidence: 0.7002\\nX-DSPAM-Probability: 0.0000\\n\\nDetails: http://source.sakaiproject.org/viewsvn/?view=rev&rev=39764\\n\\nAuthor: cwen@iupui.edu\\nDate: 2008-01-04 11:35:25 -0500 (Fri, 04 Jan 2008)\\nNew Revision: 39764\\n\\nModified:\\nmsgcntr/trunk/messageforums-app/src/java/org/sakaiproject/tool/messageforums/PrivateMessagesTool.java\\nmsgcntr/trunk/messageforums-app/src/java/org/sakaiproject/tool/messageforums/ui/PrivateMessageDecoratedBean.java\\nLog:\\nunmerge Xingtang\\'s checkin for SAK-12488.\\n\\nsvn merge -r39558:39557 https://source.sakaiproject.org/svn/msgcntr/trunk\\nU    messageforums-app/src/java/org/sakaiproject/tool/messageforums/PrivateMessagesTool.java\\nU    messageforums-app/src/java/org/sakaiproject/tool/messageforums/ui/PrivateMessageDecoratedBean.java\\n\\nsvn log -r 39558\\n------------------------------------------------------------------------\\nr39558 | hu2@iupui.edu | 2007-12-20 15:25:38 -0500 (Thu, 20 Dec 2007) | 3 lines\\n\\nSAK-12488\\nwhen send a message to yourself. click reply to all, cc row should be null.\\nhttp://jira.sakaiproject.org/jira/browse/SAK-12488\\n------------------------------------------------------------------------\\n\\n\\n----------------------\\nThis automatic notification message was sent by Sakai Collab (https://collab.sakaiproject.org/portal) from the Source site.\\nYou can modify how you receive notifications at My Workspace > Preferences.\\n\\n\\n\\nFrom cwen@iupui.edu Fri Jan  4 11:35:08 2008\\nReturn-Path: <postmaster@collab.sakaiproject.org>\\nReceived: from murder (mail.umich.edu [141.211.14.46])\\n\\t by frankenstein.mail.umich.edu (Cyrus v2.3.8) with LMTPA;\\n\\t Fri, 04 Jan 2008 11:35:08 -0500\\nX-Sieve: CMU Sieve 2.3\\nReceived: from murder ([unix socket])\\n\\t by mail.umich.edu (Cyrus v2.2.12) with LMTPA;\\n\\t Fri, 04 Jan 2008 11:35:08 -0500\\nReceived: from it.mr.itd.umich.edu (it.mr.itd.umich.edu [141.211.93.151])\\n\\tby fan.mail.umich.edu () with ESMTP id m04GZ6lt020480;\\n\\tFri, 4 Jan 2008 11:35:06 -0500\\nReceived: FROM paploo.uhi.ac.uk (app1.prod.collab.uhi.ac.uk [194.35.219.184])\\n\\tBY it.mr.itd.umich.edu ID 477E6033.6469D.21870 ; \\n\\t 4 Jan 2008 11:35:02 -0500\\nReceived: from paploo.uhi.ac.uk (localhost [127.0.0.1])\\n\\tby paploo.uhi.ac.uk (Postfix) with ESMTP id E40FABAE5B;\\n\\tFri,  4 Jan 2008 16:34:38 +0000 (GMT)\\nMessage-ID: <200801041633.m04GX6eG007292@nakamura.uits.iupui.edu>\\nMime-Version: 1.0\\nContent-Transfer-Encoding: 7bit\\nReceived: from prod.collab.uhi.ac.uk ([194.35.219.182])\\n          by paploo.uhi.ac.uk (JAMES SMTP Server 2.1.3) with SMTP ID 697\\n          for <source@collab.sakaiproject.org>;\\n          Fri, 4 Jan 2008 16:34:01 +0000 (GMT)\\nReceived: from nakamura.uits.iupui.edu (nakamura.uits.iupui.edu [134.68.220.122])\\n\\tby shmi.uhi.ac.uk (Postfix) with ESMTP id 1CD0C42E42\\n\\tfor <source@collab.sakaiproject.org>; Fri,  4 Jan 2008 16:34:17 +0000 (GMT)\\nReceived: from nakamura.uits.iupui.edu (localhost [127.0.0.1])\\n\\tby nakamura.uits.iupui.edu (8.12.11.20060308/8.12.11) with ESMTP id m04GX6Y3007294\\n\\tfor <source@collab.sakaiproject.org>; Fri, 4 Jan 2008 11:33:06 -0500\\nReceived: (from apache@localhost)\\n\\tby nakamura.uits.iupui.edu (8.12.11.20060308/8.12.11/Submit) id m04GX6eG007292\\n\\tfor source@collab.sakaiproject.org; Fri, 4 Jan 2008 11:33:06 -0500\\nDate: Fri, 4 Jan 2008 11:33:06 -0500\\nX-Authentication-Warning: nakamura.uits.iupui.edu: apache set sender to cwen@iupui.edu using -f\\nTo: source@collab.sakaiproject.org\\nFrom: cwen@iupui.edu\\nSubject: [sakai] svn commit: r39763 - in msgcntr/trunk: messageforums-api/src/bundle/org/sakaiproject/api/app/messagecenter/bundle messageforums-app/src/java/org/sakaiproject/tool/messageforums\\nX-Content-Type-Outer-Envelope: text/plain; charset=UTF-8\\nX-Content-Type-Message-Body: text/plain; charset=UTF-8\\nContent-Type: text/plain; charset=UTF-8\\nX-DSPAM-Result: Innocent\\nX-DSPAM-Processed: Fri Jan  4 11:35:08 2008\\nX-DSPAM-Confidence: 0.7615\\nX-DSPAM-Probability: 0.0000\\n\\nDetails: http://source.sakaiproject.org/viewsvn/?view=rev&rev=39763\\n\\nAuthor: cwen@iupui.edu\\nDate: 2008-01-04 11:33:05 -0500 (Fri, 04 Jan 2008)\\nNew Revision: 39763\\n\\nModified:\\nmsgcntr/trunk/messageforums-api/src/bundle/org/sakaiproject/api/app/messagecenter/bundle/Messages.properties\\nmsgcntr/trunk/messageforums-app/src/java/org/sakaiproject/tool/messageforums/PrivateMessagesTool.java\\nLog:\\nunmerge Xingtang\\'s check in for SAK-12484.\\n\\nsvn merge -r39571:39570 https://source.sakaiproject.org/svn/msgcntr/trunk\\nU    messageforums-api/src/bundle/org/sakaiproject/api/app/messagecenter/bundle/Messages.properties\\nU    messageforums-app/src/java/org/sakaiproject/tool/messageforums/PrivateMessagesTool.java\\n\\nsvn log -r 39571\\n------------------------------------------------------------------------\\nr39571 | hu2@iupui.edu | 2007-12-20 21:26:28 -0500 (Thu, 20 Dec 2007) | 3 lines\\n\\nSAK-12484\\nreply all cc list should not include the current user name.\\nhttp://jira.sakaiproject.org/jira/browse/SAK-12484\\n------------------------------------------------------------------------\\n\\n\\n----------------------\\nThis automatic notification message was sent by Sakai Collab (https://collab.sakaiproject.org/portal) from the Source site.\\nYou can modify how you receive notifications at My Workspace > Preferences.\\n\\n\\n\\nFrom gsilver@umich.edu Fri Jan  4 11:12:37 2008\\nReturn-Path: <postmaster@collab.sakaiproject.org>\\nReceived: from murder (mail.umich.edu [141.211.14.25])\\n\\t by frankenstein.mail.umich.edu (Cyrus v2.3.8) with LMTPA;\\n\\t Fri, 04 Jan 2008 11:12:37 -0500\\nX-Sieve: CMU Sieve 2.3\\nReceived: from murder ([unix socket])\\n\\t by mail.umich.edu (Cyrus v2.2.12) with LMTPA;\\n\\t Fri, 04 Jan 2008 11:12:37 -0500\\nReceived: from holes.mr.itd.umich.edu (holes.mr.itd.umich.edu [141.211.14.79])\\n\\tby panther.mail.umich.edu () with ESMTP id m04GCaHB030887;\\n\\tFri, 4 Jan 2008 11:12:36 -0500\\nReceived: FROM paploo.uhi.ac.uk (app1.prod.collab.uhi.ac.uk [194.35.219.184])\\n\\tBY holes.mr.itd.umich.edu ID 477E5AEB.E670B.28397 ; \\n\\t 4 Jan 2008 11:12:30 -0500\\nReceived: from paploo.uhi.ac.uk (localhost [127.0.0.1])\\n\\tby paploo.uhi.ac.uk (Postfix) with ESMTP id 99715BAE7D;\\n\\tFri,  4 Jan 2008 16:12:27 +0000 (GMT)\\nMessage-ID: <200801041611.m04GB1Lb007221@nakamura.uits.iupui.edu>\\nMime-Version: 1.0\\nContent-Transfer-Encoding: 7bit\\nReceived: from prod.collab.uhi.ac.uk ([194.35.219.182])\\n          by paploo.uhi.ac.uk (JAMES SMTP Server 2.1.3) with SMTP ID 272\\n          for <source@collab.sakaiproject.org>;\\n          Fri, 4 Jan 2008 16:12:14 +0000 (GMT)\\nReceived: from nakamura.uits.iupui.edu (nakamura.uits.iupui.edu [134.68.220.122])\\n\\tby shmi.uhi.ac.uk (Postfix) with ESMTP id 0A6ED42DFC\\n\\tfor <source@collab.sakaiproject.org>; Fri,  4 Jan 2008 16:12:12 +0000 (GMT)\\nReceived: from nakamura.uits.iupui.edu (localhost [127.0.0.1])\\n\\tby nakamura.uits.iupui.edu (8.12.11.20060308/8.12.11) with ESMTP id m04GB1Wt007223\\n\\tfor <source@collab.sakaiproject.org>; Fri, 4 Jan 2008 11:11:01 -0500\\nReceived: (from apache@localhost)\\n\\tby nakamura.uits.iupui.edu (8.12.11.20060308/8.12.11/Submit) id m04GB1Lb007221\\n\\tfor source@collab.sakaiproject.org; Fri, 4 Jan 2008 11:11:01 -0500\\nDate: Fri, 4 Jan 2008 11:11:01 -0500\\nX-Authentication-Warning: nakamura.uits.iupui.edu: apache set sender to gsilver@umich.edu using -f\\nTo: source@collab.sakaiproject.org\\nFrom: gsilver@umich.edu\\nSubject: [sakai] svn commit: r39762 - web/trunk/web-tool/tool/src/bundle\\nX-Content-Type-Outer-Envelope: text/plain; charset=UTF-8\\nX-Content-Type-Message-Body: text/plain; charset=UTF-8\\nContent-Type: text/plain; charset=UTF-8\\nX-DSPAM-Result: Innocent\\nX-DSPAM-Processed: Fri Jan  4 11:12:37 2008\\nX-DSPAM-Confidence: 0.7601\\nX-DSPAM-Probability: 0.0000\\n\\nDetails: http://source.sakaiproject.org/viewsvn/?view=rev&rev=39762\\n\\nAuthor: gsilver@umich.edu\\nDate: 2008-01-04 11:11:00 -0500 (Fri, 04 Jan 2008)\\nNew Revision: 39762\\n\\nModified:\\nweb/trunk/web-tool/tool/src/bundle/iframe.properties\\nLog:\\nSAK-12596\\nhttp://bugs.sakaiproject.org/jira/browse/SAK-12596\\n- left moot (unused) entries commented for now\\n\\n----------------------\\nThis automatic notification message was sent by Sakai Collab (https://collab.sakaiproject.org/portal) from the Source site.\\nYou can modify how you receive notifications at My Workspace > Preferences.\\n\\n\\n\\nFrom gsilver@umich.edu Fri Jan  4 11:11:52 2008\\nReturn-Path: <postmaster@collab.sakaiproject.org>\\nReceived: from murder (mail.umich.edu [141.211.14.36])\\n\\t by frankenstein.mail.umich.edu (Cyrus v2.3.8) with LMTPA;\\n\\t Fri, 04 Jan 2008 11:11:52 -0500\\nX-Sieve: CMU Sieve 2.3\\nReceived: from murder ([unix socket])\\n\\t by mail.umich.edu (Cyrus v2.2.12) with LMTPA;\\n\\t Fri, 04 Jan 2008 11:11:52 -0500\\nReceived: from creepshow.mr.itd.umich.edu (creepshow.mr.itd.umich.edu [141.211.14.84])\\n\\tby godsend.mail.umich.edu () with ESMTP id m04GBqqv025330;\\n\\tFri, 4 Jan 2008 11:11:52 -0500\\nReceived: FROM paploo.uhi.ac.uk (app1.prod.collab.uhi.ac.uk [194.35.219.184])\\n\\tBY creepshow.mr.itd.umich.edu ID 477E5AB3.5CC32.30840 ; \\n\\t 4 Jan 2008 11:11:34 -0500\\nReceived: from paploo.uhi.ac.uk (localhost [127.0.0.1])\\n\\tby paploo.uhi.ac.uk (Postfix) with ESMTP id 62AA4BAE46;\\n\\tFri,  4 Jan 2008 16:11:31 +0000 (GMT)\\nMessage-ID: <200801041610.m04GA5KP007209@nakamura.uits.iupui.edu>\\nMime-Version: 1.0\\nContent-Transfer-Encoding: 7bit\\nReceived: from prod.collab.uhi.ac.uk ([194.35.219.182])\\n          by paploo.uhi.ac.uk (JAMES SMTP Server 2.1.3) with SMTP ID 1006\\n          for <source@collab.sakaiproject.org>;\\n          Fri, 4 Jan 2008 16:11:18 +0000 (GMT)\\nReceived: from nakamura.uits.iupui.edu (nakamura.uits.iupui.edu [134.68.220.122])\\n\\tby shmi.uhi.ac.uk (Postfix) with ESMTP id C596A3DFA2\\n\\tfor <source@collab.sakaiproject.org>; Fri,  4 Jan 2008 16:11:16 +0000 (GMT)\\nReceived: from nakamura.uits.iupui.edu (localhost [127.0.0.1])\\n\\tby nakamura.uits.iupui.edu (8.12.11.20060308/8.12.11) with ESMTP id m04GA5LR007211\\n\\tfor <source@collab.sakaiproject.org>; Fri, 4 Jan 2008 11:10:05 -0500\\nReceived: (from apache@localhost)\\n\\tby nakamura.uits.iupui.edu (8.12.11.20060308/8.12.11/Submit) id m04GA5KP007209\\n\\tfor source@collab.sakaiproject.org; Fri, 4 Jan 2008 11:10:05 -0500\\nDate: Fri, 4 Jan 2008 11:10:05 -0500\\nX-Authentication-Warning: nakamura.uits.iupui.edu: apache set sender to gsilver@umich.edu using -f\\nTo: source@collab.sakaiproject.org\\nFrom: gsilver@umich.edu\\nSubject: [sakai] svn commit: r39761 - site/trunk/site-tool/tool/src/bundle\\nX-Content-Type-Outer-Envelope: text/plain; charset=UTF-8\\nX-Content-Type-Message-Body: text/plain; charset=UTF-8\\nContent-Type: text/plain; charset=UTF-8\\nX-DSPAM-Result: Innocent\\nX-DSPAM-Processed: Fri Jan  4 11:11:52 2008\\nX-DSPAM-Confidence: 0.7605\\nX-DSPAM-Probability: 0.0000\\n\\nDetails: http://source.sakaiproject.org/viewsvn/?view=rev&rev=39761\\n\\nAuthor: gsilver@umich.edu\\nDate: 2008-01-04 11:10:04 -0500 (Fri, 04 Jan 2008)\\nNew Revision: 39761\\n\\nModified:\\nsite/trunk/site-tool/tool/src/bundle/admin.properties\\nLog:\\nSAK-12595\\nhttp://bugs.sakaiproject.org/jira/browse/SAK-12595\\n- left moot (unused) entries commented for now\\n\\n----------------------\\nThis automatic notification message was sent by Sakai Collab (https://collab.sakaiproject.org/portal) from the Source site.\\nYou can modify how you receive notifications at My Workspace > Preferences.\\n\\n\\n\\nFrom zqian@umich.edu Fri Jan  4 11:11:03 2008\\nReturn-Path: <postmaster@collab.sakaiproject.org>\\nReceived: from murder (mail.umich.edu [141.211.14.97])\\n\\t by frankenstein.mail.umich.edu (Cyrus v2.3.8) with LMTPA;\\n\\t Fri, 04 Jan 2008 11:11:03 -0500\\nX-Sieve: CMU Sieve 2.3\\nReceived: from murder ([unix socket])\\n\\t by mail.umich.edu (Cyrus v2.2.12) with LMTPA;\\n\\t Fri, 04 Jan 2008 11:11:03 -0500\\nReceived: from carrie.mr.itd.umich.edu (carrie.mr.itd.umich.edu [141.211.93.152])\\n\\tby sleepers.mail.umich.edu () with ESMTP id m04GB3Vg011502;\\n\\tFri, 4 Jan 2008 11:11:03 -0500\\nReceived: FROM paploo.uhi.ac.uk (app1.prod.collab.uhi.ac.uk [194.35.219.184])\\n\\tBY carrie.mr.itd.umich.edu ID 477E5A8D.B378F.24200 ; \\n\\t 4 Jan 2008 11:10:56 -0500\\nReceived: from paploo.uhi.ac.uk (localhost [127.0.0.1])\\n\\tby paploo.uhi.ac.uk (Postfix) with ESMTP id C7251BAD44;\\n\\tFri,  4 Jan 2008 16:10:53 +0000 (GMT)\\nMessage-ID: <200801041609.m04G9EuX007197@nakamura.uits.iupui.edu>\\nMime-Version: 1.0\\nContent-Transfer-Encoding: 7bit\\nReceived: from prod.collab.uhi.ac.uk ([194.35.219.182])\\n          by paploo.uhi.ac.uk (JAMES SMTP Server 2.1.3) with SMTP ID 483\\n          for <source@collab.sakaiproject.org>;\\n          Fri, 4 Jan 2008 16:10:27 +0000 (GMT)\\nReceived: from nakamura.uits.iupui.edu (nakamura.uits.iupui.edu [134.68.220.122])\\n\\tby shmi.uhi.ac.uk (Postfix) with ESMTP id 2E7043DFA2\\n\\tfor <source@collab.sakaiproject.org>; Fri,  4 Jan 2008 16:10:26 +0000 (GMT)\\nReceived: from nakamura.uits.iupui.edu (localhost [127.0.0.1])\\n\\tby nakamura.uits.iupui.edu (8.12.11.20060308/8.12.11) with ESMTP id m04G9Eqg007199\\n\\tfor <source@collab.sakaiproject.org>; Fri, 4 Jan 2008 11:09:15 -0500\\nReceived: (from apache@localhost)\\n\\tby nakamura.uits.iupui.edu (8.12.11.20060308/8.12.11/Submit) id m04G9EuX007197\\n\\tfor source@collab.sakaiproject.org; Fri, 4 Jan 2008 11:09:14 -0500\\nDate: Fri, 4 Jan 2008 11:09:14 -0500\\nX-Authentication-Warning: nakamura.uits.iupui.edu: apache set sender to zqian@umich.edu using -f\\nTo: source@collab.sakaiproject.org\\nFrom: zqian@umich.edu\\nSubject: [sakai] svn commit: r39760 - in site-manage/trunk/site-manage-tool/tool/src: java/org/sakaiproject/site/tool webapp/vm/sitesetup\\nX-Content-Type-Outer-Envelope: text/plain; charset=UTF-8\\nX-Content-Type-Message-Body: text/plain; charset=UTF-8\\nContent-Type: text/plain; charset=UTF-8\\nX-DSPAM-Result: Innocent\\nX-DSPAM-Processed: Fri Jan  4 11:11:03 2008\\nX-DSPAM-Confidence: 0.6959\\nX-DSPAM-Probability: 0.0000\\n\\nDetails: http://source.sakaiproject.org/viewsvn/?view=rev&rev=39760\\n\\nAuthor: zqian@umich.edu\\nDate: 2008-01-04 11:09:12 -0500 (Fri, 04 Jan 2008)\\nNew Revision: 39760\\n\\nModified:\\nsite-manage/trunk/site-manage-tool/tool/src/java/org/sakaiproject/site/tool/SiteAction.java\\nsite-manage/trunk/site-manage-tool/tool/src/webapp/vm/sitesetup/chef_site-siteInfo-list.vm\\nLog:\\nfix to SAK-10911: Refactor use of site.upd, site.upd.site.mbrship and site.upd.grp.mbrship permissions\\n\\n----------------------\\nThis automatic notification message was sent by Sakai Collab (https://collab.sakaiproject.org/portal) from the Source site.\\nYou can modify how you receive notifications at My Workspace > Preferences.\\n\\n\\n\\nFrom gsilver@umich.edu Fri Jan  4 11:10:22 2008\\nReturn-Path: <postmaster@collab.sakaiproject.org>\\nReceived: from murder (mail.umich.edu [141.211.14.39])\\n\\t by frankenstein.mail.umich.edu (Cyrus v2.3.8) with LMTPA;\\n\\t Fri, 04 Jan 2008 11:10:22 -0500\\nX-Sieve: CMU Sieve 2.3\\nReceived: from murder ([unix socket])\\n\\t by mail.umich.edu (Cyrus v2.2.12) with LMTPA;\\n\\t Fri, 04 Jan 2008 11:10:22 -0500\\nReceived: from holes.mr.itd.umich.edu (holes.mr.itd.umich.edu [141.211.14.79])\\n\\tby faithful.mail.umich.edu () with ESMTP id m04GAL9k010604;\\n\\tFri, 4 Jan 2008 11:10:21 -0500\\nReceived: FROM paploo.uhi.ac.uk (app1.prod.collab.uhi.ac.uk [194.35.219.184])\\n\\tBY holes.mr.itd.umich.edu ID 477E5A67.34350.23015 ; \\n\\t 4 Jan 2008 11:10:18 -0500\\nReceived: from paploo.uhi.ac.uk (localhost [127.0.0.1])\\n\\tby paploo.uhi.ac.uk (Postfix) with ESMTP id 98D04BAD43;\\n\\tFri,  4 Jan 2008 16:10:11 +0000 (GMT)\\nMessage-ID: <200801041608.m04G8d7w007184@nakamura.uits.iupui.edu>\\nMime-Version: 1.0\\nContent-Transfer-Encoding: 7bit\\nReceived: from prod.collab.uhi.ac.uk ([194.35.219.182])\\n          by paploo.uhi.ac.uk (JAMES SMTP Server 2.1.3) with SMTP ID 966\\n          for <source@collab.sakaiproject.org>;\\n          Fri, 4 Jan 2008 16:09:51 +0000 (GMT)\\nReceived: from nakamura.uits.iupui.edu (nakamura.uits.iupui.edu [134.68.220.122])\\n\\tby shmi.uhi.ac.uk (Postfix) with ESMTP id 9F89542DD0\\n\\tfor <source@collab.sakaiproject.org>; Fri,  4 Jan 2008 16:09:50 +0000 (GMT)\\nReceived: from nakamura.uits.iupui.edu (localhost [127.0.0.1])\\n\\tby nakamura.uits.iupui.edu (8.12.11.20060308/8.12.11) with ESMTP id m04G8dXN007186\\n\\tfor <source@collab.sakaiproject.org>; Fri, 4 Jan 2008 11:08:39 -0500\\nReceived: (from apache@localhost)\\n\\tby nakamura.uits.iupui.edu (8.12.11.20060308/8.12.11/Submit) id m04G8d7w007184\\n\\tfor source@collab.sakaiproject.org; Fri, 4 Jan 2008 11:08:39 -0500\\nDate: Fri, 4 Jan 2008 11:08:39 -0500\\nX-Authentication-Warning: nakamura.uits.iupui.edu: apache set sender to gsilver@umich.edu using -f\\nTo: source@collab.sakaiproject.org\\nFrom: gsilver@umich.edu\\nSubject: [sakai] svn commit: r39759 - mailarchive/trunk/mailarchive-tool/tool/src/bundle\\nX-Content-Type-Outer-Envelope: text/plain; charset=UTF-8\\nX-Content-Type-Message-Body: text/plain; charset=UTF-8\\nContent-Type: text/plain; charset=UTF-8\\nX-DSPAM-Result: Innocent\\nX-DSPAM-Processed: Fri Jan  4 11:10:22 2008\\nX-DSPAM-Confidence: 0.7606\\nX-DSPAM-Probability: 0.0000\\n\\nDetails: http://source.sakaiproject.org/viewsvn/?view=rev&rev=39759\\n\\nAuthor: gsilver@umich.edu\\nDate: 2008-01-04 11:08:38 -0500 (Fri, 04 Jan 2008)\\nNew Revision: 39759\\n\\nModified:\\nmailarchive/trunk/mailarchive-tool/tool/src/bundle/email.properties\\nLog:\\nSAK-12592\\nhttp://bugs.sakaiproject.org/jira/browse/SAK-12592\\n- left moot (unused) entries commented for now\\n\\n----------------------\\nThis automatic notification message was sent by Sakai Collab (https://collab.sakaiproject.org/portal) from the Source site.\\nYou can modify how you receive notifications at My Workspace > Preferences.\\n\\n\\n\\nFrom wagnermr@iupui.edu Fri Jan  4 10:38:42 2008\\nReturn-Path: <postmaster@collab.sakaiproject.org>\\nReceived: from murder (mail.umich.edu [141.211.14.90])\\n\\t by frankenstein.mail.umich.edu (Cyrus v2.3.8) with LMTPA;\\n\\t Fri, 04 Jan 2008 10:38:42 -0500\\nX-Sieve: CMU Sieve 2.3\\nReceived: from murder ([unix socket])\\n\\t by mail.umich.edu (Cyrus v2.2.12) with LMTPA;\\n\\t Fri, 04 Jan 2008 10:38:42 -0500\\nReceived: from shining.mr.itd.umich.edu (shining.mr.itd.umich.edu [141.211.93.153])\\n\\tby flawless.mail.umich.edu () with ESMTP id m04Fcfjm012313;\\n\\tFri, 4 Jan 2008 10:38:41 -0500\\nReceived: FROM paploo.uhi.ac.uk (app1.prod.collab.uhi.ac.uk [194.35.219.184])\\n\\tBY shining.mr.itd.umich.edu ID 477E52FA.E6C6E.24093 ; \\n\\t 4 Jan 2008 10:38:37 -0500\\nReceived: from paploo.uhi.ac.uk (localhost [127.0.0.1])\\n\\tby paploo.uhi.ac.uk (Postfix) with ESMTP id 6A39594CD2;\\n\\tFri,  4 Jan 2008 15:37:36 +0000 (GMT)\\nMessage-ID: <200801041537.m04Fb6Ci007092@nakamura.uits.iupui.edu>\\nMime-Version: 1.0\\nContent-Transfer-Encoding: 7bit\\nReceived: from prod.collab.uhi.ac.uk ([194.35.219.182])\\n          by paploo.uhi.ac.uk (JAMES SMTP Server 2.1.3) with SMTP ID 690\\n          for <source@collab.sakaiproject.org>;\\n          Fri, 4 Jan 2008 15:37:21 +0000 (GMT)\\nReceived: from nakamura.uits.iupui.edu (nakamura.uits.iupui.edu [134.68.220.122])\\n\\tby shmi.uhi.ac.uk (Postfix) with ESMTP id CEFA037ACE\\n\\tfor <source@collab.sakaiproject.org>; Fri,  4 Jan 2008 15:38:17 +0000 (GMT)\\nReceived: from nakamura.uits.iupui.edu (localhost [127.0.0.1])\\n\\tby nakamura.uits.iupui.edu (8.12.11.20060308/8.12.11) with ESMTP id m04Fb6nh007094\\n\\tfor <source@collab.sakaiproject.org>; Fri, 4 Jan 2008 10:37:06 -0500\\nReceived: (from apache@localhost)\\n\\tby nakamura.uits.iupui.edu (8.12.11.20060308/8.12.11/Submit) id m04Fb6Ci007092\\n\\tfor source@collab.sakaiproject.org; Fri, 4 Jan 2008 10:37:06 -0500\\nDate: Fri, 4 Jan 2008 10:37:06 -0500\\nX-Authentication-Warning: nakamura.uits.iupui.edu: apache set sender to wagnermr@iupui.edu using -f\\nTo: source@collab.sakaiproject.org\\nFrom: wagnermr@iupui.edu\\nSubject: [sakai] svn commit: r39758 - in gradebook/trunk: app/business/src/java/org/sakaiproject/tool/gradebook/business/impl service/api/src/java/org/sakaiproject/service/gradebook/shared service/impl/src/java/org/sakaiproject/component/gradebook\\nX-Content-Type-Outer-Envelope: text/plain; charset=UTF-8\\nX-Content-Type-Message-Body: text/plain; charset=UTF-8\\nContent-Type: text/plain; charset=UTF-8\\nX-DSPAM-Result: Innocent\\nX-DSPAM-Processed: Fri Jan  4 10:38:42 2008\\nX-DSPAM-Confidence: 0.7559\\nX-DSPAM-Probability: 0.0000\\n\\nDetails: http://source.sakaiproject.org/viewsvn/?view=rev&rev=39758\\n\\nAuthor: wagnermr@iupui.edu\\nDate: 2008-01-04 10:37:04 -0500 (Fri, 04 Jan 2008)\\nNew Revision: 39758\\n\\nModified:\\ngradebook/trunk/app/business/src/java/org/sakaiproject/tool/gradebook/business/impl/GradebookManagerHibernateImpl.java\\ngradebook/trunk/service/api/src/java/org/sakaiproject/service/gradebook/shared/GradebookService.java\\ngradebook/trunk/service/impl/src/java/org/sakaiproject/component/gradebook/GradebookServiceHibernateImpl.java\\nLog:\\nSAK-12175\\nhttp://bugs.sakaiproject.org/jira/browse/SAK-12175\\nCreate methods required for gb integration with the Assignment2 tool\\ngetGradeDefinitionForStudentForItem\\n\\n----------------------\\nThis automatic notification message was sent by Sakai Collab (https://collab.sakaiproject.org/portal) from the Source site.\\nYou can modify how you receive notifications at My Workspace > Preferences.\\n\\n\\n\\nFrom zqian@umich.edu Fri Jan  4 10:17:43 2008\\nReturn-Path: <postmaster@collab.sakaiproject.org>\\nReceived: from murder (mail.umich.edu [141.211.14.97])\\n\\t by frankenstein.mail.umich.edu (Cyrus v2.3.8) with LMTPA;\\n\\t Fri, 04 Jan 2008 10:17:43 -0500\\nX-Sieve: CMU Sieve 2.3\\nReceived: from murder ([unix socket])\\n\\t by mail.umich.edu (Cyrus v2.2.12) with LMTPA;\\n\\t Fri, 04 Jan 2008 10:17:42 -0500\\nReceived: from creepshow.mr.itd.umich.edu (creepshow.mr.itd.umich.edu [141.211.14.84])\\n\\tby sleepers.mail.umich.edu () with ESMTP id m04FHgfs011536;\\n\\tFri, 4 Jan 2008 10:17:42 -0500\\nReceived: FROM paploo.uhi.ac.uk (app1.prod.collab.uhi.ac.uk [194.35.219.184])\\n\\tBY creepshow.mr.itd.umich.edu ID 477E4E0F.CCA4B.926 ; \\n\\t 4 Jan 2008 10:17:38 -0500\\nReceived: from paploo.uhi.ac.uk (localhost [127.0.0.1])\\n\\tby paploo.uhi.ac.uk (Postfix) with ESMTP id BD02DBAC64;\\n\\tFri,  4 Jan 2008 15:17:34 +0000 (GMT)\\nMessage-ID: <200801041515.m04FFv42007050@nakamura.uits.iupui.edu>\\nMime-Version: 1.0\\nContent-Transfer-Encoding: 7bit\\nReceived: from prod.collab.uhi.ac.uk ([194.35.219.182])\\n          by paploo.uhi.ac.uk (JAMES SMTP Server 2.1.3) with SMTP ID 25\\n          for <source@collab.sakaiproject.org>;\\n          Fri, 4 Jan 2008 15:17:11 +0000 (GMT)\\nReceived: from nakamura.uits.iupui.edu (nakamura.uits.iupui.edu [134.68.220.122])\\n\\tby shmi.uhi.ac.uk (Postfix) with ESMTP id 5B396236B9\\n\\tfor <source@collab.sakaiproject.org>; Fri,  4 Jan 2008 15:17:08 +0000 (GMT)\\nReceived: from nakamura.uits.iupui.edu (localhost [127.0.0.1])\\n\\tby nakamura.uits.iupui.edu (8.12.11.20060308/8.12.11) with ESMTP id m04FFv85007052\\n\\tfor <source@collab.sakaiproject.org>; Fri, 4 Jan 2008 10:15:57 -0500\\nReceived: (from apache@localhost)\\n\\tby nakamura.uits.iupui.edu (8.12.11.20060308/8.12.11/Submit) id m04FFv42007050\\n\\tfor source@collab.sakaiproject.org; Fri, 4 Jan 2008 10:15:57 -0500\\nDate: Fri, 4 Jan 2008 10:15:57 -0500\\nX-Authentication-Warning: nakamura.uits.iupui.edu: apache set sender to zqian@umich.edu using -f\\nTo: source@collab.sakaiproject.org\\nFrom: zqian@umich.edu\\nSubject: [sakai] svn commit: r39757 - in assignment/trunk: assignment-impl/impl/src/java/org/sakaiproject/assignment/impl assignment-tool/tool/src/webapp/vm/assignment\\nX-Content-Type-Outer-Envelope: text/plain; charset=UTF-8\\nX-Content-Type-Message-Body: text/plain; charset=UTF-8\\nContent-Type: text/plain; charset=UTF-8\\nX-DSPAM-Result: Innocent\\nX-DSPAM-Processed: Fri Jan  4 10:17:42 2008\\nX-DSPAM-Confidence: 0.7605\\nX-DSPAM-Probability: 0.0000\\n\\nDetails: http://source.sakaiproject.org/viewsvn/?view=rev&rev=39757\\n\\nAuthor: zqian@umich.edu\\nDate: 2008-01-04 10:15:54 -0500 (Fri, 04 Jan 2008)\\nNew Revision: 39757\\n\\nModified:\\nassignment/trunk/assignment-impl/impl/src/java/org/sakaiproject/assignment/impl/BaseAssignmentService.java\\nassignment/trunk/assignment-tool/tool/src/webapp/vm/assignment/chef_assignments_instructor_list_submissions.vm\\nLog:\\nfix to SAK-12604:Don\\'t show groups/sections filter if the site doesn\\'t have any\\n\\n----------------------\\nThis automatic notification message was sent by Sakai Collab (https://collab.sakaiproject.org/portal) from the Source site.\\nYou can modify how you receive notifications at My Workspace > Preferences.\\n\\n\\n\\nFrom antranig@caret.cam.ac.uk Fri Jan  4 10:04:14 2008\\nReturn-Path: <postmaster@collab.sakaiproject.org>\\nReceived: from murder (mail.umich.edu [141.211.14.25])\\n\\t by frankenstein.mail.umich.edu (Cyrus v2.3.8) with LMTPA;\\n\\t Fri, 04 Jan 2008 10:04:14 -0500\\nX-Sieve: CMU Sieve 2.3\\nReceived: from murder ([unix socket])\\n\\t by mail.umich.edu (Cyrus v2.2.12) with LMTPA;\\n\\t Fri, 04 Jan 2008 10:04:14 -0500\\nReceived: from holes.mr.itd.umich.edu (holes.mr.itd.umich.edu [141.211.14.79])\\n\\tby panther.mail.umich.edu () with ESMTP id m04F4Dci015108;\\n\\tFri, 4 Jan 2008 10:04:13 -0500\\nReceived: FROM paploo.uhi.ac.uk (app1.prod.collab.uhi.ac.uk [194.35.219.184])\\n\\tBY holes.mr.itd.umich.edu ID 477E4AE3.D7AF.31669 ; \\n\\t 4 Jan 2008 10:04:05 -0500\\nReceived: from paploo.uhi.ac.uk (localhost [127.0.0.1])\\n\\tby paploo.uhi.ac.uk (Postfix) with ESMTP id 933E3BAC17;\\n\\tFri,  4 Jan 2008 15:04:00 +0000 (GMT)\\nMessage-ID: <200801041502.m04F21Jo007031@nakamura.uits.iupui.edu>\\nMime-Version: 1.0\\nContent-Transfer-Encoding: 7bit\\nReceived: from prod.collab.uhi.ac.uk ([194.35.219.182])\\n          by paploo.uhi.ac.uk (JAMES SMTP Server 2.1.3) with SMTP ID 32\\n          for <source@collab.sakaiproject.org>;\\n          Fri, 4 Jan 2008 15:03:15 +0000 (GMT)\\nReceived: from nakamura.uits.iupui.edu (nakamura.uits.iupui.edu [134.68.220.122])\\n\\tby shmi.uhi.ac.uk (Postfix) with ESMTP id AC2F6236B9\\n\\tfor <source@collab.sakaiproject.org>; Fri,  4 Jan 2008 15:03:12 +0000 (GMT)\\nReceived: from nakamura.uits.iupui.edu (localhost [127.0.0.1])\\n\\tby nakamura.uits.iupui.edu (8.12.11.20060308/8.12.11) with ESMTP id m04F21hn007033\\n\\tfor <source@collab.sakaiproject.org>; Fri, 4 Jan 2008 10:02:01 -0500\\nReceived: (from apache@localhost)\\n\\tby nakamura.uits.iupui.edu (8.12.11.20060308/8.12.11/Submit) id m04F21Jo007031\\n\\tfor source@collab.sakaiproject.org; Fri, 4 Jan 2008 10:02:01 -0500\\nDate: Fri, 4 Jan 2008 10:02:01 -0500\\nX-Authentication-Warning: nakamura.uits.iupui.edu: apache set sender to antranig@caret.cam.ac.uk using -f\\nTo: source@collab.sakaiproject.org\\nFrom: antranig@caret.cam.ac.uk\\nSubject: [sakai] svn commit: r39756 - in component/branches/SAK-12166/component-api/component/src/java/org/sakaiproject/component: impl impl/spring/support impl/spring/support/dynamic impl/support util\\nX-Content-Type-Outer-Envelope: text/plain; charset=UTF-8\\nX-Content-Type-Message-Body: text/plain; charset=UTF-8\\nContent-Type: text/plain; charset=UTF-8\\nX-DSPAM-Result: Innocent\\nX-DSPAM-Processed: Fri Jan  4 10:04:14 2008\\nX-DSPAM-Confidence: 0.6932\\nX-DSPAM-Probability: 0.0000\\n\\nDetails: http://source.sakaiproject.org/viewsvn/?view=rev&rev=39756\\n\\nAuthor: antranig@caret.cam.ac.uk\\nDate: 2008-01-04 10:01:40 -0500 (Fri, 04 Jan 2008)\\nNew Revision: 39756\\n\\nAdded:\\ncomponent/branches/SAK-12166/component-api/component/src/java/org/sakaiproject/component/impl/spring/support/dynamic/\\ncomponent/branches/SAK-12166/component-api/component/src/java/org/sakaiproject/component/impl/spring/support/dynamic/DynamicComponentManager.java\\ncomponent/branches/SAK-12166/component-api/component/src/java/org/sakaiproject/component/impl/support/\\ncomponent/branches/SAK-12166/component-api/component/src/java/org/sakaiproject/component/impl/support/DynamicComponentRecord.java\\ncomponent/branches/SAK-12166/component-api/component/src/java/org/sakaiproject/component/impl/support/DynamicJARManager.java\\ncomponent/branches/SAK-12166/component-api/component/src/java/org/sakaiproject/component/impl/support/JARRecord.java\\ncomponent/branches/SAK-12166/component-api/component/src/java/org/sakaiproject/component/util/ByteToCharBase64.java\\ncomponent/branches/SAK-12166/component-api/component/src/java/org/sakaiproject/component/util/FileUtil.java\\ncomponent/branches/SAK-12166/component-api/component/src/java/org/sakaiproject/component/util/RecordFileIO.java\\ncomponent/branches/SAK-12166/component-api/component/src/java/org/sakaiproject/component/util/RecordReader.java\\ncomponent/branches/SAK-12166/component-api/component/src/java/org/sakaiproject/component/util/RecordWriter.java\\ncomponent/branches/SAK-12166/component-api/component/src/java/org/sakaiproject/component/util/StreamDigestor.java\\nModified:\\ncomponent/branches/SAK-12166/component-api/component/src/java/org/sakaiproject/component/impl/spring/support/ComponentsLoaderImpl.java\\nLog:\\nTemporary commit of incomplete work on JAR caching\\n\\n----------------------\\nThis automatic notification message was sent by Sakai Collab (https://collab.sakaiproject.org/portal) from the Source site.\\nYou can modify how you receive notifications at My Workspace > Preferences.\\n\\n\\n\\nFrom gopal.ramasammycook@gmail.com Fri Jan  4 09:05:31 2008\\nReturn-Path: <postmaster@collab.sakaiproject.org>\\nReceived: from murder (mail.umich.edu [141.211.14.90])\\n\\t by frankenstein.mail.umich.edu (Cyrus v2.3.8) with LMTPA;\\n\\t Fri, 04 Jan 2008 09:05:31 -0500\\nX-Sieve: CMU Sieve 2.3\\nReceived: from murder ([unix socket])\\n\\t by mail.umich.edu (Cyrus v2.2.12) with LMTPA;\\n\\t Fri, 04 Jan 2008 09:05:31 -0500\\nReceived: from guys.mr.itd.umich.edu (guys.mr.itd.umich.edu [141.211.14.76])\\n\\tby flawless.mail.umich.edu () with ESMTP id m04E5U3C029277;\\n\\tFri, 4 Jan 2008 09:05:30 -0500\\nReceived: FROM paploo.uhi.ac.uk (app1.prod.collab.uhi.ac.uk [194.35.219.184])\\n\\tBY guys.mr.itd.umich.edu ID 477E3D23.EE2E7.5237 ; \\n\\t 4 Jan 2008 09:05:26 -0500\\nReceived: from paploo.uhi.ac.uk (localhost [127.0.0.1])\\n\\tby paploo.uhi.ac.uk (Postfix) with ESMTP id 33C7856DC0;\\n\\tFri,  4 Jan 2008 14:05:26 +0000 (GMT)\\nMessage-ID: <200801041403.m04E3psW006926@nakamura.uits.iupui.edu>\\nMime-Version: 1.0\\nContent-Transfer-Encoding: 7bit\\nReceived: from prod.collab.uhi.ac.uk ([194.35.219.182])\\n          by paploo.uhi.ac.uk (JAMES SMTP Server 2.1.3) with SMTP ID 575\\n          for <source@collab.sakaiproject.org>;\\n          Fri, 4 Jan 2008 14:05:04 +0000 (GMT)\\nReceived: from nakamura.uits.iupui.edu (nakamura.uits.iupui.edu [134.68.220.122])\\n\\tby shmi.uhi.ac.uk (Postfix) with ESMTP id 3C0261D617\\n\\tfor <source@collab.sakaiproject.org>; Fri,  4 Jan 2008 14:05:03 +0000 (GMT)\\nReceived: from nakamura.uits.iupui.edu (localhost [127.0.0.1])\\n\\tby nakamura.uits.iupui.edu (8.12.11.20060308/8.12.11) with ESMTP id m04E3pQS006928\\n\\tfor <source@collab.sakaiproject.org>; Fri, 4 Jan 2008 09:03:52 -0500\\nReceived: (from apache@localhost)\\n\\tby nakamura.uits.iupui.edu (8.12.11.20060308/8.12.11/Submit) id m04E3psW006926\\n\\tfor source@collab.sakaiproject.org; Fri, 4 Jan 2008 09:03:51 -0500\\nDate: Fri, 4 Jan 2008 09:03:51 -0500\\nX-Authentication-Warning: nakamura.uits.iupui.edu: apache set sender to gopal.ramasammycook@gmail.com using -f\\nTo: source@collab.sakaiproject.org\\nFrom: gopal.ramasammycook@gmail.com\\nSubject: [sakai] svn commit: r39755 - in sam/branches/SAK-12065: samigo-api/src/java/org/sakaiproject/tool/assessment/shared/api/grading samigo-app/src/java/org/sakaiproject/tool/assessment/ui/bean/evaluation samigo-app/src/java/org/sakaiproject/tool/assessment/ui/listener/evaluation samigo-services/src/java/org/sakaiproject/tool/assessment/facade samigo-services/src/java/org/sakaiproject/tool/assessment/integration/helper/ifc samigo-services/src/java/org/sakaiproject/tool/assessment/integration/helper/integrated samigo-services/src/java/org/sakaiproject/tool/assessment/integration/helper/standalone samigo-services/src/java/org/sakaiproject/tool/assessment/shared/impl/grading\\nX-Content-Type-Outer-Envelope: text/plain; charset=UTF-8\\nX-Content-Type-Message-Body: text/plain; charset=UTF-8\\nContent-Type: text/plain; charset=UTF-8\\nX-DSPAM-Result: Innocent\\nX-DSPAM-Processed: Fri Jan  4 09:05:31 2008\\nX-DSPAM-Confidence: 0.7558\\nX-DSPAM-Probability: 0.0000\\n\\nDetails: http://source.sakaiproject.org/viewsvn/?view=rev&rev=39755\\n\\nAuthor: gopal.ramasammycook@gmail.com\\nDate: 2008-01-04 09:02:54 -0500 (Fri, 04 Jan 2008)\\nNew Revision: 39755\\n\\nModified:\\nsam/branches/SAK-12065/samigo-api/src/java/org/sakaiproject/tool/assessment/shared/api/grading/GradingSectionAwareServiceAPI.java\\nsam/branches/SAK-12065/samigo-app/src/java/org/sakaiproject/tool/assessment/ui/bean/evaluation/QuestionScoresBean.java\\nsam/branches/SAK-12065/samigo-app/src/java/org/sakaiproject/tool/assessment/ui/bean/evaluation/SubmissionStatusBean.java\\nsam/branches/SAK-12065/samigo-app/src/java/org/sakaiproject/tool/assessment/ui/bean/evaluation/TotalScoresBean.java\\nsam/branches/SAK-12065/samigo-app/src/java/org/sakaiproject/tool/assessment/ui/listener/evaluation/SubmissionStatusListener.java\\nsam/branches/SAK-12065/samigo-services/src/java/org/sakaiproject/tool/assessment/facade/PublishedAssessmentFacadeQueries.java\\nsam/branches/SAK-12065/samigo-services/src/java/org/sakaiproject/tool/assessment/facade/PublishedAssessmentFacadeQueriesAPI.java\\nsam/branches/SAK-12065/samigo-services/src/java/org/sakaiproject/tool/assessment/integration/helper/ifc/SectionAwareServiceHelper.java\\nsam/branches/SAK-12065/samigo-services/src/java/org/sakaiproject/tool/assessment/integration/helper/integrated/SectionAwareServiceHelperImpl.java\\nsam/branches/SAK-12065/samigo-services/src/java/org/sakaiproject/tool/assessment/integration/helper/standalone/SectionAwareServiceHelperImpl.java\\nsam/branches/SAK-12065/samigo-services/src/java/org/sakaiproject/tool/assessment/shared/impl/grading/GradingSectionAwareServiceImpl.java\\nLog:\\nSAK-12065 Gopal - Samigo Group Release. SubmissionStatus/TotalScores/Questions View filter.\\n\\n----------------------\\nThis automatic notification message was sent by Sakai Collab (https://collab.sakaiproject.org/portal) from the Source site.\\nYou can modify how you receive notifications at My Workspace > Preferences.\\n\\n\\n\\nFrom david.horwitz@uct.ac.za Fri Jan  4 07:02:32 2008\\nReturn-Path: <postmaster@collab.sakaiproject.org>\\nReceived: from murder (mail.umich.edu [141.211.14.39])\\n\\t by frankenstein.mail.umich.edu (Cyrus v2.3.8) with LMTPA;\\n\\t Fri, 04 Jan 2008 07:02:32 -0500\\nX-Sieve: CMU Sieve 2.3\\nReceived: from murder ([unix socket])\\n\\t by mail.umich.edu (Cyrus v2.2.12) with LMTPA;\\n\\t Fri, 04 Jan 2008 07:02:32 -0500\\nReceived: from guys.mr.itd.umich.edu (guys.mr.itd.umich.edu [141.211.14.76])\\n\\tby faithful.mail.umich.edu () with ESMTP id m04C2VN7026678;\\n\\tFri, 4 Jan 2008 07:02:31 -0500\\nReceived: FROM paploo.uhi.ac.uk (app1.prod.collab.uhi.ac.uk [194.35.219.184])\\n\\tBY guys.mr.itd.umich.edu ID 477E2050.C2599.3263 ; \\n\\t 4 Jan 2008 07:02:27 -0500\\nReceived: from paploo.uhi.ac.uk (localhost [127.0.0.1])\\n\\tby paploo.uhi.ac.uk (Postfix) with ESMTP id 6497FBA906;\\n\\tFri,  4 Jan 2008 12:02:11 +0000 (GMT)\\nMessage-ID: <200801041200.m04C0gfK006793@nakamura.uits.iupui.edu>\\nMime-Version: 1.0\\nContent-Transfer-Encoding: 7bit\\nReceived: from prod.collab.uhi.ac.uk ([194.35.219.182])\\n          by paploo.uhi.ac.uk (JAMES SMTP Server 2.1.3) with SMTP ID 611\\n          for <source@collab.sakaiproject.org>;\\n          Fri, 4 Jan 2008 12:01:53 +0000 (GMT)\\nReceived: from nakamura.uits.iupui.edu (nakamura.uits.iupui.edu [134.68.220.122])\\n\\tby shmi.uhi.ac.uk (Postfix) with ESMTP id 5296342D3C\\n\\tfor <source@collab.sakaiproject.org>; Fri,  4 Jan 2008 12:01:53 +0000 (GMT)\\nReceived: from nakamura.uits.iupui.edu (localhost [127.0.0.1])\\n\\tby nakamura.uits.iupui.edu (8.12.11.20060308/8.12.11) with ESMTP id m04C0gnm006795\\n\\tfor <source@collab.sakaiproject.org>; Fri, 4 Jan 2008 07:00:42 -0500\\nReceived: (from apache@localhost)\\n\\tby nakamura.uits.iupui.edu (8.12.11.20060308/8.12.11/Submit) id m04C0gfK006793\\n\\tfor source@collab.sakaiproject.org; Fri, 4 Jan 2008 07:00:42 -0500\\nDate: Fri, 4 Jan 2008 07:00:42 -0500\\nX-Authentication-Warning: nakamura.uits.iupui.edu: apache set sender to david.horwitz@uct.ac.za using -f\\nTo: source@collab.sakaiproject.org\\nFrom: david.horwitz@uct.ac.za\\nSubject: [sakai] svn commit: r39754 - in polls/branches/sakai_2-5-x: . tool tool/src/java/org/sakaiproject/poll/tool tool/src/java/org/sakaiproject/poll/tool/evolvers tool/src/webapp/WEB-INF\\nX-Content-Type-Outer-Envelope: text/plain; charset=UTF-8\\nX-Content-Type-Message-Body: text/plain; charset=UTF-8\\nContent-Type: text/plain; charset=UTF-8\\nX-DSPAM-Result: Innocent\\nX-DSPAM-Processed: Fri Jan  4 07:02:32 2008\\nX-DSPAM-Confidence: 0.6526\\nX-DSPAM-Probability: 0.0000\\n\\nDetails: http://source.sakaiproject.org/viewsvn/?view=rev&rev=39754\\n\\nAuthor: david.horwitz@uct.ac.za\\nDate: 2008-01-04 07:00:10 -0500 (Fri, 04 Jan 2008)\\nNew Revision: 39754\\n\\nAdded:\\npolls/branches/sakai_2-5-x/tool/src/java/org/sakaiproject/poll/tool/evolvers/\\npolls/branches/sakai_2-5-x/tool/src/java/org/sakaiproject/poll/tool/evolvers/SakaiFCKTextEvolver.java\\nRemoved:\\npolls/branches/sakai_2-5-x/tool/src/java/org/sakaiproject/poll/tool/evolvers/SakaiFCKTextEvolver.java\\nModified:\\npolls/branches/sakai_2-5-x/.classpath\\npolls/branches/sakai_2-5-x/tool/pom.xml\\npolls/branches/sakai_2-5-x/tool/src/webapp/WEB-INF/requestContext.xml\\nLog:\\nsvn log -r39753 https://source.sakaiproject.org/svn/polls/trunk\\n------------------------------------------------------------------------\\nr39753 | david.horwitz@uct.ac.za | 2008-01-04 13:05:51 +0200 (Fri, 04 Jan 2008) | 1 line\\n\\nSAK-12228 implmented workaround sugested by AB - needs to be tested against a trunk build\\n------------------------------------------------------------------------\\ndhorwitz@david-horwitz-6:~/branchManagemnt/sakai_2-5-x> svn merge -c39753 https://source.sakaiproject.org/svn/polls/trunk polls/\\nU    polls/.classpath\\nA    polls/tool/src/java/org/sakaiproject/poll/tool/evolvers\\nA    polls/tool/src/java/org/sakaiproject/poll/tool/evolvers/SakaiFCKTextEvolver.java\\nC    polls/tool/src/webapp/WEB-INF/requestContext.xml\\nU    polls/tool/pom.xml\\n\\ndhorwitz@david-horwitz-6:~/branchManagemnt/sakai_2-5-x> svn resolved polls/tool/src/webapp/WEB-INF/requestContext.xml\\nResolved conflicted state of \\'polls/tool/src/webapp/WEB-INF/requestContext.xml\\n\\n\\n----------------------\\nThis automatic notification message was sent by Sakai Collab (https://collab.sakaiproject.org/portal) from the Source site.\\nYou can modify how you receive notifications at My Workspace > Preferences.\\n\\n\\n\\nFrom david.horwitz@uct.ac.za Fri Jan  4 06:08:27 2008\\nReturn-Path: <postmaster@collab.sakaiproject.org>\\nReceived: from murder (mail.umich.edu [141.211.14.98])\\n\\t by frankenstein.mail.umich.edu (Cyrus v2.3.8) with LMTPA;\\n\\t Fri, 04 Jan 2008 06:08:27 -0500\\nX-Sieve: CMU Sieve 2.3\\nReceived: from murder ([unix socket])\\n\\t by mail.umich.edu (Cyrus v2.2.12) with LMTPA;\\n\\t Fri, 04 Jan 2008 06:08:27 -0500\\nReceived: from firestarter.mr.itd.umich.edu (firestarter.mr.itd.umich.edu [141.211.14.83])\\n\\tby casino.mail.umich.edu () with ESMTP id m04B8Qw9001368;\\n\\tFri, 4 Jan 2008 06:08:26 -0500\\nReceived: FROM paploo.uhi.ac.uk (app1.prod.collab.uhi.ac.uk [194.35.219.184])\\n\\tBY firestarter.mr.itd.umich.edu ID 477E13A5.30FC0.24054 ; \\n\\t 4 Jan 2008 06:08:23 -0500\\nReceived: from paploo.uhi.ac.uk (localhost [127.0.0.1])\\n\\tby paploo.uhi.ac.uk (Postfix) with ESMTP id 784A476D7B;\\n\\tFri,  4 Jan 2008 11:08:12 +0000 (GMT)\\nMessage-ID: <200801041106.m04B6lK3006677@nakamura.uits.iupui.edu>\\nMime-Version: 1.0\\nContent-Transfer-Encoding: 7bit\\nReceived: from prod.collab.uhi.ac.uk ([194.35.219.182])\\n          by paploo.uhi.ac.uk (JAMES SMTP Server 2.1.3) with SMTP ID 585\\n          for <source@collab.sakaiproject.org>;\\n          Fri, 4 Jan 2008 11:07:56 +0000 (GMT)\\nReceived: from nakamura.uits.iupui.edu (nakamura.uits.iupui.edu [134.68.220.122])\\n\\tby shmi.uhi.ac.uk (Postfix) with ESMTP id 1CACC42D0C\\n\\tfor <source@collab.sakaiproject.org>; Fri,  4 Jan 2008 11:07:58 +0000 (GMT)\\nReceived: from nakamura.uits.iupui.edu (localhost [127.0.0.1])\\n\\tby nakamura.uits.iupui.edu (8.12.11.20060308/8.12.11) with ESMTP id m04B6lWM006679\\n\\tfor <source@collab.sakaiproject.org>; Fri, 4 Jan 2008 06:06:47 -0500\\nReceived: (from apache@localhost)\\n\\tby nakamura.uits.iupui.edu (8.12.11.20060308/8.12.11/Submit) id m04B6lK3006677\\n\\tfor source@collab.sakaiproject.org; Fri, 4 Jan 2008 06:06:47 -0500\\nDate: Fri, 4 Jan 2008 06:06:47 -0500\\nX-Authentication-Warning: nakamura.uits.iupui.edu: apache set sender to david.horwitz@uct.ac.za using -f\\nTo: source@collab.sakaiproject.org\\nFrom: david.horwitz@uct.ac.za\\nSubject: [sakai] svn commit: r39753 - in polls/trunk: . tool tool/src/java/org/sakaiproject/poll/tool tool/src/java/org/sakaiproject/poll/tool/evolvers tool/src/webapp/WEB-INF\\nX-Content-Type-Outer-Envelope: text/plain; charset=UTF-8\\nX-Content-Type-Message-Body: text/plain; charset=UTF-8\\nContent-Type: text/plain; charset=UTF-8\\nX-DSPAM-Result: Innocent\\nX-DSPAM-Processed: Fri Jan  4 06:08:27 2008\\nX-DSPAM-Confidence: 0.6948\\nX-DSPAM-Probability: 0.0000\\n\\nDetails: http://source.sakaiproject.org/viewsvn/?view=rev&rev=39753\\n\\nAuthor: david.horwitz@uct.ac.za\\nDate: 2008-01-04 06:05:51 -0500 (Fri, 04 Jan 2008)\\nNew Revision: 39753\\n\\nAdded:\\npolls/trunk/tool/src/java/org/sakaiproject/poll/tool/evolvers/\\npolls/trunk/tool/src/java/org/sakaiproject/poll/tool/evolvers/SakaiFCKTextEvolver.java\\nModified:\\npolls/trunk/.classpath\\npolls/trunk/tool/pom.xml\\npolls/trunk/tool/src/webapp/WEB-INF/requestContext.xml\\nLog:\\nSAK-12228 implmented workaround sugested by AB - needs to be tested against a trunk build\\n\\n----------------------\\nThis automatic notification message was sent by Sakai Collab (https://collab.sakaiproject.org/portal) from the Source site.\\nYou can modify how you receive notifications at My Workspace > Preferences.\\n\\n\\n\\nFrom david.horwitz@uct.ac.za Fri Jan  4 04:49:08 2008\\nReturn-Path: <postmaster@collab.sakaiproject.org>\\nReceived: from murder (mail.umich.edu [141.211.14.92])\\n\\t by frankenstein.mail.umich.edu (Cyrus v2.3.8) with LMTPA;\\n\\t Fri, 04 Jan 2008 04:49:08 -0500\\nX-Sieve: CMU Sieve 2.3\\nReceived: from murder ([unix socket])\\n\\t by mail.umich.edu (Cyrus v2.2.12) with LMTPA;\\n\\t Fri, 04 Jan 2008 04:49:08 -0500\\nReceived: from galaxyquest.mr.itd.umich.edu (galaxyquest.mr.itd.umich.edu [141.211.93.145])\\n\\tby score.mail.umich.edu () with ESMTP id m049n60G017588;\\n\\tFri, 4 Jan 2008 04:49:06 -0500\\nReceived: FROM paploo.uhi.ac.uk (app1.prod.collab.uhi.ac.uk [194.35.219.184])\\n\\tBY galaxyquest.mr.itd.umich.edu ID 477E010C.48C2.10259 ; \\n\\t 4 Jan 2008 04:49:03 -0500\\nReceived: from paploo.uhi.ac.uk (localhost [127.0.0.1])\\n\\tby paploo.uhi.ac.uk (Postfix) with ESMTP id 254CC8CDEE;\\n\\tFri,  4 Jan 2008 09:48:55 +0000 (GMT)\\nMessage-ID: <200801040947.m049lUxo006517@nakamura.uits.iupui.edu>\\nMime-Version: 1.0\\nContent-Transfer-Encoding: 7bit\\nReceived: from prod.collab.uhi.ac.uk ([194.35.219.182])\\n          by paploo.uhi.ac.uk (JAMES SMTP Server 2.1.3) with SMTP ID 246\\n          for <source@collab.sakaiproject.org>;\\n          Fri, 4 Jan 2008 09:48:36 +0000 (GMT)\\nReceived: from nakamura.uits.iupui.edu (nakamura.uits.iupui.edu [134.68.220.122])\\n\\tby shmi.uhi.ac.uk (Postfix) with ESMTP id 8C13342C92\\n\\tfor <source@collab.sakaiproject.org>; Fri,  4 Jan 2008 09:48:40 +0000 (GMT)\\nReceived: from nakamura.uits.iupui.edu (localhost [127.0.0.1])\\n\\tby nakamura.uits.iupui.edu (8.12.11.20060308/8.12.11) with ESMTP id m049lU3P006519\\n\\tfor <source@collab.sakaiproject.org>; Fri, 4 Jan 2008 04:47:30 -0500\\nReceived: (from apache@localhost)\\n\\tby nakamura.uits.iupui.edu (8.12.11.20060308/8.12.11/Submit) id m049lUxo006517\\n\\tfor source@collab.sakaiproject.org; Fri, 4 Jan 2008 04:47:30 -0500\\nDate: Fri, 4 Jan 2008 04:47:30 -0500\\nX-Authentication-Warning: nakamura.uits.iupui.edu: apache set sender to david.horwitz@uct.ac.za using -f\\nTo: source@collab.sakaiproject.org\\nFrom: david.horwitz@uct.ac.za\\nSubject: [sakai] svn commit: r39752 - in podcasts/branches/sakai_2-5-x/podcasts-app/src/webapp: css podcasts\\nX-Content-Type-Outer-Envelope: text/plain; charset=UTF-8\\nX-Content-Type-Message-Body: text/plain; charset=UTF-8\\nContent-Type: text/plain; charset=UTF-8\\nX-DSPAM-Result: Innocent\\nX-DSPAM-Processed: Fri Jan  4 04:49:08 2008\\nX-DSPAM-Confidence: 0.6528\\nX-DSPAM-Probability: 0.0000\\n\\nDetails: http://source.sakaiproject.org/viewsvn/?view=rev&rev=39752\\n\\nAuthor: david.horwitz@uct.ac.za\\nDate: 2008-01-04 04:47:16 -0500 (Fri, 04 Jan 2008)\\nNew Revision: 39752\\n\\nModified:\\npodcasts/branches/sakai_2-5-x/podcasts-app/src/webapp/css/podcaster.css\\npodcasts/branches/sakai_2-5-x/podcasts-app/src/webapp/podcasts/podMain.jsp\\nLog:\\nsvn log -r39641 https://source.sakaiproject.org/svn/podcasts/trunk\\n------------------------------------------------------------------------\\nr39641 | josrodri@iupui.edu | 2007-12-28 23:44:24 +0200 (Fri, 28 Dec 2007) | 1 line\\n\\nSAK-9882: refactored podMain.jsp the right way (at least much closer to)\\n------------------------------------------------------------------------\\n\\ndhorwitz@david-horwitz-6:~/branchManagemnt/sakai_2-5-x> svn merge  -c39641 https://source.sakaiproject.org/svn/podcasts/trunk podcasts/\\nC    podcasts/podcasts-app/src/webapp/podcasts/podMain.jsp\\nU    podcasts/podcasts-app/src/webapp/css/podcaster.css\\n\\nconflict merged manualy\\n\\n\\n\\n----------------------\\nThis automatic notification message was sent by Sakai Collab (https://collab.sakaiproject.org/portal) from the Source site.\\nYou can modify how you receive notifications at My Workspace > Preferences.\\n\\n\\n\\nFrom david.horwitz@uct.ac.za Fri Jan  4 04:33:44 2008\\nReturn-Path: <postmaster@collab.sakaiproject.org>\\nReceived: from murder (mail.umich.edu [141.211.14.46])\\n\\t by frankenstein.mail.umich.edu (Cyrus v2.3.8) with LMTPA;\\n\\t Fri, 04 Jan 2008 04:33:44 -0500\\nX-Sieve: CMU Sieve 2.3\\nReceived: from murder ([unix socket])\\n\\t by mail.umich.edu (Cyrus v2.2.12) with LMTPA;\\n\\t Fri, 04 Jan 2008 04:33:44 -0500\\nReceived: from workinggirl.mr.itd.umich.edu (workinggirl.mr.itd.umich.edu [141.211.93.143])\\n\\tby fan.mail.umich.edu () with ESMTP id m049Xge3031803;\\n\\tFri, 4 Jan 2008 04:33:42 -0500\\nReceived: FROM paploo.uhi.ac.uk (app1.prod.collab.uhi.ac.uk [194.35.219.184])\\n\\tBY workinggirl.mr.itd.umich.edu ID 477DFD6C.75DBE.26054 ; \\n\\t 4 Jan 2008 04:33:35 -0500\\nReceived: from paploo.uhi.ac.uk (localhost [127.0.0.1])\\n\\tby paploo.uhi.ac.uk (Postfix) with ESMTP id 6C929BA656;\\n\\tFri,  4 Jan 2008 09:33:27 +0000 (GMT)\\nMessage-ID: <200801040932.m049W2i5006493@nakamura.uits.iupui.edu>\\nMime-Version: 1.0\\nContent-Transfer-Encoding: 7bit\\nReceived: from prod.collab.uhi.ac.uk ([194.35.219.182])\\n          by paploo.uhi.ac.uk (JAMES SMTP Server 2.1.3) with SMTP ID 153\\n          for <source@collab.sakaiproject.org>;\\n          Fri, 4 Jan 2008 09:33:10 +0000 (GMT)\\nReceived: from nakamura.uits.iupui.edu (nakamura.uits.iupui.edu [134.68.220.122])\\n\\tby shmi.uhi.ac.uk (Postfix) with ESMTP id 6C69423767\\n\\tfor <source@collab.sakaiproject.org>; Fri,  4 Jan 2008 09:33:13 +0000 (GMT)\\nReceived: from nakamura.uits.iupui.edu (localhost [127.0.0.1])\\n\\tby nakamura.uits.iupui.edu (8.12.11.20060308/8.12.11) with ESMTP id m049W3fl006495\\n\\tfor <source@collab.sakaiproject.org>; Fri, 4 Jan 2008 04:32:03 -0500\\nReceived: (from apache@localhost)\\n\\tby nakamura.uits.iupui.edu (8.12.11.20060308/8.12.11/Submit) id m049W2i5006493\\n\\tfor source@collab.sakaiproject.org; Fri, 4 Jan 2008 04:32:02 -0500\\nDate: Fri, 4 Jan 2008 04:32:02 -0500\\nX-Authentication-Warning: nakamura.uits.iupui.edu: apache set sender to david.horwitz@uct.ac.za using -f\\nTo: source@collab.sakaiproject.org\\nFrom: david.horwitz@uct.ac.za\\nSubject: [sakai] svn commit: r39751 - in podcasts/branches/sakai_2-5-x/podcasts-app/src/webapp: css images podcasts\\nX-Content-Type-Outer-Envelope: text/plain; charset=UTF-8\\nX-Content-Type-Message-Body: text/plain; charset=UTF-8\\nContent-Type: text/plain; charset=UTF-8\\nX-DSPAM-Result: Innocent\\nX-DSPAM-Processed: Fri Jan  4 04:33:44 2008\\nX-DSPAM-Confidence: 0.7002\\nX-DSPAM-Probability: 0.0000\\n\\nDetails: http://source.sakaiproject.org/viewsvn/?view=rev&rev=39751\\n\\nAuthor: david.horwitz@uct.ac.za\\nDate: 2008-01-04 04:31:35 -0500 (Fri, 04 Jan 2008)\\nNew Revision: 39751\\n\\nRemoved:\\npodcasts/branches/sakai_2-5-x/podcasts-app/src/webapp/images/rss-feed-icon.png\\npodcasts/branches/sakai_2-5-x/podcasts-app/src/webapp/podcasts/podPermissions.jsp\\nModified:\\npodcasts/branches/sakai_2-5-x/podcasts-app/src/webapp/css/podcaster.css\\npodcasts/branches/sakai_2-5-x/podcasts-app/src/webapp/podcasts/podDelete.jsp\\npodcasts/branches/sakai_2-5-x/podcasts-app/src/webapp/podcasts/podMain.jsp\\npodcasts/branches/sakai_2-5-x/podcasts-app/src/webapp/podcasts/podNoResource.jsp\\npodcasts/branches/sakai_2-5-x/podcasts-app/src/webapp/podcasts/podOptions.jsp\\nLog:\\nsvn log -r39146 https://source.sakaiproject.org/svn/podcasts/trunk\\n------------------------------------------------------------------------\\nr39146 | josrodri@iupui.edu | 2007-12-12 21:40:33 +0200 (Wed, 12 Dec 2007) | 1 line\\n\\nSAK-9882: refactored the other pages as well to take advantage of proper jsp components as well as validation cleanup.\\n------------------------------------------------------------------------\\ndhorwitz@david-horwitz-6:~/branchManagemnt/sakai_2-5-x> svn merge -c39146 https://source.sakaiproject.org/svn/podcasts/trunk podcasts/\\nD    podcasts/podcasts-app/src/webapp/podcasts/podPermissions.jsp\\nU    podcasts/podcasts-app/src/webapp/podcasts/podDelete.jsp\\nU    podcasts/podcasts-app/src/webapp/podcasts/podMain.jsp\\nU    podcasts/podcasts-app/src/webapp/podcasts/podNoResource.jsp\\nU    podcasts/podcasts-app/src/webapp/podcasts/podOptions.jsp\\nD    podcasts/podcasts-app/src/webapp/images/rss-feed-icon.png\\nU    podcasts/podcasts-app/src/webapp/css/podcaster.css\\n\\n\\n\\n----------------------\\nThis automatic notification message was sent by Sakai Collab (https://collab.sakaiproject.org/portal) from the Source site.\\nYou can modify how you receive notifications at My Workspace > Preferences.\\n\\n\\n\\nFrom stephen.marquard@uct.ac.za Fri Jan  4 04:07:34 2008\\nReturn-Path: <postmaster@collab.sakaiproject.org>\\nReceived: from murder (mail.umich.edu [141.211.14.25])\\n\\t by frankenstein.mail.umich.edu (Cyrus v2.3.8) with LMTPA;\\n\\t Fri, 04 Jan 2008 04:07:34 -0500\\nX-Sieve: CMU Sieve 2.3\\nReceived: from murder ([unix socket])\\n\\t by mail.umich.edu (Cyrus v2.2.12) with LMTPA;\\n\\t Fri, 04 Jan 2008 04:07:34 -0500\\nReceived: from salemslot.mr.itd.umich.edu (salemslot.mr.itd.umich.edu [141.211.14.58])\\n\\tby panther.mail.umich.edu () with ESMTP id m0497WAN027902;\\n\\tFri, 4 Jan 2008 04:07:32 -0500\\nReceived: FROM paploo.uhi.ac.uk (app1.prod.collab.uhi.ac.uk [194.35.219.184])\\n\\tBY salemslot.mr.itd.umich.edu ID 477DF74E.49493.30415 ; \\n\\t 4 Jan 2008 04:07:29 -0500\\nReceived: from paploo.uhi.ac.uk (localhost [127.0.0.1])\\n\\tby paploo.uhi.ac.uk (Postfix) with ESMTP id 88598BA5B6;\\n\\tFri,  4 Jan 2008 09:07:19 +0000 (GMT)\\nMessage-ID: <200801040905.m0495rWB006420@nakamura.uits.iupui.edu>\\nMime-Version: 1.0\\nContent-Transfer-Encoding: 7bit\\nReceived: from prod.collab.uhi.ac.uk ([194.35.219.182])\\n          by paploo.uhi.ac.uk (JAMES SMTP Server 2.1.3) with SMTP ID 385\\n          for <source@collab.sakaiproject.org>;\\n          Fri, 4 Jan 2008 09:07:04 +0000 (GMT)\\nReceived: from nakamura.uits.iupui.edu (nakamura.uits.iupui.edu [134.68.220.122])\\n\\tby shmi.uhi.ac.uk (Postfix) with ESMTP id 90636418A8\\n\\tfor <source@collab.sakaiproject.org>; Fri,  4 Jan 2008 09:07:04 +0000 (GMT)\\nReceived: from nakamura.uits.iupui.edu (localhost [127.0.0.1])\\n\\tby nakamura.uits.iupui.edu (8.12.11.20060308/8.12.11) with ESMTP id m0495sZs006422\\n\\tfor <source@collab.sakaiproject.org>; Fri, 4 Jan 2008 04:05:54 -0500\\nReceived: (from apache@localhost)\\n\\tby nakamura.uits.iupui.edu (8.12.11.20060308/8.12.11/Submit) id m0495rWB006420\\n\\tfor source@collab.sakaiproject.org; Fri, 4 Jan 2008 04:05:53 -0500\\nDate: Fri, 4 Jan 2008 04:05:53 -0500\\nX-Authentication-Warning: nakamura.uits.iupui.edu: apache set sender to stephen.marquard@uct.ac.za using -f\\nTo: source@collab.sakaiproject.org\\nFrom: stephen.marquard@uct.ac.za\\nSubject: [sakai] svn commit: r39750 - event/branches/SAK-6216/event-util/util/src/java/org/sakaiproject/util\\nX-Content-Type-Outer-Envelope: text/plain; charset=UTF-8\\nX-Content-Type-Message-Body: text/plain; charset=UTF-8\\nContent-Type: text/plain; charset=UTF-8\\nX-DSPAM-Result: Innocent\\nX-DSPAM-Processed: Fri Jan  4 04:07:34 2008\\nX-DSPAM-Confidence: 0.7554\\nX-DSPAM-Probability: 0.0000\\n\\nDetails: http://source.sakaiproject.org/viewsvn/?view=rev&rev=39750\\n\\nAuthor: stephen.marquard@uct.ac.za\\nDate: 2008-01-04 04:05:43 -0500 (Fri, 04 Jan 2008)\\nNew Revision: 39750\\n\\nModified:\\nevent/branches/SAK-6216/event-util/util/src/java/org/sakaiproject/util/EmailNotification.java\\nLog:\\nSAK-6216 merge event change from SAK-11169 (r39033) to synchronize branch with 2-5-x (for convenience for UCT local build)\\n\\n----------------------\\nThis automatic notification message was sent by Sakai Collab (https://collab.sakaiproject.org/portal) from the Source site.\\nYou can modify how you receive notifications at My Workspace > Preferences.\\n\\n\\n\\nFrom louis@media.berkeley.edu Thu Jan  3 19:51:21 2008\\nReturn-Path: <postmaster@collab.sakaiproject.org>\\nReceived: from murder (mail.umich.edu [141.211.14.91])\\n\\t by frankenstein.mail.umich.edu (Cyrus v2.3.8) with LMTPA;\\n\\t Thu, 03 Jan 2008 19:51:21 -0500\\nX-Sieve: CMU Sieve 2.3\\nReceived: from murder ([unix socket])\\n\\t by mail.umich.edu (Cyrus v2.2.12) with LMTPA;\\n\\t Thu, 03 Jan 2008 19:51:21 -0500\\nReceived: from eyewitness.mr.itd.umich.edu (eyewitness.mr.itd.umich.edu [141.211.93.142])\\n\\tby jacknife.mail.umich.edu () with ESMTP id m040pJHB027171;\\n\\tThu, 3 Jan 2008 19:51:19 -0500\\nReceived: FROM paploo.uhi.ac.uk (app1.prod.collab.uhi.ac.uk [194.35.219.184])\\n\\tBY eyewitness.mr.itd.umich.edu ID 477D8300.AC098.32562 ; \\n\\t 3 Jan 2008 19:51:15 -0500\\nReceived: from paploo.uhi.ac.uk (localhost [127.0.0.1])\\n\\tby paploo.uhi.ac.uk (Postfix) with ESMTP id E6CC4B9F8A;\\n\\tFri,  4 Jan 2008 00:36:06 +0000 (GMT)\\nMessage-ID: <200801040023.m040NpCc005473@nakamura.uits.iupui.edu>\\nMime-Version: 1.0\\nContent-Transfer-Encoding: 7bit\\nReceived: from prod.collab.uhi.ac.uk ([194.35.219.182])\\n          by paploo.uhi.ac.uk (JAMES SMTP Server 2.1.3) with SMTP ID 754\\n          for <source@collab.sakaiproject.org>;\\n          Fri, 4 Jan 2008 00:35:43 +0000 (GMT)\\nReceived: from nakamura.uits.iupui.edu (nakamura.uits.iupui.edu [134.68.220.122])\\n\\tby shmi.uhi.ac.uk (Postfix) with ESMTP id 8889842C49\\n\\tfor <source@collab.sakaiproject.org>; Fri,  4 Jan 2008 00:25:00 +0000 (GMT)\\nReceived: from nakamura.uits.iupui.edu (localhost [127.0.0.1])\\n\\tby nakamura.uits.iupui.edu (8.12.11.20060308/8.12.11) with ESMTP id m040NpgM005475\\n\\tfor <source@collab.sakaiproject.org>; Thu, 3 Jan 2008 19:23:51 -0500\\nReceived: (from apache@localhost)\\n\\tby nakamura.uits.iupui.edu (8.12.11.20060308/8.12.11/Submit) id m040NpCc005473\\n\\tfor source@collab.sakaiproject.org; Thu, 3 Jan 2008 19:23:51 -0500\\nDate: Thu, 3 Jan 2008 19:23:51 -0500\\nX-Authentication-Warning: nakamura.uits.iupui.edu: apache set sender to louis@media.berkeley.edu using -f\\nTo: source@collab.sakaiproject.org\\nFrom: louis@media.berkeley.edu\\nSubject: [sakai] svn commit: r39749 - in bspace/site-manage/sakai_2-4-x/site-manage-tool/tool/src: bundle webapp/vm/sitesetup\\nX-Content-Type-Outer-Envelope: text/plain; charset=UTF-8\\nX-Content-Type-Message-Body: text/plain; charset=UTF-8\\nContent-Type: text/plain; charset=UTF-8\\nX-DSPAM-Result: Innocent\\nX-DSPAM-Processed: Thu Jan  3 19:51:20 2008\\nX-DSPAM-Confidence: 0.6956\\nX-DSPAM-Probability: 0.0000\\n\\nDetails: http://source.sakaiproject.org/viewsvn/?view=rev&rev=39749\\n\\nAuthor: louis@media.berkeley.edu\\nDate: 2008-01-03 19:23:46 -0500 (Thu, 03 Jan 2008)\\nNew Revision: 39749\\n\\nModified:\\nbspace/site-manage/sakai_2-4-x/site-manage-tool/tool/src/bundle/sitesetupgeneric.properties\\nbspace/site-manage/sakai_2-4-x/site-manage-tool/tool/src/webapp/vm/sitesetup/chef_site-importSites.vm\\nLog:\\nBSP-1420 Update text to clarify \"Re-Use Materials...\" option in WS Setup\\n\\n----------------------\\nThis automatic notification message was sent by Sakai Collab (https://collab.sakaiproject.org/portal) from the Source site.\\nYou can modify how you receive notifications at My Workspace > Preferences.\\n\\n\\n\\nFrom louis@media.berkeley.edu Thu Jan  3 17:18:23 2008\\nReturn-Path: <postmaster@collab.sakaiproject.org>\\nReceived: from murder (mail.umich.edu [141.211.14.91])\\n\\t by frankenstein.mail.umich.edu (Cyrus v2.3.8) with LMTPA;\\n\\t Thu, 03 Jan 2008 17:18:23 -0500\\nX-Sieve: CMU Sieve 2.3\\nReceived: from murder ([unix socket])\\n\\t by mail.umich.edu (Cyrus v2.2.12) with LMTPA;\\n\\t Thu, 03 Jan 2008 17:18:23 -0500\\nReceived: from salemslot.mr.itd.umich.edu (salemslot.mr.itd.umich.edu [141.211.14.58])\\n\\tby jacknife.mail.umich.edu () with ESMTP id m03MIMXY027729;\\n\\tThu, 3 Jan 2008 17:18:22 -0500\\nReceived: FROM paploo.uhi.ac.uk (app1.prod.collab.uhi.ac.uk [194.35.219.184])\\n\\tBY salemslot.mr.itd.umich.edu ID 477D5F23.797F6.16348 ; \\n\\t 3 Jan 2008 17:18:14 -0500\\nReceived: from paploo.uhi.ac.uk (localhost [127.0.0.1])\\n\\tby paploo.uhi.ac.uk (Postfix) with ESMTP id EF439B98CE;\\n\\tThu,  3 Jan 2008 22:18:19 +0000 (GMT)\\nMessage-ID: <200801032216.m03MGhDa005292@nakamura.uits.iupui.edu>\\nMime-Version: 1.0\\nContent-Transfer-Encoding: 7bit\\nReceived: from prod.collab.uhi.ac.uk ([194.35.219.182])\\n          by paploo.uhi.ac.uk (JAMES SMTP Server 2.1.3) with SMTP ID 236\\n          for <source@collab.sakaiproject.org>;\\n          Thu, 3 Jan 2008 22:18:04 +0000 (GMT)\\nReceived: from nakamura.uits.iupui.edu (nakamura.uits.iupui.edu [134.68.220.122])\\n\\tby shmi.uhi.ac.uk (Postfix) with ESMTP id 905D53C2FD\\n\\tfor <source@collab.sakaiproject.org>; Thu,  3 Jan 2008 22:17:52 +0000 (GMT)\\nReceived: from nakamura.uits.iupui.edu (localhost [127.0.0.1])\\n\\tby nakamura.uits.iupui.edu (8.12.11.20060308/8.12.11) with ESMTP id m03MGhrs005294\\n\\tfor <source@collab.sakaiproject.org>; Thu, 3 Jan 2008 17:16:43 -0500\\nReceived: (from apache@localhost)\\n\\tby nakamura.uits.iupui.edu (8.12.11.20060308/8.12.11/Submit) id m03MGhDa005292\\n\\tfor source@collab.sakaiproject.org; Thu, 3 Jan 2008 17:16:43 -0500\\nDate: Thu, 3 Jan 2008 17:16:43 -0500\\nX-Authentication-Warning: nakamura.uits.iupui.edu: apache set sender to louis@media.berkeley.edu using -f\\nTo: source@collab.sakaiproject.org\\nFrom: louis@media.berkeley.edu\\nSubject: [sakai] svn commit: r39746 - in bspace/site-manage/sakai_2-4-x/site-manage-tool/tool/src: bundle webapp/vm/sitesetup\\nX-Content-Type-Outer-Envelope: text/plain; charset=UTF-8\\nX-Content-Type-Message-Body: text/plain; charset=UTF-8\\nContent-Type: text/plain; charset=UTF-8\\nX-DSPAM-Result: Innocent\\nX-DSPAM-Processed: Thu Jan  3 17:18:23 2008\\nX-DSPAM-Confidence: 0.6959\\nX-DSPAM-Probability: 0.0000\\n\\nDetails: http://source.sakaiproject.org/viewsvn/?view=rev&rev=39746\\n\\nAuthor: louis@media.berkeley.edu\\nDate: 2008-01-03 17:16:39 -0500 (Thu, 03 Jan 2008)\\nNew Revision: 39746\\n\\nModified:\\nbspace/site-manage/sakai_2-4-x/site-manage-tool/tool/src/bundle/sitesetupgeneric.properties\\nbspace/site-manage/sakai_2-4-x/site-manage-tool/tool/src/webapp/vm/sitesetup/chef_site-siteInfo-duplicate.vm\\nLog:\\nBSP-1421 Add text to clarify \"Duplicate Site\" option in Site Info\\n\\n----------------------\\nThis automatic notification message was sent by Sakai Collab (https://collab.sakaiproject.org/portal) from the Source site.\\nYou can modify how you receive notifications at My Workspace > Preferences.\\n\\n\\n\\nFrom ray@media.berkeley.edu Thu Jan  3 17:07:00 2008\\nReturn-Path: <postmaster@collab.sakaiproject.org>\\nReceived: from murder (mail.umich.edu [141.211.14.39])\\n\\t by frankenstein.mail.umich.edu (Cyrus v2.3.8) with LMTPA;\\n\\t Thu, 03 Jan 2008 17:07:00 -0500\\nX-Sieve: CMU Sieve 2.3\\nReceived: from murder ([unix socket])\\n\\t by mail.umich.edu (Cyrus v2.2.12) with LMTPA;\\n\\t Thu, 03 Jan 2008 17:07:00 -0500\\nReceived: from anniehall.mr.itd.umich.edu (anniehall.mr.itd.umich.edu [141.211.93.141])\\n\\tby faithful.mail.umich.edu () with ESMTP id m03M6xaq014868;\\n\\tThu, 3 Jan 2008 17:06:59 -0500\\nReceived: FROM paploo.uhi.ac.uk (app1.prod.collab.uhi.ac.uk [194.35.219.184])\\n\\tBY anniehall.mr.itd.umich.edu ID 477D5C7A.4FE1F.22211 ; \\n\\t 3 Jan 2008 17:06:53 -0500\\nReceived: from paploo.uhi.ac.uk (localhost [127.0.0.1])\\n\\tby paploo.uhi.ac.uk (Postfix) with ESMTP id 0BC8D7225E;\\n\\tThu,  3 Jan 2008 22:06:57 +0000 (GMT)\\nMessage-ID: <200801032205.m03M5Ea7005273@nakamura.uits.iupui.edu>\\nMime-Version: 1.0\\nContent-Transfer-Encoding: 7bit\\nReceived: from prod.collab.uhi.ac.uk ([194.35.219.182])\\n          by paploo.uhi.ac.uk (JAMES SMTP Server 2.1.3) with SMTP ID 554\\n          for <source@collab.sakaiproject.org>;\\n          Thu, 3 Jan 2008 22:06:34 +0000 (GMT)\\nReceived: from nakamura.uits.iupui.edu (nakamura.uits.iupui.edu [134.68.220.122])\\n\\tby shmi.uhi.ac.uk (Postfix) with ESMTP id 2AB513C2FD\\n\\tfor <source@collab.sakaiproject.org>; Thu,  3 Jan 2008 22:06:23 +0000 (GMT)\\nReceived: from nakamura.uits.iupui.edu (localhost [127.0.0.1])\\n\\tby nakamura.uits.iupui.edu (8.12.11.20060308/8.12.11) with ESMTP id m03M5EQa005275\\n\\tfor <source@collab.sakaiproject.org>; Thu, 3 Jan 2008 17:05:14 -0500\\nReceived: (from apache@localhost)\\n\\tby nakamura.uits.iupui.edu (8.12.11.20060308/8.12.11/Submit) id m03M5Ea7005273\\n\\tfor source@collab.sakaiproject.org; Thu, 3 Jan 2008 17:05:14 -0500\\nDate: Thu, 3 Jan 2008 17:05:14 -0500\\nX-Authentication-Warning: nakamura.uits.iupui.edu: apache set sender to ray@media.berkeley.edu using -f\\nTo: source@collab.sakaiproject.org\\nFrom: ray@media.berkeley.edu\\nSubject: [sakai] svn commit: r39745 - providers/trunk/cm/cm-authz-provider/src/java/org/sakaiproject/coursemanagement/impl/provider\\nX-Content-Type-Outer-Envelope: text/plain; charset=UTF-8\\nX-Content-Type-Message-Body: text/plain; charset=UTF-8\\nContent-Type: text/plain; charset=UTF-8\\nX-DSPAM-Result: Innocent\\nX-DSPAM-Processed: Thu Jan  3 17:07:00 2008\\nX-DSPAM-Confidence: 0.7556\\nX-DSPAM-Probability: 0.0000\\n\\nDetails: http://source.sakaiproject.org/viewsvn/?view=rev&rev=39745\\n\\nAuthor: ray@media.berkeley.edu\\nDate: 2008-01-03 17:05:11 -0500 (Thu, 03 Jan 2008)\\nNew Revision: 39745\\n\\nModified:\\nproviders/trunk/cm/cm-authz-provider/src/java/org/sakaiproject/coursemanagement/impl/provider/CourseManagementGroupProvider.java\\nLog:\\nSAK-12602 Fix logic when a user has multiple roles in a section\\n\\n----------------------\\nThis automatic notification message was sent by Sakai Collab (https://collab.sakaiproject.org/portal) from the Source site.\\nYou can modify how you receive notifications at My Workspace > Preferences.\\n\\n\\n\\nFrom cwen@iupui.edu Thu Jan  3 16:34:40 2008\\nReturn-Path: <postmaster@collab.sakaiproject.org>\\nReceived: from murder (mail.umich.edu [141.211.14.34])\\n\\t by frankenstein.mail.umich.edu (Cyrus v2.3.8) with LMTPA;\\n\\t Thu, 03 Jan 2008 16:34:40 -0500\\nX-Sieve: CMU Sieve 2.3\\nReceived: from murder ([unix socket])\\n\\t by mail.umich.edu (Cyrus v2.2.12) with LMTPA;\\n\\t Thu, 03 Jan 2008 16:34:40 -0500\\nReceived: from icestorm.mr.itd.umich.edu (icestorm.mr.itd.umich.edu [141.211.93.149])\\n\\tby chaos.mail.umich.edu () with ESMTP id m03LYdY1029538;\\n\\tThu, 3 Jan 2008 16:34:39 -0500\\nReceived: FROM paploo.uhi.ac.uk (app1.prod.collab.uhi.ac.uk [194.35.219.184])\\n\\tBY icestorm.mr.itd.umich.edu ID 477D54EA.13F34.26602 ; \\n\\t 3 Jan 2008 16:34:36 -0500\\nReceived: from paploo.uhi.ac.uk (localhost [127.0.0.1])\\n\\tby paploo.uhi.ac.uk (Postfix) with ESMTP id CC710ADC79;\\n\\tThu,  3 Jan 2008 21:34:29 +0000 (GMT)\\nMessage-ID: <200801032133.m03LX3gG005191@nakamura.uits.iupui.edu>\\nMime-Version: 1.0\\nContent-Transfer-Encoding: 7bit\\nReceived: from prod.collab.uhi.ac.uk ([194.35.219.182])\\n          by paploo.uhi.ac.uk (JAMES SMTP Server 2.1.3) with SMTP ID 611\\n          for <source@collab.sakaiproject.org>;\\n          Thu, 3 Jan 2008 21:34:08 +0000 (GMT)\\nReceived: from nakamura.uits.iupui.edu (nakamura.uits.iupui.edu [134.68.220.122])\\n\\tby shmi.uhi.ac.uk (Postfix) with ESMTP id 43C4242B55\\n\\tfor <source@collab.sakaiproject.org>; Thu,  3 Jan 2008 21:34:12 +0000 (GMT)\\nReceived: from nakamura.uits.iupui.edu (localhost [127.0.0.1])\\n\\tby nakamura.uits.iupui.edu (8.12.11.20060308/8.12.11) with ESMTP id m03LX3Vb005193\\n\\tfor <source@collab.sakaiproject.org>; Thu, 3 Jan 2008 16:33:03 -0500\\nReceived: (from apache@localhost)\\n\\tby nakamura.uits.iupui.edu (8.12.11.20060308/8.12.11/Submit) id m03LX3gG005191\\n\\tfor source@collab.sakaiproject.org; Thu, 3 Jan 2008 16:33:03 -0500\\nDate: Thu, 3 Jan 2008 16:33:03 -0500\\nX-Authentication-Warning: nakamura.uits.iupui.edu: apache set sender to cwen@iupui.edu using -f\\nTo: source@collab.sakaiproject.org\\nFrom: cwen@iupui.edu\\nSubject: [sakai] svn commit: r39744 - oncourse/branches/oncourse_OPC_122007\\nX-Content-Type-Outer-Envelope: text/plain; charset=UTF-8\\nX-Content-Type-Message-Body: text/plain; charset=UTF-8\\nContent-Type: text/plain; charset=UTF-8\\nX-DSPAM-Result: Innocent\\nX-DSPAM-Processed: Thu Jan  3 16:34:40 2008\\nX-DSPAM-Confidence: 0.9846\\nX-DSPAM-Probability: 0.0000\\n\\nDetails: http://source.sakaiproject.org/viewsvn/?view=rev&rev=39744\\n\\nAuthor: cwen@iupui.edu\\nDate: 2008-01-03 16:33:02 -0500 (Thu, 03 Jan 2008)\\nNew Revision: 39744\\n\\nModified:\\noncourse/branches/oncourse_OPC_122007/\\noncourse/branches/oncourse_OPC_122007/.externals\\nLog:\\nupdate external for GB.\\n\\n----------------------\\nThis automatic notification message was sent by Sakai Collab (https://collab.sakaiproject.org/portal) from the Source site.\\nYou can modify how you receive notifications at My Workspace > Preferences.\\n\\n\\n\\nFrom cwen@iupui.edu Thu Jan  3 16:29:07 2008\\nReturn-Path: <postmaster@collab.sakaiproject.org>\\nReceived: from murder (mail.umich.edu [141.211.14.46])\\n\\t by frankenstein.mail.umich.edu (Cyrus v2.3.8) with LMTPA;\\n\\t Thu, 03 Jan 2008 16:29:07 -0500\\nX-Sieve: CMU Sieve 2.3\\nReceived: from murder ([unix socket])\\n\\t by mail.umich.edu (Cyrus v2.2.12) with LMTPA;\\n\\t Thu, 03 Jan 2008 16:29:07 -0500\\nReceived: from galaxyquest.mr.itd.umich.edu (galaxyquest.mr.itd.umich.edu [141.211.93.145])\\n\\tby fan.mail.umich.edu () with ESMTP id m03LT6uw027749;\\n\\tThu, 3 Jan 2008 16:29:06 -0500\\nReceived: FROM paploo.uhi.ac.uk (app1.prod.collab.uhi.ac.uk [194.35.219.184])\\n\\tBY galaxyquest.mr.itd.umich.edu ID 477D5397.E161D.20326 ; \\n\\t 3 Jan 2008 16:28:58 -0500\\nReceived: from paploo.uhi.ac.uk (localhost [127.0.0.1])\\n\\tby paploo.uhi.ac.uk (Postfix) with ESMTP id DEC65ADC79;\\n\\tThu,  3 Jan 2008 21:28:52 +0000 (GMT)\\nMessage-ID: <200801032127.m03LRUqH005177@nakamura.uits.iupui.edu>\\nMime-Version: 1.0\\nContent-Transfer-Encoding: 7bit\\nReceived: from prod.collab.uhi.ac.uk ([194.35.219.182])\\n          by paploo.uhi.ac.uk (JAMES SMTP Server 2.1.3) with SMTP ID 917\\n          for <source@collab.sakaiproject.org>;\\n          Thu, 3 Jan 2008 21:28:39 +0000 (GMT)\\nReceived: from nakamura.uits.iupui.edu (nakamura.uits.iupui.edu [134.68.220.122])\\n\\tby shmi.uhi.ac.uk (Postfix) with ESMTP id 1FBB042B30\\n\\tfor <source@collab.sakaiproject.org>; Thu,  3 Jan 2008 21:28:38 +0000 (GMT)\\nReceived: from nakamura.uits.iupui.edu (localhost [127.0.0.1])\\n\\tby nakamura.uits.iupui.edu (8.12.11.20060308/8.12.11) with ESMTP id m03LRUk4005179\\n\\tfor <source@collab.sakaiproject.org>; Thu, 3 Jan 2008 16:27:30 -0500\\nReceived: (from apache@localhost)\\n\\tby nakamura.uits.iupui.edu (8.12.11.20060308/8.12.11/Submit) id m03LRUqH005177\\n\\tfor source@collab.sakaiproject.org; Thu, 3 Jan 2008 16:27:30 -0500\\nDate: Thu, 3 Jan 2008 16:27:30 -0500\\nX-Authentication-Warning: nakamura.uits.iupui.edu: apache set sender to cwen@iupui.edu using -f\\nTo: source@collab.sakaiproject.org\\nFrom: cwen@iupui.edu\\nSubject: [sakai] svn commit: r39743 - gradebook/branches/oncourse_2-4-2/app/ui/src/java/org/sakaiproject/tool/gradebook/ui\\nX-Content-Type-Outer-Envelope: text/plain; charset=UTF-8\\nX-Content-Type-Message-Body: text/plain; charset=UTF-8\\nContent-Type: text/plain; charset=UTF-8\\nX-DSPAM-Result: Innocent\\nX-DSPAM-Processed: Thu Jan  3 16:29:07 2008\\nX-DSPAM-Confidence: 0.8509\\nX-DSPAM-Probability: 0.0000\\n\\nDetails: http://source.sakaiproject.org/viewsvn/?view=rev&rev=39743\\n\\nAuthor: cwen@iupui.edu\\nDate: 2008-01-03 16:27:29 -0500 (Thu, 03 Jan 2008)\\nNew Revision: 39743\\n\\nModified:\\ngradebook/branches/oncourse_2-4-2/app/ui/src/java/org/sakaiproject/tool/gradebook/ui/RosterBean.java\\nLog:\\nsvn merge -c 39403 https://source.sakaiproject.org/svn/gradebook/trunk\\nU    app/ui/src/java/org/sakaiproject/tool/gradebook/ui/RosterBean.java\\n\\nsvn log -r 39403 https://source.sakaiproject.org/svn/gradebook/trunk\\n------------------------------------------------------------------------\\nr39403 | wagnermr@iupui.edu | 2007-12-17 17:11:08 -0500 (Mon, 17 Dec 2007) | 3 lines\\n\\nSAK-12504\\nhttp://jira.sakaiproject.org/jira/browse/SAK-12504\\nViewing \"All Grades\" page as a TA with grader permissions causes stack trace\\n------------------------------------------------------------------------\\n\\n\\n----------------------\\nThis automatic notification message was sent by Sakai Collab (https://collab.sakaiproject.org/portal) from the Source site.\\nYou can modify how you receive notifications at My Workspace > Preferences.\\n\\n\\n\\nFrom cwen@iupui.edu Thu Jan  3 16:23:48 2008\\nReturn-Path: <postmaster@collab.sakaiproject.org>\\nReceived: from murder (mail.umich.edu [141.211.14.91])\\n\\t by frankenstein.mail.umich.edu (Cyrus v2.3.8) with LMTPA;\\n\\t Thu, 03 Jan 2008 16:23:48 -0500\\nX-Sieve: CMU Sieve 2.3\\nReceived: from murder ([unix socket])\\n\\t by mail.umich.edu (Cyrus v2.2.12) with LMTPA;\\n\\t Thu, 03 Jan 2008 16:23:48 -0500\\nReceived: from salemslot.mr.itd.umich.edu (salemslot.mr.itd.umich.edu [141.211.14.58])\\n\\tby jacknife.mail.umich.edu () with ESMTP id m03LNlf0002115;\\n\\tThu, 3 Jan 2008 16:23:47 -0500\\nReceived: FROM paploo.uhi.ac.uk (app1.prod.collab.uhi.ac.uk [194.35.219.184])\\n\\tBY salemslot.mr.itd.umich.edu ID 477D525E.1448.30389 ; \\n\\t 3 Jan 2008 16:23:44 -0500\\nReceived: from paploo.uhi.ac.uk (localhost [127.0.0.1])\\n\\tby paploo.uhi.ac.uk (Postfix) with ESMTP id 9D005B9D06;\\n\\tThu,  3 Jan 2008 21:23:38 +0000 (GMT)\\nMessage-ID: <200801032122.m03LMFo4005148@nakamura.uits.iupui.edu>\\nMime-Version: 1.0\\nContent-Transfer-Encoding: 7bit\\nReceived: from prod.collab.uhi.ac.uk ([194.35.219.182])\\n          by paploo.uhi.ac.uk (JAMES SMTP Server 2.1.3) with SMTP ID 6\\n          for <source@collab.sakaiproject.org>;\\n          Thu, 3 Jan 2008 21:23:24 +0000 (GMT)\\nReceived: from nakamura.uits.iupui.edu (nakamura.uits.iupui.edu [134.68.220.122])\\n\\tby shmi.uhi.ac.uk (Postfix) with ESMTP id 3535542B69\\n\\tfor <source@collab.sakaiproject.org>; Thu,  3 Jan 2008 21:23:24 +0000 (GMT)\\nReceived: from nakamura.uits.iupui.edu (localhost [127.0.0.1])\\n\\tby nakamura.uits.iupui.edu (8.12.11.20060308/8.12.11) with ESMTP id m03LMFtT005150\\n\\tfor <source@collab.sakaiproject.org>; Thu, 3 Jan 2008 16:22:15 -0500\\nReceived: (from apache@localhost)\\n\\tby nakamura.uits.iupui.edu (8.12.11.20060308/8.12.11/Submit) id m03LMFo4005148\\n\\tfor source@collab.sakaiproject.org; Thu, 3 Jan 2008 16:22:15 -0500\\nDate: Thu, 3 Jan 2008 16:22:15 -0500\\nX-Authentication-Warning: nakamura.uits.iupui.edu: apache set sender to cwen@iupui.edu using -f\\nTo: source@collab.sakaiproject.org\\nFrom: cwen@iupui.edu\\nSubject: [sakai] svn commit: r39742 - gradebook/branches/oncourse_2-4-2/app/ui/src/java/org/sakaiproject/tool/gradebook/ui\\nX-Content-Type-Outer-Envelope: text/plain; charset=UTF-8\\nX-Content-Type-Message-Body: text/plain; charset=UTF-8\\nContent-Type: text/plain; charset=UTF-8\\nX-DSPAM-Result: Innocent\\nX-DSPAM-Processed: Thu Jan  3 16:23:48 2008\\nX-DSPAM-Confidence: 0.9907\\nX-DSPAM-Probability: 0.0000\\n\\nDetails: http://source.sakaiproject.org/viewsvn/?view=rev&rev=39742\\n\\nAuthor: cwen@iupui.edu\\nDate: 2008-01-03 16:22:14 -0500 (Thu, 03 Jan 2008)\\nNew Revision: 39742\\n\\nModified:\\ngradebook/branches/oncourse_2-4-2/app/ui/src/java/org/sakaiproject/tool/gradebook/ui/RosterBean.java\\nLog:\\nsvn merge -c 35014 https://source.sakaiproject.org/svn/gradebook/trunk\\nU    app/ui/src/java/org/sakaiproject/tool/gradebook/ui/RosterBean.java\\n\\nsvn log -r 35014 https://source.sakaiproject.org/svn/gradebook/trunk\\n------------------------------------------------------------------------\\nr35014 | wagnermr@iupui.edu | 2007-09-12 16:17:59 -0400 (Wed, 12 Sep 2007) | 3 lines\\n\\nSAK-11458\\nhttp://bugs.sakaiproject.org/jira/browse/SAK-11458\\nCourse grade does not appear on \"All Grades\" page if no categories in gb\\n------------------------------------------------------------------------\\n\\n\\n----------------------\\nThis automatic notification message was sent by Sakai Collab (https://collab.sakaiproject.org/portal) from the Source site.\\nYou can modify how you receive notifications at My Workspace > Preferences.\\n\\n'"
            ],
            "application/vnd.google.colaboratory.intrinsic+json": {
              "type": "string"
            }
          },
          "metadata": {},
          "execution_count": 7
        }
      ]
    },
    {
      "cell_type": "markdown",
      "metadata": {
        "id": "4qkt8XDW-Qzv"
      },
      "source": [
        "#Searching through a file\n",
        "\n",
        "When you are searching through data in a file, it is a very common pattern to read through a file, ignoring most of the lines and only processing lines which meet a particular condition. We can combine the pattern for reading a file with string methods to build simple search mechanisms.\n",
        "\n",
        "For example, if we wanted to read a file and only print out lines which started with the prefix ***“From:”***, we could use the string method startswith to select only those lines with the desired prefix:"
      ]
    },
    {
      "cell_type": "code",
      "metadata": {
        "id": "hauePRRl-VE6",
        "colab": {
          "base_uri": "https://localhost:8080/"
        },
        "outputId": "9ffdf4e9-c621-4722-ed4a-419ba7433b0a"
      },
      "source": [
        "fhand = open('mbox-short.txt')\n",
        "count = 0\n",
        "for line in fhand:\n",
        "  if line.startswith('From:'):\n",
        "    count = count+1\n",
        "    print(line)\n",
        "print(count)    "
      ],
      "execution_count": null,
      "outputs": [
        {
          "output_type": "stream",
          "name": "stdout",
          "text": [
            "From: stephen.marquard@uct.ac.za\n",
            "\n",
            "From: louis@media.berkeley.edu\n",
            "\n",
            "From: zqian@umich.edu\n",
            "\n",
            "From: rjlowe@iupui.edu\n",
            "\n",
            "From: zqian@umich.edu\n",
            "\n",
            "From: rjlowe@iupui.edu\n",
            "\n",
            "From: cwen@iupui.edu\n",
            "\n",
            "From: cwen@iupui.edu\n",
            "\n",
            "From: gsilver@umich.edu\n",
            "\n",
            "From: gsilver@umich.edu\n",
            "\n",
            "From: zqian@umich.edu\n",
            "\n",
            "From: gsilver@umich.edu\n",
            "\n",
            "From: wagnermr@iupui.edu\n",
            "\n",
            "From: zqian@umich.edu\n",
            "\n",
            "From: antranig@caret.cam.ac.uk\n",
            "\n",
            "From: gopal.ramasammycook@gmail.com\n",
            "\n",
            "From: david.horwitz@uct.ac.za\n",
            "\n",
            "From: david.horwitz@uct.ac.za\n",
            "\n",
            "From: david.horwitz@uct.ac.za\n",
            "\n",
            "From: david.horwitz@uct.ac.za\n",
            "\n",
            "From: stephen.marquard@uct.ac.za\n",
            "\n",
            "From: louis@media.berkeley.edu\n",
            "\n",
            "From: louis@media.berkeley.edu\n",
            "\n",
            "From: ray@media.berkeley.edu\n",
            "\n",
            "From: cwen@iupui.edu\n",
            "\n",
            "From: cwen@iupui.edu\n",
            "\n",
            "From: cwen@iupui.edu\n",
            "\n",
            "27\n"
          ]
        }
      ]
    },
    {
      "cell_type": "code",
      "metadata": {
        "id": "QPYYyhYGzlAh"
      },
      "source": [
        "# strip\n",
        "#lstrip\n",
        "#rstrip"
      ],
      "execution_count": null,
      "outputs": []
    },
    {
      "cell_type": "markdown",
      "metadata": {
        "id": "tZNRe7hT-3Xc"
      },
      "source": [
        "The output looks great since the only lines we are seeing are those which start with “From:”, but why are we seeing the extra blank lines? This is due to that invisible newline character. Each of the lines ends with a newline, so the print statement prints the string in the variable line which includes a newline and then print adds another newline, resulting in the double spacing effect we see."
      ]
    },
    {
      "cell_type": "code",
      "metadata": {
        "id": "n9abArsT_BcS"
      },
      "source": [
        "fhand = open('mbox-short.txt')\n",
        "for line in fhand:\n",
        "  line = line.rstrip()\n",
        "  if line.startswith('From:'):\n",
        "    print(line)"
      ],
      "execution_count": null,
      "outputs": []
    },
    {
      "cell_type": "markdown",
      "metadata": {
        "id": "O1vP78DZ_lDJ"
      },
      "source": [
        "We can structure the loop to follow the pattern of skipping uninteresting lines as follows:"
      ]
    },
    {
      "cell_type": "code",
      "metadata": {
        "id": "Fyu5t4RA_nR7",
        "colab": {
          "base_uri": "https://localhost:8080/"
        },
        "outputId": "2df866c9-a80e-4860-c9f2-3b29648476bc"
      },
      "source": [
        "fhand = open('mbox-short.txt')\n",
        "for line in fhand:\n",
        "  line = line.rstrip()\n",
        "  # Skip 'uninteresting lines'\n",
        "  if not line.startswith('From:'):\n",
        "    continue\n",
        "  # Process our 'interesting' line\n",
        "  print(line)"
      ],
      "execution_count": null,
      "outputs": [
        {
          "output_type": "stream",
          "name": "stdout",
          "text": [
            "From: stephen.marquard@uct.ac.za\n",
            "From: louis@media.berkeley.edu\n",
            "From: zqian@umich.edu\n",
            "From: rjlowe@iupui.edu\n",
            "From: zqian@umich.edu\n",
            "From: rjlowe@iupui.edu\n",
            "From: cwen@iupui.edu\n",
            "From: cwen@iupui.edu\n",
            "From: gsilver@umich.edu\n",
            "From: gsilver@umich.edu\n",
            "From: zqian@umich.edu\n",
            "From: gsilver@umich.edu\n",
            "From: wagnermr@iupui.edu\n",
            "From: zqian@umich.edu\n",
            "From: antranig@caret.cam.ac.uk\n",
            "From: gopal.ramasammycook@gmail.com\n",
            "From: david.horwitz@uct.ac.za\n",
            "From: david.horwitz@uct.ac.za\n",
            "From: david.horwitz@uct.ac.za\n",
            "From: david.horwitz@uct.ac.za\n",
            "From: stephen.marquard@uct.ac.za\n",
            "From: louis@media.berkeley.edu\n",
            "From: louis@media.berkeley.edu\n",
            "From: ray@media.berkeley.edu\n",
            "From: cwen@iupui.edu\n",
            "From: cwen@iupui.edu\n",
            "From: cwen@iupui.edu\n"
          ]
        }
      ]
    },
    {
      "cell_type": "markdown",
      "metadata": {
        "id": "vpCk68T1CQv2"
      },
      "source": [
        "We can use the `find` string method to simulate a text editor search that finds lines where the search string is anywhere in the line. Since `find` looks for an occurrence of a string within another string and either returns the position of the string or -1 if the string was not found, we can write the following loop to show lines which contain the string **“@uct.ac.za”** (i.e., they come from the University of Cape Town in South Africa):"
      ]
    },
    {
      "cell_type": "code",
      "metadata": {
        "id": "dA81PYi1Cqns",
        "colab": {
          "base_uri": "https://localhost:8080/"
        },
        "outputId": "db5e8e2f-7cb5-40c2-8697-ed22f49d48ee"
      },
      "source": [
        "fhand = open('mbox-short.txt')\n",
        "for line in fhand:\n",
        "  line = line.rstrip()\n",
        "  if line.find('@uct.ac.za') == -1: \n",
        "    continue\n",
        "  print(line)"
      ],
      "execution_count": null,
      "outputs": [
        {
          "output_type": "stream",
          "name": "stdout",
          "text": [
            "From stephen.marquard@uct.ac.za Sat Jan  5 09:14:16 2008\n",
            "X-Authentication-Warning: nakamura.uits.iupui.edu: apache set sender to stephen.marquard@uct.ac.za using -f\n",
            "From: stephen.marquard@uct.ac.za\n",
            "Author: stephen.marquard@uct.ac.za\n",
            "From david.horwitz@uct.ac.za Fri Jan  4 07:02:32 2008\n",
            "X-Authentication-Warning: nakamura.uits.iupui.edu: apache set sender to david.horwitz@uct.ac.za using -f\n",
            "From: david.horwitz@uct.ac.za\n",
            "Author: david.horwitz@uct.ac.za\n",
            "r39753 | david.horwitz@uct.ac.za | 2008-01-04 13:05:51 +0200 (Fri, 04 Jan 2008) | 1 line\n",
            "From david.horwitz@uct.ac.za Fri Jan  4 06:08:27 2008\n",
            "X-Authentication-Warning: nakamura.uits.iupui.edu: apache set sender to david.horwitz@uct.ac.za using -f\n",
            "From: david.horwitz@uct.ac.za\n",
            "Author: david.horwitz@uct.ac.za\n",
            "From david.horwitz@uct.ac.za Fri Jan  4 04:49:08 2008\n",
            "X-Authentication-Warning: nakamura.uits.iupui.edu: apache set sender to david.horwitz@uct.ac.za using -f\n",
            "From: david.horwitz@uct.ac.za\n",
            "Author: david.horwitz@uct.ac.za\n",
            "From david.horwitz@uct.ac.za Fri Jan  4 04:33:44 2008\n",
            "X-Authentication-Warning: nakamura.uits.iupui.edu: apache set sender to david.horwitz@uct.ac.za using -f\n",
            "From: david.horwitz@uct.ac.za\n",
            "Author: david.horwitz@uct.ac.za\n",
            "From stephen.marquard@uct.ac.za Fri Jan  4 04:07:34 2008\n",
            "X-Authentication-Warning: nakamura.uits.iupui.edu: apache set sender to stephen.marquard@uct.ac.za using -f\n",
            "From: stephen.marquard@uct.ac.za\n",
            "Author: stephen.marquard@uct.ac.za\n"
          ]
        }
      ]
    },
    {
      "cell_type": "markdown",
      "metadata": {
        "id": "UWBVpsvkMuvJ"
      },
      "source": [
        "#Lists\n",
        "\n",
        "Like a string, a list is a sequence of values. In a string, the values are characters; in a list, they can be any type. The values in list are called elements or sometimes items."
      ]
    },
    {
      "cell_type": "code",
      "metadata": {
        "id": "hm_W7_rNMwNb"
      },
      "source": [
        "a = [10, 20, 30, 40]\n",
        "b = ['crunchy frog', 'ram bladder', 'lark vomit']"
      ],
      "execution_count": null,
      "outputs": []
    },
    {
      "cell_type": "markdown",
      "metadata": {
        "id": "AFSI1-4dNLGR"
      },
      "source": [
        "The elements of a list don’t have to be the same type. The following list contains a string, a float, an integer, and (lo!) another list:"
      ]
    },
    {
      "cell_type": "code",
      "metadata": {
        "id": "ZAr-7Zs8NO6K"
      },
      "source": [
        "c = ['spam', 2.0, 5, [10, 20]]"
      ],
      "execution_count": null,
      "outputs": []
    },
    {
      "cell_type": "code",
      "metadata": {
        "id": "HcxXKDyE272B",
        "colab": {
          "base_uri": "https://localhost:8080/"
        },
        "outputId": "7f8e6e86-90b5-49f1-f5a9-5472cd39daa8"
      },
      "source": [
        "for i in c:\n",
        "  print (i)"
      ],
      "execution_count": null,
      "outputs": [
        {
          "output_type": "stream",
          "name": "stdout",
          "text": [
            "spam\n",
            "2.0\n",
            "5\n",
            "[10, 20]\n"
          ]
        }
      ]
    },
    {
      "cell_type": "markdown",
      "metadata": {
        "id": "gRb2kcoANTft"
      },
      "source": [
        "A list within another list is nested.\n",
        "A list that contains no elements is called an empty list; you can create one with empty brackets, **`[]`**"
      ]
    },
    {
      "cell_type": "code",
      "metadata": {
        "id": "VnhSwEsgNaRK",
        "colab": {
          "base_uri": "https://localhost:8080/"
        },
        "outputId": "a66c7ef1-a6a7-4ced-a75b-598921d62041"
      },
      "source": [
        "cheeses = ['Cheddar', 'Edam', 'Gouda']\n",
        "numbers = [17, 123]\n",
        "empty = []\n",
        "print(cheeses, numbers, empty)"
      ],
      "execution_count": null,
      "outputs": [
        {
          "output_type": "stream",
          "name": "stdout",
          "text": [
            "['Cheddar', 'Edam', 'Gouda'] [17, 123] []\n"
          ]
        }
      ]
    },
    {
      "cell_type": "markdown",
      "metadata": {
        "id": "60jydMaHNnl7"
      },
      "source": [
        "##Lists are mutable"
      ]
    },
    {
      "cell_type": "code",
      "metadata": {
        "id": "bnwaQqlJNtlF",
        "colab": {
          "base_uri": "https://localhost:8080/"
        },
        "outputId": "5f701b3e-f83d-41c0-c3c3-9b9ae2ce644a"
      },
      "source": [
        "numbers = [17, 123]\n",
        "numbers[1] = 5\n",
        "print(numbers)"
      ],
      "execution_count": null,
      "outputs": [
        {
          "output_type": "stream",
          "name": "stdout",
          "text": [
            "[17, 5]\n"
          ]
        }
      ]
    },
    {
      "cell_type": "code",
      "metadata": {
        "colab": {
          "base_uri": "https://localhost:8080/"
        },
        "id": "1OAltYJtNz_O",
        "outputId": "21b475e5-b5c7-4e32-96fe-201cd696b741"
      },
      "source": [
        "cheeses = ['Cheddar', 'Edam', 'Gouda']\n",
        "'Edam' in cheeses\n",
        "'Brie' in cheeses"
      ],
      "execution_count": null,
      "outputs": [
        {
          "output_type": "execute_result",
          "data": {
            "text/plain": [
              "False"
            ]
          },
          "metadata": {},
          "execution_count": 32
        }
      ]
    },
    {
      "cell_type": "markdown",
      "metadata": {
        "id": "i8QquZ9pOLVb"
      },
      "source": [
        "##Traversing a list"
      ]
    },
    {
      "cell_type": "markdown",
      "metadata": {
        "id": "htDm3EsDO3jP"
      },
      "source": [
        "The most common way to traverse the elements of a list is with a for loop. The\n",
        "syntax is the same as for strings:"
      ]
    },
    {
      "cell_type": "code",
      "metadata": {
        "id": "QNM_3hksOM70"
      },
      "source": [
        "for cheese in cheeses:\n",
        "  print(cheese)"
      ],
      "execution_count": null,
      "outputs": []
    },
    {
      "cell_type": "markdown",
      "metadata": {
        "id": "IPOZ9V_EPGSg"
      },
      "source": [
        "This works well if you only need to read the elements of the list. But if you want to write or update the elements, you need the indices. A common way to do that is to combine the functions range and len:"
      ]
    },
    {
      "cell_type": "code",
      "metadata": {
        "id": "2H77sqrZPKA6",
        "colab": {
          "base_uri": "https://localhost:8080/"
        },
        "outputId": "8159ff0c-4ed0-4005-b05b-311622835da8"
      },
      "source": [
        "for i in range(len(numbers)):\n",
        "  numbers[i] = numbers[i] * 2\n",
        " \n",
        "print(numbers)"
      ],
      "execution_count": null,
      "outputs": [
        {
          "output_type": "stream",
          "name": "stdout",
          "text": [
            "[34, 246]\n"
          ]
        }
      ]
    },
    {
      "cell_type": "markdown",
      "metadata": {
        "id": "JNT_3YtfPhYK"
      },
      "source": [
        "##List operations"
      ]
    },
    {
      "cell_type": "code",
      "metadata": {
        "id": "qqCJPxi0Pisf",
        "colab": {
          "base_uri": "https://localhost:8080/"
        },
        "outputId": "9bbbe0a4-681c-48b7-abc9-eb04d7dca05a"
      },
      "source": [
        "# The + operator concatenates lists:\n",
        "\n",
        "a = [1, 2, 3]\n",
        "b = [4, 5, 6]\n",
        "c = a + b\n",
        "print(c)"
      ],
      "execution_count": null,
      "outputs": [
        {
          "output_type": "stream",
          "name": "stdout",
          "text": [
            "[1, 2, 3, 4, 5, 6]\n"
          ]
        }
      ]
    },
    {
      "cell_type": "code",
      "metadata": {
        "id": "7LSjhdqyPtCU",
        "colab": {
          "base_uri": "https://localhost:8080/"
        },
        "outputId": "e19562af-a74c-4cb0-c025-cd4fb8a23605"
      },
      "source": [
        "# Similarly, the * operator repeats a list a given number of times:\n",
        "\n",
        "a = [0] * 4\n",
        "\n",
        "b = [1, 2, 3] * 3\n",
        "\n",
        "print(a)\n",
        "print(b)"
      ],
      "execution_count": null,
      "outputs": [
        {
          "output_type": "stream",
          "name": "stdout",
          "text": [
            "[0, 0, 0, 0]\n",
            "[1, 2, 3, 1, 2, 3, 1, 2, 3]\n"
          ]
        }
      ]
    },
    {
      "cell_type": "markdown",
      "metadata": {
        "id": "NGbJ7-F8QDLK"
      },
      "source": [
        "##List slices"
      ]
    },
    {
      "cell_type": "code",
      "metadata": {
        "id": "MEL6JaiVQGrS",
        "colab": {
          "base_uri": "https://localhost:8080/"
        },
        "outputId": "394396e0-adad-4572-9bb7-4093195c3867"
      },
      "source": [
        "t = ['a', 'b', 'c', 'd', 'e', 'f']\n",
        "print(t[1:3])\n",
        "print(t[:4])\n",
        "print(t[3:])"
      ],
      "execution_count": null,
      "outputs": [
        {
          "output_type": "stream",
          "name": "stdout",
          "text": [
            "['b', 'c']\n",
            "['a', 'b', 'c', 'd']\n",
            "['d', 'e', 'f']\n"
          ]
        }
      ]
    },
    {
      "cell_type": "markdown",
      "metadata": {
        "id": "OXwp_Z2ZQR9h"
      },
      "source": [
        "**If you omit the first index, the slice starts at the beginning. If you omit the second, the slice goes to the end. So if you omit both, the slice is a copy of the whole list.**"
      ]
    },
    {
      "cell_type": "code",
      "metadata": {
        "id": "vrVLGebbQUzN"
      },
      "source": [
        "t[:]"
      ],
      "execution_count": null,
      "outputs": []
    },
    {
      "cell_type": "code",
      "metadata": {
        "id": "lVbyhXfERPVz",
        "colab": {
          "base_uri": "https://localhost:8080/"
        },
        "outputId": "dbbf6d7e-2480-4e4e-f4d6-537c3c69081e"
      },
      "source": [
        "t = ['a', 'b', 'c', 'd', 'e', 'f']\n",
        "t[1:3] = ['x', 'y']\n",
        "print(t)"
      ],
      "execution_count": null,
      "outputs": [
        {
          "output_type": "stream",
          "name": "stdout",
          "text": [
            "['a', 'x', 'y', 'd', 'e', 'f']\n"
          ]
        }
      ]
    },
    {
      "cell_type": "markdown",
      "metadata": {
        "id": "DPPjLaXrRcRS"
      },
      "source": [
        "##List methods"
      ]
    },
    {
      "cell_type": "code",
      "metadata": {
        "id": "TsRLrK8KRdlT"
      },
      "source": [
        "# Python provides methods that operate on lists. For example, append adds a new\n",
        "# element to the end of a list:\n",
        "\n",
        "t = list()\n",
        "\n",
        "t = ['a', 'b', 'c']\n",
        "t.append('d')\n",
        "print(t)"
      ],
      "execution_count": null,
      "outputs": []
    },
    {
      "cell_type": "code",
      "metadata": {
        "id": "R1MGsEZ9RqHr",
        "colab": {
          "base_uri": "https://localhost:8080/"
        },
        "outputId": "b880ff37-0c90-493d-ec40-9f3718add5c0"
      },
      "source": [
        "#extend takes a list as an argument and appends all of the elements:\n",
        "\n",
        "t1 = ['a', 'b', 'c']\n",
        "t2 = ['d', 'e']\n",
        "t1.extend(t2)\n",
        "print(t1)"
      ],
      "execution_count": null,
      "outputs": [
        {
          "output_type": "stream",
          "name": "stdout",
          "text": [
            "['a', 'b', 'c', 'd', 'e']\n"
          ]
        }
      ]
    },
    {
      "cell_type": "code",
      "metadata": {
        "id": "hNYaCDmhSWXy"
      },
      "source": [
        "#sort arranges the elements of the list from low to high\n",
        "t = ['d', 'c', 'e', 'b', 'a']\n",
        "t.sort()\n",
        "print(t)"
      ],
      "execution_count": null,
      "outputs": []
    },
    {
      "cell_type": "markdown",
      "metadata": {
        "id": "j3LaHVvcSs2x"
      },
      "source": [
        "## Deleting elements"
      ]
    },
    {
      "cell_type": "code",
      "metadata": {
        "id": "_HaZIIFTSuhp",
        "colab": {
          "base_uri": "https://localhost:8080/"
        },
        "outputId": "5c28aac7-afaa-4068-e91b-39511ff0b213"
      },
      "source": [
        "#There are several ways to delete elements from a list. If you know the index of the\n",
        "#element you want, you can use pop:\n",
        "t = ['a', 'b', 'c']\n",
        "x = t.pop(1)\n",
        "print(t)"
      ],
      "execution_count": null,
      "outputs": [
        {
          "output_type": "stream",
          "name": "stdout",
          "text": [
            "['a', 'c']\n"
          ]
        }
      ]
    },
    {
      "cell_type": "markdown",
      "metadata": {
        "id": "oHM8ajO5S7RS"
      },
      "source": [
        "pop modifies the list and returns the element that was removed. If you don’t\n",
        "provide an index, it deletes and returns the last element."
      ]
    },
    {
      "cell_type": "code",
      "metadata": {
        "id": "xvj7TVgaS_by"
      },
      "source": [
        "# If you don’t need the removed value, you can use the del operator:\n",
        "t = ['a', 'b', 'c']\n",
        "del t[1]\n",
        "print(t)"
      ],
      "execution_count": null,
      "outputs": []
    },
    {
      "cell_type": "code",
      "metadata": {
        "id": "8IKHnuOvTIsy",
        "colab": {
          "base_uri": "https://localhost:8080/"
        },
        "outputId": "85f4da08-7518-4f8a-84a4-9a64bb24c7ef"
      },
      "source": [
        "# If you know the element you want to remove (but not the index), you can use\n",
        "# remove:\n",
        "t = ['a', 'b', 'c']\n",
        "t.remove('b')\n",
        "print(t)\n",
        "\n",
        "# The return value from remove is None."
      ],
      "execution_count": null,
      "outputs": [
        {
          "output_type": "stream",
          "name": "stdout",
          "text": [
            "['a', 'c']\n"
          ]
        }
      ]
    },
    {
      "cell_type": "code",
      "metadata": {
        "id": "Ym9dbrL9TUb0",
        "colab": {
          "base_uri": "https://localhost:8080/"
        },
        "outputId": "5877607b-442f-4f9e-8178-aef64b95daab"
      },
      "source": [
        "# To remove more than one element, you can use del with a slice index\n",
        "\n",
        "t = ['a', 'b', 'c', 'd', 'e', 'f']\n",
        "del t[1:5]\n",
        "print(t)"
      ],
      "execution_count": null,
      "outputs": [
        {
          "output_type": "stream",
          "name": "stdout",
          "text": [
            "['a', 'f']\n"
          ]
        }
      ]
    },
    {
      "cell_type": "markdown",
      "metadata": {
        "id": "UzOvsfIlT6pD"
      },
      "source": [
        "##Lists and functions\n",
        "\n",
        "There are a number of built-in functions that can be used on lists that allow you to quickly look through a list without writing your own loops:"
      ]
    },
    {
      "cell_type": "code",
      "metadata": {
        "id": "KWwjZoF3T7x2"
      },
      "source": [
        "nums = [3, 41, 12, 9, 74, 15]\n",
        "print(len(nums))\n",
        "print(max(nums))\n",
        "print(min(nums))\n",
        "print(sum(nums))\n",
        "print(sum(nums)/len(nums))"
      ],
      "execution_count": null,
      "outputs": []
    },
    {
      "cell_type": "code",
      "metadata": {
        "id": "MNaW1zEUUUF-"
      },
      "source": [
        "# We could rewrite an earlier program that computed the average of a list of numbers\n",
        "# entered by the user using a list.\n",
        "# First, the program to compute an average without a list:\n",
        "\n",
        "total = 0\n",
        "count = 0\n",
        "while True:\n",
        "  inp = input('Enter a number: ')\n",
        "  if inp == 'done': \n",
        "    break\n",
        "  value = float(inp)\n",
        "  total = total + value\n",
        "  count = count + 1\n",
        "\n",
        "average = total / count\n",
        "print('Average:', average)"
      ],
      "execution_count": null,
      "outputs": []
    },
    {
      "cell_type": "markdown",
      "metadata": {
        "id": "38OSK8GIUo1d"
      },
      "source": [
        "In this program, we have count and total variables to keep the number and\n",
        "running total of the user’s numbers as we repeatedly prompt the user for a number.\n",
        "We could simply remember each number as the user entered it and use built-in\n",
        "functions to compute the sum and count at the end."
      ]
    },
    {
      "cell_type": "code",
      "metadata": {
        "id": "BQAhFsE7Uw2O"
      },
      "source": [
        "numlist = list()\n",
        "while True:\n",
        "  inp = input('Enter a number: ')\n",
        "  if inp == 'done': \n",
        "    break\n",
        "  value = float(inp)\n",
        "  numlist.append(value)\n",
        "\n",
        "average = sum(numlist) / len(numlist)\n",
        "print('Average:', average)"
      ],
      "execution_count": null,
      "outputs": []
    },
    {
      "cell_type": "code",
      "metadata": {
        "colab": {
          "base_uri": "https://localhost:8080/"
        },
        "id": "7Y7KztGh66KN",
        "outputId": "27cf722a-4820-4ac2-ed40-6d4388682e31"
      },
      "source": [
        "numlist"
      ],
      "execution_count": null,
      "outputs": [
        {
          "output_type": "execute_result",
          "data": {
            "text/plain": [
              "[2.0, 5.0, 7.0]"
            ]
          },
          "metadata": {},
          "execution_count": 51
        }
      ]
    },
    {
      "cell_type": "markdown",
      "metadata": {
        "id": "R4lFgFg4U-Se"
      },
      "source": [
        "We make an empty list before the loop starts, and then each time we have a number, we append it to the list. At the end of the program, we simply compute the sum of the numbers in the list and divide it by the count of the numbers in the list to come up with the average."
      ]
    },
    {
      "cell_type": "markdown",
      "metadata": {
        "id": "TH-XVbz8VHXD"
      },
      "source": [
        "##Lists and strings"
      ]
    },
    {
      "cell_type": "markdown",
      "metadata": {
        "id": "3ut15U5pVLgi"
      },
      "source": [
        "A string is a sequence of characters and a list is a sequence of values, but a list\n",
        "of characters is not the same as a string. To convert from a string to a list of\n",
        "characters, you can use list:"
      ]
    },
    {
      "cell_type": "code",
      "metadata": {
        "id": "IF6yvo_2VOge",
        "colab": {
          "base_uri": "https://localhost:8080/"
        },
        "outputId": "0bef69d2-8012-4ebb-c4a5-46d202677f1e"
      },
      "source": [
        "s = 'spam'\n",
        "t = list(s)\n",
        "print(t)"
      ],
      "execution_count": null,
      "outputs": [
        {
          "output_type": "stream",
          "name": "stdout",
          "text": [
            "['s', 'p', 'a', 'm']\n"
          ]
        }
      ]
    },
    {
      "cell_type": "markdown",
      "metadata": {
        "id": "17HnsqaOVXQK"
      },
      "source": [
        "The list function breaks a string into individual letters. If you want to break a string into words, you can use the **`split method`**"
      ]
    },
    {
      "cell_type": "code",
      "metadata": {
        "id": "488S6jMDVblY"
      },
      "source": [
        "s = 'pining for the fjords'\n",
        "t = s.split()\n",
        "print(t)\n",
        "print(t[2])"
      ],
      "execution_count": null,
      "outputs": []
    },
    {
      "cell_type": "markdown",
      "metadata": {
        "id": "88XXbwpPVitT"
      },
      "source": [
        "You can call **`split`** with an optional argument called a delimiter that specifies which characters to use as word boundaries. The following example uses a hyphen as a delimiter:"
      ]
    },
    {
      "cell_type": "code",
      "metadata": {
        "id": "MDS_T2qCVrWv",
        "colab": {
          "base_uri": "https://localhost:8080/"
        },
        "outputId": "0d5da4df-683c-4af7-c34e-a4ad13b56d73"
      },
      "source": [
        "s = 'spam-spam-spam'\n",
        "delimiter = '-'\n",
        "s.split(delimiter)"
      ],
      "execution_count": null,
      "outputs": [
        {
          "output_type": "execute_result",
          "data": {
            "text/plain": [
              "['spam', 'spam', 'spam']"
            ]
          },
          "metadata": {},
          "execution_count": 54
        }
      ]
    },
    {
      "cell_type": "markdown",
      "metadata": {
        "id": "jz2X_78HVvax"
      },
      "source": [
        "**`join`** is the inverse of split. It takes a list of strings and concatenates the elements. join is a string method, so you have to invoke it on the delimiter and pass the list as a parameter:"
      ]
    },
    {
      "cell_type": "code",
      "metadata": {
        "id": "F7fkGGoOV0np"
      },
      "source": [
        "t = ['pining', 'for', 'the', 'fjords']\n",
        "delimiter = ' '\n",
        "delimiter.join(t)"
      ],
      "execution_count": null,
      "outputs": []
    },
    {
      "cell_type": "markdown",
      "metadata": {
        "id": "X80MGPVvWBvk"
      },
      "source": [
        "## Parsing lines\n",
        "\n",
        "Usually when we are reading a file we want to do something to the lines other than just printing the whole line. Often we want to find the “interesting lines” and then parse the line to find some interesting part of the line. What if we wanted to print out the day of the week from those lines that start with “From”?\n",
        "```\n",
        "From stephen.marquard@uct.ac.za Sat Jan 5 09:14:16 2008\n",
        "```\n",
        "\n",
        "The split method is very effective when faced with this kind of problem. We can\n",
        "write a small program that looks for lines where the line starts with “From”, **`split`** those lines, and then print out the third word in the line:"
      ]
    },
    {
      "cell_type": "code",
      "metadata": {
        "id": "2JgUR80jWUXI"
      },
      "source": [
        "fhand = open('mbox-short.txt')\n",
        "for line in fhand:\n",
        "  line = line.rstrip()\n",
        "  if line.startswith('From '): \n",
        "    words = line.split()\n",
        "    print(words[2])"
      ],
      "execution_count": null,
      "outputs": []
    },
    {
      "cell_type": "code",
      "metadata": {
        "id": "XrvUzLit9MyX"
      },
      "source": [
        "# Extract the weekdays and\n",
        "#### Append into list\n",
        "\n",
        "week_day = list()\n",
        "\n",
        "fhand = open('mbox-short.txt')\n",
        "for line in fhand:\n",
        "  line = line.rstrip()\n",
        "  if line.startswith('From '): \n",
        "    words = line.split()\n",
        "    week_day.append(words[2])\n",
        "\n",
        "week_day    "
      ],
      "execution_count": null,
      "outputs": []
    },
    {
      "cell_type": "markdown",
      "metadata": {
        "id": "thgufqabF0gp"
      },
      "source": [
        "#Practice Excercises\n",
        "1. Write a program to read through a file and print the contents\n",
        "of the file (line by line) all in upper case. Executing the program will\n",
        "look as follows: (mbox-data)\n",
        "```\n",
        "Enter a file name: mbox-short.txt\n",
        "FROM STEPHEN.MARQUARD@UCT.AC.ZA SAT JAN 5 09:14:16 2008\n",
        "RETURN-PATH: <POSTMASTER@COLLAB.SAKAIPROJECT.ORG>\n",
        "RECEIVED: FROM MURDER (MAIL.UMICH.EDU [141.211.14.90])\n",
        "BY FRANKENSTEIN.MAIL.UMICH.EDU (CYRUS V2.3.8) WITH LMTPA;\n",
        "SAT, 05 JAN 2008 09:14:16 -0500\n",
        "```\n",
        "\n",
        "2. Write a program to prompt for a file name, and then read\n",
        "through the file and look for lines of the form: \n",
        "  ```\n",
        "  X-DSPAM-Confidence: 0.8475\n",
        "```\n",
        "When you encounter a line that starts with “X-DSPAM-Confidence:”\n",
        "pull apart the line to extract the floating-point number on the line.\n",
        "Count these lines and then compute the total of the spam confidence \n",
        "values from these lines. When you reach the end of the file, print out\n",
        "the average spam confidence. (mbox data)\n",
        "\n",
        "3. **Find all unique words in a file.** Shakespeare used over 20,000 words in his works. But how would you\n",
        "determine that? How would you produce the list of all the words that\n",
        "Shakespeare used? Would you download all his work, read it and track\n",
        "all unique words by hand?\n",
        "Let’s use Python to achieve that instead. List all unique words, sorted\n",
        "in alphabetical order, that are stored in a file romeo.txt containing a\n",
        "subset of Shakespeare’s work. To get started, download a copy of the file(https://www.py4e.com/code3/romeo.txt).\n",
        "Create a list of unique words, which will contain the final result. Write\n",
        "a program to open the file romeo.txt and read it line by line. For each\n",
        "line, split the line into a list of words using the split function. For\n",
        "each word, check to see if the word is already in the list of unique\n",
        "words. If the word is not in the list of unique words, add it to the list.\n",
        "When the program completes, sort and print the list of unique words\n",
        "in alphabetical order.\n",
        "\n",
        "  ```\n",
        "  Enter file: romeo.txt\n",
        "  ['Arise', 'But', 'It', 'Juliet', 'Who', 'already',\n",
        "  'and', 'breaks', 'east', 'envious', 'fair', 'grief',\n",
        "  'is', 'kill', 'light', 'moon', 'pale', 'sick', 'soft',\n",
        "  'sun', 'the', 'through', 'what', 'window',\n",
        "  'with', 'yonder']\n",
        "\n",
        "  ```\n",
        "\n",
        "4. **Remove the following stopwords** from the romeo.txt file and then find the list of unique words.\n",
        "```\n",
        "stp = [\"But\",'is','the','with','and']  \n",
        "```\n",
        "Output:\n",
        "  ```\n",
        "  soft what light through yonder window breaks\n",
        "  It east Juliet sun\n",
        "  Arise fair sun kill envious moon\n",
        "  Who already sick pale grief\n",
        "```\n",
        "\n",
        "5. **Minimalist Email Client.**\n",
        "MBOX (mail box) is a popular file format to store and share a collection\n",
        "of emails. This was used by early email servers and desktop apps.\n",
        "Without getting into too many details, MBOX is a text file, which\n",
        "stores emails consecutively. Emails are separated by a special line which\n",
        "starts with From (notice the space). Importantly, lines starting with\n",
        "From: (notice the colon) describes the email itself and does not act as\n",
        "a separator. Imagine you wrote a minimalist email app, that lists the\n",
        "email of the senders in the user’s Inbox and counts the number of emails.\n",
        "Write a program to read through the mail box data and when you find\n",
        "line that starts with “From”, you will split the line into words using the\n",
        "split function. We are interested in who sent the message, which is the\n",
        "second word on the From line. (mbox-data)\n",
        "```\n",
        "From stephen.marquard@uct.ac.za Sat Jan 5 09:14:16 2008\n",
        "```\n",
        "You will parse the From line and print out the second word for each\n",
        "From line, then you will also count the number of From (not From:)\n",
        "lines and print out a count at the end. This is a good sample output\n",
        "with a few lines removed:\n",
        "\n",
        "  ```\n",
        "  Enter a file name: mbox-short.txt\n",
        "  stephen.marquard@uct.ac.za\n",
        "  louis@media.berkeley.edu\n",
        "  zqian@umich.edu\n",
        "  [...some output removed...]\n",
        "  ray@media.berkeley.edu\n",
        "  cwen@iupui.edu\n",
        "  cwen@iupui.edu\n",
        "  cwen@iupui.edu\n",
        "  There were 27 lines in the file with From as the first word\n",
        "  ```\n",
        "\n",
        "6. Rewrite the program that prompts the user for a list of\n",
        "numbers and prints out the maximum and minimum of the numbers at the end when the user enters “done”. Write the program to store the\n",
        "numbers the user enters in a list and use the max() and min() functions to\n",
        "compute the maximum and minimum numbers after the loop completes.\n",
        "\n",
        "  ```\n",
        "  Enter a number: 6\n",
        "  Enter a number: 2\n",
        "  Enter a number: 9\n",
        "  Enter a number: 3\n",
        "  Enter a number: 5\n",
        "  Enter a number: done\n",
        "  Maximum: 9.0\n",
        "  Minimum: 2.0\n",
        "\n",
        "  ```"
      ]
    },
    {
      "cell_type": "markdown",
      "metadata": {
        "id": "8S2gXlr9-CqC"
      },
      "source": [
        "#References:\n",
        "1. [Programiz.com](https://www.programiz.com/python-programming/operators)\n",
        "2. [Python for Everybody-Coursera](https://www.coursera.org/learn/python)"
      ]
    }
  ]
}