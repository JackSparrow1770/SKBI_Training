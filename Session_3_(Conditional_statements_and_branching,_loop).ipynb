{
  "cells": [
    {
      "cell_type": "markdown",
      "metadata": {
        "id": "view-in-github",
        "colab_type": "text"
      },
      "source": [
        "<a href=\"https://colab.research.google.com/github/eftekhar-hossain/SKBI_Training/blob/main/Session_3_(Conditional_statements_and_branching%2C_loop).ipynb\" target=\"_parent\"><img src=\"https://colab.research.google.com/assets/colab-badge.svg\" alt=\"Open In Colab\"/></a>"
      ]
    },
    {
      "cell_type": "markdown",
      "metadata": {
        "id": "e6rh34HxjUOY"
      },
      "source": [
        "<center> <h1> <u> <font color='red'> Training on AI and ML with Python </font> </u> </h1> </center>"
      ]
    },
    {
      "cell_type": "markdown",
      "metadata": {
        "id": "C-BUBBYTWTYU"
      },
      "source": [
        "# Session-3: Conditional statements and branching, loop\n",
        "\n",
        "\n",
        "### Objective: \n",
        " 1. *Get familiar with the Python control flow statements such as for loop and while loop.*\n",
        " 2. *Write Programs using python loops.*"
      ]
    },
    {
      "cell_type": "markdown",
      "metadata": {
        "id": "9Au7iVkORz6M"
      },
      "source": [
        "## For Loop"
      ]
    },
    {
      "cell_type": "markdown",
      "metadata": {
        "id": "76R6su74Rdy9"
      },
      "source": [
        "Sometimes we want to loop through a set of things such as a **list of words**, **the lines in a file** bold text, or a **list of numbers**. When we have a list of things to loop through, we can construct a definite loop using a for statement. We call the while statement an indefinite loop because it simply loops until some condition becomes False, whereas the for loop is looping through a known set of items so it runs through as many iterations as there are items in the set."
      ]
    },
    {
      "cell_type": "markdown",
      "metadata": {
        "id": "2jgLrtimOERL"
      },
      "source": [
        "The for loop in Python is used to iterate over a sequence (list, tuple, string) or other iterable objects. Iterating over a sequence is called traversal."
      ]
    },
    {
      "cell_type": "code",
      "execution_count": null,
      "metadata": {
        "collapsed": true,
        "id": "OgcwiN5FODoR",
        "outputId": "4957122c-8b8f-477d-d428-d64a17b9ec4c"
      },
      "outputs": [
        {
          "data": {
            "text/plain": [
              "'\\nfor val in sequence:\\n     loop body\\n'"
            ]
          },
          "execution_count": 1,
          "metadata": {},
          "output_type": "execute_result"
        }
      ],
      "source": [
        "# Syntax of for Loop\n",
        "\n",
        "'''\n",
        "for val in sequence:\n",
        "     loop body\n",
        "'''     "
      ]
    },
    {
      "cell_type": "code",
      "execution_count": null,
      "metadata": {
        "id": "Wh5j0qgf3fG3"
      },
      "outputs": [],
      "source": [
        "## data structure \n",
        "\n",
        "# list\n",
        "# tuple\n",
        "# dictionary"
      ]
    },
    {
      "cell_type": "code",
      "execution_count": null,
      "metadata": {
        "colab": {
          "base_uri": "https://localhost:8080/"
        },
        "id": "iJMGvmZK26SJ",
        "outputId": "1788bd2c-8396-47c0-8c12-c7724b793f48"
      },
      "outputs": [
        {
          "name": "stdout",
          "output_type": "stream",
          "text": [
            "1\n",
            "2\n",
            "3\n",
            "5\n",
            "6\n"
          ]
        }
      ],
      "source": [
        "ara = [1,2,3,5,6]\n",
        "\n",
        "\n",
        "# for (int i =0; i<5; i++)\n",
        "\n",
        "for val in ara:\n",
        "  print(val)"
      ]
    },
    {
      "cell_type": "markdown",
      "metadata": {
        "id": "6zT-nzwNPjTL"
      },
      "source": [
        "Here, **`val `**is the variable that takes the value of the item inside the sequence on each iteration. Loop continues until we reach the last item in the sequence. The body of for loop is separated from the rest of the code using indentation."
      ]
    },
    {
      "cell_type": "markdown",
      "metadata": {
        "id": "TyIhiHq-QSfV"
      },
      "source": [
        "### The range() function\n",
        "\n",
        "We can generate a sequence of numbers using **`range()`** function. **`range(10)`** will generate numbers from 0 to 9 (10 numbers).\n",
        "\n",
        "We can also define the start, stop and step size as **`range(start, stop, step_size)`**. step_size defaults to 1 if not provided."
      ]
    },
    {
      "cell_type": "code",
      "execution_count": null,
      "metadata": {
        "colab": {
          "base_uri": "https://localhost:8080/"
        },
        "id": "C7npoN4oRDqn",
        "outputId": "65e07b43-ee47-4e02-9fd0-c7bd61f59143"
      },
      "outputs": [
        {
          "name": "stdout",
          "output_type": "stream",
          "text": [
            "range(0, 10)\n",
            "[0, 1, 2, 3, 4, 5, 6, 7, 8, 9]\n",
            "[2, 3, 4, 5, 6, 7]\n",
            "[2, 5, 8, 11, 14, 17, 20]\n",
            "[2, 5, 8, 11, 14, 17]\n"
          ]
        }
      ],
      "source": [
        "print(range(10))\n",
        "\n",
        "print(list(range(10)))\n",
        "\n",
        "print(list(range(2, 8)))\n",
        "\n",
        "print(list(range(2, 21, 3)))\n",
        "\n",
        "print(list(range(2, 20, 3)))"
      ]
    },
    {
      "cell_type": "code",
      "execution_count": null,
      "metadata": {
        "colab": {
          "base_uri": "https://localhost:8080/"
        },
        "id": "4X21X-zoQPr7",
        "outputId": "65f92ed9-b0b1-4ebe-a624-39658761d7d6"
      },
      "outputs": [
        {
          "name": "stdout",
          "output_type": "stream",
          "text": [
            "0\n",
            "1\n",
            "2\n",
            "3\n"
          ]
        }
      ],
      "source": [
        "# Python program to illustrate\n",
        "# Iterating over range 0 to n-1\n",
        " \n",
        "n = 4\n",
        "for i in range(0, n):\n",
        "    print(i)"
      ]
    },
    {
      "cell_type": "code",
      "execution_count": null,
      "metadata": {
        "id": "dL5TD6wo6JD3",
        "outputId": "66a2656b-e8a9-4742-bb39-274850d67d6b"
      },
      "outputs": [
        {
          "data": {
            "text/plain": [
              "11"
            ]
          },
          "execution_count": 15,
          "metadata": {},
          "output_type": "execute_result"
        }
      ],
      "source": [
        "#function(argument)\n",
        "\n",
        "# argument\n",
        "# return value\n",
        "\n",
        "str = \"Hello World\"\n",
        "\n",
        "len(str)"
      ]
    },
    {
      "cell_type": "code",
      "execution_count": null,
      "metadata": {
        "id": "jP2hx4tN6xJE",
        "outputId": "a27fa6b5-0a17-4128-90df-bf41a5fddd95"
      },
      "outputs": [
        {
          "data": {
            "text/plain": [
              "20"
            ]
          },
          "execution_count": 17,
          "metadata": {},
          "output_type": "execute_result"
        }
      ],
      "source": [
        "numbers = [6, 5, 3, 8, 4, 20, 5, 4, 11]\n",
        "max(numbers)"
      ]
    },
    {
      "cell_type": "markdown",
      "metadata": {
        "id": "ys7h8zsNPzxn"
      },
      "source": [
        "### Example-1: Program to find the sum of all numbers stored in a list"
      ]
    },
    {
      "cell_type": "code",
      "execution_count": null,
      "metadata": {
        "colab": {
          "base_uri": "https://localhost:8080/"
        },
        "id": "3oIsgHMlPiuy",
        "outputId": "275a5e74-e19d-49df-af9c-f4a7ca2f4e2c"
      },
      "outputs": [
        {
          "name": "stdout",
          "output_type": "stream",
          "text": [
            "The sum is 48\n"
          ]
        }
      ],
      "source": [
        "# List of numbers\n",
        "numbers = [6, 5, 3, 8, 4, 2, 5, 4, 11]\n",
        "\n",
        "# variable to store the sum\n",
        "sum = 0\n",
        "\n",
        "# iterate over the list\n",
        "for number in numbers:\n",
        "    sum = sum+number\n",
        "print(\"The sum is\", sum)"
      ]
    },
    {
      "cell_type": "code",
      "execution_count": null,
      "metadata": {
        "id": "CX_uXtCo5Thg",
        "outputId": "5d4d8368-c479-44b9-c1f7-6180175353e7"
      },
      "outputs": [
        {
          "name": "stdout",
          "output_type": "stream",
          "text": [
            "6\n",
            "11\n",
            "14\n",
            "22\n",
            "26\n",
            "28\n",
            "33\n",
            "37\n",
            "48\n"
          ]
        }
      ],
      "source": [
        "sum = 0\n",
        "for i in range(len(numbers)):\n",
        "  sum = sum + numbers[i]\n",
        "  print(sum)\n"
      ]
    },
    {
      "cell_type": "code",
      "execution_count": null,
      "metadata": {
        "id": "v_SUYsHbSBku",
        "outputId": "969ef5a7-ed28-4d65-f6f5-a8cb5288bd5e"
      },
      "outputs": [
        {
          "name": "stdout",
          "output_type": "stream",
          "text": [
            "Happy New Year: Joseph\n",
            "Happy New Year: Glenn\n",
            "Happy New Year: Sally\n",
            "Done!\n"
          ]
        }
      ],
      "source": [
        "# Program to wish the friends with new year greetings \n",
        "\n",
        "friends = ['Joseph', 'Glenn', 'Sally']\n",
        "\n",
        "for friend in friends:\n",
        "  print('Happy New Year:', friend)\n",
        "  \n",
        "print('Done!')"
      ]
    },
    {
      "cell_type": "code",
      "execution_count": null,
      "metadata": {
        "id": "WRPJJz6-9doQ",
        "outputId": "1221ca74-765c-420b-9ad4-58309947e574"
      },
      "outputs": [
        {
          "name": "stdout",
          "output_type": "stream",
          "text": [
            "Happy New Year: Joseph\n",
            "Happy New Year: Glenn\n",
            "Happy New Year: Sally\n"
          ]
        }
      ],
      "source": [
        "for i in range(len(friends)):\n",
        "  print('Happy New Year:', friends[i])"
      ]
    },
    {
      "cell_type": "markdown",
      "metadata": {
        "id": "X98kyDiKSqhV"
      },
      "source": [
        "In particular, **friend** is the iteration variable for the **for** loop. The variable friend changes for each iteration of the loop and controls when the **for** loop completes. The iteration variable steps successively through the three strings stored in the **friends** variable."
      ]
    },
    {
      "cell_type": "markdown",
      "metadata": {
        "id": "IChS2KRyUQEK"
      },
      "source": [
        "### Example-2: program to count the number of items in a list"
      ]
    },
    {
      "cell_type": "code",
      "execution_count": null,
      "metadata": {
        "id": "QX6pr8h9TkTu",
        "outputId": "0ee552cf-d68d-4ffe-e416-a1058dcab522"
      },
      "outputs": [
        {
          "name": "stdout",
          "output_type": "stream",
          "text": [
            "Count:  6\n",
            "length: 6\n"
          ]
        }
      ],
      "source": [
        "count = 0\n",
        "for val in [3, 41, 12, 9, 74, 15]:\n",
        "  count = count + 1\n",
        "print('Count: ', count)\n",
        "\n",
        "print('length:', len([3, 41, 12, 9, 74, 15]))"
      ]
    },
    {
      "cell_type": "code",
      "execution_count": null,
      "metadata": {
        "id": "prFDyS4CTz1b",
        "outputId": "1eb441ce-c463-4e00-e968-340a57e0ec98"
      },
      "outputs": [
        {
          "name": "stdout",
          "output_type": "stream",
          "text": [
            "Total:  154\n"
          ]
        }
      ],
      "source": [
        "# computes the total of a set of numbers\n",
        "total = 0\n",
        "for val in [3, 41, 12, 9, 74, 15]:\n",
        "  total = total + val\n",
        "print('Total: ', total)"
      ]
    },
    {
      "cell_type": "markdown",
      "metadata": {
        "id": "5o6BmUJqUUUv"
      },
      "source": [
        "### Example-3: To find the largest value in a list or sequence, we construct the following loop:\n"
      ]
    },
    {
      "cell_type": "code",
      "execution_count": null,
      "metadata": {
        "colab": {
          "base_uri": "https://localhost:8080/"
        },
        "id": "i_XRnkgJUXOq",
        "outputId": "a5ea81a4-b1b2-44fa-d2ae-9d1c3a1734bf"
      },
      "outputs": [
        {
          "name": "stdout",
          "output_type": "stream",
          "text": [
            "Before: None\n",
            "Loop: 3 3\n",
            "Loop: 41 41\n",
            "Loop: 12 41\n",
            "Loop: 9 41\n",
            "Loop: 74 74\n",
            "Loop: 15 74\n",
            "Largest: 74\n"
          ]
        }
      ],
      "source": [
        "largest = None\n",
        "print('Before:', largest)\n",
        "\n",
        "for val in [3, 41, 12, 9, 74, 15]:\n",
        "  if largest is None or val > largest :\n",
        "    largest = val\n",
        "  print('Loop:', val, largest)\n",
        "\n",
        "print('Largest:', largest)"
      ]
    },
    {
      "cell_type": "code",
      "execution_count": null,
      "metadata": {
        "id": "xEaS4ok-Ab7E",
        "outputId": "e84af570-de19-4996-c722-75b94beaccb5"
      },
      "outputs": [
        {
          "name": "stdout",
          "output_type": "stream",
          "text": [
            "Loop: 3 3\n",
            "Loop: 41 41\n",
            "Loop: 12 41\n",
            "Loop: 9 41\n",
            "Loop: 74 74\n",
            "Loop: 15 74\n",
            "Largest: 74\n"
          ]
        }
      ],
      "source": [
        "#To find the largest value in a list or sequence, we construct the following loop:\n",
        "\n",
        "numbers = [3, 41, 12, 9, 74, 15]\n",
        "largest= numbers[0]\n",
        "\n",
        "for val in numbers:\n",
        "    if val > largest :\n",
        "        largest = val\n",
        "    print('Loop:', val, largest)\n",
        "\n",
        "print('Largest:', largest)"
      ]
    },
    {
      "cell_type": "markdown",
      "metadata": {
        "id": "QOU-zQTmVDN1"
      },
      "source": [
        "## While Loop\n",
        "\n",
        "The while loop in Python is used to iterate over a block of code as long as the test expression (condition) is true.\n",
        "\n",
        "We generally use this loop when we don't know the number of times to iterate beforehand."
      ]
    },
    {
      "cell_type": "code",
      "execution_count": null,
      "metadata": {
        "id": "AIhHUZFyVFrl",
        "outputId": "3c3bb258-4d01-4552-a35a-ca029e38bb85"
      },
      "outputs": [
        {
          "name": "stdout",
          "output_type": "stream",
          "text": [
            "The sum is 55\n"
          ]
        }
      ],
      "source": [
        "# Program to add natural\n",
        "# numbers up to \n",
        "# sum = 1+2+3+...+n\n",
        "\n",
        "# To take input from the user,\n",
        "# n = int(input(\"Enter n: \"))\n",
        "\n",
        "n = 10\n",
        "\n",
        "# initialize sum and counter\n",
        "sum = 0\n",
        "i = 1\n",
        "\n",
        "while i <= n:\n",
        "    sum = sum + i\n",
        "    i = i+1    # update counter\n",
        "\n",
        "# print the sum\n",
        "print(\"The sum is\", sum)"
      ]
    },
    {
      "cell_type": "code",
      "execution_count": null,
      "metadata": {
        "id": "kMrQBzjXHE4j",
        "outputId": "766b95a7-2ffb-4930-dde7-6b8df9973d5a"
      },
      "outputs": [
        {
          "name": "stdout",
          "output_type": "stream",
          "text": [
            "4\n",
            "4\n",
            "5\n",
            "242\n",
            "231\n",
            "Done\n"
          ]
        }
      ],
      "source": [
        "while True:\n",
        "  inp = input()\n",
        "  if inp == 'Done':\n",
        "    break"
      ]
    },
    {
      "cell_type": "code",
      "execution_count": null,
      "metadata": {
        "id": "11YWhoAsWwty",
        "outputId": "4da39092-717b-484a-ffa5-7ee633b8690f"
      },
      "outputs": [
        {
          "name": "stdout",
          "output_type": "stream",
          "text": [
            "1\n",
            "2\n",
            "3\n",
            "4\n",
            "5\n"
          ]
        }
      ],
      "source": [
        "# Print i as long as i is less than 6:\n",
        "i = 1\n",
        "while i < 6:\n",
        "  print(i)\n",
        "  i += 1"
      ]
    },
    {
      "cell_type": "markdown",
      "metadata": {
        "id": "jy9T5vLuXwlW"
      },
      "source": [
        "### Break and Continue Statement"
      ]
    },
    {
      "cell_type": "markdown",
      "metadata": {
        "id": "Kp1PG-xIYBtY"
      },
      "source": [
        "In Python, **`break`** and **`continue`** statements can alter the flow of a normal loop.\n",
        "Loops iterate over a block of code until the test expression is false, but sometimes we wish to terminate the current iteration or even the whole loop without checking test expression.\n",
        "\n",
        "The break and continue statements are used in these cases."
      ]
    },
    {
      "cell_type": "code",
      "execution_count": null,
      "metadata": {
        "id": "NkJFLKIkX0KV",
        "outputId": "f4fe3246-f300-452b-f9e6-256ed7e7b222"
      },
      "outputs": [
        {
          "name": "stdout",
          "output_type": "stream",
          "text": [
            "s\n",
            "t\n",
            "r\n",
            "The end\n"
          ]
        }
      ],
      "source": [
        "# Use of break statement inside the loop\n",
        "\n",
        "for val in \"string\":\n",
        "    if val == \"i\":\n",
        "        break\n",
        "    print(val)\n",
        "\n",
        "print(\"The end\")"
      ]
    },
    {
      "cell_type": "markdown",
      "metadata": {
        "id": "4RhVS8OTYojP"
      },
      "source": [
        "In this program, we iterate through the \"string\" sequence. We check if the letter is **`i`**, upon which we break from the loop. Hence, we see in our output that all the letters up till i gets printed. After that, the loop terminates."
      ]
    },
    {
      "cell_type": "code",
      "execution_count": null,
      "metadata": {
        "id": "nNhZy9HQYu6A",
        "outputId": "f9b39186-c72c-40c5-8ad1-7b352f3743b3"
      },
      "outputs": [
        {
          "name": "stdout",
          "output_type": "stream",
          "text": [
            "s\n",
            "t\n",
            "r\n",
            "n\n",
            "g\n",
            "The end\n"
          ]
        }
      ],
      "source": [
        "# Program to show the use of continue statement inside loops\n",
        "\n",
        "for val in \"string\":\n",
        "    if val == \"i\":\n",
        "        continue\n",
        "    print(val)\n",
        "\n",
        "print(\"The end\")"
      ]
    },
    {
      "cell_type": "markdown",
      "metadata": {
        "id": "a6dYEsUBY1-W"
      },
      "source": [
        "This program is same as the above example except the **` break`** statement has been replaced with **`continue`**.\n",
        "\n",
        "We continue with the loop, if the string is i, not executing the rest of the block. Hence, we see in our output that all the letters except i gets printed."
      ]
    },
    {
      "cell_type": "markdown",
      "source": [
        "###Exception Handling\n",
        "\n",
        "\n",
        "\n",
        "```\n",
        "try:\n",
        "    # code that may cause exception\n",
        "except:\n",
        "    # code to run when exception occurs\n",
        "```\n",
        "\n"
      ],
      "metadata": {
        "id": "FAjF1LIM-SzM"
      }
    },
    {
      "cell_type": "code",
      "source": [
        "try:\n",
        "    numerator = 10\n",
        "    denominator = 0\n",
        "\n",
        "    result = numerator/denominator\n",
        "\n",
        "    print(result)\n",
        "except:\n",
        "    print(\"Error: Denominator cannot be 0.\")"
      ],
      "metadata": {
        "id": "mZWbkKC--WH0"
      },
      "execution_count": null,
      "outputs": []
    },
    {
      "cell_type": "markdown",
      "metadata": {
        "id": "thgufqabF0gp"
      },
      "source": [
        "### Practice Excercises\n",
        "1. Write a program which repeatedly reads numbers until the\n",
        "user enters “done”. Once “done” is entered, print out the total, count,\n",
        "and average of the numbers. If the user enters anything other than a\n",
        "number, detect their mistake using try and except and print an error\n",
        "message and skip to the next number.   \n",
        "```\n",
        "          Enter a number: 4\n",
        "          Enter a number: 5\n",
        "          Enter a number: bad data\n",
        "          Invalid input\n",
        "          Enter a number: 7\n",
        "          Enter a number: done\n",
        "          16 3 5.333333333333333\n",
        "```\n",
        "2. Write a Python program to find those numbers which are divisible by 7 and multiple of 5, between 1500 and 2700 (both included).\n",
        "\n",
        "3. Write a Python program to count the number of even and odd numbers from a series of numbers.\n",
        "```\n",
        "    Sample numbers : numbers = (1, 2, 3, 4, 5, 6, 7, 8, 9) \n",
        "    Expected Output :\n",
        "    Number of even numbers : 5\n",
        "    Number of odd numbers : 4\n",
        "```\n",
        "4. Write a Python program that prints all the numbers from 0 to 6 except 3 and 6.\n",
        "5. Write a Python program to get the Fibonacci series between 0 to 50.\n",
        "6. Write a program to display all prime numbers within a range.\n",
        "7. Write a program to accept a number from a user and calculate the sum of all numbers from 1 to a given number.\n",
        "```\n",
        "          Enter number 10\n",
        "          Sum is:  55\n",
        "```\n",
        "\n",
        "\n"
      ]
    },
    {
      "cell_type": "markdown",
      "metadata": {
        "id": "8S2gXlr9-CqC"
      },
      "source": [
        "### References:\n",
        "1. [Programiz.com](https://www.programiz.com/python-programming/operators)\n",
        "2. [Python for Everybody-Coursera](https://www.coursera.org/learn/python)"
      ]
    }
  ],
  "metadata": {
    "colab": {
      "provenance": [],
      "include_colab_link": true
    },
    "kernelspec": {
      "display_name": "Python 3 (ipykernel)",
      "language": "python",
      "name": "python3"
    },
    "language_info": {
      "codemirror_mode": {
        "name": "ipython",
        "version": 3
      },
      "file_extension": ".py",
      "mimetype": "text/x-python",
      "name": "python",
      "nbconvert_exporter": "python",
      "pygments_lexer": "ipython3",
      "version": "3.9.8"
    }
  },
  "nbformat": 4,
  "nbformat_minor": 0
}