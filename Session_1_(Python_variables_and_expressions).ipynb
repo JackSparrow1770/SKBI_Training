{
  "cells": [
    {
      "cell_type": "markdown",
      "metadata": {
        "id": "view-in-github",
        "colab_type": "text"
      },
      "source": [
        "<a href=\"https://colab.research.google.com/github/eftekhar-hossain/SKBI_Training/blob/main/Session_1_(Python_variables_and_expressions).ipynb\" target=\"_parent\"><img src=\"https://colab.research.google.com/assets/colab-badge.svg\" alt=\"Open In Colab\"/></a>"
      ]
    },
    {
      "cell_type": "markdown",
      "source": [
        "<center> <h1> <u> <font color='red'> Training on AI and ML with Python </font> </u> </h1> </center>"
      ],
      "metadata": {
        "id": "_lz87bQwjGut"
      }
    },
    {
      "cell_type": "markdown",
      "metadata": {
        "id": "-UYuDbfvjO50"
      },
      "source": [
        "# Session-01: Fundamentals of Python\n",
        "\n",
        "\n",
        "### Objective\n",
        " 1. *Introducition to Python*\n",
        " 2. *Data Types and Variables*\n",
        " 3. *Basic Input/Output Method*"
      ]
    },
    {
      "cell_type": "markdown",
      "metadata": {
        "id": "t9YGbxlCi_q5"
      },
      "source": [
        "### Python\n",
        "\n",
        " 1. *Python is a high level programming language*\n",
        " 2. *Allow you to try bits of Python without having to save and run an entire program*\n",
        " 3. *Be careful with the version you have installed*"
      ]
    },
    {
      "cell_type": "markdown",
      "metadata": {
        "id": "oFNTe317i_q8"
      },
      "source": [
        "### Check your current version"
      ]
    },
    {
      "cell_type": "code",
      "execution_count": null,
      "metadata": {
        "id": "B0-Syp6ii_q-",
        "outputId": "63c09036-d84a-4ec8-ba58-2efce53158de"
      },
      "outputs": [
        {
          "name": "stdout",
          "output_type": "stream",
          "text": [
            "Python 3.9.8\n"
          ]
        }
      ],
      "source": [
        "! python --version"
      ]
    },
    {
      "cell_type": "markdown",
      "metadata": {
        "id": "cc_r3j67i_rB"
      },
      "source": [
        "### Running a simple program in Python"
      ]
    },
    {
      "cell_type": "code",
      "execution_count": null,
      "metadata": {
        "id": "lYnDM2wri_rC",
        "outputId": "ede847cc-438c-4da6-d136-0a2ff81841df"
      },
      "outputs": [
        {
          "name": "stdout",
          "output_type": "stream",
          "text": [
            "Hello, world!\n",
            "100\n"
          ]
        }
      ],
      "source": [
        "print(\"Hello, world!\")\n",
        "\n",
        "print(100)"
      ]
    },
    {
      "cell_type": "markdown",
      "metadata": {
        "id": "siGFB2Uilq8r"
      },
      "source": [
        "### Values and Types\n",
        "\n",
        "A value is one of the basic things a program works with, like a letter or a number.\n",
        "**`1, 2, and “Hello, World!”`** all are the different values.\n",
        "These values belong to different types: **`2 is an integer`**, and \n",
        "**`“Hello,World!” is a string`**, so called because it contains a `“string”` of letters. \n",
        "**The print statement** is used to print any values. "
      ]
    },
    {
      "cell_type": "code",
      "execution_count": null,
      "metadata": {
        "colab": {
          "base_uri": "https://localhost:8080/"
        },
        "id": "PBalqZPTT6ya",
        "outputId": "dcd63143-4fbf-4467-a89d-716abd938cf3"
      },
      "outputs": [
        {
          "name": "stdout",
          "output_type": "stream",
          "text": [
            "<class 'str'>\n",
            "<class 'int'>\n",
            "<class 'float'>\n"
          ]
        }
      ],
      "source": [
        "#If you are not sure what type a value has, the interpreter can tell you.\n",
        "print(type('Hello, World!'))\n",
        "print(type(17))\n",
        "print(type(3.2))"
      ]
    },
    {
      "cell_type": "markdown",
      "metadata": {
        "id": "JiQTfmiKm_5L"
      },
      "source": [
        "What about values like `“17”` and `“3.2”` ? They look like numbers, but they are in\n",
        "quotation marks like strings."
      ]
    },
    {
      "cell_type": "code",
      "execution_count": null,
      "metadata": {
        "id": "ez5zSbNmm-xs",
        "outputId": "8f676f51-2253-45db-b7fa-039f31e05df6"
      },
      "outputs": [
        {
          "name": "stdout",
          "output_type": "stream",
          "text": [
            "<class 'str'>\n",
            "<class 'str'>\n"
          ]
        }
      ],
      "source": [
        "print(type('17'))\n",
        "print(type('3.2'))\n",
        "\n",
        "#They’re strings."
      ]
    },
    {
      "cell_type": "markdown",
      "metadata": {
        "id": "k9b7y7m_nPld"
      },
      "source": [
        "### Variables\n",
        "\n",
        "One of the most powerful features of a programming language is the ability to\n",
        "manipulate variables. A variable is a name that refers to a value.\n",
        "An assignment statement creates new variables and gives them values: You can think of variables as a bag to store books in it and that book can be replaced at any time"
      ]
    },
    {
      "cell_type": "code",
      "execution_count": null,
      "metadata": {
        "id": "CAwfDiQtQi9V"
      },
      "outputs": [],
      "source": [
        "number = 10\n",
        "number = 1.1"
      ]
    },
    {
      "cell_type": "code",
      "execution_count": null,
      "metadata": {
        "id": "RYhSB7p_nQoa",
        "outputId": "71399c2d-c85c-4f4c-d339-924843aa3e6c"
      },
      "outputs": [
        {
          "name": "stdout",
          "output_type": "stream",
          "text": [
            "And now for something completely different\n",
            "17\n",
            "3.141592653589793\n"
          ]
        }
      ],
      "source": [
        "message = 'And now for something completely different'\n",
        "n = 17\n",
        "pi = 3.1415926535897931\n",
        "# This example makes three assignments. The first assigns a string to a new variable\n",
        "# named message; the second assigns the integer 17 to n; the third assigns the\n",
        "# (approximate) value of π to pi.\n",
        "#To display the value of a variable, you can use a print statement:\n",
        "print(messageage)\n",
        "print(n)\n",
        "print(pi)"
      ]
    },
    {
      "cell_type": "markdown",
      "metadata": {
        "id": "VwRhso0QQ_bj"
      },
      "source": [
        "#### Examples"
      ]
    },
    {
      "cell_type": "code",
      "execution_count": null,
      "metadata": {
        "id": "SNJ5_DFRQ4B8",
        "outputId": "86df0cc6-6e3d-4f7e-c18b-da945068e749"
      },
      "outputs": [
        {
          "name": "stdout",
          "output_type": "stream",
          "text": [
            "apple.com\n"
          ]
        }
      ],
      "source": [
        "#Example 1: Declaring and assigning value to a variable\n",
        "\n",
        "website = \"apple.com\"\n",
        "print(website)"
      ]
    },
    {
      "cell_type": "code",
      "execution_count": null,
      "metadata": {
        "id": "QACgJpWCQ8G5",
        "outputId": "898c5293-84ee-4c34-ad8c-12cb287bf5f5"
      },
      "outputs": [
        {
          "name": "stdout",
          "output_type": "stream",
          "text": [
            "apple.com\n",
            "programiz.com\n"
          ]
        }
      ],
      "source": [
        "#Example 2: Changing the value of a variable\n",
        "\n",
        "website = \"apple.com\"\n",
        "print(website)\n",
        "\n",
        "# assigning a new value to website\n",
        "website = \"programiz.com\"\n",
        "\n",
        "print(website)"
      ]
    },
    {
      "cell_type": "code",
      "execution_count": null,
      "metadata": {
        "id": "YtqHSKfTRGC1",
        "outputId": "f40aaf95-72ce-4174-f2d0-82c39e49f4cd"
      },
      "outputs": [
        {
          "name": "stdout",
          "output_type": "stream",
          "text": [
            "5\n",
            "3.2\n",
            "Hello\n"
          ]
        }
      ],
      "source": [
        "#Example 3: Assigning multiple values to multiple variables\n",
        "\n",
        "a, b, c = 5, 3.2, \"Hello\"\n",
        "\n",
        "print (a)\n",
        "print (b)\n",
        "print (c)"
      ]
    },
    {
      "cell_type": "code",
      "execution_count": null,
      "metadata": {
        "id": "Ha70j7byRLlo",
        "outputId": "a0f076e8-fb50-452a-c64d-05ef57d93bc0"
      },
      "outputs": [
        {
          "name": "stdout",
          "output_type": "stream",
          "text": [
            "same\n",
            "same\n",
            "same\n"
          ]
        }
      ],
      "source": [
        "# If we want to assign the same value to multiple variables at once, we can do this as:\n",
        "\n",
        "x = y = z = \"same\"\n",
        "\n",
        "print (x)\n",
        "print (y)\n",
        "print (z)"
      ]
    },
    {
      "cell_type": "markdown",
      "metadata": {
        "id": "J0x1s1e-oCIx"
      },
      "source": [
        "### Variable names and keywords\n",
        "\n",
        "Programmers generally choose names for their variables that are meaningful and\n",
        "document what the variable is used for.\n",
        "\n",
        "Variable names can be arbitrarily long. They can contain both letters and numbers, but they cannot start with a number. It is legal to use uppercase letters, but it is a good idea to begin variable names with a lowercase letter (you’ll see why later).\n",
        "\n",
        "The underscore character **( _ )** can appear in a name. It is often used in names with multiple words, such as **`my_name`** or **`airspeed_of_unladen_swallow`**. \n",
        "\n",
        "Variable names can start with an underscore character, but we generally avoid doing this unless we are writing library code for others to use.\n",
        "If you give a variable an illegal name, you get a syntax error:"
      ]
    },
    {
      "cell_type": "code",
      "execution_count": null,
      "metadata": {
        "id": "4myWRbAvoblK",
        "outputId": "226910d3-cdb0-45c2-b05b-8d1ecf633664"
      },
      "outputs": [
        {
          "ename": "SyntaxError",
          "evalue": "invalid syntax (Temp/ipykernel_8396/3125978142.py, line 5)",
          "output_type": "error",
          "traceback": [
            "\u001b[1;36m  File \u001b[1;32m\"C:\\Users\\Billal\\AppData\\Local\\Temp/ipykernel_8396/3125978142.py\"\u001b[1;36m, line \u001b[1;32m5\u001b[0m\n\u001b[1;33m    76trombones = 'big parade'\u001b[0m\n\u001b[1;37m      ^\u001b[0m\n\u001b[1;31mSyntaxError\u001b[0m\u001b[1;31m:\u001b[0m invalid syntax\n"
          ]
        }
      ],
      "source": [
        "# If you give a variable an illegal name, you get a syntax error:\n",
        "\n",
        "# Illegal variable names\n",
        "\n",
        "76trombones = 'big parade'\n",
        "more@ = 1000000\n",
        "class = 'Advanced Theoretical Zymurgy'\n",
        "\n",
        "\n",
        "# It turns out that class is one of Python’s keywords. The interpreter uses keywords\n",
        "# to recognize the structure of the program, and they cannot be used as variable\n",
        "# names."
      ]
    },
    {
      "cell_type": "markdown",
      "metadata": {
        "id": "-w3xLLw0o9T5"
      },
      "source": [
        "**Python reserves 35 keywords:**\n",
        "\n",
        "`and del from None True`\n",
        "\n",
        "`as elif global nonlocal try`\n",
        "\n",
        "`assert else if not while`\n",
        "\n",
        "`break except import or with`\n",
        "\n",
        "`class False in pass yield`\n",
        "\n",
        "`continue finally is raise async`\n",
        "\n",
        "`def for lambda return await`\n",
        "\n"
      ]
    },
    {
      "cell_type": "markdown",
      "metadata": {
        "id": "cHV3KE1mRn_x"
      },
      "source": [
        "### Type Conversion\n",
        "\n",
        "The process of converting the value of one data type (integer, string, float, etc.) to another data type is called type conversion. Python has two types of type conversion.\n",
        "\n",
        "1. Implicit Type Conversion\n",
        "2. Explicit Type Conversion\n",
        "\n",
        "**Implicit Type Conversion**\n",
        "\n",
        "In Implicit type conversion, Python automatically converts one data type to another data type. This process doesn't need any user involvement.\n",
        "\n",
        "Let's see an example where Python promotes the conversion of the lower data type (integer) to the higher data type (float) to avoid data loss."
      ]
    },
    {
      "cell_type": "code",
      "execution_count": null,
      "metadata": {
        "id": "CIWdi8oOwLsE",
        "outputId": "f5455fcc-ea48-46ab-d4d8-c88304230e0b"
      },
      "outputs": [
        {
          "data": {
            "text/plain": [
              "str"
            ]
          },
          "execution_count": 21,
          "metadata": {},
          "output_type": "execute_result"
        }
      ],
      "source": [
        "type(\"ABC\")"
      ]
    },
    {
      "cell_type": "code",
      "execution_count": null,
      "metadata": {
        "id": "_kRk5tXgSDxo",
        "outputId": "90b30914-7cf7-4c57-9e10-f811837da5c1"
      },
      "outputs": [
        {
          "name": "stdout",
          "output_type": "stream",
          "text": [
            "datatype of num_int: <class 'int'>\n",
            "datatype of num_flo: <class 'float'>\n",
            "Value of num_new: 124.23\n",
            "datatype of num_new: <class 'float'>\n"
          ]
        }
      ],
      "source": [
        "# Example 1: Converting integer to float\n",
        "\n",
        "num_int = 123\n",
        "num_flo = 1.23\n",
        "\n",
        "num_new = num_int + num_flo\n",
        "\n",
        "print(\"datatype of num_int:\",type(num_int))\n",
        "print(\"datatype of num_flo:\",type(num_flo))\n",
        "\n",
        "print(\"Value of num_new:\",num_new)\n",
        "print(\"datatype of num_new:\",type(num_new))"
      ]
    },
    {
      "cell_type": "code",
      "execution_count": null,
      "metadata": {
        "id": "H-nZfdOhSAs_",
        "outputId": "5c438a27-9024-4ce4-946b-6d037fad59ec"
      },
      "outputs": [
        {
          "name": "stdout",
          "output_type": "stream",
          "text": [
            "Data type of num_int: <class 'int'>\n",
            "Data type of num_str: <class 'str'>\n"
          ]
        },
        {
          "ename": "TypeError",
          "evalue": "unsupported operand type(s) for +: 'int' and 'str'",
          "output_type": "error",
          "traceback": [
            "\u001b[1;31m---------------------------------------------------------------------------\u001b[0m",
            "\u001b[1;31mTypeError\u001b[0m                                 Traceback (most recent call last)",
            "\u001b[1;32m~\\AppData\\Local\\Temp/ipykernel_8396/1116746938.py\u001b[0m in \u001b[0;36m<module>\u001b[1;34m\u001b[0m\n\u001b[0;32m      7\u001b[0m \u001b[0mprint\u001b[0m\u001b[1;33m(\u001b[0m\u001b[1;34m\"Data type of num_str:\"\u001b[0m\u001b[1;33m,\u001b[0m\u001b[0mtype\u001b[0m\u001b[1;33m(\u001b[0m\u001b[0mnum_str\u001b[0m\u001b[1;33m)\u001b[0m\u001b[1;33m)\u001b[0m\u001b[1;33m\u001b[0m\u001b[1;33m\u001b[0m\u001b[0m\n\u001b[0;32m      8\u001b[0m \u001b[1;33m\u001b[0m\u001b[0m\n\u001b[1;32m----> 9\u001b[1;33m \u001b[0mprint\u001b[0m\u001b[1;33m(\u001b[0m\u001b[0mnum_int\u001b[0m\u001b[1;33m+\u001b[0m\u001b[0mnum_str\u001b[0m\u001b[1;33m)\u001b[0m\u001b[1;33m\u001b[0m\u001b[1;33m\u001b[0m\u001b[0m\n\u001b[0m",
            "\u001b[1;31mTypeError\u001b[0m: unsupported operand type(s) for +: 'int' and 'str'"
          ]
        }
      ],
      "source": [
        "# Example 2: Addition of string(higher) data type and integer(lower) datatype\n",
        "\n",
        "num_int = 123\n",
        "num_str = \"456\"\n",
        "\n",
        "print(\"Data type of num_int:\",type(num_int))\n",
        "print(\"Data type of num_str:\",type(num_str))\n",
        "\n",
        "print(num_int+num_str)"
      ]
    },
    {
      "cell_type": "markdown",
      "metadata": {
        "id": "dKkOimlBSZfI"
      },
      "source": [
        "**Explicit Type Conversion**\n",
        "\n",
        "In Explicit Type Conversion, users convert the data type of an object to required data type. We use the predefined functions like **`int()`**, **`float()`**, **`str()`**, etc to perform explicit type conversion.\n",
        "\n",
        "This type of conversion is also called ***typecasting*** because the user casts (changes) the data type of the objects."
      ]
    },
    {
      "cell_type": "code",
      "execution_count": null,
      "metadata": {
        "id": "L5VaS7oYSbo6",
        "outputId": "9c6e8c5a-2396-4b31-ef18-a5bb4909a78f"
      },
      "outputs": [
        {
          "name": "stdout",
          "output_type": "stream",
          "text": [
            "Data type of num_int: <class 'int'>\n",
            "Data type of num_str before Type Casting: <class 'str'>\n",
            "Data type of num_str after Type Casting: <class 'int'>\n",
            "Sum of num_int and num_str: 579\n",
            "Data type of the sum: <class 'int'>\n"
          ]
        }
      ],
      "source": [
        "#Example 3: Addition of string and integer using explicit conversion\n",
        "\n",
        "num_int = 123\n",
        "num_str = \"456\"\n",
        "\n",
        "print(\"Data type of num_int:\", type(num_int))\n",
        "print(\"Data type of num_str before Type Casting:\", type(num_str))\n",
        "\n",
        "num_str = int(num_str)\n",
        "print(\"Data type of num_str after Type Casting:\", type(num_str))\n",
        "\n",
        "num_sum = num_int + num_str\n",
        "\n",
        "print(\"Sum of num_int and num_str:\",num_sum)\n",
        "print(\"Data type of the sum:\",type(num_sum))"
      ]
    },
    {
      "cell_type": "markdown",
      "metadata": {
        "id": "aWKaq_nzp0WW"
      },
      "source": [
        "### Statement\n",
        "\n",
        "A statement is a unit of code that the Python interpreter can execute. We have\n",
        "seen two kinds of statements: print being an expression statement and assignment.\n",
        "When you type a statement in interactive mode, the interpreter executes it and\n",
        "displays the result, if there is one."
      ]
    },
    {
      "cell_type": "code",
      "execution_count": null,
      "metadata": {
        "id": "DIxB7f4Eo9Bn",
        "outputId": "5d2f023d-0696-419a-d284-064e95c1fdf9"
      },
      "outputs": [
        {
          "name": "stdout",
          "output_type": "stream",
          "text": [
            "1\n",
            "2\n"
          ]
        }
      ],
      "source": [
        "print(1)\n",
        "x = 2\n",
        "print(x)"
      ]
    },
    {
      "cell_type": "markdown",
      "metadata": {
        "id": "ycuFa0JVqY_B"
      },
      "source": [
        "**Operators and operands**\n",
        "\n",
        "Operators are special symbols that represent computations like addition and multiplication. The values the operator is applied to are called operands.\n",
        "The operators `+, -, *, /, and **` perform addition, subtraction, multiplication,\n",
        "division, and exponentiation, as in the following examples:"
      ]
    },
    {
      "cell_type": "code",
      "execution_count": null,
      "metadata": {
        "id": "zO7hqgahqwCo",
        "outputId": "1b72d101-ded9-48df-976c-6157cb898ab8"
      },
      "outputs": [
        {
          "data": {
            "text/plain": [
              "0.9833333333333333"
            ]
          },
          "execution_count": 23,
          "metadata": {},
          "output_type": "execute_result"
        }
      ],
      "source": [
        "20+32\n",
        "5**2\n",
        "(5+9)*(15-7)\n",
        "minute = 59\n",
        "minute/60"
      ]
    },
    {
      "cell_type": "code",
      "execution_count": null,
      "metadata": {
        "id": "urp5S3raUjgU",
        "outputId": "bfd5f3d9-9ac6-489b-ebf6-0012a3331eee"
      },
      "outputs": [
        {
          "name": "stdout",
          "output_type": "stream",
          "text": [
            "x + y = 19\n",
            "x - y = 11\n",
            "x * y = 60\n",
            "x / y = 3.75\n",
            "x // y = 3\n",
            "x ** y = 50625\n"
          ]
        }
      ],
      "source": [
        "#  Example 1: Arithmetic operators in Python\n",
        "x = 15\n",
        "y = 4\n",
        "\n",
        "# Output: x + y = 19\n",
        "print('x + y =',x+y)\n",
        "\n",
        "# Output: x - y = 11\n",
        "print('x - y =',x-y)\n",
        "\n",
        "# Output: x * y = 60\n",
        "print('x * y =',x*y)\n",
        "\n",
        "# Output: x / y = 3.75\n",
        "print('x / y =',x/y)\n",
        "\n",
        "# Output: x // y = 3\n",
        "print('x // y =',x//y)\n",
        "\n",
        "# Output: x ** y = 50625\n",
        "print('x ** y =',x**y)"
      ]
    },
    {
      "cell_type": "markdown",
      "metadata": {
        "id": "ewwq9pBTrMnk"
      },
      "source": [
        "**Expressions**\n",
        "\n",
        "An expression is a combination of values, variables, and operators. A value all by itself is considered an expression, and so is a variable, so the following are all legal expressions (assuming that the variable x has been assigned a value)"
      ]
    },
    {
      "cell_type": "code",
      "execution_count": null,
      "metadata": {
        "id": "G2ljMIhPq3h_",
        "outputId": "eb9f2073-4aa8-41a0-e877-fc8c52a0b5e2"
      },
      "outputs": [
        {
          "data": {
            "text/plain": [
              "6"
            ]
          },
          "execution_count": 25,
          "metadata": {},
          "output_type": "execute_result"
        }
      ],
      "source": [
        "5\n",
        "x = 5\n",
        "x + 1"
      ]
    },
    {
      "cell_type": "code",
      "execution_count": null,
      "metadata": {
        "id": "fCtqHBNXreBl",
        "outputId": "b6daf124-0ed8-4b87-dba8-90785b311b42"
      },
      "outputs": [
        {
          "name": "stdout",
          "output_type": "stream",
          "text": [
            "2\n",
            "1\n"
          ]
        }
      ],
      "source": [
        "quotient = 7 // 3\n",
        "print(quotient)\n",
        "\n",
        "remainder = 7 % 3\n",
        "print(remainder)\n"
      ]
    },
    {
      "cell_type": "markdown",
      "metadata": {
        "id": "3E8qOM2asArS"
      },
      "source": [
        "**String operations**\n",
        "\n",
        "The `+` operator works with strings, but it is not addition in the mathematical sense.\n",
        "Instead it performs **concatenation**, which means joining the strings by linking them\n",
        "end to end. For example:"
      ]
    },
    {
      "cell_type": "code",
      "execution_count": null,
      "metadata": {
        "id": "w8O8Ds8ssJod",
        "outputId": "50bac4c7-9446-4f9c-9200-9e35501fa280"
      },
      "outputs": [
        {
          "name": "stdout",
          "output_type": "stream",
          "text": [
            "25\n",
            "100150\n"
          ]
        }
      ],
      "source": [
        "first = 10\n",
        "second = 15\n",
        "print(first+second)\n",
        "\n",
        "############\n",
        "first = '100'\n",
        "second = '150'\n",
        "print(first + second)"
      ]
    },
    {
      "cell_type": "code",
      "execution_count": null,
      "metadata": {
        "id": "tlQNH5FMyuf1",
        "outputId": "3bf1c9d3-61aa-4a0d-a451-ff7d97b47990"
      },
      "outputs": [
        {
          "data": {
            "text/plain": [
              "'Try Catch'"
            ]
          },
          "execution_count": 28,
          "metadata": {},
          "output_type": "execute_result"
        }
      ],
      "source": [
        "a = \"Try\"\n",
        "b = \"Catch\"\n",
        "\n",
        "a+' '+b"
      ]
    },
    {
      "cell_type": "markdown",
      "metadata": {
        "id": "qSFIP6bvtO1h"
      },
      "source": [
        "The `*` operator also works with strings by multiplying the content of a string by an integer. For example:\n"
      ]
    },
    {
      "cell_type": "code",
      "execution_count": null,
      "metadata": {
        "id": "xaKWXKF8tQln",
        "outputId": "3d3147c3-0c83-4cb1-fbcf-b12d920c1d17"
      },
      "outputs": [
        {
          "name": "stdout",
          "output_type": "stream",
          "text": [
            "Test Test Test \n"
          ]
        }
      ],
      "source": [
        "first = 'Test '\n",
        "second = 3\n",
        "print(first * second)"
      ]
    },
    {
      "cell_type": "markdown",
      "metadata": {
        "id": "ulbz0X43ttVg"
      },
      "source": [
        "### Asking the user for input\n",
        "\n",
        "Sometimes we would like to take the value for a variable from the user via their\n",
        "keyboard. Python provides a built-in function called **`input`** that gets input from the keyboard\n"
      ]
    },
    {
      "cell_type": "code",
      "execution_count": null,
      "metadata": {
        "colab": {
          "base_uri": "https://localhost:8080/"
        },
        "id": "ZeyxcP0PuJeW",
        "outputId": "ad280a44-e78a-4b01-a3ef-c54c75367bbf"
      },
      "outputs": [
        {
          "name": "stdout",
          "output_type": "stream",
          "text": [
            "Enter a value afef asf\n",
            "afef asf\n",
            "<class 'str'>\n"
          ]
        }
      ],
      "source": [
        "inp = input(\"Enter a value \")\n",
        "print(inp)\n",
        "print(type(inp))"
      ]
    },
    {
      "cell_type": "markdown",
      "metadata": {
        "id": "GVwjqoW6TVFs"
      },
      "source": [
        "### Output formatting\n",
        "\n",
        "Sometimes we would like to format our output to make it look attractive. This can be done by using the **`str.format()`** method. This method is visible to any string object."
      ]
    },
    {
      "cell_type": "code",
      "execution_count": null,
      "metadata": {
        "colab": {
          "base_uri": "https://localhost:8080/"
        },
        "id": "dFzEtBjQTNqd",
        "outputId": "fa4f0959-117e-428f-b158-6ec36b3b1700"
      },
      "outputs": [
        {
          "name": "stdout",
          "output_type": "stream",
          "text": [
            "The value of x is 5 and y is 10\n"
          ]
        }
      ],
      "source": [
        "# one way\n",
        "x = 5 \n",
        "y = 10\n",
        "print('The value of x is {} and y is {}'.format(x,y))\n",
        "\n",
        "#Here, the curly braces {} are used as placeholders. "
      ]
    },
    {
      "cell_type": "code",
      "execution_count": null,
      "metadata": {
        "colab": {
          "base_uri": "https://localhost:8080/"
        },
        "id": "jXNSK81X0xlL",
        "outputId": "ea80396c-76ac-4efc-e5ee-8a35fcc0dd22"
      },
      "outputs": [
        {
          "name": "stdout",
          "output_type": "stream",
          "text": [
            "The value of x is 5 and y is 10\n"
          ]
        }
      ],
      "source": [
        "# second way\n",
        "x = 5 \n",
        "y = 10\n",
        "print(f'The value of x is {x} and y is {y}')"
      ]
    },
    {
      "cell_type": "code",
      "execution_count": null,
      "metadata": {
        "id": "HY96TFQlTniA",
        "outputId": "b0f07eea-b9c8-4208-b94d-86fc100a4b92"
      },
      "outputs": [
        {
          "name": "stdout",
          "output_type": "stream",
          "text": [
            "Hello John, Goodmorning\n"
          ]
        }
      ],
      "source": [
        "# We can even use keyword arguments to format the string.\n",
        "\n",
        "print('Hello {name}, {greeting}'.format(greeting = 'Goodmorning', name = 'John'))"
      ]
    },
    {
      "cell_type": "code",
      "execution_count": null,
      "metadata": {
        "colab": {
          "base_uri": "https://localhost:8080/"
        },
        "id": "dZ9jk7d11yUM",
        "outputId": "ae667688-8b87-43e1-c763-64b68660ee2d"
      },
      "outputs": [
        {
          "name": "stdout",
          "output_type": "stream",
          "text": [
            "The summation of 5,6, and 10 = 21\n"
          ]
        }
      ],
      "source": [
        "# test\n",
        "a = 5; b=6; c= 10\n",
        "\n",
        "print(f\"The summation of {a},{b}, and {c} =\",a+b+c)"
      ]
    },
    {
      "cell_type": "code",
      "execution_count": null,
      "metadata": {
        "id": "5B6oCi9-UACm",
        "outputId": "e8362266-4523-4283-c357-0a9119a1cd17"
      },
      "outputs": [
        {
          "name": "stdout",
          "output_type": "stream",
          "text": [
            "The value of x is A\n",
            "The value of x is 65.3457\n"
          ]
        }
      ],
      "source": [
        "# We can also format strings like the old sprintf() style used in C programming language. \n",
        "# We use the % operator to accomplish this\n",
        "x = 65.3456789\n",
        "print('The value of x is %c' %int(x))\n",
        "print('The value of x is %.4f' %x)\n"
      ]
    },
    {
      "cell_type": "code",
      "execution_count": null,
      "metadata": {
        "id": "ExfmhoLB20Zp",
        "outputId": "6edf3a8d-63a5-44fb-d39b-66a26ea7f044"
      },
      "outputs": [
        {
          "data": {
            "text/plain": [
              "65.3457"
            ]
          },
          "execution_count": 48,
          "metadata": {},
          "output_type": "execute_result"
        }
      ],
      "source": [
        "# round function\n",
        "round(x,4)"
      ]
    },
    {
      "cell_type": "code",
      "execution_count": null,
      "metadata": {
        "id": "OJ-n6LjQ4NCX",
        "outputId": "978f5684-bddc-45e0-d2a4-4b52b5cc44a7"
      },
      "outputs": [
        {
          "data": {
            "text/plain": [
              "4.0"
            ]
          },
          "execution_count": 49,
          "metadata": {},
          "output_type": "execute_result"
        }
      ],
      "source": [
        "# Python math package \n",
        "from math import sqrt,pi\n",
        "sqrt(16)\n",
        "#pi"
      ]
    },
    {
      "cell_type": "markdown",
      "metadata": {
        "id": "HIk12T5avEDe"
      },
      "source": [
        "#Practice Excercises\n",
        "\n",
        "\n",
        "\n",
        "1.   Write a program that uses input to prompt a user for their name and then welcomes them.           \n",
        "```\n",
        "              Enter your name: Shakib\n",
        "              Hello Shakib\n",
        "```\n",
        "\n",
        "2.   Write a program to prompt the user for hours and rate per\n",
        "hour to compute gross pay.\n",
        "```\n",
        "          Enter Hours: 35\n",
        "          Enter Rate: 2.75\n",
        "          Pay : 96.25\n",
        "```\n",
        "\n",
        "3. Write a program which prompts the user for a Celsius temperature, convert the temperature to Fahrenheit, and print out the\n",
        "converted temperature.\n",
        "\n",
        "```\n",
        "          Enter Tempatature in Celsius: 35\n",
        "          Temparature in Farenheit: ???\n",
        "```\n",
        "4. Write a program which prompts the user for the height and width of a rectangle, calculate the area, diagonal, and perimeter.\n",
        "```\n",
        "          Enter Height: 5\n",
        "          Enter Width:  7\n",
        "          Area :  ??\n",
        "          Diagonal: ??\n",
        "          Perimeter: ??\n",
        "```\n",
        "5. Write a Python program to calculate the area of a trapezoid.\n",
        "```\n",
        "          Enter Height: 5\n",
        "          Enter base 1 value:  18\n",
        "          Enter base 2 value:  7\n",
        "          Area :  ??        \n",
        "```\n",
        "6. Write a Python program to calculate surface volume and area of a cylinder.\n",
        "```\n",
        "          Enter Height: 5\n",
        "          Enter radius:  10\n",
        "          Volume: ??\n",
        "          Area :  ??        \n",
        "```\n",
        "7. Write a Python program to calculate arc length of an angle and sector area of a circle.\n",
        "```\n",
        "          Enter Radius: 5\n",
        "          Enter Angle:  60\n",
        "          Arc Length: ??\n",
        "          Sector Area:  ??        \n",
        "```\n"
      ]
    },
    {
      "cell_type": "markdown",
      "metadata": {
        "id": "qrhyKZ3niosh"
      },
      "source": [
        "### References:\n",
        "1. [Programiz.com](https://www.programiz.com/python-programming/operators)\n",
        "2. [Python for Everybody-Coursera](https://www.coursera.org/learn/python)"
      ]
    }
  ],
  "metadata": {
    "colab": {
      "collapsed_sections": [],
      "name": "Session-1 (Python variables and expressions).ipynb",
      "provenance": [],
      "include_colab_link": true
    },
    "kernelspec": {
      "display_name": "Python 3 (ipykernel)",
      "language": "python",
      "name": "python3"
    },
    "language_info": {
      "codemirror_mode": {
        "name": "ipython",
        "version": 3
      },
      "file_extension": ".py",
      "mimetype": "text/x-python",
      "name": "python",
      "nbconvert_exporter": "python",
      "pygments_lexer": "ipython3",
      "version": "3.9.8"
    }
  },
  "nbformat": 4,
  "nbformat_minor": 0
}