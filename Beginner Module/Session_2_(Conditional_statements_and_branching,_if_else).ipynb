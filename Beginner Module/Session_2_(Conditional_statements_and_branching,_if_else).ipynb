{
  "cells": [
    {
      "cell_type": "markdown",
      "metadata": {
        "id": "view-in-github",
        "colab_type": "text"
      },
      "source": [
        "<a href=\"https://colab.research.google.com/github/eftekhar-hossain/SKBI_Training/blob/main/Session_2_(Conditional_statements_and_branching%2C_if_else).ipynb\" target=\"_parent\"><img src=\"https://colab.research.google.com/assets/colab-badge.svg\" alt=\"Open In Colab\"/></a>"
      ]
    },
    {
      "cell_type": "markdown",
      "metadata": {
        "id": "AimIIz-hjMkj"
      },
      "source": [
        "<center> <h1> <u> <font color='red'> Training on AI and ML with Python </font> </u> </h1> </center>"
      ]
    },
    {
      "cell_type": "markdown",
      "metadata": {
        "id": "C-BUBBYTWTYU"
      },
      "source": [
        "# Session-2: Conditional statements and branching, if-else\n",
        "\n",
        "\n",
        "### Objective: \n",
        " 1. *Get familiar with the Python conditional statements and different conditional operators.*\n",
        " 2. *Write Programs using python if else statements.*"
      ]
    },
    {
      "cell_type": "markdown",
      "metadata": {
        "id": "bTxPRxiz7iKO"
      },
      "source": [
        "### **Boolean expressions**\n",
        "\n",
        "A boolean expression is an expression that is either **`true`** or **`false`**. The following\n",
        "examples use the operator **`==`**, which compares two operands and produces **`True`** if\n",
        "they are equal and **`False`** otherwise:"
      ]
    },
    {
      "cell_type": "code",
      "execution_count": null,
      "metadata": {
        "colab": {
          "base_uri": "https://localhost:8080/"
        },
        "id": "10NiK60777-X",
        "outputId": "e87f823b-f3a0-41a4-a495-b01494e0736a"
      },
      "outputs": [
        {
          "name": "stdout",
          "output_type": "stream",
          "text": [
            "True\n",
            "False\n"
          ]
        }
      ],
      "source": [
        "print(5 == 5)\n",
        "#True\n",
        "print(5 == 6)\n",
        "#False"
      ]
    },
    {
      "cell_type": "code",
      "execution_count": null,
      "metadata": {
        "colab": {
          "base_uri": "https://localhost:8080/"
        },
        "id": "wOhqqd-I8FG3",
        "outputId": "43ea0e0c-ac8c-4d48-cf51-0e7bea7f7604"
      },
      "outputs": [
        {
          "name": "stdout",
          "output_type": "stream",
          "text": [
            "<class 'bool'>\n",
            "<class 'bool'>\n"
          ]
        }
      ],
      "source": [
        "#True and False are special values that belong to the class bool; they are not strings:\n",
        "print(type(True))\n",
        "print(type(False))"
      ]
    },
    {
      "cell_type": "markdown",
      "metadata": {
        "id": "gESC7fHijMlB"
      },
      "source": [
        "### Relational Operators"
      ]
    },
    {
      "cell_type": "code",
      "execution_count": null,
      "metadata": {
        "id": "_8mXcsVp8OHY",
        "outputId": "3ef9f07f-590d-4093-a6d9-ce89a12c4150"
      },
      "outputs": [
        {
          "data": {
            "text/plain": [
              "False"
            ]
          },
          "execution_count": 3,
          "metadata": {},
          "output_type": "execute_result"
        }
      ],
      "source": [
        "### The == operator is one of the comparison operators; the others are:\n",
        "x = y = 5\n",
        "x != y # x is not equal to y\n",
        "x > y # x is greater than y\n",
        "x < y # x is less than y\n",
        "x >= y # x is greater than or equal to y\n",
        "x <= y # x is less than or equal to y\n",
        "x is y # x is the same as y   ##    x==y\n",
        "x is not y # x is not the same as y x!=y"
      ]
    },
    {
      "cell_type": "code",
      "execution_count": null,
      "metadata": {
        "colab": {
          "base_uri": "https://localhost:8080/"
        },
        "id": "zfPv5wNrU4K6",
        "outputId": "df497e1c-eef4-459d-e5fe-d760ae72ed53"
      },
      "outputs": [
        {
          "name": "stdout",
          "output_type": "stream",
          "text": [
            "x > y is False\n",
            "x < y is True\n",
            "x == y is False\n",
            "x != y is True\n",
            "x >= y is False\n",
            "x <= y is True\n"
          ]
        }
      ],
      "source": [
        "# Example 2: Comparison operators in Python\n",
        "x = 10\n",
        "y = 12\n",
        "\n",
        "# Output: x > y is False\n",
        "print('x > y is', x>y)\n",
        "\n",
        "# Output: x < y is True\n",
        "print('x < y is', x<y)\n",
        "\n",
        "# Output: x == y is False\n",
        "print('x == y is', x==y)\n",
        "\n",
        "# Output: x != y is True\n",
        "print('x != y is', x!=y)\n",
        "\n",
        "# Output: x >= y is False\n",
        "print('x >= y is', x>=y)\n",
        "\n",
        "# Output: x <= y is True\n",
        "print('x <= y is', x<=y)"
      ]
    },
    {
      "cell_type": "markdown",
      "metadata": {
        "id": "8TCqzt0S88w0"
      },
      "source": [
        "### **Logical operators**\n",
        "\n",
        "There are three logical operators : **`and`**, **`or`**, and **`not`**. The semantics (meaning) of these operators is similar to their meaning in English. For example,\n",
        "\n",
        "**`x > 0 and x < 10`**\n",
        "\n",
        "is **true** only if x is greater than**` 0`** and less than **`10`**.\n",
        "\n",
        "**`n%2 == 0 or n%3 == 0 `**\n",
        "\n",
        "is **`true`** if either of the conditions is **`true`**, that is, if the\n",
        "number is divisible by 2 or 3.\n",
        "\n",
        "Finally, the **`not`** operator negates a boolean expression, so \n",
        "\n",
        "**`not (x > y) `**\n",
        "\n",
        "is **`true`** if **`x > y`** is **`false`**; that is, if x is less than or equal to y.\n"
      ]
    },
    {
      "cell_type": "code",
      "execution_count": null,
      "metadata": {
        "colab": {
          "base_uri": "https://localhost:8080/"
        },
        "id": "ZJIscZAvU-2-",
        "outputId": "4055b0d9-9332-4ffc-df7e-30994676e4f8"
      },
      "outputs": [
        {
          "name": "stdout",
          "output_type": "stream",
          "text": [
            "x and y is False\n",
            "x or y is True\n",
            "not x is False\n"
          ]
        }
      ],
      "source": [
        "# Example 3: Logical Operators in Python\n",
        "\n",
        "x = True\n",
        "y = False\n",
        "\n",
        "print('x and y is',x and y)\n",
        "\n",
        "print('x or y is',x or y)\n",
        "\n",
        "print('not x is',not x)"
      ]
    },
    {
      "cell_type": "markdown",
      "metadata": {
        "id": "CKJwwLoyVlhC"
      },
      "source": [
        "### **Membership operators**\n",
        "\n",
        "**`in`** and **`not in`** are the membership operators in Python. They are used to test whether a value or variable is found in a sequence"
      ]
    },
    {
      "cell_type": "code",
      "execution_count": null,
      "metadata": {
        "id": "1CJSXRZTVrOK",
        "outputId": "f6a41769-a983-434c-d5d2-3449b1a1e98d"
      },
      "outputs": [
        {
          "name": "stdout",
          "output_type": "stream",
          "text": [
            "True\n",
            "True\n"
          ]
        }
      ],
      "source": [
        "# Example 5: Membership operators in Python\n",
        "\n",
        "x = 'Hello world'\n",
        "\n",
        "# Output: True\n",
        "print('H' in x)\n",
        "\n",
        "# Output: True\n",
        "print('hello' not in x)\n"
      ]
    },
    {
      "cell_type": "markdown",
      "metadata": {
        "id": "icaXARUEBBml"
      },
      "source": [
        "## **Conditional execution**\n",
        "\n",
        "In order to write useful programs, we almost always need the ability to check conditions and change the behavior of the program accordingly. **`Conditional statements`** give us this ability. The simplest form is the if statement:"
      ]
    },
    {
      "cell_type": "code",
      "execution_count": null,
      "metadata": {
        "id": "FRnBAl8U_Eco",
        "outputId": "848da906-ba1c-487e-841e-8e56d325b51e"
      },
      "outputs": [
        {
          "name": "stdout",
          "output_type": "stream",
          "text": [
            "x is positive\n"
          ]
        }
      ],
      "source": [
        "x = 1\n",
        "if x > 0 :\n",
        "  print('x is positive')"
      ]
    },
    {
      "cell_type": "markdown",
      "metadata": {
        "id": "YdwD_ddDBgqT"
      },
      "source": [
        "The boolean expression after the **`if`** statement is called the ***condition***. We end the **`if`** statement with a ***colon character (:)*** and the line(s) after the if statement are ***indented***. If the logical condition is **`true`**, then the indented statement gets executed. If the\n",
        "logical condition is **`false`**, the indented statement is skipped.\n",
        "\n",
        "### **Alternative execution**\n",
        "\n",
        "A second form of the **`if`** statement is ***alternative execution***, in which there are two possibilities and the condition determines which one gets executed. The syntax looks like this:\n",
        "\n"
      ]
    },
    {
      "cell_type": "code",
      "execution_count": null,
      "metadata": {
        "id": "LN9kpfqtBwYx",
        "outputId": "162d1ebd-3698-4ec6-990c-9ea943fd6177"
      },
      "outputs": [
        {
          "name": "stdout",
          "output_type": "stream",
          "text": [
            "x is odd\n"
          ]
        }
      ],
      "source": [
        "x = 7\n",
        "if x%2 == 0:\n",
        "  print('x is even')\n",
        "else :\n",
        "  print('x is odd')"
      ]
    },
    {
      "cell_type": "markdown",
      "metadata": {
        "id": "O1HTYodLDgtU"
      },
      "source": [
        "### **Chained conditionals**\n",
        "\n",
        "Sometimes there are more than two possibilities and we need more than two\n",
        "branches. One way to express a computation like that is a ***chained conditional*** :"
      ]
    },
    {
      "cell_type": "code",
      "execution_count": null,
      "metadata": {
        "colab": {
          "base_uri": "https://localhost:8080/"
        },
        "id": "NO0qc0OdDma0",
        "outputId": "cf05242d-9fa7-4a1f-b206-bf858db9f135"
      },
      "outputs": [
        {
          "name": "stdout",
          "output_type": "stream",
          "text": [
            "x is less than y\n"
          ]
        }
      ],
      "source": [
        "x = 10\n",
        "y = 15\n",
        "\n",
        "if x < y:\n",
        "  print('x is less than y')\n",
        "elif x > y:\n",
        "  print('x is greater than y')\n",
        "else:\n",
        "  print('x and y are equal')"
      ]
    },
    {
      "cell_type": "markdown",
      "metadata": {
        "id": "lWmCRqasD2YR"
      },
      "source": [
        "**`elif`** is an abbreviation of **`“else if”`** Again, exactly one branch will be executed.\n",
        "There is no limit on the number of **`elif`** statements. If there is an **`else`** clause, it\n",
        "has to be at the end, but there doesn’t have to be one."
      ]
    },
    {
      "cell_type": "code",
      "execution_count": null,
      "metadata": {
        "colab": {
          "base_uri": "https://localhost:8080/"
        },
        "id": "zLC7YhFBEEYB",
        "outputId": "fa457196-d818-4c38-e1d9-b1910fa10c94"
      },
      "outputs": [
        {
          "name": "stdout",
          "output_type": "stream",
          "text": [
            "Enter your Choice: a\n",
            "Bad guess\n"
          ]
        }
      ],
      "source": [
        "choice = input(\"Enter your Choice: \")\n",
        "\n",
        "if choice == 'a':\n",
        "  print('Bad guess')\n",
        "elif choice == 'b':\n",
        "  print('Good guess')\n",
        "elif choice == 'c':\n",
        "  print('Close, but not correct')"
      ]
    },
    {
      "cell_type": "markdown",
      "metadata": {
        "id": "VPRCR47nFS_C"
      },
      "source": [
        "### **Nested conditionals**\n",
        "\n",
        "One conditional can also be nested within another. We could have written the\n",
        "three-branch example like this:\n"
      ]
    },
    {
      "cell_type": "code",
      "execution_count": null,
      "metadata": {
        "id": "qIVdyt8VFVFo",
        "outputId": "2938cdf0-aa23-4a52-ef2e-f016d2538f2e"
      },
      "outputs": [
        {
          "name": "stdout",
          "output_type": "stream",
          "text": [
            "x is greater than y\n"
          ]
        }
      ],
      "source": [
        "if x == y:\n",
        "  print('x and y are equal')\n",
        "else:\n",
        "  if x < y:\n",
        "    print('x is less than y')\n",
        "  else:\n",
        "    print('x is greater than y')"
      ]
    },
    {
      "cell_type": "markdown",
      "metadata": {
        "id": "Fl9Bf4tCFahN"
      },
      "source": [
        "The outer conditional contains two branches. The first branch contains a simple\n",
        "statement. The second branch contains another **`if`** statement, which has two\n",
        "branches of its own. Those two branches are both simple statements, although\n",
        "they could have been conditional statements as well."
      ]
    },
    {
      "cell_type": "markdown",
      "metadata": {
        "id": "7ZoEPCyhKzow"
      },
      "source": [
        "#Examples"
      ]
    },
    {
      "cell_type": "code",
      "execution_count": null,
      "metadata": {
        "id": "-AD1FWh9K1mf",
        "outputId": "15242a8a-4c59-496c-b989-b77172793840"
      },
      "outputs": [
        {
          "name": "stdout",
          "output_type": "stream",
          "text": [
            "3 is a positive number.\n",
            "This is always printed.\n",
            "This is also always printed.\n"
          ]
        }
      ],
      "source": [
        "# Example-01  (if statement)\n",
        "'''\n",
        "Write a program to check if a number is positive , we print an appropriate message\n",
        "'''\n",
        "\n",
        "num = 3\n",
        "if num > 0:\n",
        "    print(num, \"is a positive number.\")\n",
        "print(\"This is always printed.\")\n",
        "\n",
        "num = -1\n",
        "if num > 0:\n",
        "    print(num, \"is a positive number.\")\n",
        "print(\"This is also always printed.\")"
      ]
    },
    {
      "cell_type": "code",
      "execution_count": null,
      "metadata": {
        "id": "UdwamBrjLMkt",
        "outputId": "9d681e5a-4171-4218-9405-d4b41db2c3c5"
      },
      "outputs": [
        {
          "name": "stdout",
          "output_type": "stream",
          "text": [
            "Positive or Zero\n"
          ]
        }
      ],
      "source": [
        "# Example-02 (if--else statement)\n",
        "'''\n",
        "Program checks if the number is positive or negative\n",
        "And displays an appropriate message\n",
        "'''\n",
        "num = 3\n",
        "\n",
        "# Try these two variations as well. \n",
        "# num = -5\n",
        "# num = 0\n",
        "\n",
        "if num >= 0:\n",
        "    print(\"Positive or Zero\")\n",
        "else:\n",
        "    print(\"Negative number\")"
      ]
    },
    {
      "cell_type": "code",
      "execution_count": null,
      "metadata": {
        "id": "P2_ysVkFLe2d"
      },
      "outputs": [],
      "source": [
        "'''\n",
        "In this program, we check if the number is positive or\n",
        "negative or zero and display an appropriate message\n",
        "'''\n",
        "\n",
        "num = 3.4\n",
        "\n",
        "# Try these two variations as well:\n",
        "# num = 0\n",
        "# num = -4.5\n",
        "\n",
        "if num > 0:\n",
        "    print(\"Positive number\")\n",
        "elif num == 0:\n",
        "    print(\"Zero\")\n",
        "else:\n",
        "    print(\"Negative number\")"
      ]
    },
    {
      "cell_type": "markdown",
      "metadata": {
        "id": "thgufqabF0gp"
      },
      "source": [
        "### Practice Excercises\n",
        "\n",
        "1. Write a program to prompt the user for hours and rate per\n",
        "hour to compute gross pay. However, the employee who worked above 40 hours give them 1.5 times the hourly rate for individual hours.   \n",
        "```\n",
        "          Enter Hours: 45\n",
        "          Enter Rate: 10\n",
        "          Pay: 475.0\n",
        "```\n",
        "\n",
        "2. Write a program to prompt for a score between `0.0` and `1.0`. If the score is out of range, print an error message. If the score is\n",
        "between `0.0` and `1.0`, print a grade using the following table:\n",
        "```\n",
        "Score Grade\n",
        ">= 0.9 A\n",
        ">= 0.8 B\n",
        ">= 0.7 C\n",
        ">= 0.6 D\n",
        "< 0.6  F\n",
        "```\n",
        "```\n",
        "          Enter score: 0.95\n",
        "          A\n",
        "          Enter score: perfect\n",
        "          Bad score\n",
        "          Enter score: 10.0\n",
        "          Bad score\n",
        "          Enter score: 0.75\n",
        "          C\n",
        "          Enter score: 0.5\n",
        "          F\n",
        "```\n",
        "3. A company decided to give bonus of 5% to employee if his/her year of service is more than 5 years. Ask user for their salary and year of service and print the net bonus amount.\n",
        "\n",
        "\n",
        "4. Take values of length and breadth of a rectangle from user and check if it is square or not..\n",
        "\n",
        "5. Take two int values from user and print greatest among them..\n",
        "\n",
        "6. A shop will give discount of 10% if the cost of purchased quantity is more than 1000. Ask user for quantity Suppose, one unit will cost 100. Judge and print total cost for user.\n",
        "\n",
        "\n",
        "7. A school has following rules for grading system:\n",
        "```\n",
        "a. Below 25 - F\n",
        "b. 25 to 45 - E\n",
        "c. 45 to 50 - D\n",
        "d. 50 to 60 - C\n",
        "e. 60 to 80 - B\n",
        "f. Above 80 - A\n",
        "```\n",
        "Ask user to enter marks and print the corresponding grade.\n",
        "\n",
        "\n",
        "8. Take input of age of 3 people by user and determine oldest and youngest among them.\n",
        "\n",
        "9. A student will not be allowed to sit in exam if his/her attendence is less than 75%.\n",
        "```\n",
        "Take following input from user\n",
        "Number of classes held\n",
        "Number of classes attended.\n",
        "```\n",
        "And print percentage of class attended.\n",
        "Is student is allowed to sit in exam or not.\n",
        "\n",
        "10. Modify the above question to allow student to sit if he/she has medical cause. Ask user if he/she has medical cause or not `('Y' or 'N')` and print accordingly.\n",
        "\n",
        "11. Sort three numbers in ascending and descending order using conditional statements.\n"
      ]
    },
    {
      "cell_type": "markdown",
      "metadata": {
        "id": "8S2gXlr9-CqC"
      },
      "source": [
        "### References:\n",
        "1. [Programiz.com](https://www.programiz.com/python-programming/operators)\n",
        "2. [Python for Everybody-Coursera](https://www.coursera.org/learn/python)"
      ]
    }
  ],
  "metadata": {
    "colab": {
      "collapsed_sections": [],
      "name": "Session-2 (Conditional statements and branching, if-else).ipynb",
      "provenance": [],
      "include_colab_link": true
    },
    "kernelspec": {
      "display_name": "Python 3 (ipykernel)",
      "language": "python",
      "name": "python3"
    },
    "language_info": {
      "codemirror_mode": {
        "name": "ipython",
        "version": 3
      },
      "file_extension": ".py",
      "mimetype": "text/x-python",
      "name": "python",
      "nbconvert_exporter": "python",
      "pygments_lexer": "ipython3",
      "version": "3.9.8"
    }
  },
  "nbformat": 4,
  "nbformat_minor": 0
}
