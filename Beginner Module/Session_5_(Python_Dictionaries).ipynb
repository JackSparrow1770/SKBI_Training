{
  "nbformat": 4,
  "nbformat_minor": 0,
  "metadata": {
    "colab": {
      "name": "Session-5 (Python Dictionaries).ipynb",
      "provenance": [],
      "collapsed_sections": [],
      "authorship_tag": "ABX9TyMZT2Z0dM4rZSRaLF7t4erG",
      "include_colab_link": true
    },
    "kernelspec": {
      "name": "python3",
      "display_name": "Python 3"
    },
    "language_info": {
      "name": "python"
    }
  },
  "cells": [
    {
      "cell_type": "markdown",
      "metadata": {
        "id": "view-in-github",
        "colab_type": "text"
      },
      "source": [
        "<a href=\"https://colab.research.google.com/github/eftekhar-hossain/SKBI_Training/blob/main/Session_5_(Python_Dictionaries).ipynb\" target=\"_parent\"><img src=\"https://colab.research.google.com/assets/colab-badge.svg\" alt=\"Open In Colab\"/></a>"
      ]
    },
    {
      "cell_type": "markdown",
      "source": [
        "<center> <h1> <u> <font color='red'> Training on AI and ML with Python </font> </u> </h1> </center>"
      ],
      "metadata": {
        "id": "VLSSGoFGeqnD"
      }
    },
    {
      "cell_type": "markdown",
      "metadata": {
        "id": "C-BUBBYTWTYU"
      },
      "source": [
        "#Session-5: Python Dictionaries \n",
        "\n",
        "\n",
        "> Objective: \n",
        " 1. *Get familiar with Python Dictionaries*\n",
        " 2. *Solving some advanced text analysis problems using it .*\n"
      ]
    },
    {
      "cell_type": "markdown",
      "metadata": {
        "id": "LiARA7Aj3y2Q"
      },
      "source": [
        "#Dictionaries\n",
        "\n",
        "A dictionary is like a list, but more general. In a list, the index positions have to be integers; in a dictionary, the indices can be (almost) any type.\n",
        "\n",
        "You can think of a dictionary as a mapping between a set of indices (which are\n",
        "**called keys**) and a **set of values**. Each key maps to a value. The association of a\n",
        "key and a value is called a **key-value pair** or sometimes an **item**."
      ]
    },
    {
      "cell_type": "markdown",
      "metadata": {
        "id": "YqmtOM4P4mJm"
      },
      "source": [
        "The function `dict` creates a new dictionary with no items. Because `dict` is the name of a built-in function, you should avoid using it as a variable name.\n",
        "\n",
        "\n",
        "\n"
      ]
    },
    {
      "cell_type": "code",
      "metadata": {
        "colab": {
          "base_uri": "https://localhost:8080/"
        },
        "id": "rwu0sAa731Ym",
        "outputId": "1deb9156-a42a-4818-fbfe-c15a37ae732a"
      },
      "source": [
        "eng2sp = dict()\n",
        "print(eng2sp)"
      ],
      "execution_count": null,
      "outputs": [
        {
          "output_type": "stream",
          "name": "stdout",
          "text": [
            "{}\n"
          ]
        }
      ]
    },
    {
      "cell_type": "markdown",
      "metadata": {
        "id": "DjrQuI2345eB"
      },
      "source": [
        "The curly brackets, `{}`, represent an empty dictionary. To add items to the dictionary, you can use **square brackets**:"
      ]
    },
    {
      "cell_type": "code",
      "metadata": {
        "colab": {
          "base_uri": "https://localhost:8080/"
        },
        "id": "bVfo_87U5BE1",
        "outputId": "9cb76ab3-1a3f-4c40-cc45-44d5cbee33ad"
      },
      "source": [
        "eng2sp['one'] = 'uno'\n",
        "print(eng2sp)\n",
        "#This line creates an item that maps from the key 'one' to the value “uno”."
      ],
      "execution_count": null,
      "outputs": [
        {
          "output_type": "stream",
          "name": "stdout",
          "text": [
            "{'one': 'uno'}\n"
          ]
        }
      ]
    },
    {
      "cell_type": "code",
      "metadata": {
        "id": "Ts7fYZDtFFzb",
        "colab": {
          "base_uri": "https://localhost:8080/"
        },
        "outputId": "62ba8a9a-7807-421f-b7a5-cd625d92546b"
      },
      "source": [
        "d = {\"M\":\"Mercuray\",\"P\":\"Planet\"}\n",
        "print(d)"
      ],
      "execution_count": null,
      "outputs": [
        {
          "output_type": "stream",
          "name": "stdout",
          "text": [
            "{'M': 'Mercuray', 'P': 'Planet'}\n"
          ]
        }
      ]
    },
    {
      "cell_type": "code",
      "metadata": {
        "colab": {
          "base_uri": "https://localhost:8080/"
        },
        "id": "GfIT3hzv5W9I",
        "outputId": "997f8dbc-69a1-42e9-d516-4ff94011be77"
      },
      "source": [
        "# you can create a new dictionary with three items.\n",
        "eng2sp = {'one': 'uno', 'two': 'dos', 'three': 'tres'}\n",
        "print(eng2sp)"
      ],
      "execution_count": null,
      "outputs": [
        {
          "output_type": "stream",
          "name": "stdout",
          "text": [
            "{'one': 'uno', 'two': 'dos', 'three': 'tres'}\n"
          ]
        }
      ]
    },
    {
      "cell_type": "code",
      "metadata": {
        "colab": {
          "base_uri": "https://localhost:8080/"
        },
        "id": "YQ5CJ3px6UxE",
        "outputId": "249b537e-aea0-452f-efd9-a19828f2994d"
      },
      "source": [
        "# you use the keys to look up the corresponding values\n",
        "print(eng2sp['two'])"
      ],
      "execution_count": null,
      "outputs": [
        {
          "output_type": "stream",
          "name": "stdout",
          "text": [
            "dos\n"
          ]
        }
      ]
    },
    {
      "cell_type": "code",
      "metadata": {
        "id": "pHZNwYuw6a9X",
        "colab": {
          "base_uri": "https://localhost:8080/"
        },
        "outputId": "0ae69edb-e8e0-4fa6-cfbd-2b4286beaf07"
      },
      "source": [
        "# The len function works on dictionaries; it returns the number of key-value pairs:\n",
        "len(eng2sp)"
      ],
      "execution_count": null,
      "outputs": [
        {
          "output_type": "execute_result",
          "data": {
            "text/plain": [
              "3"
            ]
          },
          "metadata": {},
          "execution_count": 6
        }
      ]
    },
    {
      "cell_type": "markdown",
      "metadata": {
        "id": "94uW4naq6rco"
      },
      "source": [
        "The `in` operator works on dictionaries; it tells you whether something appears as a `key` in the dictionary."
      ]
    },
    {
      "cell_type": "code",
      "metadata": {
        "colab": {
          "base_uri": "https://localhost:8080/"
        },
        "id": "_XlgVMJy601e",
        "outputId": "1a520774-80dd-4166-f93a-383c0b76f3ab"
      },
      "source": [
        "print('one' in eng2sp)\n",
        "print('uno' in eng2sp)"
      ],
      "execution_count": null,
      "outputs": [
        {
          "output_type": "stream",
          "name": "stdout",
          "text": [
            "True\n",
            "False\n"
          ]
        }
      ]
    },
    {
      "cell_type": "markdown",
      "metadata": {
        "id": "HkjcLCAf7QDc"
      },
      "source": [
        "To see whether something appears as a value in a dictionary, you can use the\n",
        "method **`values`**, which returns the values as a type that can be converted to a list, and then use the in operator:"
      ]
    },
    {
      "cell_type": "code",
      "source": [
        "# how to find all the keys of a dictionary\n",
        "\n",
        "key = list(eng2sp.keys())\n",
        "print(key)"
      ],
      "metadata": {
        "colab": {
          "base_uri": "https://localhost:8080/"
        },
        "id": "84yHuWbvfgVi",
        "outputId": "8b1226b8-4144-427f-f4c4-4f5dc5a2cc6c"
      },
      "execution_count": null,
      "outputs": [
        {
          "output_type": "stream",
          "name": "stdout",
          "text": [
            "['one', 'two', 'three']\n"
          ]
        }
      ]
    },
    {
      "cell_type": "code",
      "metadata": {
        "colab": {
          "base_uri": "https://localhost:8080/"
        },
        "id": "Pp7R9qMI7YDZ",
        "outputId": "3183eda1-f744-4496-f1c6-bfd5d39113b9"
      },
      "source": [
        "# how to find all the values of a dictionary\n",
        "vals = list(eng2sp.values())\n",
        "print(vals)\n",
        "print('uno' in vals)"
      ],
      "execution_count": null,
      "outputs": [
        {
          "output_type": "stream",
          "name": "stdout",
          "text": [
            "['uno', 'dos', 'tres']\n",
            "True\n"
          ]
        }
      ]
    },
    {
      "cell_type": "markdown",
      "metadata": {
        "id": "oi6St9ZJ8L6T"
      },
      "source": [
        "##Dictionary as a set of counters"
      ]
    },
    {
      "cell_type": "code",
      "metadata": {
        "id": "Bm40B0s48N8X",
        "colab": {
          "base_uri": "https://localhost:8080/"
        },
        "outputId": "2825ab95-b44f-4b5b-99a4-4ee309ce36aa"
      },
      "source": [
        "# Suppose you are given a string and you want to count how many times each letter appears.\n",
        "\n",
        "word = 'brontosaurus'\n",
        "d = dict()\n",
        "for c in word:\n",
        "  if c not in d:\n",
        "    d[c] = 1\n",
        "  else:\n",
        "    d[c] = d[c] + 1\n",
        "print(d)\n"
      ],
      "execution_count": null,
      "outputs": [
        {
          "output_type": "stream",
          "name": "stdout",
          "text": [
            "{'b': 1, 'r': 2, 'o': 2, 'n': 1, 't': 1, 's': 2, 'a': 1, 'u': 2}\n"
          ]
        }
      ]
    },
    {
      "cell_type": "markdown",
      "metadata": {
        "id": "F5oEoVqi87By"
      },
      "source": [
        "**We are effectively computing a histogram, which is a statistical term for a set of counters (or frequencies)**.The for loop traverses the string. Each time through the loop, if the character `c` is not in the dictionary, we create a new item with key` c `and the initial value `1` (since we have seen this letter once). If `c` is already in the dictionary we increment `d[c]`."
      ]
    },
    {
      "cell_type": "markdown",
      "metadata": {
        "id": "dTlu_JPL8L0X"
      },
      "source": [
        "Dictionaries have a method called **get** that takes a **`key`** and a default **`value`**. If the key appears in the dictionary, get returns the corresponding value; otherwise it returns the default value. For example:"
      ]
    },
    {
      "cell_type": "code",
      "metadata": {
        "colab": {
          "base_uri": "https://localhost:8080/"
        },
        "id": "HNzuSYL09ft_",
        "outputId": "6b0a7434-01f2-432c-808f-d88258df350f"
      },
      "source": [
        "counts = { 'liza' : 1 , 'annie' : 42, 'jan': 100}\n",
        "print(counts.get('jan', 0))\n",
        "print(counts.get('tim', 0))\n"
      ],
      "execution_count": null,
      "outputs": [
        {
          "output_type": "stream",
          "name": "stdout",
          "text": [
            "100\n",
            "0\n"
          ]
        }
      ]
    },
    {
      "cell_type": "markdown",
      "metadata": {
        "id": "I-jARsIR95qS"
      },
      "source": [
        "We can use **`get`** to write our histogram loop more concisely. Because the **`get`**\n",
        "method automatically handles the case where a` key `is not in a dictionary, we can\n",
        "reduce four lines down to one and eliminate the if statement."
      ]
    },
    {
      "cell_type": "code",
      "metadata": {
        "colab": {
          "base_uri": "https://localhost:8080/"
        },
        "id": "M-ULwWUT-B98",
        "outputId": "052e8ee9-6215-4062-f758-41221b71e31d"
      },
      "source": [
        "word = 'brontosaurus'\n",
        "d = dict()\n",
        "for c in word:\n",
        "  d[c] = d.get(c,0) + 1\n",
        "print(d)"
      ],
      "execution_count": null,
      "outputs": [
        {
          "output_type": "stream",
          "name": "stdout",
          "text": [
            "{'b': 1, 'r': 2, 'o': 2, 'n': 1, 't': 1, 's': 2, 'a': 1, 'u': 2}\n"
          ]
        }
      ]
    },
    {
      "cell_type": "markdown",
      "metadata": {
        "id": "9oiCx1Xj-Xaq"
      },
      "source": [
        "##Dictionaries and files"
      ]
    },
    {
      "cell_type": "code",
      "metadata": {
        "id": "-NaVFoqnC4l6"
      },
      "source": [
        "!wget https://www.py4e.com/code3/romeo.txt"
      ],
      "execution_count": null,
      "outputs": []
    },
    {
      "cell_type": "code",
      "metadata": {
        "id": "ycU2Rbf0UelV"
      },
      "source": [
        "!wget https://www.py4e.com/code3/romeo-full.txt"
      ],
      "execution_count": null,
      "outputs": []
    },
    {
      "cell_type": "markdown",
      "metadata": {
        "id": "s5DMMozUJ3qb"
      },
      "source": [
        "**One of the common uses of a dictionary is to count the occurrence of words in a file with some written text.**\n",
        "```\n",
        "But soft what light through yonder window breaks\n",
        "It is the east and Juliet is the sun\n",
        "Arise fair sun and kill the envious moon\n",
        "Who is already sick and pale with grief\n",
        "```\n",
        "We will write a Python program to read through the lines of the file, break each\n",
        "line into a list of words, and then loop through each of the words in the line and count each word using a dictionary.\n",
        "\n"
      ]
    },
    {
      "cell_type": "code",
      "metadata": {
        "id": "R3q8KukfKeHM"
      },
      "source": [
        "fname = input('Enter the file name: ')\n",
        "try:\n",
        "  fhand = open(fname)\n",
        "except:\n",
        "  print('File cannot be opened:', fname)\n",
        "  exit()\n",
        "\n",
        "# word-frequency  \n",
        "counts = dict()\n",
        "for line in fhand:\n",
        "  words = line.split()\n",
        "  for word in words:\n",
        "    if word not in counts:\n",
        "      counts[word] = 1\n",
        "    else:\n",
        "      counts[word] = counts[word]+ 1\n",
        "print(counts)"
      ],
      "execution_count": null,
      "outputs": []
    },
    {
      "cell_type": "markdown",
      "metadata": {
        "id": "1tkZ7H-6K3SJ"
      },
      "source": [
        "##Looping and dictionaries\n",
        "\n",
        "If you use a dictionary as the sequence in a for statement, it traverses the keys of the dictionary."
      ]
    },
    {
      "cell_type": "code",
      "metadata": {
        "id": "vBDoIpXIK4i1",
        "colab": {
          "base_uri": "https://localhost:8080/"
        },
        "outputId": "5ff12174-2b75-4bc9-ac0e-c8fb7ce497f1"
      },
      "source": [
        "counts = { 'it' : 1 , 'annie' : 42, 'jan': 100}\n",
        "for key in counts:\n",
        "  print(key, counts[key])\n",
        "\n",
        "#the keys are in no particular order.  "
      ],
      "execution_count": null,
      "outputs": [
        {
          "output_type": "stream",
          "name": "stdout",
          "text": [
            "it 1\n",
            "annie 42\n",
            "jan 100\n"
          ]
        }
      ]
    },
    {
      "cell_type": "code",
      "metadata": {
        "colab": {
          "base_uri": "https://localhost:8080/"
        },
        "id": "qbWzJiABL_zy",
        "outputId": "e718a309-217a-4dac-ed9e-7b636147a465"
      },
      "source": [
        "# if we wanted to find all the entries in a dictionary with a value above ten\n",
        "counts = { 'it' : 1 , 'annie' : 42, 'jan': 100}\n",
        "\n",
        "for key in counts:\n",
        "  if counts[key] > 10 :\n",
        "    print(key, counts[key])\n",
        "\n",
        "# The for loop iterates through the keys of the dictionary, \n",
        "# so we must use the index operator to retrieve the corresponding value for each key.    "
      ],
      "execution_count": null,
      "outputs": [
        {
          "output_type": "stream",
          "name": "stdout",
          "text": [
            "annie 42\n",
            "jan 100\n"
          ]
        }
      ]
    },
    {
      "cell_type": "markdown",
      "metadata": {
        "id": "v483fguhMR2A"
      },
      "source": [
        "If you want to print the keys in alphabetical order, you first make a list of the keys in the dictionary using the keys method available in dictionary objects, and then sort that list and loop through the sorted list, looking up each key and printing out key-value pairs in sorted order as follows:"
      ]
    },
    {
      "cell_type": "code",
      "metadata": {
        "id": "OuPNGzksMaKC",
        "colab": {
          "base_uri": "https://localhost:8080/"
        },
        "outputId": "536361f5-9adb-423e-c3af-35e377892107"
      },
      "source": [
        "counts = { 'it' : 1 , 'annie' : 42, 'jan': 100}\n",
        "lst = list(counts.keys())\n",
        "print(lst)\n",
        "lst.sort()\n",
        "print(\"Sorted---> \",lst)\n",
        "for key in lst:\n",
        "  print(key, counts[key])"
      ],
      "execution_count": null,
      "outputs": [
        {
          "output_type": "stream",
          "name": "stdout",
          "text": [
            "['it', 'annie', 'jan']\n",
            "Sorted--->  ['annie', 'it', 'jan']\n",
            "annie 42\n",
            "it 1\n",
            "jan 100\n"
          ]
        }
      ]
    },
    {
      "cell_type": "markdown",
      "metadata": {
        "id": "Qzv0aSkvOKuk"
      },
      "source": [
        "# Advanced Text Parsing"
      ]
    },
    {
      "cell_type": "code",
      "metadata": {
        "colab": {
          "base_uri": "https://localhost:8080/"
        },
        "id": "sSRePQ1vOOKk",
        "outputId": "f7d7b75e-d55a-49ca-cd9c-a696e69e9489"
      },
      "source": [
        "romeo = [\"But, soft! what light through yonder window breaks?\\nIt is the east, and Juliet is the sun.\\nArise, fair sun, and kill the envious moon,\\nWho is already sick and pale with grief,\"]\n",
        "for line in romeo:\n",
        "  print(line)"
      ],
      "execution_count": null,
      "outputs": [
        {
          "output_type": "stream",
          "name": "stdout",
          "text": [
            "But, soft! what light through yonder window breaks?\n",
            "It is the east, and Juliet is the sun.\n",
            "Arise, fair sun, and kill the envious moon,\n",
            "Who is already sick and pale with grief,\n"
          ]
        }
      ]
    },
    {
      "cell_type": "markdown",
      "metadata": {
        "id": "05i_PTvSP67H"
      },
      "source": [
        "Since the Python **split** function looks for spaces and treats words as tokens separated by spaces, we would treat the words “soft!” and “soft” as different words and create a separate dictionary entry for each word.\n",
        "Also since the file has capitalization, we would treat **“who”** and **“Who”** as different words with different counts.\n",
        "\n",
        "We can solve both these problems by using the string methods **`lower`**, **`punctuation`**, and **`translate`**. The translate is the most subtle of the methods. Here is the documentation for translate:\n",
        "\n",
        "**`line.translate(str.maketrans(fromstr, tostr, deletestr))`**\n",
        "\n",
        "Replace the characters in **fromstr** with the character in the same position in **tostr**\n",
        "and delete all characters that are in **deletestr**. The fromstr and tostr can be\n",
        "empty strings and the deletestr parameter can be omitted.\n",
        "We will not specify the tostr but we will use the deletestr parameter to delete\n",
        "all of the punctuation. We will even let Python tell us the list of characters that\n",
        "it considers “punctuation”:"
      ]
    },
    {
      "cell_type": "code",
      "metadata": {
        "colab": {
          "base_uri": "https://localhost:8080/",
          "height": 35
        },
        "id": "xE9vKxwQQCR9",
        "outputId": "3c60c5d7-7e90-4896-960b-44a4fe43f041"
      },
      "source": [
        "import string\n",
        "string.punctuation"
      ],
      "execution_count": null,
      "outputs": [
        {
          "output_type": "execute_result",
          "data": {
            "application/vnd.google.colaboratory.intrinsic+json": {
              "type": "string"
            },
            "text/plain": [
              "'!\"#$%&\\'()*+,-./:;<=>?@[\\\\]^_`{|}~'"
            ]
          },
          "metadata": {},
          "execution_count": 3
        }
      ]
    },
    {
      "cell_type": "code",
      "metadata": {
        "id": "OqLstZwZT2H_"
      },
      "source": [
        "fname = input('Enter the file name: ') ## romeo-full.txt\n",
        "try:\n",
        "  fhand = open(fname)\n",
        "except:\n",
        "  print('File cannot be opened:', fname)\n",
        "  exit()\n",
        "\n",
        "counts = dict()\n",
        "for line in fhand:\n",
        "  line = line.rstrip() \n",
        "  line = line.translate(line.maketrans('', '', string.punctuation)) # punctuation removal code\n",
        "  line = line.lower() # make lowercase \n",
        "  words = line.split()\n",
        "  for word in words:\n",
        "    if word not in counts:\n",
        "      counts[word] = 1\n",
        "    else:\n",
        "      counts[word] += 1\n",
        "print(counts)"
      ],
      "execution_count": null,
      "outputs": []
    },
    {
      "cell_type": "markdown",
      "metadata": {
        "id": "0wVzCGp0czsg"
      },
      "source": [
        "# Tuples are immutable\n",
        "\n",
        "Dictionaries have a method called **items** that returns a list of tuples, where each tuple is a key-value pair:"
      ]
    },
    {
      "cell_type": "code",
      "metadata": {
        "colab": {
          "base_uri": "https://localhost:8080/"
        },
        "id": "3znqClNpc1I6",
        "outputId": "4fbac7fe-2cb6-4cb3-b035-cc6756c3401e"
      },
      "source": [
        "d = {'a':10, 'b':1, 'c':22}\n",
        "t = list(d.items())\n",
        "print(t)"
      ],
      "execution_count": null,
      "outputs": [
        {
          "output_type": "stream",
          "name": "stdout",
          "text": [
            "[('a', 10), ('b', 1), ('c', 22)]\n"
          ]
        }
      ]
    },
    {
      "cell_type": "code",
      "metadata": {
        "colab": {
          "base_uri": "https://localhost:8080/"
        },
        "id": "RePGZ56qOuhr",
        "outputId": "850f693e-7ac2-4714-e9a9-216dca9f712c"
      },
      "source": [
        "for key,val in d.items():\n",
        "  print(key,val)"
      ],
      "execution_count": null,
      "outputs": [
        {
          "output_type": "stream",
          "name": "stdout",
          "text": [
            "a 10\n",
            "b 1\n",
            "c 22\n"
          ]
        }
      ]
    },
    {
      "cell_type": "markdown",
      "metadata": {
        "id": "EitHe0OZd4_8"
      },
      "source": [
        "As you should expect from a dictionary, the items are in no particular order.\n",
        "\n",
        "However, since the list of tuples is a list, and tuples are comparable, we can now sort the list of tuples. Converting a dictionary to a list of tuples is a way for us to output the contents of a dictionary sorted by key:"
      ]
    },
    {
      "cell_type": "code",
      "metadata": {
        "colab": {
          "base_uri": "https://localhost:8080/"
        },
        "id": "QarNGsDrd9xZ",
        "outputId": "64d902fe-4576-4df5-f98a-cca38e9d2a01"
      },
      "source": [
        "d = {'b':1, 'a':10,'c':22}\n",
        "t = list(d.items())  ##  return list of tuples\n",
        "print(t)\n",
        "t.sort()\n",
        "print(t)\n",
        "\n",
        "#The new list is sorted in ascending alphabetical order by the key value."
      ],
      "execution_count": null,
      "outputs": [
        {
          "output_type": "stream",
          "name": "stdout",
          "text": [
            "[('b', 1), ('a', 10), ('c', 22)]\n",
            "[('a', 10), ('b', 1), ('c', 22)]\n"
          ]
        }
      ]
    },
    {
      "cell_type": "markdown",
      "metadata": {
        "id": "lerFaqljetu7"
      },
      "source": [
        "##Multiple assignment with dictionaries\n",
        "\n",
        "Combining **items**, **tuple assignment**, and **for**, you can see a nice code pattern for traversing the **keys** and **values **of a dictionary in a single loop"
      ]
    },
    {
      "cell_type": "code",
      "metadata": {
        "colab": {
          "base_uri": "https://localhost:8080/"
        },
        "id": "pdG9dbP5e7kF",
        "outputId": "d6c3c26a-3996-4ac6-8f5b-54335d80393b"
      },
      "source": [
        "for key, val in list(d.items()):\n",
        "  print(val, key)"
      ],
      "execution_count": null,
      "outputs": [
        {
          "output_type": "stream",
          "name": "stdout",
          "text": [
            "1 b\n",
            "10 a\n",
            "22 c\n"
          ]
        }
      ]
    },
    {
      "cell_type": "markdown",
      "metadata": {
        "id": "FygKRhx_e_Zd"
      },
      "source": [
        "This loop has two iteration variables because items returns a list of tuples and **key, val** is a tuple assignment that successively iterates through each of the key-value\n",
        "pairs in the dictionary.\n",
        "For each iteration through the loop, both key and value are advanced to the next\n",
        "key-value pair in the dictionary"
      ]
    },
    {
      "cell_type": "markdown",
      "metadata": {
        "id": "cgH3fa5XfSgU"
      },
      "source": [
        "**If we combine these two techniques, we can print out the contents of a dictionary sorted by the value stored in each key-value pair**\n",
        "\n",
        "To do this, we first make a list of tuples where each tuple is (value, key). The\n",
        "items method would give us a list of (key, value) tuples, but this time we want\n",
        "to sort by value, not key. Once we have constructed the list with the value-key\n",
        "tuples, it is a simple matter to sort the list in reverse order and print out the new,\n",
        "sorted list."
      ]
    },
    {
      "cell_type": "code",
      "metadata": {
        "colab": {
          "base_uri": "https://localhost:8080/"
        },
        "id": "fATxhA_6fn08",
        "outputId": "d8fc5305-a840-4255-f7d3-ec50e99df925"
      },
      "source": [
        "d = {'a':10, 'b':1, 'c':22}\n",
        "l = list()\n",
        "for key, val in d.items() :\n",
        "  l.append( (val, key) )\n",
        "\n",
        "print(l)\n",
        "\n",
        "l.sort(reverse=True)\n",
        "print(l)\n"
      ],
      "execution_count": null,
      "outputs": [
        {
          "output_type": "stream",
          "name": "stdout",
          "text": [
            "[(10, 'a'), (1, 'b'), (22, 'c')]\n",
            "[(1, 'b'), (10, 'a'), (22, 'c')]\n"
          ]
        }
      ]
    },
    {
      "cell_type": "markdown",
      "metadata": {
        "id": "osHEUJvAgZFW"
      },
      "source": [
        "##The most Common Words"
      ]
    },
    {
      "cell_type": "code",
      "metadata": {
        "id": "WcQRZnYsgcoZ"
      },
      "source": [
        "import string\n",
        "fhand = open('romeo-full.txt')\n",
        "counts = dict()\n",
        "\n",
        "for line in fhand:\n",
        "  # remove puntuation from the lines\n",
        "  line = line.translate(str.maketrans('', '', string.punctuation))\n",
        "  line = line.lower()\n",
        "  words = line.split()\n",
        "  for word in words:\n",
        "    if word not in counts:\n",
        "      counts[word] = 1\n",
        "    else:\n",
        "      counts[word] += 1\n",
        "\n",
        "# Sort the dictionary by value\n",
        "lst = list()\n",
        "for key, val in list(counts.items()):\n",
        "  lst.append((val, key))\n",
        "\n",
        "lst.sort(reverse=True)\n",
        "lst\n",
        "for key, val in lst[:10]:\n",
        "   print(val, key)"
      ],
      "execution_count": null,
      "outputs": []
    },
    {
      "cell_type": "markdown",
      "metadata": {
        "id": "b-xTrOFdhC7p"
      },
      "source": [
        "The first part of the program which reads the file and computes the dictionary\n",
        "that maps each word to the count of words in the document is unchanged. But\n",
        "instead of simply printing out counts and ending the program, we construct a list of **`(val, key)`** tuples and then sort the list in **reverse order**.\n",
        "\n",
        "\n",
        "Since the value is first, it will be used for the comparisons. If there is more than one tuple with the same value, it will look at the second element (the key), so tuples where the value is the same will be further sorted by the alphabetical order of the key. At the end we write a nice for loop which does a multiple assignment iteration and prints out the ten most common words by iterating through a slice of the list.\n"
      ]
    },
    {
      "cell_type": "markdown",
      "metadata": {
        "id": "thgufqabF0gp"
      },
      "source": [
        "#Practice Excercises\n",
        "1. Write a program that categorizes each mail message by\n",
        "which day of the week the commit was done. To do this look for lines\n",
        "that start with “From”, then look for the third word and keep a running\n",
        "count of each of the days of the week. At the end of the program print\n",
        "out the contents of your dictionary (order does not matter).\n",
        "\n",
        "  **Sample Line:**\n",
        "  ```\n",
        "  From stephen.marquard@uct.ac.za Sat Jan 5 09:14:16 2008\n",
        "  ```\n",
        "  **Sample Execution:**\n",
        "  ```\n",
        "  Enter a file name: mbox-short.txt\n",
        "  {'Fri': 20, 'Thu': 6, 'Sat': 1}\n",
        "  ```\n",
        "\n",
        "2. Write a program to read through a mail log, build a histogram using a dictionary to count how many messages have come from\n",
        "each email address, and print the dictionary.\n",
        "  ```\n",
        "  Enter file name: mbox-short.txt\n",
        "{'gopal.ramasammycook@gmail.com': 1, 'louis@media.berkeley.edu': 3,\n",
        "'cwen@iupui.edu': 5, 'antranig@caret.cam.ac.uk': 1,\n",
        "'rjlowe@iupui.edu': 2, 'gsilver@umich.edu': 3,\n",
        "'david.horwitz@uct.ac.za': 4, 'wagnermr@iupui.edu': 1,\n",
        "'zqian@umich.edu': 4, 'stephen.marquard@uct.ac.za': 2,\n",
        "'ray@media.berkeley.edu': 1}\n",
        "```\n",
        "\n",
        "3. Add code to the above program to figure out who has the\n",
        "most messages in the file. After all the data has been read and the dictionary has been created, look through the dictionary using a maximum\n",
        "loop to find who has the most messages and print how many messages the person has.\n",
        "\n",
        "  ```\n",
        "  Enter a file name: mbox-short.txt\n",
        "  cwen@iupui.edu 5\n",
        "  Enter a file name: mbox.txt\n",
        "  zqian@umich.edu 195\n",
        "\n",
        "  ```\n",
        "\n",
        "4. This program records the domain name (instead of the\n",
        "address) where the message was sent from instead of who the mail came\n",
        "from (i.e., the whole email address). At the end of the program, print\n",
        "out the contents of your dictionary.\n",
        "\n",
        "  ```\n",
        "  Enter a file name: mbox-short.txt\n",
        "  {'media.berkeley.edu': 4, 'uct.ac.za': 6, 'umich.edu': 7,\n",
        "  'gmail.com': 1, 'caret.cam.ac.uk': 1, 'iupui.edu': 8}\n",
        "  ```\n",
        "\n",
        "5. Revise a previous program as follows: Read and parse the\n",
        "“From” lines and pull out the addresses from the line. Count the number of messages from each person using a dictionary.\n",
        "After all the data has been read, print the person with the most commits\n",
        "by creating a list of (count, email) tuples from the dictionary. Then\n",
        "sort the list in reverse order and print out the person who has the most\n",
        "commits.\n",
        "Sample Line:\n",
        "```\n",
        "From stephen.marquard@uct.ac.za Sat Jan 5 09:14:16 2008\n",
        "```\n",
        "```\n",
        "Enter a file name: mbox-short.txt\n",
        "cwen@iupui.edu 5\n",
        "Enter a file name: mbox.txt\n",
        "zqian@umich.edu 195\n",
        "```\n",
        "\n",
        "\n",
        "6. This program counts the distribution of the hour of the day\n",
        "for each of the messages. You can pull the hour from the “From” line\n",
        "by finding the time string and then splitting that string into parts using\n",
        "the colon character. Once you have accumulated the counts for each\n",
        "hour, print out the counts, one per line, sorted by hour as shown below\n",
        "\n",
        "  ```\n",
        "  Enter a file name: mbox-short.txt\n",
        "  04 3\n",
        "  06 1\n",
        "  07 1\n",
        "  09 2\n",
        "  10 3\n",
        "  11 6\n",
        "  14 1\n",
        "  15 2\n",
        "  16 4\n",
        "  17 2\n",
        "  18 1\n",
        "  19 1\n",
        "\n",
        "  ```"
      ]
    },
    {
      "cell_type": "markdown",
      "metadata": {
        "id": "8S2gXlr9-CqC"
      },
      "source": [
        "#References:\n",
        "1. [Programiz.com](https://www.programiz.com/python-programming/operators)\n",
        "2. [Python for Everybody-Coursera](https://www.coursera.org/learn/python)"
      ]
    }
  ]
}
