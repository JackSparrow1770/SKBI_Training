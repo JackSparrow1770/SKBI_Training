{
  "nbformat": 4,
  "nbformat_minor": 0,
  "metadata": {
    "colab": {
      "provenance": [],
      "include_colab_link": true
    },
    "kernelspec": {
      "name": "python3",
      "display_name": "Python 3"
    },
    "language_info": {
      "name": "python"
    }
  },
  "cells": [
    {
      "cell_type": "markdown",
      "metadata": {
        "id": "view-in-github",
        "colab_type": "text"
      },
      "source": [
        "<a href=\"https://colab.research.google.com/github/eftekhar-hossain/SKBI_Training/blob/main/Session_13__MLP.ipynb\" target=\"_parent\"><img src=\"https://colab.research.google.com/assets/colab-badge.svg\" alt=\"Open In Colab\"/></a>"
      ]
    },
    {
      "cell_type": "markdown",
      "source": [
        "<center> <h1> <u> <font color='red'> Training on AI and ML with Python (Intermediate) </font> </u> </h1> </center>"
      ],
      "metadata": {
        "id": "bKUtBQE9Zx2I"
      }
    },
    {
      "cell_type": "markdown",
      "metadata": {
        "id": "Q30pJUgw60mX"
      },
      "source": [
        "#Session-13: Multi-Layer Peceptron (MLP)\n",
        "\n",
        "\n",
        "###Objective: \n",
        "1. *Introduce with Tensorflow.*\n",
        "2. *Construct MLP architecture for computer vision and NLP application.*\n",
        "3. *Get familiar with Early stopping and Checkpoint method.*\n",
        "\n",
        " \n",
        "\n"
      ]
    },
    {
      "cell_type": "code",
      "metadata": {
        "id": "l9BkDQxf7jq1"
      },
      "source": [
        "import warnings\n",
        "warnings.filterwarnings(\"ignore\")"
      ],
      "execution_count": null,
      "outputs": []
    },
    {
      "cell_type": "markdown",
      "metadata": {
        "id": "_iAfpNGZ7jq2"
      },
      "source": [
        "# Import the libraries"
      ]
    },
    {
      "cell_type": "code",
      "metadata": {
        "id": "HJYq632d7jq2"
      },
      "source": [
        "import numpy as np        \n",
        "import pandas as pd     \n",
        "import matplotlib.pyplot as plt       \n",
        "\n",
        "# Machine learning libraries\n",
        "from sklearn.model_selection import train_test_split\n",
        "from sklearn.metrics import classification_report,confusion_matrix,accuracy_score,f1_score,precision_score,recall_score\n",
        "from sklearn.preprocessing import MinMaxScaler\n",
        "\n",
        "# Deep learning Librarires\n",
        "\n",
        "\n",
        "import tensorflow as tf\n",
        "from tensorflow import keras\n",
        "from keras.layers import Input, Dense, Activation, Dropout\n",
        "from keras.models import Model\n",
        "from tensorflow.keras.optimizers import Adam,SGD,Nadam,RMSprop\n",
        "from tensorflow.keras.models import load_model"
      ],
      "execution_count": null,
      "outputs": []
    },
    {
      "cell_type": "code",
      "source": [
        "print(tf.__version__)"
      ],
      "metadata": {
        "colab": {
          "base_uri": "https://localhost:8080/"
        },
        "id": "ZyMRgDES8SBk",
        "outputId": "3e5877be-6746-478e-fae5-6f5d38a605a8"
      },
      "execution_count": null,
      "outputs": [
        {
          "output_type": "stream",
          "name": "stdout",
          "text": [
            "2.8.2\n"
          ]
        }
      ]
    },
    {
      "cell_type": "markdown",
      "metadata": {
        "id": "c3XZjlcK7jq2"
      },
      "source": [
        "##Handwritten Character Dataset"
      ]
    },
    {
      "cell_type": "code",
      "metadata": {
        "id": "2HAlNbqr7jq2"
      },
      "source": [
        "# Download the train data\n",
        "!wget -O mnist_train.csv https://www.dropbox.com/s/yrqwhkqj8914h9l/mnist_train.csv?dl=0"
      ],
      "execution_count": null,
      "outputs": []
    },
    {
      "cell_type": "code",
      "source": [
        "# Download the test data\n",
        "!wget -O mnist_test.csv https://www.dropbox.com/s/3c02b49hcze40i6/mnist_test.csv?dl=0"
      ],
      "metadata": {
        "id": "3IT9uUaq7jq2"
      },
      "execution_count": null,
      "outputs": []
    },
    {
      "cell_type": "code",
      "metadata": {
        "id": "coz3akLD7jq3"
      },
      "source": [
        "\"\"\"importing the dataset \"\"\"\n",
        "\n",
        "train_data = pd.read_csv('mnist_train.csv')\n",
        "test_data = pd.read_csv('mnist_test.csv')\n",
        "\n",
        "# print first five row\n",
        "train_data.head()"
      ],
      "execution_count": null,
      "outputs": []
    },
    {
      "cell_type": "code",
      "source": [
        "# drop the first column \n",
        "train_images = train_data.iloc[:,1:]\n",
        "train_labels = train_data.iloc[:,0:1]\n",
        "train_labels\n",
        "\n",
        "#train_images"
      ],
      "metadata": {
        "id": "lrQJaZAO7jq3"
      },
      "execution_count": null,
      "outputs": []
    },
    {
      "cell_type": "code",
      "source": [
        "# count the labels distribution\n",
        "train_labels.value_counts()"
      ],
      "metadata": {
        "id": "2xNwXSjp7jq3"
      },
      "execution_count": null,
      "outputs": []
    },
    {
      "cell_type": "code",
      "source": [
        "# drop the first column \n",
        "test_images = test_data.iloc[:,1:]\n",
        "test_labels = test_data.iloc[:,0:1]\n",
        "test_labels\n",
        "\n",
        "#test_images"
      ],
      "metadata": {
        "id": "OTUnKzzB7jq4"
      },
      "execution_count": null,
      "outputs": []
    },
    {
      "cell_type": "code",
      "source": [
        "print(\"Training Set: \",train_images.shape)\n",
        "print(\"Test Set: \", test_images.shape)"
      ],
      "metadata": {
        "colab": {
          "base_uri": "https://localhost:8080/"
        },
        "outputId": "7c5b153a-8db3-4552-bdbd-f6fa895500d4",
        "id": "VvTtDFCq7jq4"
      },
      "execution_count": null,
      "outputs": [
        {
          "output_type": "stream",
          "name": "stdout",
          "text": [
            "Training Set:  (60000, 784)\n",
            "Test Set:  (10000, 784)\n"
          ]
        }
      ]
    },
    {
      "cell_type": "markdown",
      "source": [
        "## Plotting some digits"
      ],
      "metadata": {
        "id": "25iRsBjU7jq4"
      }
    },
    {
      "cell_type": "code",
      "metadata": {
        "id": "SRAozMJk7jq4"
      },
      "source": [
        "# Plotting some digits\n",
        "\n",
        "plt.figure(figsize=(14,12))\n",
        "for digit_num in range(0,30):\n",
        "    plt.subplot(7,10,digit_num+1)\n",
        "    grid_data = train_images.iloc[digit_num].values.reshape(28,28)  # reshape from 1d to 2d pixel array\n",
        "    plt.imshow(grid_data)\n",
        "    plt.title(f\"{train_labels.iloc[digit_num].values}\")\n",
        "    plt.xticks([])\n",
        "    plt.yticks([])\n",
        "plt.tight_layout()"
      ],
      "execution_count": null,
      "outputs": []
    },
    {
      "cell_type": "markdown",
      "source": [
        "##Single Layer Neural Network"
      ],
      "metadata": {
        "id": "PX6E84mK9fQn"
      }
    },
    {
      "cell_type": "code",
      "source": [
        "# Functional API\n",
        "\n",
        "# A single layer neural network\n",
        "\n",
        "input_img = Input(shape=(784,))\n",
        "dense = Dense(14, activation=\"relu\")(input_img)\n",
        "output = Dense(10,activation = \"softmax\")(dense)\n",
        "model = Model(inputs=input_img, outputs=output, name=\"mnist_model\")\n",
        "model.summary()"
      ],
      "metadata": {
        "colab": {
          "base_uri": "https://localhost:8080/"
        },
        "id": "OGvOYWQJ9jRm",
        "outputId": "3dd0a3b3-8426-4a48-a197-32102f6c4df1"
      },
      "execution_count": null,
      "outputs": [
        {
          "output_type": "stream",
          "name": "stdout",
          "text": [
            "Model: \"mnist_model\"\n",
            "_________________________________________________________________\n",
            " Layer (type)                Output Shape              Param #   \n",
            "=================================================================\n",
            " input_1 (InputLayer)        [(None, 784)]             0         \n",
            "                                                                 \n",
            " dense (Dense)               (None, 14)                10990     \n",
            "                                                                 \n",
            " dense_1 (Dense)             (None, 10)                150       \n",
            "                                                                 \n",
            "=================================================================\n",
            "Total params: 11,140\n",
            "Trainable params: 11,140\n",
            "Non-trainable params: 0\n",
            "_________________________________________________________________\n"
          ]
        }
      ]
    },
    {
      "cell_type": "code",
      "source": [
        "# You can also plot the model as a graph:\n",
        "keras.utils.plot_model(model, \"my_first_model_with_shape_info.png\", show_shapes=True)"
      ],
      "metadata": {
        "colab": {
          "base_uri": "https://localhost:8080/",
          "height": 312
        },
        "id": "IcunSr0d-Xm4",
        "outputId": "643162e7-4fcb-4cad-a5aa-242dd9a306a7"
      },
      "execution_count": null,
      "outputs": [
        {
          "output_type": "execute_result",
          "data": {
            "text/plain": [
              "<IPython.core.display.Image object>"
            ],
            "image/png": "[encoded data removed]"
          },
          "metadata": {},
          "execution_count": 24
        }
      ]
    },
    {
      "cell_type": "code",
      "source": [
        "keras.backend.clear_session()\n",
        "\n",
        "model.compile(\n",
        "    loss=keras.losses.SparseCategoricalCrossentropy(),\n",
        "    optimizer=RMSprop(),\n",
        "    metrics=[\"accuracy\"],\n",
        ")\n",
        "\n",
        "history = model.fit(train_images, train_labels, batch_size=64, epochs=10, validation_split=0.2)\n"
      ],
      "metadata": {
        "id": "q7DafpDYA6Wk"
      },
      "execution_count": null,
      "outputs": []
    },
    {
      "cell_type": "code",
      "source": [
        "\n",
        "test_scores = model.evaluate(test_images, test_labels, verbose=2)\n",
        "print(\"Test loss:\", test_scores[0])\n",
        "print(\"Test accuracy:\", test_scores[1])"
      ],
      "metadata": {
        "colab": {
          "base_uri": "https://localhost:8080/"
        },
        "id": "tfa-cTVJBFb8",
        "outputId": "fabb00aa-e7d1-402f-fe40-09e39e880dc4"
      },
      "execution_count": null,
      "outputs": [
        {
          "output_type": "stream",
          "name": "stdout",
          "text": [
            "313/313 - 0s - loss: 0.4954 - accuracy: 0.9064 - 430ms/epoch - 1ms/step\n",
            "Test loss: 0.49540743231773376\n",
            "Test accuracy: 0.9064000248908997\n"
          ]
        }
      ]
    },
    {
      "cell_type": "markdown",
      "source": [
        "# Use CallBacks"
      ],
      "metadata": {
        "id": "heGPUdn2CLv_"
      }
    },
    {
      "cell_type": "code",
      "source": [
        "# stop training if ==0.95\n",
        "\n",
        "class myCallback(tf.keras.callbacks.Callback):\n",
        "  def on_epoch_end(self,epoch,logs = {}):\n",
        "    if (logs.get('accuracy')>0.95):\n",
        "      print(\"\\nReached 99% accuracy so cancelling training!\")\n",
        "      self.model.stop_training = True\n",
        "\n",
        "      \n",
        "callbacks = myCallback() "
      ],
      "metadata": {
        "id": "ISqFukiSCNtu"
      },
      "execution_count": null,
      "outputs": []
    },
    {
      "cell_type": "code",
      "source": [
        "keras.backend.clear_session()\n",
        "\n",
        "# compile the mode\n",
        "model.compile(\n",
        "    loss=keras.losses.SparseCategoricalCrossentropy(),\n",
        "    optimizer=RMSprop(),\n",
        "    metrics=[\"accuracy\"],\n",
        ")\n",
        "\n",
        "#train the model\n",
        "\n",
        "history = model.fit(train_images, train_labels, batch_size=64, epochs=10, validation_split=0.2, callbacks = [callbacks])"
      ],
      "metadata": {
        "id": "UY-nT0ltCPtB"
      },
      "execution_count": null,
      "outputs": []
    },
    {
      "cell_type": "markdown",
      "source": [
        "### Plot Accuracy and Loss"
      ],
      "metadata": {
        "id": "BRwY9lXNC-1X"
      }
    },
    {
      "cell_type": "code",
      "source": [
        "#-----------------------------------------------------------\n",
        "# Retrieve a list of list results on training and test data\n",
        "# sets for each training epoch\n",
        "#-----------------------------------------------------------\n",
        "acc      = history.history['accuracy' ]\n",
        "val_acc  = history.history[ 'val_accuracy' ]\n",
        "loss     = history.history[    'loss' ]\n",
        "val_loss = history.history['val_loss' ]\n",
        "\n",
        "epochs   = range(len(acc)) # Get number of epochs\n",
        "\n",
        "#------------------------------------------------\n",
        "# Plot training and validation accuracy per epoch\n",
        "#------------------------------------------------\n",
        "plt.plot  ( epochs,     acc )\n",
        "plt.plot  ( epochs, val_acc )\n",
        "\n",
        "plt.title ('Training and validation accuracy')\n",
        "plt.legend(['train', 'val'])\n",
        "plt.figure()\n",
        "\n",
        "#------------------------------------------------\n",
        "# Plot training and validation loss per epoch\n",
        "#------------------------------------------------\n",
        "plt.plot  ( epochs,     loss )\n",
        "plt.plot  ( epochs, val_loss )\n",
        "plt.title ('Training and validation loss'   )\n",
        "plt.legend(['train', 'val'])"
      ],
      "metadata": {
        "id": "sQOndqRXDDNu"
      },
      "execution_count": null,
      "outputs": []
    },
    {
      "cell_type": "markdown",
      "source": [
        "## Use Callbacks with Checkpoint"
      ],
      "metadata": {
        "id": "RdTSrSp0Dr9t"
      }
    },
    {
      "cell_type": "code",
      "source": [
        "''' Callbacks with Checkpoint'''\n",
        "\n",
        "keras.backend.clear_session()\n",
        "\n",
        "accuracy_threshold = 0.99\n",
        "\n",
        "class myCallback(keras.callbacks.Callback):\n",
        "  def on_epoch_end(self, epoch, logs={}):\n",
        "      if(logs.get('accuracy')>accuracy_threshold):\n",
        "        print(\"\\nReached %2.2f%% accuracy so we will stop trianing\" % (accuracy_threshold*100))\n",
        "        self.model.stop_training = True\n",
        "\n",
        "acc_callback = myCallback()\n",
        "  # Saved the Best Model\n",
        "filepath = \"mymodel.h5\"\n",
        "checkpoint = keras.callbacks.ModelCheckpoint(filepath, monitor='val_accuracy', verbose=2, save_best_only=True, \n",
        "                                             save_weights_only=False, mode='max')\n",
        "  # callback list\n",
        "callback_list = [acc_callback, checkpoint] \n"
      ],
      "metadata": {
        "id": "zpp2c4tXDwnn"
      },
      "execution_count": null,
      "outputs": []
    },
    {
      "cell_type": "code",
      "source": [
        "model.compile(\n",
        "    loss=keras.losses.SparseCategoricalCrossentropy(),\n",
        "    optimizer=RMSprop(),\n",
        "    metrics=[\"accuracy\"],\n",
        ")\n",
        "\n",
        "history = model.fit(train_images, train_labels, batch_size=64, epochs=10, validation_split=0.2, callbacks = [callback_list])\n"
      ],
      "metadata": {
        "id": "p43xTh0sENKN"
      },
      "execution_count": null,
      "outputs": []
    },
    {
      "cell_type": "code",
      "source": [
        "# Recreate the exact same model purely from the file:\n",
        "model = load_model(\"mymodel.h5\")"
      ],
      "metadata": {
        "id": "Q1FmFDDGEji6"
      },
      "execution_count": null,
      "outputs": []
    },
    {
      "cell_type": "code",
      "source": [
        "y_pred = np.argmax(model.predict(test_images), axis=-1)\n",
        "y_pred"
      ],
      "metadata": {
        "colab": {
          "base_uri": "https://localhost:8080/"
        },
        "id": "qPrwYkS8FQSc",
        "outputId": "3045d5e1-0799-47e4-84a9-e67f084a4ba1"
      },
      "execution_count": null,
      "outputs": [
        {
          "output_type": "execute_result",
          "data": {
            "text/plain": [
              "array([7, 2, 1, ..., 4, 5, 6])"
            ]
          },
          "metadata": {},
          "execution_count": 35
        }
      ]
    },
    {
      "cell_type": "code",
      "source": [
        "print(classification_report(test_labels,y_pred))"
      ],
      "metadata": {
        "id": "rFgfDejbFVBr"
      },
      "execution_count": null,
      "outputs": []
    },
    {
      "cell_type": "markdown",
      "source": [
        "##Task\n",
        "\n",
        "1. Design A Multilayer Neural Network for digit classification.\n",
        "\n",
        "2. Try to tune the Hyperparameters (i.e., no. of nodes, layers, optimizer, batch size) to improve the performance.\n"
      ],
      "metadata": {
        "id": "ewHxIejFFoD-"
      }
    },
    {
      "cell_type": "markdown",
      "source": [
        "# Bangla Handwritten Character Dataset\n",
        "\n"
      ],
      "metadata": {
        "id": "aKhid-TMLFti"
      }
    },
    {
      "cell_type": "markdown",
      "source": [
        "**Ekush: A Multipurpose and Multitype Comprehensive Database for Online Off-line Bangla Handwritten Characters. Ekush has several features:**\n",
        "\n",
        " - Characters Recognition\n",
        " - Recognition in context\n",
        " - Gender Identification\n",
        " - Forensic Investigation\n",
        " - 673,482‬ character instances\n",
        " - 242 character class\n",
        " - 4 captions per image\n",
        " - 340,243‬ Female data\n",
        " - 333,239‬ Male data"
      ],
      "metadata": {
        "id": "M5XBRnTjLUgF"
      }
    },
    {
      "cell_type": "code",
      "source": [
        "# run the cell to download the data\n",
        "!wget -O ekush.zip https://www.dropbox.com/s/sym70dkootl09va/ekushCSV.zip?dl=0\n"
      ],
      "metadata": {
        "id": "nUw3FXa2GscN"
      },
      "execution_count": null,
      "outputs": []
    },
    {
      "cell_type": "code",
      "source": [
        "# extract the zip file and save the files into bangla-digit folder\n",
        "import zipfile\n",
        "zip_ref = zipfile.ZipFile(\"ekush.zip\", 'r')\n",
        "zip_ref.extractall(\"bangla-digit\")\n",
        "zip_ref.close()"
      ],
      "metadata": {
        "id": "BecK6hpVKYBr"
      },
      "execution_count": null,
      "outputs": []
    },
    {
      "cell_type": "markdown",
      "source": [
        "#Text Classification (Tfidf + MLP)"
      ],
      "metadata": {
        "id": "mPlb6erRA0yE"
      }
    },
    {
      "cell_type": "code",
      "source": [
        "# Download the data\n",
        "!wget -O reviews.csv https://www.dropbox.com/s/vyhodtbbumedlv2/restaurant-reviews.csv?dl=0"
      ],
      "metadata": {
        "id": "A4dy_WcVvW-z"
      },
      "execution_count": null,
      "outputs": []
    },
    {
      "cell_type": "code",
      "metadata": {
        "id": "UOxBw-ZMKjoH"
      },
      "source": [
        "# %%time \n",
        "data = pd.read_csv(\"reviews.csv\")\n",
        "data = data.dropna()"
      ],
      "execution_count": null,
      "outputs": []
    },
    {
      "cell_type": "code",
      "metadata": {
        "colab": {
          "base_uri": "https://localhost:8080/"
        },
        "id": "6YJjERczKoWI",
        "outputId": "6f18330c-bfb8-438b-8bf5-77afad5d340c"
      },
      "source": [
        "print(\"Size of the total data==> \", len(data))\n",
        "class_names= data.Sentiment.unique() ## Get the unique values in a specific column\n",
        "print(class_names)"
      ],
      "execution_count": null,
      "outputs": [
        {
          "output_type": "stream",
          "name": "stdout",
          "text": [
            "Size of the total data==>  1431\n",
            "['positive' 'negative']\n"
          ]
        }
      ]
    },
    {
      "cell_type": "code",
      "metadata": {
        "id": "ZDfpsNAtKsVu"
      },
      "source": [
        "data['training_label']=data.Sentiment.replace({'positive':1,'negative':0})\n",
        "data.sample(20)"
      ],
      "execution_count": null,
      "outputs": []
    },
    {
      "cell_type": "code",
      "metadata": {
        "colab": {
          "base_uri": "https://localhost:8080/"
        },
        "id": "-F6XAdm5K4s_",
        "outputId": "4bf64918-9933-44d0-fd6d-f70301ee49bb"
      },
      "source": [
        "%%time\n",
        "# text cleaning\n",
        "\n",
        "import re\n",
        "\n",
        "def cleaning_bangla(x): \n",
        "  x = re.sub('[^\\u0980-\\u09FF]',' ', x)\n",
        "  # Remove quotes from source text\n",
        "  x = re.sub(\"'\", '', x)\n",
        "  # create a set of all special characters\n",
        "  x = x.strip()\n",
        "  return x \n",
        "\n",
        "data['cleaned'] = data['Reviews'].apply(cleaning_bangla)"
      ],
      "execution_count": null,
      "outputs": [
        {
          "output_type": "stream",
          "name": "stdout",
          "text": [
            "CPU times: user 21.1 ms, sys: 0 ns, total: 21.1 ms\n",
            "Wall time: 23.9 ms\n"
          ]
        }
      ]
    },
    {
      "cell_type": "markdown",
      "source": [
        "##TF-Idf"
      ],
      "metadata": {
        "id": "dSV1GtAqBYK7"
      }
    },
    {
      "cell_type": "code",
      "source": [
        "from sklearn.feature_extraction.text import TfidfVectorizer, CountVectorizer, TfidfTransformer\n",
        "\n",
        "vec = TfidfVectorizer(ngram_range=(1,1), min_df=1, tokenizer=lambda x: x.split(), use_idf=True)\n",
        "X = vec.fit_transform(data['cleaned'])"
      ],
      "metadata": {
        "id": "Es-WklM1BToA"
      },
      "execution_count": null,
      "outputs": []
    },
    {
      "cell_type": "code",
      "source": [
        "X_train, X_test, y_train, y_test = train_test_split(X,data['training_label'],train_size = 0.8, test_size = 0.2,random_state =0)\n",
        "print(\"Training Set: \", X_train.shape)\n",
        "print(\"Test Set:\", X_test.shape)"
      ],
      "metadata": {
        "colab": {
          "base_uri": "https://localhost:8080/"
        },
        "id": "2CM_39MtCJ9F",
        "outputId": "a4e9e97e-5359-45e4-ba27-165bd18e0be9"
      },
      "execution_count": null,
      "outputs": [
        {
          "output_type": "stream",
          "name": "stdout",
          "text": [
            "Training Set:  (1144, 4264)\n",
            "Test Set: (287, 4264)\n"
          ]
        }
      ]
    },
    {
      "cell_type": "code",
      "source": [
        "# Inverse Document Frequency Values for Every Word (4000)\n",
        "idf_values=pd.DataFrame(vec.idf_,index=vec.get_feature_names_out(),columns=['idf'])\n",
        "idf_values"
      ],
      "metadata": {
        "id": "WQ0hlqqkCmz1"
      },
      "execution_count": null,
      "outputs": []
    },
    {
      "cell_type": "code",
      "source": [
        "# TF- IDF Values \n",
        "tf_idf=pd.DataFrame(X.todense(),columns=[vec.get_feature_names_out()])\n",
        "tf_idf"
      ],
      "metadata": {
        "id": "Hc1xOZHPCyo9"
      },
      "execution_count": null,
      "outputs": []
    },
    {
      "cell_type": "code",
      "source": [
        "# get the first vector out (for the first document)\n",
        "print(\" Review: \",data['cleaned'][5])\n",
        "first_vector=X[5]\n",
        " \n",
        "# place tf-idf values in a pandas data frame\n",
        "df = pd.DataFrame(first_vector.T.todense(), index=vec.get_feature_names_out(), columns=[\"tfidf\"])\n",
        "d = df.sort_values(by=[\"tfidf\"],ascending=False)"
      ],
      "metadata": {
        "colab": {
          "base_uri": "https://localhost:8080/"
        },
        "id": "-gtbrwDYDKcm",
        "outputId": "c7320b18-fa06-43f8-bb39-fcf499abfae0"
      },
      "execution_count": null,
      "outputs": [
        {
          "output_type": "stream",
          "name": "stdout",
          "text": [
            " Review:  সেরা পরিবেশ সঙ্গে শ্রেষ্ঠ স্বাদ  একেবারে প্রিমিয়াম মুরগি\n"
          ]
        }
      ]
    },
    {
      "cell_type": "code",
      "source": [
        "d['tfidf'][0:10]"
      ],
      "metadata": {
        "id": "sz5_UBgXD8dd"
      },
      "execution_count": null,
      "outputs": []
    },
    {
      "cell_type": "markdown",
      "source": [
        "## Single Layer Neural Network"
      ],
      "metadata": {
        "id": "0UzFjQc1ESnO"
      }
    },
    {
      "cell_type": "code",
      "source": [
        "train = np.array(X_train)\n",
        "train"
      ],
      "metadata": {
        "colab": {
          "base_uri": "https://localhost:8080/"
        },
        "id": "omanGSWVGYrg",
        "outputId": "7c156cb6-7834-4a99-f31c-7ce38693094a"
      },
      "execution_count": null,
      "outputs": [
        {
          "output_type": "execute_result",
          "data": {
            "text/plain": [
              "array(<1144x4264 sparse matrix of type '<class 'numpy.float64'>'\n",
              "\twith 21015 stored elements in Compressed Sparse Row format>, dtype=object)"
            ]
          },
          "metadata": {},
          "execution_count": 49
        }
      ]
    },
    {
      "cell_type": "code",
      "source": [
        "# Functional API\n",
        "\n",
        "# A single layer neural network\n",
        "\n",
        "input_text = Input(shape=(X_train.shape[1],))\n",
        "dense = Dense(14, activation=\"relu\")(input_text)\n",
        "output = Dense(1,activation = \"sigmoid\")(dense)\n",
        "model = Model(inputs=input_text, outputs=output, name=\"text_model\")\n",
        "model.summary()"
      ],
      "metadata": {
        "id": "dsVAt7YgEdor"
      },
      "execution_count": null,
      "outputs": []
    },
    {
      "cell_type": "code",
      "source": [
        "filepath = \"my_textmodel.h5\"\n",
        "checkpoint = keras.callbacks.ModelCheckpoint(filepath, monitor='val_accuracy', verbose=2, save_best_only=True, \n",
        "                                             save_weights_only=False, mode='max')\n",
        "  # callback list"
      ],
      "metadata": {
        "id": "bCjwf2QWKA3H"
      },
      "execution_count": null,
      "outputs": []
    },
    {
      "cell_type": "code",
      "source": [
        "keras.backend.clear_session()\n",
        "\n",
        "model.compile(\n",
        "    loss='binary_crossentropy',\n",
        "    optimizer=RMSprop(),\n",
        "    metrics=[\"accuracy\"],\n",
        ")\n",
        "y = np.array(y_train)\n",
        "\n",
        "history = model.fit(X_train.todense(), y_train, batch_size=32, epochs=50,validation_split=0.1,callbacks = [checkpoint])"
      ],
      "metadata": {
        "id": "CwO-aEnpEdor"
      },
      "execution_count": null,
      "outputs": []
    },
    {
      "cell_type": "code",
      "source": [
        "model = load_model('my_textmodel.h5')"
      ],
      "metadata": {
        "id": "OxNP2EUeKcJf"
      },
      "execution_count": null,
      "outputs": []
    },
    {
      "cell_type": "code",
      "source": [
        "y_pred = model.predict(X_test.todense())\n",
        "pred = y_pred>0.5\n",
        "pred = pred.astype(int)\n",
        "###\n",
        "report = classification_report(y_test, pred, target_names=['negative','positive'])\n",
        "cm= confusion_matrix(y_test, pred)\n",
        "print(report)\n",
        "print(cm)\n",
        "print(\"accuracy: {:0.3f}\".format(accuracy_score(y_test, pred)))"
      ],
      "metadata": {
        "id": "Kd1ZLYPfIuGv"
      },
      "execution_count": null,
      "outputs": []
    },
    {
      "cell_type": "markdown",
      "source": [
        "##Task\n",
        "\n",
        "1. Try to use Bigram, Trigram\n",
        "2. Try to use medium and large sized model"
      ],
      "metadata": {
        "id": "f6dQ-2_xKtOn"
      }
    }
  ]
}
