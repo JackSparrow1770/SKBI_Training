{
  "nbformat": 4,
  "nbformat_minor": 0,
  "metadata": {
    "colab": {
      "provenance": [],
      "authorship_tag": "ABX9TyNiz3dwaiGVhu5/b+bLogTg",
      "include_colab_link": true
    },
    "kernelspec": {
      "name": "python3",
      "display_name": "Python 3"
    },
    "language_info": {
      "name": "python"
    }
  },
  "cells": [
    {
      "cell_type": "markdown",
      "metadata": {
        "id": "view-in-github",
        "colab_type": "text"
      },
      "source": [
        "<a href=\"https://colab.research.google.com/github/eftekhar-hossain/SKBI_Training/blob/main/Session_09_(OOP_in_Python).ipynb\" target=\"_parent\"><img src=\"https://colab.research.google.com/assets/colab-badge.svg\" alt=\"Open In Colab\"/></a>"
      ]
    },
    {
      "cell_type": "markdown",
      "source": [
        "<center> <h1> <u> <font color='red'> Training on AI and ML with Python </font> </u> </h1> </center>"
      ],
      "metadata": {
        "id": "i4AtqJFBadeM"
      }
    },
    {
      "cell_type": "markdown",
      "metadata": {
        "id": "C-BUBBYTWTYU"
      },
      "source": [
        "# Session-9: OOP in Python\n",
        "\n",
        "\n",
        "###Objective: \n",
        " 1. *Get familiar with class and objects.*\n",
        " 2. *Get familiar with the Inheritance and Overriding.*\n"
      ]
    },
    {
      "cell_type": "markdown",
      "source": [
        "#Class\n",
        "\n",
        "A class is considered as a blueprint of objects. We can think of the class as a sketch (prototype) of a house. It contains all the details about the floors, doors, windows, etc. Based on these descriptions we build the house. House is the object.\n",
        "\n",
        "Since many houses can be made from the same description, we can create many objects from a class."
      ],
      "metadata": {
        "id": "BhRP7i7BT0Lp"
      }
    },
    {
      "cell_type": "code",
      "execution_count": 1,
      "metadata": {
        "id": "XPvxN54fR4WR"
      },
      "outputs": [],
      "source": [
        "# The variables inside a class are called attributes.  \n",
        "\n",
        "class Car:\n",
        "  name = \"\"\n",
        "  gear  = 0"
      ]
    },
    {
      "cell_type": "markdown",
      "source": [
        "#Object\n",
        "\n",
        "An object is called an instance of a class. For example, suppose `Car` is a class then we can create objects like `car1`, `car2`, etc from the class."
      ],
      "metadata": {
        "id": "qR2ttYjzUQ-4"
      }
    },
    {
      "cell_type": "code",
      "source": [
        "# create class\n",
        "\n",
        "class Car:\n",
        "  name = \"\"\n",
        "  gear = 0\n",
        "\n",
        "# create object\n",
        "\n",
        "car1 = Car()\n"
      ],
      "metadata": {
        "id": "p5XaFdDCXKES"
      },
      "execution_count": null,
      "outputs": []
    },
    {
      "cell_type": "markdown",
      "source": [
        "##Access Class Attributes Using Objects\n",
        "\n",
        "We use the `.` notation to access the attributes of a class."
      ],
      "metadata": {
        "id": "O4dH3DBuXt3J"
      }
    },
    {
      "cell_type": "markdown",
      "source": [
        "##Example 1"
      ],
      "metadata": {
        "id": "kKIrbrhcX0Cy"
      }
    },
    {
      "cell_type": "code",
      "source": [
        "# define a class\n",
        "class Car:\n",
        "    name =''\n",
        "    speed = 0\n",
        "\n",
        "# create object of class\n",
        "car1 = Car()\n",
        "\n",
        "# access attributes and assign new values\n",
        "car1.speed = 100\n",
        "car1.name = \"NISAAN\"\n",
        "\n",
        "print(f\"Name: {car1.name}, Speed: {car1.speed} \")"
      ],
      "metadata": {
        "colab": {
          "base_uri": "https://localhost:8080/"
        },
        "id": "CvYRxYDsX12K",
        "outputId": "3f0d3d3c-8fd8-45e7-d1c3-8e5d9fb3c191"
      },
      "execution_count": 4,
      "outputs": [
        {
          "output_type": "stream",
          "name": "stdout",
          "text": [
            "Name: NISAAN, Speed: 100 \n"
          ]
        }
      ]
    },
    {
      "cell_type": "markdown",
      "source": [
        "# Python Methods\n",
        "We can also define a **function** inside a Python class. A Python Function defined inside a class is called a **method**."
      ],
      "metadata": {
        "id": "Iac8N0RZYn5C"
      }
    },
    {
      "cell_type": "code",
      "source": [
        "# create a class\n",
        "class House:\n",
        "    length = 0.0\n",
        "    width = 0.0\n",
        "    \n",
        "    # method to calculate area\n",
        "    def calc_area(self):\n",
        "        print(\"Area of Room = \", self.length * self.width, \"Square feet\")\n",
        "\n",
        "# create object of Room class\n",
        "drawing_room = House()\n",
        "\n",
        "# assign values to all the attributes \n",
        "drawing_room.length = 38.5\n",
        "drawing_room.width = 30.8\n",
        "\n",
        "# access method inside class\n",
        "drawing_room.calc_area()"
      ],
      "metadata": {
        "colab": {
          "base_uri": "https://localhost:8080/"
        },
        "id": "QoJ4RgIpYvGU",
        "outputId": "c270b08f-86e1-4e0a-a9e4-a7d734fd05e3"
      },
      "execution_count": null,
      "outputs": [
        {
          "output_type": "stream",
          "name": "stdout",
          "text": [
            "Area of Room =  1185.8 Square feet\n"
          ]
        }
      ]
    },
    {
      "cell_type": "markdown",
      "source": [
        "#Python Constructors\n",
        "\n",
        "Earlier we assigned a default value to a class attribute, However, we can also **initialize** values using the constructors."
      ],
      "metadata": {
        "id": "e9CAXfAdZinp"
      }
    },
    {
      "cell_type": "code",
      "source": [
        "class Car:\n",
        "\n",
        "    # constructor function    \n",
        "    def __init__(self, name = \"\"):\n",
        "        self.n = name\n",
        "\n",
        "car1 = Car()\n",
        "\n",
        "# car1 = Car()\n",
        "\n",
        "print(car1.n)"
      ],
      "metadata": {
        "id": "KDtBaHINYqb6",
        "colab": {
          "base_uri": "https://localhost:8080/"
        },
        "outputId": "798311b8-11ec-49cd-80cb-4b8bad5d0752"
      },
      "execution_count": 12,
      "outputs": [
        {
          "output_type": "stream",
          "name": "stdout",
          "text": [
            "\n"
          ]
        }
      ]
    },
    {
      "cell_type": "markdown",
      "source": [
        "Here, `__init__()` is the **constructor function** that is called whenever a new object of that class is instantiated.\n",
        "\n",
        "The constructor above initializes the value of the `name` attribute. We have used the `self.name` to refer to the name attribute of the `car1` object.\n",
        "\n",
        "If we use a constructor to initialize values inside a class, we need to pass the corresponding value during the object creation of the class."
      ],
      "metadata": {
        "id": "b6ZYcORdaF1U"
      }
    },
    {
      "cell_type": "markdown",
      "source": [
        "##Example 2"
      ],
      "metadata": {
        "id": "dACHC8GZayeg"
      }
    },
    {
      "cell_type": "code",
      "source": [
        "# create a class\n",
        "class Person:\n",
        "  def __init__(self, n, a ):\n",
        "    self.name = n\n",
        "    self.age = a\n",
        "  \n",
        "  # method\n",
        "  def getdata(self,cgpa):\n",
        "    self.cgpa = cgpa\n",
        "    print(\"Hello my name is \" + self.name +\" CGPA:\" + self.cgpa)\n",
        "\n",
        "p1 = Person(\"John\", 36)\n",
        "p1.getdata(\"3.8\")"
      ],
      "metadata": {
        "colab": {
          "base_uri": "https://localhost:8080/"
        },
        "id": "dnJ9lxe8aEst",
        "outputId": "5734c8b9-f7c7-4792-908f-3ffeeea36a0a"
      },
      "execution_count": 15,
      "outputs": [
        {
          "output_type": "stream",
          "name": "stdout",
          "text": [
            "Hello my name is John CGPA:3.8\n"
          ]
        }
      ]
    },
    {
      "cell_type": "markdown",
      "source": [
        "**The self Parameter**\n",
        "\n",
        "The `self` parameter is a reference to the current instance of the class, and is used to access variables that belongs to the class.\n",
        "\n",
        "It does not have to be named `self` , you can call it whatever you like, but it has to be the first parameter of any function in the class."
      ],
      "metadata": {
        "id": "-_Q87fkOcKrP"
      }
    },
    {
      "cell_type": "markdown",
      "source": [
        "#Inheritance\n",
        "\n",
        "Inheritance allows us to create a new class from an existing class.\n",
        "\n",
        "The new class that is created is known as **subclass** (child or derived class) and the existing class from which the child class is derived is known as **superclass** (parent or base class)."
      ],
      "metadata": {
        "id": "idYDiy3AeB-V"
      }
    },
    {
      "cell_type": "markdown",
      "source": [
        "##Example 1"
      ],
      "metadata": {
        "id": "YW8650Jhk7ZL"
      }
    },
    {
      "cell_type": "code",
      "source": [
        "class Animal:\n",
        "\n",
        "    # attribute and method of the parent class\n",
        "    def __init__(self, n):\n",
        "      self.name = n\n",
        "    \n",
        "    def eat(self):\n",
        "        print(\"I can eat\")\n",
        "\n",
        "# inherit from Animal\n",
        "class Dog(Animal):\n",
        "  \n",
        "\n",
        "    # new method in subclass\n",
        "    def display(self):\n",
        "        # access name attribute of superclass using self\n",
        "        print(\"My name is \", self.name)\n",
        "\n",
        "# create an object of the subclass\n",
        "d = Dog(\"Rodger\")\n",
        "\n",
        "# access superclass attribute and method \n",
        "d.eat()\n",
        "\n",
        "# call subclass method \n",
        "d.display()"
      ],
      "metadata": {
        "colab": {
          "base_uri": "https://localhost:8080/"
        },
        "id": "B4sy1ClgcWcY",
        "outputId": "91d985e7-2886-4004-dfda-6a79565d1d89"
      },
      "execution_count": 18,
      "outputs": [
        {
          "output_type": "stream",
          "name": "stdout",
          "text": [
            "I can eat\n",
            "My name is  Rodger\n"
          ]
        }
      ]
    },
    {
      "cell_type": "markdown",
      "source": [
        "##Examaple 2"
      ],
      "metadata": {
        "id": "e5DglMuYk99r"
      }
    },
    {
      "cell_type": "code",
      "source": [
        "class Polygon:\n",
        "    # Initializing the number of sides\n",
        "    def __init__(self, no_of_sides):\n",
        "        self.n = no_of_sides\n",
        "        \n",
        "\n",
        "    def inputSides(self):\n",
        "        self.sides = [float(input(\"Enter side \"+str(i+1)+\" : \")) for i in range(self.n)]\n",
        "\n",
        "        # self.sides = []\n",
        "        # for i in range(self.n):\n",
        "        #   a = float(input(\"Enter side\"+str(i+1)+\": \"))\n",
        "        #   self.sides.append(a)\n",
        "\n",
        "\n",
        "    # method to display the length of each side of the polygon\n",
        "    def dispSides(self):\n",
        "        for i in range(self.n):\n",
        "            print(\"Side\",i+1,\"is\",self.sides[i])\n",
        "\n",
        "class Triangle(Polygon):\n",
        "    # Initializing the number of sides of the triangle to 3 by \n",
        "    # calling the __init__ method of the Polygon class\n",
        "    def __init__(self):\n",
        "        Polygon.__init__(self,3)\n",
        "\n",
        "    def findArea(self):\n",
        "        a, b, c = self.sides\n",
        "\n",
        "        # calculate the semi-perimeter\n",
        "        s = (a + b + c) / 2\n",
        "\n",
        "        # Using Heron's formula to calculate the area of the triangle\n",
        "        area = (s*(s-a)*(s-b)*(s-c)) ** 0.5\n",
        "        print('The area of the triangle is %0.2f' %area)\n",
        "\n",
        "# Creating an instance of the Triangle class\n",
        "t = Triangle()\n",
        "\n",
        "# Prompting the user to enter the sides of the triangle\n",
        "t.inputSides()\n",
        "\n",
        "# Displaying the sides of the triangle\n",
        "t.dispSides()\n",
        "\n",
        "# Calculating and printing the area of the triangle\n",
        "t.findArea()"
      ],
      "metadata": {
        "colab": {
          "base_uri": "https://localhost:8080/"
        },
        "id": "a3qN-ePrk_0y",
        "outputId": "8c1a9e33-b5b3-419f-909f-1f6291c8632b"
      },
      "execution_count": null,
      "outputs": [
        {
          "output_type": "stream",
          "name": "stdout",
          "text": [
            "Enter side 1 : 3\n",
            "Enter side 2 : 4\n",
            "Enter side 3 : 5\n",
            "Side 1 is 3.0\n",
            "Side 2 is 4.0\n",
            "Side 3 is 5.0\n",
            "The area of the triangle is 6.00\n"
          ]
        }
      ]
    },
    {
      "cell_type": "code",
      "source": [
        "class Polygon:\n",
        "    # Initializing the number of sides\n",
        "    def __init__(self, no_of_sides):\n",
        "        self.n = no_of_sides\n",
        "        \n",
        "\n",
        "    def inputSides(self):\n",
        "        self.sides = [float(input(\"Enter side \"+str(i+1)+\" : \")) for i in range(self.n)]\n",
        "\n",
        "        # self.sides = []\n",
        "        # for i in range(self.n):\n",
        "        #   a = float(input(\"Enter side\"+str(i+1)+\": \"))\n",
        "        #   self.sides.append(a)\n",
        "\n",
        "\n",
        "    # method to display the length of each side of the polygon\n",
        "    def dispSides(self):\n",
        "        for i in range(self.n):\n",
        "            print(\"Side\",i+1,\"is\",self.sides[i])\n",
        "\n",
        "class Triangle(Polygon):\n",
        "    # Initializing the number of sides of the triangle to 3 by \n",
        "    # calling the __init__ method of the Polygon class\n",
        "\n",
        "    def findArea(self):\n",
        "        a, b, c = self.sides\n",
        "\n",
        "        # calculate the semi-perimeter\n",
        "        s = (a + b + c) / 2\n",
        "\n",
        "        # Using Heron's formula to calculate the area of the triangle\n",
        "        area = (s*(s-a)*(s-b)*(s-c)) ** 0.5\n",
        "        print('The area of the triangle is %0.2f' %area)\n",
        "\n",
        "# Creating an instance of the Triangle class\n",
        "t = Triangle(3)\n",
        "\n",
        "# Prompting the user to enter the sides of the triangle\n",
        "t.inputSides()\n",
        "\n",
        "# Displaying the sides of the triangle\n",
        "t.dispSides()\n",
        "\n",
        "# Calculating and printing the area of the triangle\n",
        "t.findArea()"
      ],
      "metadata": {
        "colab": {
          "base_uri": "https://localhost:8080/"
        },
        "id": "xSoL1G-pP9WE",
        "outputId": "ce2f94f3-7bc9-4cb0-95b6-436d48a55731"
      },
      "execution_count": 20,
      "outputs": [
        {
          "output_type": "stream",
          "name": "stdout",
          "text": [
            "Enter side 1 : 5\n",
            "Enter side 2 : 7\n",
            "Enter side 3 : 9\n",
            "Side 1 is 5.0\n",
            "Side 2 is 7.0\n",
            "Side 3 is 9.0\n",
            "The area of the triangle is 17.41\n"
          ]
        }
      ]
    },
    {
      "cell_type": "markdown",
      "source": [
        "#Method Overriding in Python Inheritance\n",
        "\n",
        "What if the same method is present in both the superclass and subclass?\n",
        "\n",
        "In this case, the method in the subclass overrides the method in the superclass. This concept is known as **method overriding** in Python."
      ],
      "metadata": {
        "id": "EXd6Lf1EmRC5"
      }
    },
    {
      "cell_type": "code",
      "source": [
        "class Animal:\n",
        "\n",
        "    # attribute and method of the parent class\n",
        "    def __init__(self, name):\n",
        "      self.name = name\n",
        "    \n",
        "    def eat(self):\n",
        "        print(\"I can eat\")\n",
        "\n",
        "# inherit from Animal\n",
        "class Dog(Animal):\n",
        "\n",
        "    # same method in subclass\n",
        "    def eat(self):\n",
        "        print(\"I can eat bones\")\n",
        "\n",
        "# create an object of the subclass\n",
        "d = Dog(\"Rodger\")\n",
        "\n",
        "# override superclass attribute and method \n",
        "d.eat()\n"
      ],
      "metadata": {
        "colab": {
          "base_uri": "https://localhost:8080/"
        },
        "id": "e9mq11jjmiAh",
        "outputId": "63143958-c045-42c9-dc35-6993d6a7a5cd"
      },
      "execution_count": 21,
      "outputs": [
        {
          "output_type": "stream",
          "name": "stdout",
          "text": [
            "I can eat bones\n"
          ]
        }
      ]
    },
    {
      "cell_type": "markdown",
      "source": [
        "#The super() Method in Python Inheritance\n",
        "\n",
        "Previously we saw that the same method in the subclass overrides the method in the superclass.\n",
        "\n",
        "However, if we need to access the superclass method from the subclass, we use the `super()` method. For example,"
      ],
      "metadata": {
        "id": "650_dwIEt7Mk"
      }
    },
    {
      "cell_type": "code",
      "source": [
        "class Animal:\n",
        "\n",
        "    # attribute and method of the parent class\n",
        "    def __init__(self, name):\n",
        "      self.name = name\n",
        "    \n",
        "    def eat(self):\n",
        "        print(\"I can eat\")\n",
        "\n",
        "# inherit from Animal\n",
        "class Dog(Animal):\n",
        "\n",
        "    # same method in subclass\n",
        "    def eat(self):\n",
        "      \n",
        "      super().eat()\n",
        "      print(\"I can eat bones\")\n",
        "\n",
        "# create an object of the subclass\n",
        "d = Dog(\"Rodger\")\n",
        "\n",
        "# access superclass attribute and method \n",
        "d.eat()\n"
      ],
      "metadata": {
        "colab": {
          "base_uri": "https://localhost:8080/"
        },
        "id": "99m5mq6Vt_KL",
        "outputId": "41d2a6e9-a566-42d3-d33d-3e145009fe97"
      },
      "execution_count": 22,
      "outputs": [
        {
          "output_type": "stream",
          "name": "stdout",
          "text": [
            "I can eat\n",
            "I can eat bones\n"
          ]
        }
      ]
    },
    {
      "cell_type": "markdown",
      "source": [
        "#Practice Excercises"
      ],
      "metadata": {
        "id": "7MzBxL1GFy6B"
      }
    },
    {
      "cell_type": "markdown",
      "source": [
        "1. Create a class named **`Triangle`**.\n",
        "  - Create an object from it. The object will have three attributes  named **`a, b`** and **`c`** that represent the sides of the triangle.\n",
        "  - The **`Triangle`** class will have two methods:\n",
        "    - The __init__() method to initialize the sides\n",
        "    - A Method to calculate the perimeter of the triangle from its sides\n",
        "  - The perimeter of the triangle should be printed from outside the class\n",
        "\n",
        "2. [Advanced Excercises ](https://www.my-courses.net/2020/02/exercises-with-solutions-on-oop-object-oriented-programming-in-python.html) "
      ],
      "metadata": {
        "id": "0qDyGSeqF2L3"
      }
    }
  ]
}